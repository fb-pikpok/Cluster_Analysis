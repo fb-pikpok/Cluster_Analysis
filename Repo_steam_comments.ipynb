{
 "cells": [
  {
   "cell_type": "code",
   "id": "initial_id",
   "metadata": {
    "collapsed": true,
    "ExecuteTime": {
     "end_time": "2024-11-26T19:22:16.773430Z",
     "start_time": "2024-11-26T19:22:16.642842Z"
    }
   },
   "source": [
    "from datetime import datetime, timedelta\n",
    "import requests\n",
    "import pickle\n",
    "from pathlib import Path"
   ],
   "outputs": [],
   "execution_count": 1
  },
  {
   "metadata": {
    "ExecuteTime": {
     "end_time": "2024-11-26T19:22:19.007067Z",
     "start_time": "2024-11-26T19:22:18.997408Z"
    }
   },
   "cell_type": "code",
   "source": [
    "def get_user_reviews(review_appid, params):\n",
    "\n",
    "    user_review_url = f'https://store.steampowered.com/appreviews/{review_appid}'\n",
    "    req_user_review = requests.get(\n",
    "        user_review_url,\n",
    "        params=params\n",
    "    )\n",
    "\n",
    "    if req_user_review.status_code != 200:\n",
    "        print(f'Fail to get response. Status code: {req_user_review.status_code}')\n",
    "        return {\"success\": 2}\n",
    "    \n",
    "    try:\n",
    "        user_reviews = req_user_review.json()\n",
    "    except:\n",
    "        return {\"success\": 2}\n",
    "\n",
    "    return user_reviews"
   ],
   "id": "e746012229c11ef1",
   "outputs": [],
   "execution_count": 2
  },
  {
   "metadata": {
    "ExecuteTime": {
     "end_time": "2024-11-26T19:57:01.120902Z",
     "start_time": "2024-11-26T19:56:58.557011Z"
    }
   },
   "cell_type": "code",
   "source": [
    "review_appname = 'Pixle_Puzzle'  # the game name\n",
    "review_appid = 455690  # the game appid on Steam\n",
    "\n",
    "# the params of the API\n",
    "params = {\n",
    "    'json': 1,\n",
    "    'language': 'english',\n",
    "    # 'day_range' : 9223372036854775807,\n",
    "    'cursor': '*',  # set the cursor to retrieve reviews from a specific \"page\"\n",
    "    'num_per_page': 100,\n",
    "    'filter': 'all'\n",
    "}\n",
    "\n",
    "time_interval = timedelta(hours=24)  # the time interval to get the reviews\n",
    "# end_time = datetime.fromtimestamp(1716718910)  # the timestamp in the return result are unix timestamp (GMT+0)\n",
    "end_time = datetime(2024, 1, 1, 0, 0, 0)\n",
    "# start_time = end_time - time_interval\n",
    "start_time = datetime(2017, 1, 1, 0, 0, 0)\n",
    "\n",
    "print(f\"Start time: {start_time}\")  # printing local timezone for logging\n",
    "print(f\"End time: {end_time}\")\n",
    "print(start_time.timestamp(), end_time.timestamp())\n",
    "\n",
    "passed_start_time = False\n",
    "passed_end_time = False\n",
    "\n",
    "selected_reviews = []\n",
    "previous_cursor = None  # To track the last cursor\n",
    "\n",
    "while not passed_start_time or not passed_end_time:\n",
    "\n",
    "    reviews_response = get_user_reviews(review_appid, params)\n",
    "\n",
    "    # not success?\n",
    "    if reviews_response[\"success\"] != 1:\n",
    "        print(\"Not a success\")\n",
    "        print(reviews_response)\n",
    "        break\n",
    "\n",
    "    if reviews_response[\"query_summary\"]['num_reviews'] == 0:\n",
    "        print(\"No reviews.\")\n",
    "        print(reviews_response)\n",
    "        break\n",
    "\n",
    "    for review in reviews_response[\"reviews\"]:\n",
    "        recommendation_id = review['recommendationid']\n",
    "\n",
    "        timestamp_created = review['timestamp_created']\n",
    "        timestamp_updated = review['timestamp_updated']\n",
    "\n",
    "        # skip the comments that beyond end_time\n",
    "        if not passed_end_time:\n",
    "            if timestamp_created > end_time.timestamp():\n",
    "                continue\n",
    "            else:\n",
    "                passed_end_time = True\n",
    "\n",
    "        # exit the loop once detected a comment that before start_time\n",
    "        if not passed_start_time:\n",
    "            if timestamp_created < start_time.timestamp():\n",
    "                passed_start_time = True\n",
    "                break\n",
    "\n",
    "        # extract the useful (to me) data\n",
    "        author_steamid = review['author']['steamid']  # will automatically redirect to the profileURL if any\n",
    "        playtime_forever = review['author']['playtime_forever']\n",
    "        playtime_last_two_weeks = review['author']['playtime_last_two_weeks']\n",
    "        playtime_at_review_minutes = review['author']['playtime_at_review']\n",
    "        last_played = review['author']['last_played']\n",
    "\n",
    "        review_language = review['language']\n",
    "        review_text = review['review']\n",
    "        voted_up = review['voted_up']\n",
    "        votes_up = review['votes_up']\n",
    "        votes_funny = review['votes_funny']\n",
    "        weighted_vote_score = review['weighted_vote_score']\n",
    "        steam_purchase = review['steam_purchase']\n",
    "        received_for_free = review['received_for_free']\n",
    "        written_during_early_access = review['written_during_early_access']\n",
    "\n",
    "        my_review_dict = {\n",
    "            'recommendationid': recommendation_id,\n",
    "            'author_steamid': author_steamid,\n",
    "            'playtime_at_review_minutes': playtime_at_review_minutes,\n",
    "            'playtime_forever_minutes': playtime_forever,\n",
    "            'playtime_last_two_weeks_minutes': playtime_last_two_weeks,\n",
    "            'last_played': last_played,\n",
    "\n",
    "            'review_language': review_language,\n",
    "            'review_text': review_text,\n",
    "            'timestamp_created': timestamp_created,\n",
    "            'timestamp_updated': timestamp_updated,\n",
    "\n",
    "            'voted_up': voted_up,\n",
    "            'votes_up': votes_up,\n",
    "            'votes_funny': votes_funny,\n",
    "            'weighted_vote_score': weighted_vote_score,\n",
    "            'steam_purchase': steam_purchase,\n",
    "            'received_for_free': received_for_free,\n",
    "            'written_during_early_access': written_during_early_access,\n",
    "        }\n",
    "\n",
    "        selected_reviews.append(my_review_dict)\n",
    "\n",
    "    # go to the next page\n",
    "    try:\n",
    "        cursor = reviews_response['cursor']  # cursor field does not exist in the last page\n",
    "    except KeyError:\n",
    "        cursor = ''\n",
    "\n",
    "    # Check if the cursor is the same as the previous one\n",
    "    if cursor == previous_cursor:\n",
    "        print(\"Reached the end of all comments.\")\n",
    "        break\n",
    "\n",
    "    # Update the previous cursor and move to the next page\n",
    "    previous_cursor = cursor\n",
    "    params['cursor'] = cursor\n",
    "    print('To next page. Next page cursor:', cursor)\n"
   ],
   "id": "a867f39182f5e1f1",
   "outputs": [
    {
     "name": "stdout",
     "output_type": "stream",
     "text": [
      "Start time: 2017-01-01 00:00:00\n",
      "End time: 2024-01-01 00:00:00\n",
      "1483182000.0 1704020400.0\n",
      "To next page. Next page cursor: AoIFQFZQl8AAAABwoumtBQ==\n",
      "To next page. Next page cursor: AoIFQH2B0OAAAABxztikBQ==\n",
      "Reached the end of all comments.\n"
     ]
    }
   ],
   "execution_count": 14
  },
  {
   "metadata": {
    "ExecuteTime": {
     "end_time": "2024-11-26T19:57:59.678677Z",
     "start_time": "2024-11-26T19:57:59.661539Z"
    }
   },
   "cell_type": "code",
   "source": "selected_reviews[:10]",
   "id": "3fe2eef6a718cedf",
   "outputs": [
    {
     "data": {
      "text/plain": [
       "[]"
      ]
     },
     "execution_count": 16,
     "metadata": {},
     "output_type": "execute_result"
    }
   ],
   "execution_count": 16
  },
  {
   "metadata": {
    "ExecuteTime": {
     "end_time": "2024-11-26T19:58:02.250311Z",
     "start_time": "2024-11-26T19:58:02.242052Z"
    }
   },
   "cell_type": "code",
   "source": "len(selected_reviews)",
   "id": "7eb710abe0c46594",
   "outputs": [
    {
     "data": {
      "text/plain": [
       "0"
      ]
     },
     "execution_count": 17,
     "metadata": {},
     "output_type": "execute_result"
    }
   ],
   "execution_count": 17
  },
  {
   "metadata": {},
   "cell_type": "code",
   "outputs": [],
   "execution_count": null,
   "source": "",
   "id": "7f7d70fb79a2aba9"
  }
 ],
 "metadata": {
  "kernelspec": {
   "display_name": "Python 3",
   "language": "python",
   "name": "python3"
  },
  "language_info": {
   "codemirror_mode": {
    "name": "ipython",
    "version": 2
   },
   "file_extension": ".py",
   "mimetype": "text/x-python",
   "name": "python",
   "nbconvert_exporter": "python",
   "pygments_lexer": "ipython2",
   "version": "2.7.6"
  }
 },
 "nbformat": 4,
 "nbformat_minor": 5
}
