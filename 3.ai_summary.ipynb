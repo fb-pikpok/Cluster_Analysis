{
 "cells": [
  {
   "cell_type": "code",
   "id": "initial_id",
   "metadata": {
    "collapsed": true,
    "ExecuteTime": {
     "end_time": "2025-03-25T00:23:36.314708Z",
     "start_time": "2025-03-25T00:23:35.358641Z"
    }
   },
   "source": [
    "# After getting the data into the Database so the user generated the data they wanted, we can use this data now to generate an AI summary.\n",
    "import pandas as pd\n",
    "import json\n",
    "from helper.utils import configure_api\n",
    "import os\n",
    "\n",
    "# Specify models\n",
    "chat_model_name = 'gpt-4o-mini'\n",
    "openai_embedding_model = \"text-embedding-3-small\"\n",
    "local_embedding_model = \"all-MiniLM-L6-v2\"\n",
    "\n",
    "configure_api(chat_model_name)\n",
    "\n",
    "# Specify paths for storing (backup) data\n",
    "root_dir = r'S:\\SID\\Analytics\\Working Files\\Individual\\Florian\\Projects\\DataScience\\cluster_analysis\\Data'\n",
    "project = 'HRC\\Zendesk_csv'"
   ],
   "outputs": [],
   "execution_count": 1
  },
  {
   "metadata": {
    "ExecuteTime": {
     "end_time": "2025-03-25T00:23:38.464535Z",
     "start_time": "2025-03-25T00:23:38.371834Z"
    }
   },
   "cell_type": "code",
   "source": [
    "# Load the data that should be analysed. (It has to be the data that was downloaded from the streamlit app 'streamlit_chroma.py')\n",
    "input_path = r'S:\\SID\\Analytics\\Working Files\\Individual\\Florian\\Projects\\DataScience\\cluster_analysis\\Data\\HRC\\Zendesk_csv\\db_final.json'\n",
    "with open(input_path, \"r\") as f:\n",
    "    data = json.load(f)\n",
    "df = pd.DataFrame(data)"
   ],
   "id": "1e15f64187cb0e7a",
   "outputs": [],
   "execution_count": 2
  },
  {
   "metadata": {
    "ExecuteTime": {
     "end_time": "2025-03-25T00:24:21.329555Z",
     "start_time": "2025-03-25T00:23:41.567472Z"
    }
   },
   "cell_type": "code",
   "source": [
    "# Generate the cluster report\n",
    "from helper.ai_summary import generate_cluster_report\n",
    "cluster_report = generate_cluster_report(df)"
   ],
   "id": "4ae226ad56ffd5d",
   "outputs": [
    {
     "name": "stderr",
     "output_type": "stream",
     "text": [
      "2025-03-25 13:23:42,258 - INFO - Generate AI summary for cluster Account Recovery Issues\n",
      "2025-03-25 13:23:44,652 - INFO - Total tokens used: 0\n",
      "2025-03-25 13:23:44,652 - INFO - Generate AI summary for cluster Hatching Glitches and Game Bugs\n",
      "2025-03-25 13:23:46,764 - INFO - Total tokens used: 0\n",
      "2025-03-25 13:23:46,764 - INFO - Generate AI summary for cluster Horse Care and Trade Issues\n",
      "2025-03-25 13:23:48,648 - INFO - Total tokens used: 0\n",
      "2025-03-25 13:23:48,648 - INFO - Generate AI summary for cluster \"Monotonous and Unengaging Gameplay\"\n",
      "2025-03-25 13:23:50,670 - INFO - Total tokens used: 0\n",
      "2025-03-25 13:23:50,670 - INFO - Generate AI summary for cluster Player Movement Issues\n",
      "2025-03-25 13:23:53,062 - INFO - Total tokens used: 0\n",
      "2025-03-25 13:23:53,062 - INFO - Generate AI summary for cluster Ad Overload Frustration\n",
      "2025-03-25 13:23:54,893 - INFO - Total tokens used: 0\n",
      "2025-03-25 13:23:54,893 - INFO - Generate AI summary for cluster Game Launch and Connectivity Issues\n",
      "2025-03-25 13:23:56,461 - INFO - Total tokens used: 0\n",
      "2025-03-25 13:23:56,461 - INFO - Generate AI summary for cluster Paywall Progression Frustration\n",
      "2025-03-25 13:23:58,709 - INFO - Total tokens used: 0\n",
      "2025-03-25 13:23:58,709 - INFO - Generate AI summary for cluster Membership and Payment Issues\n",
      "2025-03-25 13:24:00,293 - INFO - Total tokens used: 0\n",
      "2025-03-25 13:24:00,309 - INFO - Generate AI summary for cluster Reward Distribution Issues\n",
      "2025-03-25 13:24:01,887 - INFO - Total tokens used: 0\n",
      "2025-03-25 13:24:01,903 - INFO - Generate AI summary for cluster Weapon Malfunctions and Game Balance\n",
      "2025-03-25 13:24:03,312 - INFO - Total tokens used: 0\n",
      "2025-03-25 13:24:03,312 - INFO - Generate AI summary for cluster Gold Purchase Delivery Issues\n",
      "2025-03-25 13:24:04,910 - INFO - Total tokens used: 0\n",
      "2025-03-25 13:24:04,910 - INFO - Generate AI summary for cluster Audio Issues in Gaming\n",
      "2025-03-25 13:24:06,750 - INFO - Total tokens used: 0\n",
      "2025-03-25 13:24:06,750 - INFO - Generate AI summary for cluster Steeplechase Game Improvement Ideas\n",
      "2025-03-25 13:24:11,212 - INFO - Total tokens used: 0\n",
      "2025-03-25 13:24:11,212 - INFO - Generate AI summary for cluster Update Issues and Game Restrictions\n",
      "2025-03-25 13:24:12,849 - INFO - Total tokens used: 0\n",
      "2025-03-25 13:24:12,849 - INFO - Generate AI summary for cluster Into the Dead: User Issues\n",
      "2025-03-25 13:24:14,300 - INFO - Total tokens used: 0\n",
      "2025-03-25 13:24:14,300 - INFO - Generate AI summary for cluster Event Reward Issues\n",
      "2025-03-25 13:24:18,460 - INFO - Total tokens used: 0\n",
      "2025-03-25 13:24:18,460 - INFO - Generate AI summary for cluster Progress Loss and Recovery Issues\n",
      "2025-03-25 13:24:19,870 - INFO - Total tokens used: 0\n",
      "2025-03-25 13:24:19,885 - INFO - Generate AI summary for cluster Team Management Issues\n",
      "2025-03-25 13:24:21,325 - INFO - Total tokens used: 0\n",
      "2025-03-25 13:24:21,325 - INFO - Cluster report has been written.\n"
     ]
    }
   ],
   "execution_count": 3
  },
  {
   "metadata": {
    "ExecuteTime": {
     "end_time": "2025-03-23T19:50:03.033156Z",
     "start_time": "2025-03-23T19:50:03.003782Z"
    }
   },
   "cell_type": "code",
   "source": [
    "# save cluster report\n",
    "output_path = os.path.join(root_dir, project, \"Cluster_report.md\")\n",
    "with open(output_path, \"w\", encoding=\"utf-8\") as f:\n",
    "    f.write(cluster_report)"
   ],
   "id": "d79684d5d6e3b10d",
   "outputs": [],
   "execution_count": 6
  },
  {
   "metadata": {
    "ExecuteTime": {
     "end_time": "2025-03-25T00:26:48.078742Z",
     "start_time": "2025-03-25T00:26:36.638827Z"
    }
   },
   "cell_type": "code",
   "source": [
    "# Generate Big Picture report\n",
    "from helper.ai_summary import generate_big_picture_summary\n",
    "big_picture_report = generate_big_picture_summary(df, project)"
   ],
   "id": "791601774513b8f5",
   "outputs": [
    {
     "name": "stderr",
     "output_type": "stream",
     "text": [
      "2025-03-25 13:26:36,656 - INFO - More than 150 statements in the cluster group Negative. Sampling 150.\n",
      "2025-03-25 13:26:36,657 - INFO - Generate AI summary for top 5 Negative clusters.\n",
      "2025-03-25 13:26:38,691 - INFO - Tokens used so far: 0\n",
      "2025-03-25 13:26:38,696 - INFO - More than 150 statements in the cluster group Positive. Sampling 150.\n",
      "2025-03-25 13:26:38,697 - INFO - Generate AI summary for top 5 Positive clusters.\n",
      "2025-03-25 13:26:40,356 - INFO - Tokens used so far: 0\n",
      "2025-03-25 13:26:40,358 - INFO - More than 150 statements in the cluster group Request. Sampling 150.\n",
      "2025-03-25 13:26:40,358 - INFO - Generate AI summary for top 5 Request clusters.\n",
      "2025-03-25 13:26:42,511 - INFO - Tokens used so far: 0\n",
      "2025-03-25 13:26:42,515 - INFO - More than 150 statements in the cluster group biggest. Sampling 150.\n",
      "2025-03-25 13:26:42,516 - INFO - Generate AI summary for top 5 biggest clusters.\n",
      "2025-03-25 13:26:48,072 - INFO - Tokens used so far: 0\n",
      "2025-03-25 13:26:48,076 - INFO - Big Picture summary has been generated.\n"
     ]
    }
   ],
   "execution_count": 4
  },
  {
   "metadata": {
    "ExecuteTime": {
     "end_time": "2025-03-23T19:49:37.936685Z",
     "start_time": "2025-03-23T19:49:37.903568Z"
    }
   },
   "cell_type": "code",
   "source": [
    "# save big picture report\n",
    "output_path = os.path.join(root_dir, project, \"Big_Picture.md\")\n",
    "with open(output_path, \"w\", encoding=\"utf-8\") as f:\n",
    "    f.write(big_picture_report)"
   ],
   "id": "681ce78e4ef6c653",
   "outputs": [],
   "execution_count": 5
  },
  {
   "metadata": {
    "ExecuteTime": {
     "end_time": "2025-03-25T00:26:50.502703Z",
     "start_time": "2025-03-25T00:26:50.476352Z"
    }
   },
   "cell_type": "code",
   "source": [
    "# Store combined markdown report\n",
    "combined_report = big_picture_report + \"\\n\\n\" + cluster_report\n",
    "output_path = os.path.join(root_dir, project, f\"HRC_Zendesk_full_report.md\")\n",
    "with open(output_path, \"w\", encoding=\"utf-8\") as f:\n",
    "    f.write(combined_report)"
   ],
   "id": "680a39c0f1f6117e",
   "outputs": [],
   "execution_count": 5
  }
 ],
 "metadata": {
  "kernelspec": {
   "display_name": "Python 3",
   "language": "python",
   "name": "python3"
  },
  "language_info": {
   "codemirror_mode": {
    "name": "ipython",
    "version": 2
   },
   "file_extension": ".py",
   "mimetype": "text/x-python",
   "name": "python",
   "nbconvert_exporter": "python",
   "pygments_lexer": "ipython2",
   "version": "2.7.6"
  }
 },
 "nbformat": 4,
 "nbformat_minor": 5
}
