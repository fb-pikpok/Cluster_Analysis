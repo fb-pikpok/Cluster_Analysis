{
 "cells": [
  {
   "cell_type": "code",
   "id": "initial_id",
   "metadata": {
    "collapsed": true,
    "ExecuteTime": {
     "end_time": "2025-03-23T19:47:26.992128Z",
     "start_time": "2025-03-23T19:47:25.995885Z"
    }
   },
   "source": [
    "# After getting the data into the Database so the user generated the data they wanted, we can use this data now to generate an AI summary.\n",
    "import pandas as pd\n",
    "import json\n",
    "from helper.utils import configure_api\n",
    "import os\n",
    "\n",
    "# Specify models\n",
    "chat_model_name = 'gpt-4o-mini'\n",
    "openai_embedding_model = \"text-embedding-3-small\"\n",
    "local_embedding_model = \"all-MiniLM-L6-v2\"\n",
    "\n",
    "configure_api(chat_model_name)\n",
    "\n",
    "# Specify paths for storing (backup) data\n",
    "root_dir = r'S:\\SID\\Analytics\\Working Files\\Individual\\Florian\\Projects\\DataScience\\cluster_analysis\\Data'\n",
    "project = 'HRC\\Zendesk_test'"
   ],
   "outputs": [],
   "execution_count": 1
  },
  {
   "metadata": {
    "ExecuteTime": {
     "end_time": "2025-03-23T19:47:48.242443Z",
     "start_time": "2025-03-23T19:47:47.655581Z"
    }
   },
   "cell_type": "code",
   "source": [
    "# Load the data that should be analysed. (It has to be the data that was downloaded from the streamlit app 'streamlit_chroma.py')\n",
    "input_path = r'S:\\SID\\Analytics\\Working Files\\Individual\\Florian\\Projects\\DataScience\\cluster_analysis\\Data\\HRC\\HRC_Survey_T3_2024\\db_final.json'\n",
    "with open(input_path, \"r\") as f:\n",
    "    data = json.load(f)\n",
    "df = pd.DataFrame(data)"
   ],
   "id": "1e15f64187cb0e7a",
   "outputs": [],
   "execution_count": 2
  },
  {
   "metadata": {
    "ExecuteTime": {
     "end_time": "2025-03-23T19:49:15.625511Z",
     "start_time": "2025-03-23T19:48:16.582944Z"
    }
   },
   "cell_type": "code",
   "source": [
    "# Generate the cluster report\n",
    "from helper.ai_summary import generate_cluster_report\n",
    "cluster_report = generate_cluster_report(df)"
   ],
   "id": "4ae226ad56ffd5d",
   "outputs": [
    {
     "name": "stderr",
     "output_type": "stream",
     "text": [
      "2025-03-24 08:48:16,599 - INFO - Generate AI summary for cluster Horse Training Time Frustration\n",
      "2025-03-24 08:48:18,465 - INFO - Total tokens used: 14648\n",
      "2025-03-24 08:48:18,465 - INFO - Generate AI summary for cluster Fun Factor and Enjoyment\n",
      "2025-03-24 08:48:20,186 - INFO - Total tokens used: 17234\n",
      "2025-03-24 08:48:20,186 - INFO - Generate AI summary for cluster Gold Earning Opportunities and Costs\n",
      "2025-03-24 08:48:21,720 - INFO - Total tokens used: 19879\n",
      "2025-03-24 08:48:21,720 - INFO - Generate AI summary for cluster Equestrian Sports and Disciplines\n",
      "2025-03-24 08:48:23,413 - INFO - Total tokens used: 22308\n",
      "2025-03-24 08:48:23,413 - INFO - Generate AI summary for cluster Enhanced Free Roam Experience\n",
      "2025-03-24 08:48:25,476 - INFO - Total tokens used: 24584\n",
      "2025-03-24 08:48:25,476 - INFO - Generate AI summary for cluster Equal Access for All Players\n",
      "2025-03-24 08:48:27,239 - INFO - Total tokens used: 26812\n",
      "2025-03-24 08:48:27,239 - INFO - Generate AI summary for cluster Horse Bonding and Care Activities\n",
      "2025-03-24 08:48:28,848 - INFO - Total tokens used: 29066\n",
      "2025-03-24 08:48:28,848 - INFO - Generate AI summary for cluster Winning Races and Horse Training\n",
      "2025-03-24 08:48:30,586 - INFO - Total tokens used: 31101\n",
      "2025-03-24 08:48:30,601 - INFO - Generate AI summary for cluster Foal Care Frustrations\n",
      "2025-03-24 08:48:32,339 - INFO - Total tokens used: 32913\n",
      "2025-03-24 08:48:32,339 - INFO - Generate AI summary for cluster Race Preferences: Flat vs. Cross-Country\n",
      "2025-03-24 08:48:34,039 - INFO - Total tokens used: 34305\n",
      "2025-03-24 08:48:34,039 - INFO - Generate AI summary for cluster More Horse Stalls Needed\n",
      "2025-03-24 08:48:36,697 - INFO - Total tokens used: 35777\n",
      "2025-03-24 08:48:36,699 - INFO - Generate AI summary for cluster Live Event Frustrations and Dislikes\n",
      "2025-03-24 08:48:38,533 - INFO - Total tokens used: 37214\n",
      "2025-03-24 08:48:38,533 - INFO - Generate AI summary for cluster Horse Breed Expansion Ideas\n",
      "2025-03-24 08:48:40,335 - INFO - Total tokens used: 38516\n",
      "2025-03-24 08:48:40,335 - INFO - Generate AI summary for cluster Tack Customization and Affordability\n",
      "2025-03-24 08:48:42,289 - INFO - Total tokens used: 39685\n",
      "2025-03-24 08:48:42,289 - INFO - Generate AI summary for cluster \"High Costs and Pay-to-Win\"\n",
      "2025-03-24 08:48:43,822 - INFO - Total tokens used: 40787\n",
      "2025-03-24 08:48:43,822 - INFO - Generate AI summary for cluster Story Goals Frustration and Discontent\n",
      "2025-03-24 08:48:45,406 - INFO - Total tokens used: 41871\n",
      "2025-03-24 08:48:45,406 - INFO - Generate AI summary for cluster Team Engagement Frustrations\n",
      "2025-03-24 08:48:47,708 - INFO - Total tokens used: 42859\n",
      "2025-03-24 08:48:47,708 - INFO - Generate AI summary for cluster Horse Racing Game Enthusiasm\n",
      "2025-03-24 08:48:49,323 - INFO - Total tokens used: 43885\n",
      "2025-03-24 08:48:49,339 - INFO - Generate AI summary for cluster Pasture Capacity and Management Issues\n",
      "2025-03-24 08:48:51,024 - INFO - Total tokens used: 44925\n",
      "2025-03-24 08:48:51,024 - INFO - Generate AI summary for cluster Discontent with Breeds and Traits\n",
      "2025-03-24 08:48:52,539 - INFO - Total tokens used: 45760\n",
      "2025-03-24 08:48:52,555 - INFO - Generate AI summary for cluster Event Hub Discontent and Confusion\n",
      "2025-03-24 08:48:54,368 - INFO - Total tokens used: 46581\n",
      "2025-03-24 08:48:54,368 - INFO - Generate AI summary for cluster Challenging Horse Breeding for Stats\n",
      "2025-03-24 08:48:57,069 - INFO - Total tokens used: 47614\n",
      "2025-03-24 08:48:57,069 - INFO - Generate AI summary for cluster Mobile Horse Customization Requests\n",
      "2025-03-24 08:48:58,828 - INFO - Total tokens used: 48523\n",
      "2025-03-24 08:48:58,828 - INFO - Generate AI summary for cluster Crossbreeding Preferences in Horses\n",
      "2025-03-24 08:49:01,266 - INFO - Total tokens used: 49369\n",
      "2025-03-24 08:49:01,266 - INFO - Generate AI summary for cluster Horse Pricing Controversy\n",
      "2025-03-24 08:49:04,128 - INFO - Total tokens used: 50321\n",
      "2025-03-24 08:49:04,128 - INFO - Generate AI summary for cluster Friendship-Based Horse Trading System\n",
      "2025-03-24 08:49:05,636 - INFO - Total tokens used: 51161\n",
      "2025-03-24 08:49:05,636 - INFO - Generate AI summary for cluster Affordable Horse Breeding Solutions\n",
      "2025-03-24 08:49:08,321 - INFO - Total tokens used: 51948\n",
      "2025-03-24 08:49:08,321 - INFO - Generate AI summary for cluster Event Accessibility Enhancements\n",
      "2025-03-24 08:49:10,283 - INFO - Total tokens used: 52680\n",
      "2025-03-24 08:49:10,299 - INFO - Generate AI summary for cluster Horse Coat Breeding and Collection\n",
      "2025-03-24 08:49:12,333 - INFO - Total tokens used: 53402\n",
      "2025-03-24 08:49:12,344 - INFO - Generate AI summary for cluster Frustrations of Coat Breeding\n",
      "2025-03-24 08:49:13,770 - INFO - Total tokens used: 54200\n",
      "2025-03-24 08:49:13,770 - INFO - Generate AI summary for cluster High Costs of Horse Breeding\n",
      "2025-03-24 08:49:15,610 - INFO - Total tokens used: 54943\n",
      "2025-03-24 08:49:15,610 - INFO - Cluster report has been written.\n"
     ]
    }
   ],
   "execution_count": 4
  },
  {
   "metadata": {
    "ExecuteTime": {
     "end_time": "2025-03-23T19:50:03.033156Z",
     "start_time": "2025-03-23T19:50:03.003782Z"
    }
   },
   "cell_type": "code",
   "source": [
    "# save cluster report\n",
    "output_path = os.path.join(root_dir, project, \"Cluster_report.md\")\n",
    "with open(output_path, \"w\", encoding=\"utf-8\") as f:\n",
    "    f.write(cluster_report)"
   ],
   "id": "d79684d5d6e3b10d",
   "outputs": [],
   "execution_count": 6
  },
  {
   "metadata": {
    "ExecuteTime": {
     "end_time": "2025-03-23T19:48:10.910574Z",
     "start_time": "2025-03-23T19:47:59.722348Z"
    }
   },
   "cell_type": "code",
   "source": [
    "# Generate Big Picture report\n",
    "from helper.ai_summary import generate_big_picture_summary\n",
    "big_picture_report = generate_big_picture_summary(df, project)"
   ],
   "id": "791601774513b8f5",
   "outputs": [
    {
     "name": "stderr",
     "output_type": "stream",
     "text": [
      "2025-03-24 08:48:00,530 - INFO - More than 150 statements in the cluster group Negative. Sampling 150.\n",
      "2025-03-24 08:48:00,530 - INFO - Generate AI summary for top 5 Negative clusters.\n",
      "2025-03-24 08:48:04,305 - INFO - Tokens used so far: 2966\n",
      "2025-03-24 08:48:04,305 - INFO - More than 150 statements in the cluster group Positive. Sampling 150.\n",
      "2025-03-24 08:48:04,305 - INFO - Generate AI summary for top 5 Positive clusters.\n",
      "2025-03-24 08:48:06,666 - INFO - Tokens used so far: 5533\n",
      "2025-03-24 08:48:06,685 - INFO - More than 150 statements in the cluster group Request. Sampling 150.\n",
      "2025-03-24 08:48:06,685 - INFO - Generate AI summary for top 5 Request clusters.\n",
      "2025-03-24 08:48:08,486 - INFO - Tokens used so far: 8497\n",
      "2025-03-24 08:48:08,490 - INFO - More than 150 statements in the cluster group biggest. Sampling 150.\n",
      "2025-03-24 08:48:08,490 - INFO - Generate AI summary for top 5 biggest clusters.\n",
      "2025-03-24 08:48:10,905 - INFO - Tokens used so far: 11072\n",
      "2025-03-24 08:48:10,905 - INFO - Big Picture summary has been generated.\n"
     ]
    }
   ],
   "execution_count": 3
  },
  {
   "metadata": {
    "ExecuteTime": {
     "end_time": "2025-03-23T19:49:37.936685Z",
     "start_time": "2025-03-23T19:49:37.903568Z"
    }
   },
   "cell_type": "code",
   "source": [
    "# save big picture report\n",
    "output_path = os.path.join(root_dir, project, \"Big_Picture.md\")\n",
    "with open(output_path, \"w\", encoding=\"utf-8\") as f:\n",
    "    f.write(big_picture_report)"
   ],
   "id": "681ce78e4ef6c653",
   "outputs": [],
   "execution_count": 5
  },
  {
   "metadata": {
    "ExecuteTime": {
     "end_time": "2025-03-23T19:51:46.143224Z",
     "start_time": "2025-03-23T19:51:46.112613Z"
    }
   },
   "cell_type": "code",
   "source": [
    "# Store combined markdown report\n",
    "combined_report = big_picture_report + \"\\n\\n\" + cluster_report\n",
    "output_path = os.path.join(root_dir, project, f\"HRC_Zendesk_full_report.md\")\n",
    "with open(output_path, \"w\", encoding=\"utf-8\") as f:\n",
    "    f.write(combined_report)"
   ],
   "id": "680a39c0f1f6117e",
   "outputs": [],
   "execution_count": 9
  }
 ],
 "metadata": {
  "kernelspec": {
   "display_name": "Python 3",
   "language": "python",
   "name": "python3"
  },
  "language_info": {
   "codemirror_mode": {
    "name": "ipython",
    "version": 2
   },
   "file_extension": ".py",
   "mimetype": "text/x-python",
   "name": "python",
   "nbconvert_exporter": "python",
   "pygments_lexer": "ipython2",
   "version": "2.7.6"
  }
 },
 "nbformat": 4,
 "nbformat_minor": 5
}
