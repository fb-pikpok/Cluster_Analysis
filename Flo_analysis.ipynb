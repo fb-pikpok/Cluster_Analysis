{
 "cells": [
  {
   "cell_type": "code",
   "id": "initial_id",
   "metadata": {
    "collapsed": true,
    "ExecuteTime": {
     "end_time": "2024-11-11T03:01:37.243491Z",
     "start_time": "2024-11-11T03:01:37.235477Z"
    }
   },
   "source": [
    "import numpy as np\n",
    "import pandas as pd\n",
    "import json\n",
    "import os\n",
    "os.environ[\"OMP_NUM_THREADS\"] = '1'\n",
    "\n",
    "\n",
    "from langchain.prompts import PromptTemplate\n",
    "from llama_index.embeddings.langchain import LangchainEmbedding\n",
    "from langchain.embeddings import HuggingFaceEmbeddings\n",
    "\n",
    "from sklearn.decomposition import PCA\n",
    "from sklearn.manifold import TSNE\n",
    "\n",
    "from umap import umap_ as UMAP\n",
    "from sklearn.cluster import KMeans\n",
    "from matplotlib import pyplot as plt\n"
   ],
   "outputs": [],
   "execution_count": 3
  },
  {
   "metadata": {
    "ExecuteTime": {
     "end_time": "2024-11-11T03:29:07.011023Z",
     "start_time": "2024-11-11T03:29:07.001996Z"
    }
   },
   "cell_type": "code",
   "source": [
    "from dotenv import load_dotenv\n",
    "import os\n",
    "\n",
    "# Load environment variables from the .env file\n",
    "load_dotenv()\n",
    "\n",
    "# Access the API key\n",
    "api_key = os.getenv(\"OPENAI_API_KEY\")\n",
    "\n",
    "# Verify the key is loaded\n",
    "if api_key:\n",
    "    print(\"API key loaded successfully!\")\n",
    "else:\n",
    "    print(\"Failed to load API key. Check your .env file.\")\n"
   ],
   "id": "c244016159705073",
   "outputs": [
    {
     "name": "stdout",
     "output_type": "stream",
     "text": [
      "API key loaded successfully!\n"
     ]
    }
   ],
   "execution_count": 11
  },
  {
   "metadata": {
    "ExecuteTime": {
     "end_time": "2024-11-11T03:57:10.202211Z",
     "start_time": "2024-11-11T03:57:10.161705Z"
    }
   },
   "cell_type": "code",
   "source": [
    "from dotenv import load_dotenv\n",
    "load_dotenv()\n",
    "\n",
    "import os\n",
    "import openai\n",
    "\n",
    "openai_api_key = os.getenv(\"OPENAI_API_KEY\")\n",
    "\n",
    "openai.api_key = openai_api_key\n",
    "client = openai.Client()\n",
    "\n",
    "chat_model_name = 'gpt-3.5-turbo'\n",
    "embedding_model_name = 'sentence-transformers/all-mpnet-base-v2'\n",
    "\n",
    "n_pick = 150  # the number of reviews picked for each game\n",
    "s_root = r'C:\\Users\\fbohm\\Desktop\\Projects\\DataScience\\cluster_analysis/'\n",
    "s_db_json = 'review_db.json'\n",
    "s_db_embed_json = 'review_db_embed.json'\n",
    "s_db_table_json = 'review_db_table.json'\n",
    "s_db_table_xlsx = 'review_db_table.xlsx'\n",
    "s_db_table_pca_json = 'review_db_table_pca.json'\n",
    "s_db_table_pca_xlsx = 'review_db_table_pca.xlsx'\n",
    "s_kmeans_centers = 'kmeans_centers.json'\n",
    "b_override = False"
   ],
   "id": "73aeb0488e125fa2",
   "outputs": [],
   "execution_count": 20
  },
  {
   "metadata": {
    "ExecuteTime": {
     "end_time": "2024-11-11T03:07:30.484533Z",
     "start_time": "2024-11-11T03:07:30.473179Z"
    }
   },
   "cell_type": "code",
   "source": [
    "# df_app = pd.read_csv(s_root + 'reference_titles.csv')\n",
    "# app_ids = [str(x) for x in df_app['app_id'].tolist()]\n",
    "\n",
    "# we don't need this because I already have the data in a xlsx file"
   ],
   "id": "83903a88901bbb19",
   "outputs": [],
   "execution_count": 7
  },
  {
   "metadata": {
    "ExecuteTime": {
     "end_time": "2024-11-11T03:07:45.717428Z",
     "start_time": "2024-11-11T03:07:45.705788Z"
    }
   },
   "cell_type": "code",
   "source": [
    "prompt_template_translation = PromptTemplate.from_template(\n",
    "'''Please tell if the following game review is written in English.  Respond with \"Yes.\" or \"No.\"\n",
    "Furthermore, please translate it into English if it is not, under \"TRANSLATION:\".\n",
    "\n",
    "\n",
    "[h0]==================================================================[\\h0]\n",
    "REVIEW: \n",
    "\n",
    "\"兄弟们，我把星空退款的钱拿来买这个了，我做的对吗\"\n",
    "\n",
    "IS ENGLISH: \n",
    "\n",
    "No.\n",
    "\n",
    "TRANSLATION:\n",
    "\n",
    "Brothers, I used the refund money from the stars to buy this. Did I do the right thing?\n",
    "\n",
    "\n",
    "[h0]==================================================================[\\h0]\n",
    "REVIEW: \n",
    "\n",
    "\"se puede acariciar el perro\"\n",
    "\n",
    "IS ENGLISH:\n",
    "\n",
    "No.\n",
    "\n",
    "TRANSLATION:\n",
    "\n",
    "You can pet the dog.\n",
    "\n",
    "\n",
    "[h0]==================================================================[\\h0]\n",
    "REVIEW: \n",
    "\n",
    "\"My first D&D experience and I'm enjoying it a lot.\"\n",
    "\n",
    "IS ENGLISH: \n",
    "\n",
    "Yes.\n",
    "\n",
    "\n",
    "[h0]==================================================================[\\h0]\n",
    "REVIEW: \n",
    "\n",
    "\"{review}\"\n",
    "\n",
    "IS ENGLISH: \n",
    "\n",
    "'''\n",
    ")\n",
    "\n",
    "prompt_template_topic = PromptTemplate.from_template(\n",
    "'''Please list the most important topics and their respective original context in the review of a game in a json format with \"Topic\", \"Category\", \"Context\" arguments.  No more than 10 topics.\n",
    "Topics should be game features.  A feature in the game should be a noun rather than a verb or an adjective.\n",
    "Each topic should be categorized as a \"fact\" or a \"request\".\n",
    "Topics should be translated to English if they are not.\n",
    "\n",
    "\n",
    "[h0]==================================================================[\\h0]\n",
    "REVIEW: \n",
    "\n",
    "\"My first D&D experience and I'm enjoying it a lot. However, I would prefer a little more guidance as the mechanics are quite overwhelming at first (especially the combat mechanics).\"\n",
    "\n",
    "TOPICS:\n",
    "\n",
    "[\n",
    "    {{\n",
    "        \"Topic\": \"D:D\",\n",
    "        \"Category\": \"fact\",\n",
    "        \"Context\": \"My first D&D experience and I'm enjoying it a lot.\",\n",
    "    }},\n",
    "    {{\n",
    "        \"Topic\": \"combat mechanic\",\n",
    "        \"Category\": \"fact\",\n",
    "        \"Context\": \"the mechanics are quite overwhelming at first (especially the combat mechanics)\",\n",
    "    }}\n",
    "]\n",
    "\n",
    "\n",
    "[h0]==================================================================[\\h0]\n",
    "REVIEW: \n",
    "\n",
    "\"I have only one point of criticism:\n",
    "This game lacks a proper ending or epilog; something like The Witcher's Blood & Wine DLC. After adventuring hundreds of hours, after growing fond of and close to my companions, I got kicked so hard out of the game - it hurt!\n",
    "In fact I immediately started a 2nd playthrough, because I wasn't yet ready to let go. Please Larian, give us an epilog or at least one last night at the camp with all my allies, companions and friends for the Definitive Edition.\"\n",
    "\n",
    "TOPICS:\n",
    "\n",
    "[\n",
    "    {{\n",
    "        \"Topic\": \"epilogue\",\n",
    "        \"Category\": \"fact\",\n",
    "        \"Context\": \"This game lacks a proper ending or epilog\",\n",
    "    }},\n",
    "    {{\n",
    "        \"Topic\": \"companion\",\n",
    "        \"Category\": \"request\",\n",
    "        \"Context\": \"Please Larian, give us an epilog or at least one last night at the camp with all my allies, companions and friends for the Definitive Edition\",\n",
    "    }}\n",
    "]\n",
    "\n",
    "\n",
    "[h0]==================================================================[\\h0]\n",
    "REVIEW: \n",
    "\n",
    "\"{review}\"\n",
    "\n",
    "TOPICS:\n",
    "\n",
    "'''\n",
    ")\n",
    "\n",
    "prompt_template_topic_view = PromptTemplate.from_template(\n",
    "'''What's the sentiment of the review with regard to the topic?\n",
    "Always answer with 'Positive' or 'Negative' or 'Inconclusive'\n",
    "\n",
    "REVIEW: My first D&D experience and I'm enjoying it a lot.\n",
    "TOPIC: D&D\n",
    "SENTIMENT: Positive \n",
    "\n",
    "REVIEW: This game lacks a proper ending or epilog\n",
    "TOPIC: epilogue\n",
    "SENTIMENT: Negative\n",
    "\n",
    "REVIEW: Posted: August 8\n",
    "TOPIC: release date\n",
    "SENTIMENT: Inconclusive \n",
    "\n",
    "REVIEW: {review}\n",
    "TOPIC: {topic}\n",
    "SENTIMENT: '''\n",
    ")"
   ],
   "id": "a0dce169d6dfe1a8",
   "outputs": [],
   "execution_count": 8
  },
  {
   "metadata": {
    "ExecuteTime": {
     "end_time": "2024-11-11T03:43:40.549805Z",
     "start_time": "2024-11-11T03:43:40.544163Z"
    }
   },
   "cell_type": "code",
   "source": [
    "# Read in the JSON file with survey results \n",
    "\n",
    "with open(s_root + 'Data/survey_results_clean.json', 'r') as f:\n",
    "    db = json.load(f)"
   ],
   "id": "422f62a99f90c8e",
   "outputs": [],
   "execution_count": 14
  },
  {
   "metadata": {
    "ExecuteTime": {
     "end_time": "2024-11-11T03:57:44.118018Z",
     "start_time": "2024-11-11T03:57:41.444681Z"
    }
   },
   "cell_type": "code",
   "source": [
    "entry = db[0]\n",
    "\n",
    "# Extract important information from the 2nd and 3rd keys\n",
    "review_text = entry[\"Please tell us why you chose the rating above:\"]\n",
    "additional_feedback = entry[\"If you had a magic wand and you could change, add, or remove anything from the game, what would it be and why?\"]\n",
    "\n",
    "# Combine both into a single review input for the prompt\n",
    "combined_review = f\"{review_text} {additional_feedback}\"\n",
    "\n",
    "# Format the prompt for the LLM\n",
    "prompt_topic = prompt_template_topic.format(review=combined_review)\n",
    "\n",
    "# Make the OpenAI API call\n",
    "response = client.chat.completions.create(\n",
    "    model=chat_model_name,\n",
    "    messages=[\n",
    "        {\"role\": \"system\", \"content\": \"You are a helpful assistant expertised in game review analysis.\"},\n",
    "        {\"role\": \"user\", \"content\": prompt_topic},\n",
    "    ],\n",
    "    max_tokens=1024,\n",
    ")\n",
    "\n",
    "# Print the response content\n",
    "print(response.choices[0].message['content'])\n"
   ],
   "id": "134ce9c792ad006c",
   "outputs": [
    {
     "ename": "TypeError",
     "evalue": "'ChatCompletionMessage' object is not subscriptable",
     "output_type": "error",
     "traceback": [
      "\u001B[1;31m---------------------------------------------------------------------------\u001B[0m",
      "\u001B[1;31mTypeError\u001B[0m                                 Traceback (most recent call last)",
      "Cell \u001B[1;32mIn[22], line 24\u001B[0m\n\u001B[0;32m     14\u001B[0m response \u001B[38;5;241m=\u001B[39m client\u001B[38;5;241m.\u001B[39mchat\u001B[38;5;241m.\u001B[39mcompletions\u001B[38;5;241m.\u001B[39mcreate(\n\u001B[0;32m     15\u001B[0m     model\u001B[38;5;241m=\u001B[39mchat_model_name,\n\u001B[0;32m     16\u001B[0m     messages\u001B[38;5;241m=\u001B[39m[\n\u001B[1;32m   (...)\u001B[0m\n\u001B[0;32m     20\u001B[0m     max_tokens\u001B[38;5;241m=\u001B[39m\u001B[38;5;241m1024\u001B[39m,\n\u001B[0;32m     21\u001B[0m )\n\u001B[0;32m     23\u001B[0m \u001B[38;5;66;03m# Print the response content\u001B[39;00m\n\u001B[1;32m---> 24\u001B[0m \u001B[38;5;28mprint\u001B[39m(\u001B[43mresponse\u001B[49m\u001B[38;5;241;43m.\u001B[39;49m\u001B[43mchoices\u001B[49m\u001B[43m[\u001B[49m\u001B[38;5;241;43m0\u001B[39;49m\u001B[43m]\u001B[49m\u001B[38;5;241;43m.\u001B[39;49m\u001B[43mmessage\u001B[49m\u001B[43m[\u001B[49m\u001B[38;5;124;43m'\u001B[39;49m\u001B[38;5;124;43mcontent\u001B[39;49m\u001B[38;5;124;43m'\u001B[39;49m\u001B[43m]\u001B[49m)\n",
      "\u001B[1;31mTypeError\u001B[0m: 'ChatCompletionMessage' object is not subscriptable"
     ]
    }
   ],
   "execution_count": 22
  },
  {
   "metadata": {
    "ExecuteTime": {
     "end_time": "2024-11-11T03:57:55.551410Z",
     "start_time": "2024-11-11T03:57:55.532753Z"
    }
   },
   "cell_type": "code",
   "source": "print(response)",
   "id": "fdcb5c7d686be688",
   "outputs": [
    {
     "name": "stdout",
     "output_type": "stream",
     "text": [
      "ChatCompletion(id='chatcmpl-ASFqX7u8CiQuzLcgIj24wb0rHIZlT', choices=[Choice(finish_reason='stop', index=0, logprobs=None, message=ChatCompletionMessage(content='[\\n    {\\n        \"Topic\": \"survival gameplay\",\\n        \"Category\": \"fact\",\\n        \"Context\": \"PROMETE SER UN JUEGO SURVIVAL DE ZOMBIES CON UNA JUGABILIDAD UNICA E INTERESANTE\"\\n    },\\n    {\\n        \"Topic\": \"unique mechanics\",\\n        \"Category\": \"fact\",\\n        \"Context\": \"ME GUSTO EN VERDAD Y ESPERO CON ANSIAS Y CON ALTAS ESPECTATIVAS EL JUEGO ACABADO, COMO LO QUE ME DEJO EL DEMO\"\\n    },\\n    {\\n        \"Topic\": \"resource management\",\\n        \"Category\": \"fact\",\\n        \"Context\": \"DEBIDO A QUE ES UN JUEGO QUE EN SI, ES DIFICIL POR SOBREVIVIR Y ESTAR PREOCUPADO POR RECURSOS, COSA QUE PONE INTERESANTE EL JUEGO\"\\n    }\\n]', refusal=None, role='assistant', audio=None, function_call=None, tool_calls=None))], created=1731297461, model='gpt-3.5-turbo-0125', object='chat.completion', service_tier=None, system_fingerprint=None, usage=CompletionUsage(completion_tokens=199, prompt_tokens=657, total_tokens=856, completion_tokens_details=CompletionTokensDetails(audio_tokens=0, reasoning_tokens=0, accepted_prediction_tokens=0, rejected_prediction_tokens=0), prompt_tokens_details=PromptTokensDetails(audio_tokens=0, cached_tokens=0)))\n"
     ]
    }
   ],
   "execution_count": 23
  },
  {
   "metadata": {
    "ExecuteTime": {
     "end_time": "2024-11-11T03:59:48.186449Z",
     "start_time": "2024-11-11T03:59:48.176158Z"
    }
   },
   "cell_type": "code",
   "source": " print(response.choices[0].message.content)",
   "id": "69a5da68a3484794",
   "outputs": [
    {
     "name": "stdout",
     "output_type": "stream",
     "text": [
      "[\n",
      "    {\n",
      "        \"Topic\": \"survival gameplay\",\n",
      "        \"Category\": \"fact\",\n",
      "        \"Context\": \"PROMETE SER UN JUEGO SURVIVAL DE ZOMBIES CON UNA JUGABILIDAD UNICA E INTERESANTE\"\n",
      "    },\n",
      "    {\n",
      "        \"Topic\": \"unique mechanics\",\n",
      "        \"Category\": \"fact\",\n",
      "        \"Context\": \"ME GUSTO EN VERDAD Y ESPERO CON ANSIAS Y CON ALTAS ESPECTATIVAS EL JUEGO ACABADO, COMO LO QUE ME DEJO EL DEMO\"\n",
      "    },\n",
      "    {\n",
      "        \"Topic\": \"resource management\",\n",
      "        \"Category\": \"fact\",\n",
      "        \"Context\": \"DEBIDO A QUE ES UN JUEGO QUE EN SI, ES DIFICIL POR SOBREVIVIR Y ESTAR PREOCUPADO POR RECURSOS, COSA QUE PONE INTERESANTE EL JUEGO\"\n",
      "    }\n",
      "]\n"
     ]
    }
   ],
   "execution_count": 24
  },
  {
   "metadata": {},
   "cell_type": "code",
   "source": [
    "prompt_topic = prompt_template_topic.format(review=tr[1]['review'])\n",
    "response = openai.ChatCompletion.create(\n",
    "    model=chat_model_name,\n",
    "    temperature=0,\n",
    "    messages=[\n",
    "        {\"role\": \"system\", \"content\": \"You are a helpful assistant expertised in game review analysis.\"},\n",
    "        {\"role\": \"user\", \"content\": prompt_topic},\n",
    "    ],\n",
    "    max_tokens=1024,\n",
    ")\n",
    "print(response['choices'][0]['message']['content'])"
   ],
   "id": "9421d296eb3a6478",
   "outputs": [],
   "execution_count": null
  }
 ],
 "metadata": {
  "kernelspec": {
   "display_name": "Python 3",
   "language": "python",
   "name": "python3"
  },
  "language_info": {
   "codemirror_mode": {
    "name": "ipython",
    "version": 2
   },
   "file_extension": ".py",
   "mimetype": "text/x-python",
   "name": "python",
   "nbconvert_exporter": "python",
   "pygments_lexer": "ipython2",
   "version": "2.7.6"
  }
 },
 "nbformat": 4,
 "nbformat_minor": 5
}
