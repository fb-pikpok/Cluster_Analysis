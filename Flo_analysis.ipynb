{
 "cells": [
  {
   "cell_type": "code",
   "id": "initial_id",
   "metadata": {
    "collapsed": true,
    "ExecuteTime": {
     "end_time": "2024-11-11T23:40:08.241812Z",
     "start_time": "2024-11-11T23:39:57.531183Z"
    }
   },
   "source": [
    "import numpy as np\n",
    "import pandas as pd\n",
    "import json\n",
    "import os\n",
    "os.environ[\"OMP_NUM_THREADS\"] = '1'\n",
    "\n",
    "\n",
    "from langchain.prompts import PromptTemplate\n",
    "from llama_index.embeddings.langchain import LangchainEmbedding\n",
    "from langchain.embeddings import HuggingFaceEmbeddings\n",
    "\n",
    "from sklearn.decomposition import PCA\n",
    "from sklearn.manifold import TSNE\n",
    "\n",
    "from umap import umap_ as UMAP\n",
    "from sklearn.cluster import KMeans\n",
    "from matplotlib import pyplot as plt\n"
   ],
   "outputs": [],
   "execution_count": 1
  },
  {
   "metadata": {
    "ExecuteTime": {
     "end_time": "2024-11-11T23:40:12.205166Z",
     "start_time": "2024-11-11T23:40:11.718905Z"
    }
   },
   "cell_type": "code",
   "source": [
    "from dotenv import load_dotenv\n",
    "load_dotenv()\n",
    "\n",
    "import os\n",
    "import openai\n",
    "\n",
    "openai_api_key = os.getenv(\"OPENAI_API_KEY\")\n",
    "\n",
    "openai.api_key = openai_api_key\n",
    "client = openai.Client()\n",
    "\n",
    "chat_model_name = 'gpt-3.5-turbo'\n",
    "embedding_model_name = 'sentence-transformers/all-mpnet-base-v2'\n",
    "\n",
    "n_pick = 150  # the number of reviews picked for each game\n",
    "s_root = r'C:\\Users\\fbohm\\Desktop\\Projects\\DataScience\\cluster_analysis/'\n",
    "s_db_json = 'review_db.json'\n",
    "s_db_embed_json = 'review_db_embed.json'\n",
    "s_db_table_json = 'review_db_table.json'\n",
    "s_db_table_xlsx = 'review_db_table.xlsx'\n",
    "s_db_table_pca_json = 'review_db_table_pca.json'\n",
    "s_db_table_pca_xlsx = 'review_db_table_pca.xlsx'\n",
    "s_kmeans_centers = 'kmeans_centers.json'\n",
    "b_override = False"
   ],
   "id": "73aeb0488e125fa2",
   "outputs": [],
   "execution_count": 2
  },
  {
   "metadata": {
    "ExecuteTime": {
     "end_time": "2024-11-11T23:40:23.123746Z",
     "start_time": "2024-11-11T23:40:23.116545Z"
    }
   },
   "cell_type": "code",
   "source": [
    "\n",
    "prompt_template_translation = PromptTemplate.from_template(\n",
    "'''Please tell if the following game review sections are written in English. Respond with \"Yes.\" or \"No.\"\n",
    "Furthermore, please translate each section into English if it is not. The sections are separated by labels \"REASON\" and \"WISH\".\n",
    "\n",
    "[h0]==================================================================[\\h0]\n",
    "REASON: \"兄弟们，我把星空退款的钱拿来买这个了，我做的对吗\"\n",
    "WISH: \"加动态模糊和垂直同步选项\"\n",
    "\n",
    "IS ENGLISH:\n",
    "\n",
    "No.\n",
    "\n",
    "TRANSLATION:\n",
    "\n",
    "REASON: \"Brothers, I used the refund money from the stars to buy this. Did I do the right thing?\"\n",
    "WISH: \"Add dynamic blur and vertical sync options.\"\n",
    "\n",
    "\n",
    "[h0]==================================================================[\\h0]\n",
    "REASON: \"My first D&D experience and I'm enjoying it a lot.\"\n",
    "WISH: \"I would like more guidance in the game.\"\n",
    "\n",
    "IS ENGLISH: \n",
    "\n",
    "Yes.\n",
    "\n",
    "\n",
    "[h0]==================================================================[\\h0]\n",
    "REASON: \"{reason}\"\n",
    "WISH: \"{wish}\"\n",
    "\n",
    "IS ENGLISH: \n",
    "'''\n",
    ")\n",
    "\n",
    "prompt_template_topic = PromptTemplate.from_template(\n",
    "'''Please list the most important topics and their respective original context in the review of a game in a json format with \"Topic\", \"Category\", \"Context\" arguments.  No more than 10 topics.\n",
    "Topics should be game features.  A feature in the game should be a noun rather than a verb or an adjective.\n",
    "Each topic should be categorized as a \"fact\" or a \"request\".\n",
    "\n",
    "[h0]==================================================================[\\h0]\n",
    "REVIEW: \n",
    "\n",
    "\"The weapon durability in this game is frustrating; my sword breaks after just a few swings. The combat itself is fun, but I wish the durability lasted longer. Also, the audio effects are very immersive during battles.\"\n",
    "\n",
    "TOPICS:\n",
    "\n",
    "[\n",
    "    {{\n",
    "        \"Topic\": \"Weapon Durability\",\n",
    "        \"Category\": \"request\",\n",
    "        \"Context\": \"My sword breaks after just a few swings. I wish the durability lasted longer.\"\n",
    "    }},\n",
    "    {{\n",
    "        \"Topic\": \"Combat and Fighting\",\n",
    "        \"Category\": \"fact\",\n",
    "        \"Context\": \"The combat itself is fun.\"\n",
    "    }},\n",
    "    {{\n",
    "        \"Topic\": \"Audio\",\n",
    "        \"Category\": \"fact\",\n",
    "        \"Context\": \"The audio effects are very immersive during battles.\"\n",
    "    }}\n",
    "]\n",
    "\n",
    "[h0]==================================================================[\\h0]\n",
    "REVIEW: \n",
    "\n",
    "\"Playing during the night adds a thrilling layer to the game. The lack of a proper save feature makes it hard to enjoy it though. Also, there are way too many random encounters that make progress difficult.\"\n",
    "\n",
    "TOPICS:\n",
    "\n",
    "[\n",
    "    {{\n",
    "        \"Topic\": \"Night\",\n",
    "        \"Category\": \"fact\",\n",
    "        \"Context\": \"Playing during the night adds a thrilling layer to the game.\"\n",
    "    }},\n",
    "    {{\n",
    "        \"Topic\": \"Save Feature\",\n",
    "        \"Category\": \"request\",\n",
    "        \"Context\": \"The lack of a proper save feature makes it hard to enjoy fully.\"\n",
    "    }},\n",
    "    {{\n",
    "        \"Topic\": \"Randomness\",\n",
    "        \"Category\": \"request\",\n",
    "        \"Context\": \"There are way too many random encounters that make progress difficult.\"\n",
    "    }}\n",
    "]\n",
    "\n",
    "[h0]==================================================================[\\h0]\n",
    "REVIEW: \n",
    "\n",
    "\"{review}\"\n",
    "\n",
    "TOPICS:\n",
    "\n",
    "'''\n",
    ")\n",
    "\n",
    "prompt_template_topic_view = PromptTemplate.from_template(\n",
    "'''What's the sentiment of the review with regard to the topic?\n",
    "Always answer with 'Positive' or 'Negative' or 'Inconclusive'\n",
    "\n",
    "REVIEW: My first D&D experience and I'm enjoying it a lot.\n",
    "TOPIC: D&D\n",
    "SENTIMENT: Positive \n",
    "\n",
    "REVIEW: This game lacks a proper ending or epilog\n",
    "TOPIC: epilogue\n",
    "SENTIMENT: Negative\n",
    "\n",
    "REVIEW: Posted: August 8\n",
    "TOPIC: release date\n",
    "SENTIMENT: Inconclusive \n",
    "\n",
    "REVIEW: {review}\n",
    "TOPIC: {topic}\n",
    "SENTIMENT: '''\n",
    ")"
   ],
   "id": "a0dce169d6dfe1a8",
   "outputs": [],
   "execution_count": 3
  },
  {
   "metadata": {
    "ExecuteTime": {
     "end_time": "2024-11-11T03:43:40.549805Z",
     "start_time": "2024-11-11T03:43:40.544163Z"
    }
   },
   "cell_type": "code",
   "source": [
    "# Read in the JSON file with survey results \n",
    "\n",
    "with open(s_root + 'Data/survey_results_clean.json', 'r') as f:\n",
    "    db = json.load(f)"
   ],
   "id": "422f62a99f90c8e",
   "outputs": [],
   "execution_count": 14
  },
  {
   "metadata": {},
   "cell_type": "markdown",
   "source": "## Translate reviews",
   "id": "d22da5443d41d4c3"
  },
  {
   "metadata": {
    "ExecuteTime": {
     "end_time": "2024-11-11T20:23:36.351888Z",
     "start_time": "2024-11-11T20:23:33.936988Z"
    }
   },
   "cell_type": "code",
   "source": [
    "import json\n",
    "from lingua import Language, LanguageDetectorBuilder\n",
    "\n",
    "\n",
    "\n",
    "# Load JSON data from file\n",
    "input_file_path = 'Data/survey_results_clean.json'  # Adjust the path if needed\n",
    "output_file_path = 'Data/survey_results_trans.json'  # New JSON with language and translations\n",
    "\n",
    "# Initialize the language detector\n",
    "detector = LanguageDetectorBuilder.from_languages(\n",
    "    Language.ENGLISH, Language.SPANISH, Language.CHINESE, Language.GERMAN, Language.FRENCH\n",
    ").build()\n",
    "\n",
    "# Load JSON data\n",
    "with open(input_file_path, 'r', encoding='utf-8') as json_file:\n",
    "    data = json.load(json_file)\n",
    "\n",
    "# Process each entry\n",
    "for entry in data:\n",
    "    reason_text = entry.get(\"Please tell us why you chose the rating above:\", \"\")\n",
    "    wish_text = entry.get(\"If you had a magic wand and you could change, add, or remove anything from the game, what would it be and why?\", \"\")\n",
    "\n",
    "    # Detect language of both fields using Lingua\n",
    "    detected_language_reason = detector.detect_language_of(reason_text).name.lower() if detector.detect_language_of(reason_text) else \"unknown\"\n",
    "    detected_language_wish = detector.detect_language_of(wish_text).name.lower() if detector.detect_language_of(wish_text) else \"unknown\"\n",
    "\n",
    "    # Determine overall language\n",
    "    detected_language = detected_language_reason if detected_language_reason == detected_language_wish else \"mixed\"\n",
    "    entry[\"language\"] = detected_language\n",
    "\n",
    "    # Only proceed to translation if either field is not in English\n",
    "    if detected_language != \"english\":\n",
    "        # Format the prompt for translation with both texts\n",
    "        prompt_translation = prompt_template_translation.format(reason=reason_text, wish=wish_text)\n",
    "\n",
    "        # Make the OpenAI API call to translate the review\n",
    "        response = client.chat.completions.create(\n",
    "            model=chat_model_name,\n",
    "            messages=[\n",
    "                {\"role\": \"system\", \"content\": \"You are a helpful assistant expertised in game review analysis.\"},\n",
    "                {\"role\": \"user\", \"content\": prompt_translation},\n",
    "            ],\n",
    "            max_tokens=1024,\n",
    "        )\n",
    "\n",
    "        # Extract the translation response\n",
    "        translation_response = response.choices[0].message.content\n",
    "\n",
    "        # Parse the response to extract translations for REASON and WISH\n",
    "        if \"REASON:\" in translation_response and \"WISH:\" in translation_response:\n",
    "            reason_translation = translation_response.split(\"REASON:\")[1].split(\"WISH:\")[0].strip()\n",
    "            wish_translation = translation_response.split(\"WISH:\")[1].strip()\n",
    "\n",
    "            # Overwrite the original fields with translations\n",
    "            entry[\"Please tell us why you chose the rating above:\"] = reason_translation\n",
    "            entry[\"If you had a magic wand and you could change, add, or remove anything from the game, what would it be and why?\"] = wish_translation\n",
    "        else:\n",
    "            print(f\"Translation not available for entry: {entry}\")\n",
    "\n",
    "# Save the modified data with translations\n",
    "with open(output_file_path, 'w', encoding='utf-8') as json_file:\n",
    "    json.dump(data, json_file, indent=4, ensure_ascii=False)\n",
    "\n",
    "print(f\"Translated data saved to {output_file_path}\")\n"
   ],
   "id": "e6939b68e7b695c4",
   "outputs": [
    {
     "name": "stdout",
     "output_type": "stream",
     "text": [
      "Translated data saved to Data/survey_results_trans.json\n"
     ]
    }
   ],
   "execution_count": 8
  },
  {
   "metadata": {},
   "cell_type": "markdown",
   "source": "## Topic Extraction",
   "id": "808856d98b2eb6cf"
  },
  {
   "metadata": {
    "ExecuteTime": {
     "end_time": "2024-11-11T23:46:35.698441Z",
     "start_time": "2024-11-11T23:46:34.094778Z"
    }
   },
   "cell_type": "code",
   "source": [
    "with open(s_root + 'Data/survey_results_trans.json', 'r') as f:\n",
    "    db = json.load(f)\n",
    "\n",
    "entry = db[0]\n",
    "\n",
    "# Extract important information from the 2nd and 3rd keys\n",
    "review_text = entry[\"Please tell us why you chose the rating above:\"]\n",
    "additional_feedback = entry[\"If you had a magic wand and you could change, add, or remove anything from the game, what would it be and why?\"]\n",
    "\n",
    "# Combine both into a single review input for the prompt\n",
    "combined_review = f\"{review_text} {additional_feedback}\"\n",
    "\n",
    "# Format the prompt for the LLM\n",
    "prompt_topic = prompt_template_topic.format(review=combined_review)\n",
    "\n",
    "# Make the OpenAI API call\n",
    "response = client.chat.completions.create(\n",
    "    model=chat_model_name,\n",
    "    messages=[\n",
    "        {\"role\": \"system\", \"content\": \"You are a helpful assistant expertised in game review analysis.\"},\n",
    "        {\"role\": \"user\", \"content\": prompt_topic},\n",
    "    ],\n",
    "    max_tokens=1024,\n",
    ")\n",
    "\n",
    "# Print the response content\n",
    "print(response.choices[0].message.content)"
   ],
   "id": "134ce9c792ad006c",
   "outputs": [
    {
     "name": "stdout",
     "output_type": "stream",
     "text": [
      "[\n",
      "    {\n",
      "        \"Topic\": \"Survival Gameplay\",\n",
      "        \"Category\": \"fact\",\n",
      "        \"Context\": \"The game promises to be a survival zombie game with unique and interesting gameplay.\"\n",
      "    },\n",
      "    {\n",
      "        \"Topic\": \"Storyline\",\n",
      "        \"Category\": \"fact\",\n",
      "        \"Context\": \"The demo left me wanting more.\"\n",
      "    },\n",
      "    {\n",
      "        \"Topic\": \"Challenging Mechanics\",\n",
      "        \"Category\": \"fact\",\n",
      "        \"Context\": \"It is a challenging game to survive and be concerned about resources.\"\n",
      "    }\n",
      "]\n"
     ]
    }
   ],
   "execution_count": 10
  },
  {
   "metadata": {},
   "cell_type": "markdown",
   "source": "## Sentiment Analysis",
   "id": "f4f12c1eaa64045b"
  },
  {
   "metadata": {
    "ExecuteTime": {
     "end_time": "2024-11-11T23:47:02.626112Z",
     "start_time": "2024-11-11T23:47:02.622051Z"
    }
   },
   "cell_type": "code",
   "source": [
    "topic_response = response.choices[0].message.content\n",
    "topics = json.loads(topic_response)"
   ],
   "id": "aeb155fa7d2b5de7",
   "outputs": [],
   "execution_count": 11
  },
  {
   "metadata": {
    "ExecuteTime": {
     "end_time": "2024-11-11T21:43:03.319538Z",
     "start_time": "2024-11-11T21:43:03.298505Z"
    }
   },
   "cell_type": "code",
   "source": "topic_response",
   "id": "a95c7e952e933c6",
   "outputs": [
    {
     "data": {
      "text/plain": [
       "'[\\n    {\\n        \"Topic\": \"gameplay\",\\n        \"Category\": \"fact\",\\n        \"Context\": \"simple but engaging gameplay.\"\\n    },\\n    {\\n        \"Topic\": \"inventory system\",\\n        \"Category\": \"fact\",\\n        \"Context\": \"Easy to use inventory system.\"\\n    },\\n    {\\n        \"Topic\": \"tactical decision making\",\\n        \"Category\": \"fact\",\\n        \"Context\": \"Tactical decision making.\"\\n    },\\n    {\\n        \"Topic\": \"distractions\",\\n        \"Category\": \"fact\",\\n        \"Context\": \"if there is distractions in game then Good Job :)\"\\n    }\\n]'"
      ]
     },
     "execution_count": 22,
     "metadata": {},
     "output_type": "execute_result"
    }
   ],
   "execution_count": 22
  },
  {
   "metadata": {
    "ExecuteTime": {
     "end_time": "2024-11-11T23:47:33.877451Z",
     "start_time": "2024-11-11T23:47:33.867942Z"
    }
   },
   "cell_type": "code",
   "source": [
    "for topic in topics:\n",
    "    topic_text = topic[\"Topic\"]\n",
    "    print(f'topic text: {topic_text}')\n",
    "    topic_context = topic[\"Context\"]\n",
    "    print(f'topic context: {topic_context}')\n",
    "    print('##################')\n",
    "    "
   ],
   "id": "8327c2934164a48e",
   "outputs": [
    {
     "name": "stdout",
     "output_type": "stream",
     "text": [
      "topic text: Survival Gameplay\n",
      "topic context: The game promises to be a survival zombie game with unique and interesting gameplay.\n",
      "##################\n",
      "topic text: Storyline\n",
      "topic context: The demo left me wanting more.\n",
      "##################\n",
      "topic text: Challenging Mechanics\n",
      "topic context: It is a challenging game to survive and be concerned about resources.\n",
      "##################\n"
     ]
    }
   ],
   "execution_count": 13
  },
  {
   "metadata": {
    "ExecuteTime": {
     "end_time": "2024-11-12T00:01:43.529501Z",
     "start_time": "2024-11-12T00:01:41.660806Z"
    }
   },
   "cell_type": "code",
   "source": [
    "for topic in topics:\n",
    "    topic_text = topic[\"Topic\"]\n",
    "    topic_context = topic[\"Context\"]\n",
    "    \n",
    "    # Format the prompt for sentiment analysis\n",
    "    prompt_sentiment = prompt_template_topic_view.format(review=topic_context, topic=topic_text)\n",
    "    \n",
    "    # Call the API for sentiment analysis\n",
    "    sentiment_response = client.chat.completions.create(\n",
    "        model=chat_model_name,\n",
    "        messages=[\n",
    "            {\"role\": \"system\", \"content\": \"You are a helpful assistant expertised in sentiment analysis.\"},\n",
    "            {\"role\": \"user\", \"content\": prompt_sentiment},\n",
    "        ],\n",
    "        max_tokens=1024,\n",
    "    )\n",
    "    \n",
    "    # Extract and print the sentiment result\n",
    "    sentiment = sentiment_response.choices[0].message.content.strip()   \n",
    "    # Ensure 'topics' key is initialized for each entry\n",
    "    if \"topics\" not in entry:\n",
    "        entry[\"topics\"] = []\n",
    "\n",
    "# Append the topic information with sentiment to the \"topics\" list\n",
    "    entry[\"topics\"].append({\n",
    "        \"topic\": topic_text,\n",
    "        \"sentiment\": sentiment,\n",
    "        \"sentence\": topic_context\n",
    "    })\n",
    "    print(f\"Topic: {topic_text}\\nContext: {topic_context}\\nSentiment: {sentiment}\\n\")"
   ],
   "id": "af261686f616fa6c",
   "outputs": [
    {
     "name": "stdout",
     "output_type": "stream",
     "text": [
      "Topic: Survival Gameplay\n",
      "Context: The game promises to be a survival zombie game with unique and interesting gameplay.\n",
      "Sentiment: Positive\n",
      "\n",
      "Topic: Storyline\n",
      "Context: The demo left me wanting more.\n",
      "Sentiment: Positive\n",
      "\n",
      "Topic: Challenging Mechanics\n",
      "Context: It is a challenging game to survive and be concerned about resources.\n",
      "Sentiment: Positive\n",
      "\n"
     ]
    }
   ],
   "execution_count": 20
  },
  {
   "metadata": {
    "ExecuteTime": {
     "end_time": "2024-11-12T00:01:58.753453Z",
     "start_time": "2024-11-12T00:01:58.748147Z"
    }
   },
   "cell_type": "code",
   "source": [
    "output_file_path = s_root + 'Data/survey_results_with_topics.json'\n",
    "with open(output_file_path, 'w', encoding='utf-8') as json_file:\n",
    "    json.dump(db, json_file, indent=4, ensure_ascii=False)"
   ],
   "id": "849f59dd90bfc329",
   "outputs": [],
   "execution_count": 22
  },
  {
   "metadata": {},
   "cell_type": "markdown",
   "source": [
    "## Everything put together \n",
    "### in a loop"
   ],
   "id": "858f4eacef212270"
  },
  {
   "metadata": {},
   "cell_type": "code",
   "outputs": [],
   "execution_count": null,
   "source": "",
   "id": "fc2ab8bab2d7eba2"
  }
 ],
 "metadata": {
  "kernelspec": {
   "display_name": "Python 3",
   "language": "python",
   "name": "python3"
  },
  "language_info": {
   "codemirror_mode": {
    "name": "ipython",
    "version": 2
   },
   "file_extension": ".py",
   "mimetype": "text/x-python",
   "name": "python",
   "nbconvert_exporter": "python",
   "pygments_lexer": "ipython2",
   "version": "2.7.6"
  }
 },
 "nbformat": 4,
 "nbformat_minor": 5
}
