{
 "cells": [
  {
   "cell_type": "code",
   "id": "initial_id",
   "metadata": {
    "collapsed": true,
    "ExecuteTime": {
     "end_time": "2024-11-12T02:29:45.814054Z",
     "start_time": "2024-11-12T02:29:35.101240Z"
    }
   },
   "source": [
    "import numpy as np\n",
    "import pandas as pd\n",
    "import json\n",
    "import os\n",
    "os.environ[\"OMP_NUM_THREADS\"] = '1'\n",
    "\n",
    "\n",
    "from langchain.prompts import PromptTemplate\n",
    "from llama_index.embeddings.langchain import LangchainEmbedding\n",
    "from langchain.embeddings import HuggingFaceEmbeddings\n",
    "\n",
    "from sklearn.decomposition import PCA\n",
    "from sklearn.manifold import TSNE\n",
    "\n",
    "from umap import umap_ as UMAP\n",
    "from sklearn.cluster import KMeans\n",
    "from matplotlib import pyplot as plt\n"
   ],
   "outputs": [],
   "execution_count": 1
  },
  {
   "metadata": {
    "ExecuteTime": {
     "end_time": "2024-11-12T02:29:46.167903Z",
     "start_time": "2024-11-12T02:29:45.814054Z"
    }
   },
   "cell_type": "code",
   "source": [
    "from dotenv import load_dotenv\n",
    "load_dotenv()\n",
    "\n",
    "import os\n",
    "import openai\n",
    "\n",
    "openai_api_key = os.getenv(\"OPENAI_API_KEY\")\n",
    "\n",
    "openai.api_key = openai_api_key\n",
    "client = openai.Client()\n",
    "\n",
    "chat_model_name = 'gpt-4o-mini'\n",
    "embedding_model_name = 'sentence-transformers/all-mpnet-base-v2'\n",
    "\n",
    "s_root = r'C:\\Users\\fbohm\\Desktop\\Projects\\DataScience\\cluster_analysis/'\n",
    "s_db_json = 'Data/survey_results_with_topics.json'\n",
    "\n",
    "s_db_embed_json = 'Data/review_db_embed.json'\n",
    "s_db_table_json = 'Data/review_db_table.json'\n",
    "s_db_table_xlsx = 'Data/review_db_table.xlsx'\n",
    "s_db_table_pca_json = 'Data/review_db_table_pca.json'\n",
    "s_db_table_pca_xlsx = 'Data/review_db_table_pca.xlsx'\n",
    "s_kmeans_centers = 'Data/kmeans_centers.json'\n",
    "b_override = False"
   ],
   "id": "73aeb0488e125fa2",
   "outputs": [],
   "execution_count": 2
  },
  {
   "metadata": {
    "ExecuteTime": {
     "end_time": "2024-11-12T02:59:36.759695Z",
     "start_time": "2024-11-12T02:59:36.752898Z"
    }
   },
   "cell_type": "code",
   "source": [
    "\n",
    "prompt_template_translation = PromptTemplate.from_template(\n",
    "'''Please tell if the following game review sections are written in English. Respond with \"Yes.\" or \"No.\"\n",
    "Furthermore, please translate each section into English if it is not. The sections are separated by labels \"REASON\" and \"WISH\".\n",
    "\n",
    "[h0]==================================================================[\\h0]\n",
    "REASON: \"兄弟们，我把星空退款的钱拿来买这个了，我做的对吗\"\n",
    "WISH: \"加动态模糊和垂直同步选项\"\n",
    "\n",
    "IS ENGLISH:\n",
    "\n",
    "No.\n",
    "\n",
    "TRANSLATION:\n",
    "\n",
    "REASON: \"Brothers, I used the refund money from the stars to buy this. Did I do the right thing?\"\n",
    "WISH: \"Add dynamic blur and vertical sync options.\"\n",
    "\n",
    "\n",
    "[h0]==================================================================[\\h0]\n",
    "REASON: \"My first D&D experience and I'm enjoying it a lot.\"\n",
    "WISH: \"I would like more guidance in the game.\"\n",
    "\n",
    "IS ENGLISH: \n",
    "\n",
    "Yes.\n",
    "\n",
    "\n",
    "[h0]==================================================================[\\h0]\n",
    "REASON: \"{reason}\"\n",
    "WISH: \"{wish}\"\n",
    "\n",
    "IS ENGLISH: \n",
    "'''\n",
    ")\n",
    "\n",
    "prompt_template_topic = PromptTemplate.from_template(\n",
    "'''Please list the most important topics and their respective original context in the review of a game in a json format with \"Topic\", \"Category\", \"Context\" arguments.  No more than 10 topics.\n",
    "Topics should be game features.  A feature in the game should be a noun rather than a verb or an adjective.\n",
    "Each topic should be categorized as a \"fact\" or a \"request\".\n",
    "Respond in JSON format.\n",
    "\n",
    "[h0]==================================================================[\\h0]\n",
    "REVIEW: \n",
    "\n",
    "\"The weapon durability in this game is frustrating; my sword breaks after just a few swings. The combat itself is fun, but I wish the durability lasted longer. Also, the audio effects are very immersive during battles.\"\n",
    "\n",
    "TOPICS:\n",
    "\n",
    "[\n",
    "    {{\n",
    "        \"Topic\": \"Weapon Durability\",\n",
    "        \"Category\": \"request\",\n",
    "        \"Context\": \"My sword breaks after just a few swings. I wish the durability lasted longer.\"\n",
    "    }},\n",
    "    {{\n",
    "        \"Topic\": \"Combat and Fighting\",\n",
    "        \"Category\": \"fact\",\n",
    "        \"Context\": \"The combat itself is fun.\"\n",
    "    }},\n",
    "    {{\n",
    "        \"Topic\": \"Audio\",\n",
    "        \"Category\": \"fact\",\n",
    "        \"Context\": \"The audio effects are very immersive during battles.\"\n",
    "    }}\n",
    "]\n",
    "\n",
    "[h0]==================================================================[\\h0]\n",
    "REVIEW: \n",
    "\n",
    "\"Playing during the night adds a thrilling layer to the game. The lack of a proper save feature makes it hard to enjoy it though. Also, there are way too many random encounters that make progress difficult.\"\n",
    "\n",
    "TOPICS:\n",
    "\n",
    "[\n",
    "    {{\n",
    "        \"Topic\": \"Night\",\n",
    "        \"Category\": \"fact\",\n",
    "        \"Context\": \"Playing during the night adds a thrilling layer to the game.\"\n",
    "    }},\n",
    "    {{\n",
    "        \"Topic\": \"Save Feature\",\n",
    "        \"Category\": \"request\",\n",
    "        \"Context\": \"The lack of a proper save feature makes it hard to enjoy fully.\"\n",
    "    }},\n",
    "    {{\n",
    "        \"Topic\": \"Randomness\",\n",
    "        \"Category\": \"request\",\n",
    "        \"Context\": \"There are way too many random encounters that make progress difficult.\"\n",
    "    }}\n",
    "]\n",
    "\n",
    "[h0]==================================================================[\\h0]\n",
    "REVIEW: \n",
    "\n",
    "\"{review}\"\n",
    "\n",
    "TOPICS:\n",
    "\n",
    "'''\n",
    ")\n",
    "\n",
    "prompt_template_topic_view = PromptTemplate.from_template(\n",
    "'''What's the sentiment of the review with regard to the topic?\n",
    "Always answer with 'Positive' or 'Negative' or 'Inconclusive'.\n",
    "\n",
    "REVIEW: My first D&D experience and I'm enjoying it a lot.\n",
    "TOPIC: D&D\n",
    "SENTIMENT: Positive \n",
    "\n",
    "REVIEW: This game lacks a proper ending or epilog\n",
    "TOPIC: epilogue\n",
    "SENTIMENT: Negative\n",
    "\n",
    "REVIEW: Posted: August 8\n",
    "TOPIC: release date\n",
    "SENTIMENT: Inconclusive \n",
    "\n",
    "REVIEW: {review}\n",
    "TOPIC: {topic}\n",
    "SENTIMENT: '''\n",
    ")"
   ],
   "id": "a0dce169d6dfe1a8",
   "outputs": [],
   "execution_count": 26
  },
  {
   "metadata": {
    "ExecuteTime": {
     "end_time": "2024-11-12T02:30:06.604949Z",
     "start_time": "2024-11-12T02:30:06.600219Z"
    }
   },
   "cell_type": "code",
   "source": [
    "# Read in the JSON file with survey results \n",
    "\n",
    "with open(s_root + 'Data/survey_results_clean.json', 'r') as f:\n",
    "    db = json.load(f)"
   ],
   "id": "422f62a99f90c8e",
   "outputs": [],
   "execution_count": 4
  },
  {
   "metadata": {},
   "cell_type": "markdown",
   "source": "## Translate reviews",
   "id": "d22da5443d41d4c3"
  },
  {
   "metadata": {
    "ExecuteTime": {
     "end_time": "2024-11-12T02:30:14.253781Z",
     "start_time": "2024-11-12T02:30:09.214318Z"
    }
   },
   "cell_type": "code",
   "source": [
    "import json\n",
    "from lingua import Language, LanguageDetectorBuilder\n",
    "\n",
    "\n",
    "\n",
    "# Load JSON data from file\n",
    "input_file_path = 'Data/survey_results_clean.json'  # Adjust the path if needed\n",
    "output_file_path = 'Data/survey_results_trans.json'  # New JSON with language and translations\n",
    "\n",
    "# Initialize the language detector\n",
    "detector = LanguageDetectorBuilder.from_languages(\n",
    "    Language.ENGLISH, Language.SPANISH, Language.CHINESE, Language.GERMAN, Language.FRENCH\n",
    ").build()\n",
    "\n",
    "# Load JSON data\n",
    "with open(input_file_path, 'r', encoding='utf-8') as json_file:\n",
    "    data = json.load(json_file)\n",
    "\n",
    "# Process each entry\n",
    "for entry in data:\n",
    "    reason_text = entry.get(\"Please tell us why you chose the rating above:\", \"\")\n",
    "    wish_text = entry.get(\"If you had a magic wand and you could change, add, or remove anything from the game, what would it be and why?\", \"\")\n",
    "\n",
    "    # Detect language of both fields using Lingua\n",
    "    detected_language_reason = detector.detect_language_of(reason_text).name.lower() if detector.detect_language_of(reason_text) else \"unknown\"\n",
    "    detected_language_wish = detector.detect_language_of(wish_text).name.lower() if detector.detect_language_of(wish_text) else \"unknown\"\n",
    "\n",
    "    # Determine overall language\n",
    "    detected_language = detected_language_reason if detected_language_reason == detected_language_wish else \"mixed\"\n",
    "    entry[\"language\"] = detected_language\n",
    "\n",
    "    # Only proceed to translation if either field is not in English\n",
    "    if detected_language != \"english\":\n",
    "        # Format the prompt for translation with both texts\n",
    "        prompt_translation = prompt_template_translation.format(reason=reason_text, wish=wish_text)\n",
    "\n",
    "        # Make the OpenAI API call to translate the review\n",
    "        response = client.chat.completions.create(\n",
    "            model=chat_model_name,\n",
    "            messages=[\n",
    "                {\"role\": \"system\", \"content\": \"You are a helpful assistant expertised in game review analysis.\"},\n",
    "                {\"role\": \"user\", \"content\": prompt_translation},\n",
    "            ],\n",
    "            max_tokens=1024,\n",
    "        )\n",
    "\n",
    "        # Extract the translation response\n",
    "        translation_response = response.choices[0].message.content\n",
    "\n",
    "        # Parse the response to extract translations for REASON and WISH\n",
    "        if \"REASON:\" in translation_response and \"WISH:\" in translation_response:\n",
    "            reason_translation = translation_response.split(\"REASON:\")[1].split(\"WISH:\")[0].strip()\n",
    "            wish_translation = translation_response.split(\"WISH:\")[1].strip()\n",
    "\n",
    "            # Overwrite the original fields with translations\n",
    "            entry[\"Please tell us why you chose the rating above:\"] = reason_translation\n",
    "            entry[\"If you had a magic wand and you could change, add, or remove anything from the game, what would it be and why?\"] = wish_translation\n",
    "        else:\n",
    "            print(f\"Translation not available for entry: {entry}\")\n",
    "\n",
    "# Save the modified data with translations\n",
    "with open(output_file_path, 'w', encoding='utf-8') as json_file:\n",
    "    json.dump(data, json_file, indent=4, ensure_ascii=False)\n",
    "\n",
    "print(f\"Translated data saved to {output_file_path}\")\n"
   ],
   "id": "e6939b68e7b695c4",
   "outputs": [
    {
     "name": "stdout",
     "output_type": "stream",
     "text": [
      "Translated data saved to Data/survey_results_trans.json\n"
     ]
    }
   ],
   "execution_count": 5
  },
  {
   "metadata": {},
   "cell_type": "markdown",
   "source": "## Topic Extraction",
   "id": "808856d98b2eb6cf"
  },
  {
   "metadata": {
    "ExecuteTime": {
     "end_time": "2024-11-12T02:35:50.217892Z",
     "start_time": "2024-11-12T02:35:47.526544Z"
    }
   },
   "cell_type": "code",
   "source": [
    "with open(s_root + 'Data/survey_results_trans.json', 'r') as f:\n",
    "    db = json.load(f)\n",
    "\n",
    "entry = db[0]\n",
    "\n",
    "# Extract important information from the 2nd and 3rd keys\n",
    "review_text = entry[\"Please tell us why you chose the rating above:\"]\n",
    "additional_feedback = entry[\"If you had a magic wand and you could change, add, or remove anything from the game, what would it be and why?\"]\n",
    "\n",
    "# Combine both into a single review input for the prompt\n",
    "combined_review = f\"{review_text} {additional_feedback}\"\n",
    "\n",
    "# Format the prompt for the LLM\n",
    "prompt_topic = prompt_template_topic.format(review=combined_review)\n",
    "\n",
    "# Make the OpenAI API call\n",
    "response = client.chat.completions.create(\n",
    "    model=chat_model_name,\n",
    "    messages=[\n",
    "        {\"role\": \"system\", \"content\": \"You are a helpful assistant expertised in game review analysis. Respond in JSON format.\"},\n",
    "        {\"role\": \"user\", \"content\": prompt_topic},\n",
    "    ],\n",
    "    max_tokens=1024,\n",
    "    response_format={\n",
    "    \"type\": \"json_object\"\n",
    "  }\n",
    ")\n",
    "\n",
    "# Print the response content\n",
    "print(response.choices[0].message.content)"
   ],
   "id": "134ce9c792ad006c",
   "outputs": [
    {
     "name": "stderr",
     "output_type": "stream",
     "text": [
      "2024-11-12 15:35:50,209 - INFO - HTTP Request: POST https://api.openai.com/v1/chat/completions \"HTTP/1.1 200 OK\"\n"
     ]
    },
    {
     "name": "stdout",
     "output_type": "stream",
     "text": [
      "{\n",
      "    \"topics\": [\n",
      "        {\n",
      "            \"Topic\": \"Survival Mechanics\",\n",
      "            \"Category\": \"fact\",\n",
      "            \"Context\": \"The game is inherently difficult due to survival and concerns about resources.\"\n",
      "        },\n",
      "        {\n",
      "            \"Topic\": \"Gameplay Experience\",\n",
      "            \"Category\": \"fact\",\n",
      "            \"Context\": \"I really liked it and I am anxiously waiting for the finished game.\"\n",
      "        },\n",
      "        {\n",
      "            \"Topic\": \"Expectations\",\n",
      "            \"Category\": \"fact\",\n",
      "            \"Context\": \"I have high expectations waiting for the finished game, like what the demo left me.\"\n",
      "        },\n",
      "        {\n",
      "            \"Topic\": \"Game Difficulty\",\n",
      "            \"Category\": \"fact\",\n",
      "            \"Context\": \"The game is inherently difficult, which makes it interesting.\"\n",
      "        },\n",
      "        {\n",
      "            \"Topic\": \"Resource Management\",\n",
      "            \"Category\": \"fact\",\n",
      "            \"Context\": \"Concerns about resources make the game interesting since other zombie games do not have this.\"\n",
      "        }\n",
      "    ]\n",
      "}\n"
     ]
    }
   ],
   "execution_count": 15
  },
  {
   "metadata": {},
   "cell_type": "markdown",
   "source": "## Sentiment Analysis",
   "id": "f4f12c1eaa64045b"
  },
  {
   "metadata": {
    "ExecuteTime": {
     "end_time": "2024-11-12T02:36:08.187130Z",
     "start_time": "2024-11-12T02:36:08.183145Z"
    }
   },
   "cell_type": "code",
   "source": [
    "topic_response = response.choices[0].message.content\n",
    "topics = json.loads(topic_response)"
   ],
   "id": "aeb155fa7d2b5de7",
   "outputs": [],
   "execution_count": 16
  },
  {
   "metadata": {
    "ExecuteTime": {
     "end_time": "2024-11-12T02:55:53.385324Z",
     "start_time": "2024-11-12T02:55:53.380051Z"
    }
   },
   "cell_type": "code",
   "source": "topics",
   "id": "a95c7e952e933c6",
   "outputs": [
    {
     "data": {
      "text/plain": [
       "{'topics': [{'Topic': 'Survival Mechanics',\n",
       "   'Category': 'fact',\n",
       "   'Context': 'The game is inherently difficult due to survival and concerns about resources.'},\n",
       "  {'Topic': 'Gameplay Experience',\n",
       "   'Category': 'fact',\n",
       "   'Context': 'I really liked it and I am anxiously waiting for the finished game.'},\n",
       "  {'Topic': 'Expectations',\n",
       "   'Category': 'fact',\n",
       "   'Context': 'I have high expectations waiting for the finished game, like what the demo left me.'},\n",
       "  {'Topic': 'Game Difficulty',\n",
       "   'Category': 'fact',\n",
       "   'Context': 'The game is inherently difficult, which makes it interesting.'},\n",
       "  {'Topic': 'Resource Management',\n",
       "   'Category': 'fact',\n",
       "   'Context': 'Concerns about resources make the game interesting since other zombie games do not have this.'}]}"
      ]
     },
     "execution_count": 21,
     "metadata": {},
     "output_type": "execute_result"
    }
   ],
   "execution_count": 21
  },
  {
   "metadata": {
    "ExecuteTime": {
     "end_time": "2024-11-12T02:59:43.799276Z",
     "start_time": "2024-11-12T02:59:43.794878Z"
    }
   },
   "cell_type": "code",
   "source": [
    "# Access the list of topics within the 'topics' dictionary\n",
    "for topic in topics['topics']:\n",
    "    topic_text = topic[\"Topic\"]\n",
    "    topic_category = topic[\"Category\"]\n",
    "    topic_context = topic[\"Context\"]\n",
    "\n",
    "    # Append the topic information to the \"topics\" list in entry\n",
    "    if \"topics\" not in entry:\n",
    "        entry[\"topics\"] = []\n",
    "\n",
    "    entry[\"topics\"].append({\n",
    "        \"topic\": topic_text,\n",
    "        \"category\": topic_category,\n",
    "        \"sentence\": topic_context\n",
    "    })\n",
    "\n",
    "    # Print for confirmation\n",
    "    print(f\"Topic: {topic_text}\\nCategory: {topic_category}\\nContext: {topic_context}\\n\")\n"
   ],
   "id": "8327c2934164a48e",
   "outputs": [
    {
     "name": "stdout",
     "output_type": "stream",
     "text": [
      "Topic: Survival Mechanics\n",
      "Category: fact\n",
      "Context: The game is inherently difficult due to survival and concerns about resources.\n",
      "\n",
      "Topic: Gameplay Experience\n",
      "Category: fact\n",
      "Context: I really liked it and I am anxiously waiting for the finished game.\n",
      "\n",
      "Topic: Expectations\n",
      "Category: fact\n",
      "Context: I have high expectations waiting for the finished game, like what the demo left me.\n",
      "\n",
      "Topic: Game Difficulty\n",
      "Category: fact\n",
      "Context: The game is inherently difficult, which makes it interesting.\n",
      "\n",
      "Topic: Resource Management\n",
      "Category: fact\n",
      "Context: Concerns about resources make the game interesting since other zombie games do not have this.\n",
      "\n"
     ]
    }
   ],
   "execution_count": 27
  },
  {
   "metadata": {
    "ExecuteTime": {
     "end_time": "2024-11-12T02:59:48.116848Z",
     "start_time": "2024-11-12T02:59:45.961103Z"
    }
   },
   "cell_type": "code",
   "source": [
    "# Iterate over each topic in the nested structure\n",
    "for topic in topics['topics']:\n",
    "    topic_text = topic[\"Topic\"]\n",
    "    topic_context = topic[\"Context\"]\n",
    "    \n",
    "    # Format the prompt for sentiment analysis\n",
    "    prompt_sentiment = prompt_template_topic_view.format(review=topic_context, topic=topic_text)\n",
    "    \n",
    "    # Call the API for sentiment analysis\n",
    "    sentiment_response = client.chat.completions.create(\n",
    "        model=chat_model_name,\n",
    "        messages=[\n",
    "            {\"role\": \"system\", \"content\": \"You are a helpful assistant expertised in sentiment analysis.\"},\n",
    "            {\"role\": \"user\", \"content\": prompt_sentiment},\n",
    "        ],\n",
    "        max_tokens=1024,\n",
    "    )\n",
    "    \n",
    "    # Extract the sentiment from the response\n",
    "    sentiment = sentiment_response.choices[0].message.content.strip()\n",
    "    \n",
    "    # Ensure 'topics' key is initialized in the entry\n",
    "    if \"topics\" not in entry:\n",
    "        entry[\"topics\"] = []\n",
    "\n",
    "    # Append the topic information with sentiment to the \"topics\" list\n",
    "    entry[\"topics\"].append({\n",
    "        \"topic\": topic_text,\n",
    "        \"context\": topic_context,\n",
    "        \"category\": topic[\"Category\"],  # Add category from original data\n",
    "        \"sentiment\": sentiment\n",
    "    })\n",
    "\n",
    "    # Print for confirmation\n",
    "    print(f\"Topic: {topic_text}\\nContext: {topic_context}\\nCategory: {topic['Category']}\\nSentiment: {sentiment}\\n\")\n"
   ],
   "id": "af261686f616fa6c",
   "outputs": [
    {
     "name": "stderr",
     "output_type": "stream",
     "text": [
      "2024-11-12 15:59:46,414 - INFO - HTTP Request: POST https://api.openai.com/v1/chat/completions \"HTTP/1.1 200 OK\"\n"
     ]
    },
    {
     "name": "stdout",
     "output_type": "stream",
     "text": [
      "Topic: Survival Mechanics\n",
      "Context: The game is inherently difficult due to survival and concerns about resources.\n",
      "Category: fact\n",
      "Sentiment: Negative\n",
      "\n"
     ]
    },
    {
     "name": "stderr",
     "output_type": "stream",
     "text": [
      "2024-11-12 15:59:46,935 - INFO - HTTP Request: POST https://api.openai.com/v1/chat/completions \"HTTP/1.1 200 OK\"\n"
     ]
    },
    {
     "name": "stdout",
     "output_type": "stream",
     "text": [
      "Topic: Gameplay Experience\n",
      "Context: I really liked it and I am anxiously waiting for the finished game.\n",
      "Category: fact\n",
      "Sentiment: Positive\n",
      "\n"
     ]
    },
    {
     "name": "stderr",
     "output_type": "stream",
     "text": [
      "2024-11-12 15:59:47,286 - INFO - HTTP Request: POST https://api.openai.com/v1/chat/completions \"HTTP/1.1 200 OK\"\n"
     ]
    },
    {
     "name": "stdout",
     "output_type": "stream",
     "text": [
      "Topic: Expectations\n",
      "Context: I have high expectations waiting for the finished game, like what the demo left me.\n",
      "Category: fact\n",
      "Sentiment: Positive\n",
      "\n"
     ]
    },
    {
     "name": "stderr",
     "output_type": "stream",
     "text": [
      "2024-11-12 15:59:47,667 - INFO - HTTP Request: POST https://api.openai.com/v1/chat/completions \"HTTP/1.1 200 OK\"\n"
     ]
    },
    {
     "name": "stdout",
     "output_type": "stream",
     "text": [
      "Topic: Game Difficulty\n",
      "Context: The game is inherently difficult, which makes it interesting.\n",
      "Category: fact\n",
      "Sentiment: Positive\n",
      "\n"
     ]
    },
    {
     "name": "stderr",
     "output_type": "stream",
     "text": [
      "2024-11-12 15:59:48,111 - INFO - HTTP Request: POST https://api.openai.com/v1/chat/completions \"HTTP/1.1 200 OK\"\n"
     ]
    },
    {
     "name": "stdout",
     "output_type": "stream",
     "text": [
      "Topic: Resource Management\n",
      "Context: Concerns about resources make the game interesting since other zombie games do not have this.\n",
      "Category: fact\n",
      "Sentiment: Positive\n",
      "\n"
     ]
    }
   ],
   "execution_count": 28
  },
  {
   "metadata": {},
   "cell_type": "code",
   "source": [
    "output_file_path = s_root + 'Data/survey_results_with_topics.json'\n",
    "with open(output_file_path, 'w', encoding='utf-8') as json_file:\n",
    "    json.dump(db, json_file, indent=4, ensure_ascii=False)"
   ],
   "id": "849f59dd90bfc329",
   "outputs": [],
   "execution_count": null
  },
  {
   "metadata": {},
   "cell_type": "markdown",
   "source": [
    "## Everything put together \n",
    "### in a loop"
   ],
   "id": "858f4eacef212270"
  },
  {
   "metadata": {
    "ExecuteTime": {
     "end_time": "2024-11-12T03:05:56.927489Z",
     "start_time": "2024-11-12T03:03:49.774082Z"
    }
   },
   "cell_type": "code",
   "source": [
    "import json\n",
    "import logging\n",
    "from langchain.prompts import PromptTemplate\n",
    "from lingua import Language, LanguageDetectorBuilder\n",
    "\n",
    "# Initialize the language detector\n",
    "detector = LanguageDetectorBuilder.from_languages(\n",
    "    Language.ENGLISH, Language.SPANISH, Language.CHINESE, Language.GERMAN, Language.FRENCH\n",
    ").build()\n",
    "\n",
    "# Setup logging\n",
    "logging.basicConfig(level=logging.INFO, format='%(asctime)s - %(levelname)s - %(message)s')\n",
    "\n",
    "# Initialize token counters\n",
    "prompt_tokens = 0\n",
    "completion_tokens = 0\n",
    "\n",
    "# Load the survey results JSON file\n",
    "input_file_path = s_root + 'Data/survey_results_clean.json'\n",
    "output_file_path = s_root + 'Data/survey_results_with_topics.json'\n",
    "\n",
    "with open(input_file_path, 'r', encoding='utf-8') as f:\n",
    "    db = json.load(f)\n",
    "\n",
    "# Initialize a counter for unique IDs\n",
    "id_counter = 1\n",
    "\n",
    "# Loop through each entry in the survey results\n",
    "for entry in db:\n",
    "    # Add a unique ID to the entry\n",
    "    entry[\"ID\"] = id_counter\n",
    "    logging.info(f\"Processing entry ID: {entry['ID']}\")\n",
    "    \n",
    "    # Step 1: Detect language and translate if needed\n",
    "    reason_text = entry.get(\"Please tell us why you chose the rating above:\", \"\")\n",
    "    wish_text = entry.get(\"If you had a magic wand and you could change, add, or remove anything from the game, what would it be and why?\", \"\")\n",
    "    combined_text = f\"{reason_text} {wish_text}\"\n",
    "\n",
    "    # Use the translation prompt if language detection shows it’s not English\n",
    "    prompt_translation = prompt_template_translation.format(reason=reason_text, wish=wish_text)\n",
    "    translation_response = client.chat.completions.create(\n",
    "        model=chat_model_name,\n",
    "        messages=[\n",
    "            {\"role\": \"system\", \"content\": \"You are a helpful assistant for translation.\"},\n",
    "            {\"role\": \"user\", \"content\": prompt_translation},\n",
    "        ],\n",
    "        max_tokens=1024,\n",
    "    )\n",
    "    \n",
    "    # Track tokens used\n",
    "    prompt_tokens += translation_response.usage.prompt_tokens\n",
    "    completion_tokens += translation_response.usage.completion_tokens\n",
    "    logging.info(f\"Translation API call: Prompt tokens used: {translation_response.usage.prompt_tokens}, Completion tokens used: {translation_response.usage.completion_tokens}\")\n",
    "\n",
    "    # Parse and update entry with translated text, preserving original language info\n",
    "    translation_text = translation_response.choices[0].message.content\n",
    "    detected_language_reason = detector.detect_language_of(reason_text).name.lower() if detector.detect_language_of(reason_text) else \"unknown\"\n",
    "    detected_language_wish = detector.detect_language_of(wish_text).name.lower() if detector.detect_language_of(wish_text) else \"unknown\"\n",
    "    entry[\"language\"] = detected_language_reason if detected_language_reason == detected_language_wish else \"mixed\"\n",
    "\n",
    "    if \"REASON:\" in translation_text and \"WISH:\" in translation_text:\n",
    "        reason_text = translation_text.split(\"REASON:\")[1].split(\"WISH:\")[0].strip()\n",
    "        wish_text = translation_text.split(\"WISH:\")[1].strip()\n",
    "        entry[\"Please tell us why you chose the rating above:\"] = reason_text\n",
    "        entry[\"If you had a magic wand and you could change, add, or remove anything from the game, what would it be and why?\"] = wish_text\n",
    "\n",
    "    combined_review = f\"{reason_text} {wish_text}\"\n",
    "\n",
    "    # Step 2: Topic Extraction\n",
    "    prompt_topic = prompt_template_topic.format(review=combined_review)\n",
    "    topic_response = client.chat.completions.create(\n",
    "        model=chat_model_name,\n",
    "        messages=[\n",
    "            {\"role\": \"system\", \"content\": \"You are a helpful assistant for game review analysis.\"},\n",
    "            {\"role\": \"user\", \"content\": prompt_topic},\n",
    "        ],\n",
    "        max_tokens=1024,\n",
    "        response_format={\n",
    "            \"type\": \"json_object\"\n",
    "          }\n",
    "    )\n",
    "\n",
    "    # Track tokens used\n",
    "    prompt_tokens += topic_response.usage.prompt_tokens\n",
    "    completion_tokens += topic_response.usage.completion_tokens\n",
    "    logging.info(f\"Topic Extraction API call: Prompt tokens used: {topic_response.usage.prompt_tokens}, Completion tokens used: {topic_response.usage.completion_tokens}\")\n",
    "    \n",
    "    # Parse topics from JSON response\n",
    "    topics = json.loads(topic_response.choices[0].message.content)  # JSON parse the response content\n",
    "\n",
    "    # Initialize the \"topics\" key in the entry if it doesn't exist\n",
    "    entry[\"topics\"] = []\n",
    "\n",
    "    # Step 3: Sentiment Analysis on each extracted topic\n",
    "    for topic in topics[\"topics\"]:\n",
    "        topic_text = topic[\"Topic\"]\n",
    "        topic_context = topic[\"Context\"]\n",
    "        topic_category = topic[\"Category\"]  # Preserve \"fact\" or \"request\"\n",
    "\n",
    "        prompt_sentiment = prompt_template_topic_view.format(review=topic_context, topic=topic_text)\n",
    "        sentiment_response = client.chat.completions.create(\n",
    "            model=chat_model_name,\n",
    "            messages=[\n",
    "                {\"role\": \"system\", \"content\": \"You are a helpful assistant expertised in sentiment analysis.\"},\n",
    "                {\"role\": \"user\", \"content\": prompt_sentiment},\n",
    "            ],\n",
    "            max_tokens=1024\n",
    "        )\n",
    "        \n",
    "        # Track tokens used\n",
    "        prompt_tokens += sentiment_response.usage.prompt_tokens\n",
    "        completion_tokens += sentiment_response.usage.completion_tokens\n",
    "        logging.info(f\"Sentiment Analysis API call for topic '{topic_text}': Prompt tokens used: {sentiment_response.usage.prompt_tokens}, Completion tokens used: {sentiment_response.usage.completion_tokens}\")\n",
    "\n",
    "        sentiment = sentiment_response.choices[0].message.content.strip()\n",
    "        \n",
    "        # Append the topic information with sentiment and category to the \"topics\" list\n",
    "        entry[\"topics\"].append({\n",
    "            \"topic\": topic_text,\n",
    "            \"sentiment\": sentiment,\n",
    "            \"category\": topic_category,\n",
    "            \"sentence\": topic_context\n",
    "        })\n",
    "        \n",
    "    logging.info(f\"Completed processing entry ID: {entry['ID']}\")\n",
    "    \n",
    "    # Increment the ID counter for the next entry\n",
    "    id_counter += 1\n",
    "\n",
    "# Save the final JSON with topics and sentiments\n",
    "with open(output_file_path, 'w', encoding='utf-8') as json_file:\n",
    "    json.dump(db, json_file, indent=4, ensure_ascii=False)\n",
    "\n",
    "# Print or log the total tokens used\n",
    "logging.info(f\"Total prompt tokens used: {prompt_tokens}\")\n",
    "logging.info(f\"Total completion tokens used: {completion_tokens}\")\n",
    "logging.info(f\"Processed data with topics, sentiments, language info, and IDs saved to {output_file_path}\")\n"
   ],
   "id": "7f1c377a6d4726b5",
   "outputs": [
    {
     "name": "stderr",
     "output_type": "stream",
     "text": [
      "2024-11-12 16:03:49,792 - INFO - Processing entry ID: 1\n",
      "2024-11-12 16:03:52,633 - INFO - HTTP Request: POST https://api.openai.com/v1/chat/completions \"HTTP/1.1 200 OK\"\n",
      "2024-11-12 16:03:52,636 - INFO - Translation API call: Prompt tokens used: 398, Completion tokens used: 137\n",
      "2024-11-12 16:04:01,988 - INFO - HTTP Request: POST https://api.openai.com/v1/chat/completions \"HTTP/1.1 200 OK\"\n",
      "2024-11-12 16:04:01,990 - INFO - Topic Extraction API call: Prompt tokens used: 582, Completion tokens used: 247\n",
      "2024-11-12 16:04:02,404 - INFO - HTTP Request: POST https://api.openai.com/v1/chat/completions \"HTTP/1.1 200 OK\"\n",
      "2024-11-12 16:04:02,407 - INFO - Sentiment Analysis API call for topic 'Survival Mechanics': Prompt tokens used: 157, Completion tokens used: 1\n",
      "2024-11-12 16:04:02,754 - INFO - HTTP Request: POST https://api.openai.com/v1/chat/completions \"HTTP/1.1 200 OK\"\n",
      "2024-11-12 16:04:02,756 - INFO - Sentiment Analysis API call for topic 'Gameplay Expectations': Prompt tokens used: 159, Completion tokens used: 1\n",
      "2024-11-12 16:04:03,109 - INFO - HTTP Request: POST https://api.openai.com/v1/chat/completions \"HTTP/1.1 200 OK\"\n",
      "2024-11-12 16:04:03,114 - INFO - Sentiment Analysis API call for topic 'Resource Management': Prompt tokens used: 160, Completion tokens used: 1\n",
      "2024-11-12 16:04:03,516 - INFO - HTTP Request: POST https://api.openai.com/v1/chat/completions \"HTTP/1.1 200 OK\"\n",
      "2024-11-12 16:04:03,519 - INFO - Sentiment Analysis API call for topic 'Zombies': Prompt tokens used: 152, Completion tokens used: 1\n",
      "2024-11-12 16:04:03,882 - INFO - HTTP Request: POST https://api.openai.com/v1/chat/completions \"HTTP/1.1 200 OK\"\n",
      "2024-11-12 16:04:03,883 - INFO - Sentiment Analysis API call for topic 'Game Difficulty': Prompt tokens used: 154, Completion tokens used: 1\n",
      "2024-11-12 16:04:04,250 - INFO - HTTP Request: POST https://api.openai.com/v1/chat/completions \"HTTP/1.1 200 OK\"\n",
      "2024-11-12 16:04:04,253 - INFO - Sentiment Analysis API call for topic 'Game Removal': Prompt tokens used: 150, Completion tokens used: 1\n",
      "2024-11-12 16:04:04,254 - INFO - Completed processing entry ID: 1\n",
      "2024-11-12 16:04:04,255 - INFO - Processing entry ID: 2\n",
      "2024-11-12 16:04:04,815 - INFO - HTTP Request: POST https://api.openai.com/v1/chat/completions \"HTTP/1.1 200 OK\"\n",
      "2024-11-12 16:04:04,817 - INFO - Translation API call: Prompt tokens used: 273, Completion tokens used: 2\n",
      "2024-11-12 16:04:09,752 - INFO - HTTP Request: POST https://api.openai.com/v1/chat/completions \"HTTP/1.1 200 OK\"\n",
      "2024-11-12 16:04:09,755 - INFO - Topic Extraction API call: Prompt tokens used: 495, Completion tokens used: 141\n",
      "2024-11-12 16:04:10,162 - INFO - HTTP Request: POST https://api.openai.com/v1/chat/completions \"HTTP/1.1 200 OK\"\n",
      "2024-11-12 16:04:10,164 - INFO - Sentiment Analysis API call for topic 'Gameplay': Prompt tokens used: 144, Completion tokens used: 1\n",
      "2024-11-12 16:04:11,324 - INFO - HTTP Request: POST https://api.openai.com/v1/chat/completions \"HTTP/1.1 200 OK\"\n",
      "2024-11-12 16:04:11,328 - INFO - Sentiment Analysis API call for topic 'Inventory System': Prompt tokens used: 146, Completion tokens used: 1\n",
      "2024-11-12 16:04:12,334 - INFO - HTTP Request: POST https://api.openai.com/v1/chat/completions \"HTTP/1.1 200 OK\"\n",
      "2024-11-12 16:04:12,336 - INFO - Sentiment Analysis API call for topic 'Tactical Decision Making': Prompt tokens used: 145, Completion tokens used: 3\n",
      "2024-11-12 16:04:12,966 - INFO - HTTP Request: POST https://api.openai.com/v1/chat/completions \"HTTP/1.1 200 OK\"\n",
      "2024-11-12 16:04:12,969 - INFO - Sentiment Analysis API call for topic 'Distractions': Prompt tokens used: 159, Completion tokens used: 3\n",
      "2024-11-12 16:04:12,970 - INFO - Completed processing entry ID: 2\n",
      "2024-11-12 16:04:12,970 - INFO - Processing entry ID: 3\n",
      "2024-11-12 16:04:14,949 - INFO - HTTP Request: POST https://api.openai.com/v1/chat/completions \"HTTP/1.1 200 OK\"\n",
      "2024-11-12 16:04:14,951 - INFO - Translation API call: Prompt tokens used: 306, Completion tokens used: 88\n",
      "2024-11-12 16:04:18,387 - INFO - HTTP Request: POST https://api.openai.com/v1/chat/completions \"HTTP/1.1 200 OK\"\n",
      "2024-11-12 16:04:18,389 - INFO - Topic Extraction API call: Prompt tokens used: 533, Completion tokens used: 142\n",
      "2024-11-12 16:04:18,891 - INFO - HTTP Request: POST https://api.openai.com/v1/chat/completions \"HTTP/1.1 200 OK\"\n",
      "2024-11-12 16:04:18,893 - INFO - Sentiment Analysis API call for topic 'Resource Reloading': Prompt tokens used: 167, Completion tokens used: 3\n",
      "2024-11-12 16:04:19,456 - INFO - HTTP Request: POST https://api.openai.com/v1/chat/completions \"HTTP/1.1 200 OK\"\n",
      "2024-11-12 16:04:19,459 - INFO - Sentiment Analysis API call for topic 'Themed Zombies': Prompt tokens used: 157, Completion tokens used: 1\n",
      "2024-11-12 16:04:19,993 - INFO - HTTP Request: POST https://api.openai.com/v1/chat/completions \"HTTP/1.1 200 OK\"\n",
      "2024-11-12 16:04:19,995 - INFO - Sentiment Analysis API call for topic 'Silencers': Prompt tokens used: 157, Completion tokens used: 3\n",
      "2024-11-12 16:04:19,996 - INFO - Completed processing entry ID: 3\n",
      "2024-11-12 16:04:19,997 - INFO - Processing entry ID: 4\n",
      "2024-11-12 16:04:20,455 - INFO - HTTP Request: POST https://api.openai.com/v1/chat/completions \"HTTP/1.1 200 OK\"\n",
      "2024-11-12 16:04:20,457 - INFO - Translation API call: Prompt tokens used: 618, Completion tokens used: 2\n",
      "2024-11-12 16:04:28,910 - INFO - HTTP Request: POST https://api.openai.com/v1/chat/completions \"HTTP/1.1 200 OK\"\n",
      "2024-11-12 16:04:28,912 - INFO - Topic Extraction API call: Prompt tokens used: 840, Completion tokens used: 386\n",
      "2024-11-12 16:04:29,795 - INFO - HTTP Request: POST https://api.openai.com/v1/chat/completions \"HTTP/1.1 200 OK\"\n",
      "2024-11-12 16:04:29,797 - INFO - Sentiment Analysis API call for topic 'Game Genre': Prompt tokens used: 160, Completion tokens used: 3\n",
      "2024-11-12 16:04:30,688 - INFO - HTTP Request: POST https://api.openai.com/v1/chat/completions \"HTTP/1.1 200 OK\"\n",
      "2024-11-12 16:04:30,688 - INFO - Sentiment Analysis API call for topic 'Character Customization': Prompt tokens used: 163, Completion tokens used: 3\n",
      "2024-11-12 16:04:31,258 - INFO - HTTP Request: POST https://api.openai.com/v1/chat/completions \"HTTP/1.1 200 OK\"\n",
      "2024-11-12 16:04:31,260 - INFO - Sentiment Analysis API call for topic 'Character Missions': Prompt tokens used: 154, Completion tokens used: 3\n",
      "2024-11-12 16:04:31,684 - INFO - HTTP Request: POST https://api.openai.com/v1/chat/completions \"HTTP/1.1 200 OK\"\n",
      "2024-11-12 16:04:31,687 - INFO - Sentiment Analysis API call for topic 'Noise Mechanics': Prompt tokens used: 154, Completion tokens used: 3\n",
      "2024-11-12 16:04:32,155 - INFO - HTTP Request: POST https://api.openai.com/v1/chat/completions \"HTTP/1.1 200 OK\"\n",
      "2024-11-12 16:04:32,157 - INFO - Sentiment Analysis API call for topic 'World-building': Prompt tokens used: 159, Completion tokens used: 3\n",
      "2024-11-12 16:04:32,634 - INFO - HTTP Request: POST https://api.openai.com/v1/chat/completions \"HTTP/1.1 200 OK\"\n",
      "2024-11-12 16:04:32,636 - INFO - Sentiment Analysis API call for topic 'Zombie Placement': Prompt tokens used: 158, Completion tokens used: 3\n",
      "2024-11-12 16:04:33,069 - INFO - HTTP Request: POST https://api.openai.com/v1/chat/completions \"HTTP/1.1 200 OK\"\n",
      "2024-11-12 16:04:33,070 - INFO - Sentiment Analysis API call for topic 'Character Diversity': Prompt tokens used: 158, Completion tokens used: 1\n",
      "2024-11-12 16:04:33,848 - INFO - HTTP Request: POST https://api.openai.com/v1/chat/completions \"HTTP/1.1 200 OK\"\n",
      "2024-11-12 16:04:33,851 - INFO - Sentiment Analysis API call for topic 'Audio Delay': Prompt tokens used: 157, Completion tokens used: 1\n",
      "2024-11-12 16:04:34,239 - INFO - HTTP Request: POST https://api.openai.com/v1/chat/completions \"HTTP/1.1 200 OK\"\n",
      "2024-11-12 16:04:34,243 - INFO - Sentiment Analysis API call for topic 'Game Replayability': Prompt tokens used: 158, Completion tokens used: 3\n",
      "2024-11-12 16:04:34,245 - INFO - Completed processing entry ID: 4\n",
      "2024-11-12 16:04:34,246 - INFO - Processing entry ID: 5\n",
      "2024-11-12 16:04:34,713 - INFO - HTTP Request: POST https://api.openai.com/v1/chat/completions \"HTTP/1.1 200 OK\"\n",
      "2024-11-12 16:04:34,715 - INFO - Translation API call: Prompt tokens used: 346, Completion tokens used: 2\n",
      "2024-11-12 16:04:40,644 - INFO - HTTP Request: POST https://api.openai.com/v1/chat/completions \"HTTP/1.1 200 OK\"\n",
      "2024-11-12 16:04:40,648 - INFO - Topic Extraction API call: Prompt tokens used: 569, Completion tokens used: 186\n",
      "2024-11-12 16:04:41,034 - INFO - HTTP Request: POST https://api.openai.com/v1/chat/completions \"HTTP/1.1 200 OK\"\n",
      "2024-11-12 16:04:41,036 - INFO - Sentiment Analysis API call for topic 'Diversity and Inclusion (DEI)': Prompt tokens used: 160, Completion tokens used: 1\n",
      "2024-11-12 16:04:41,477 - INFO - HTTP Request: POST https://api.openai.com/v1/chat/completions \"HTTP/1.1 200 OK\"\n",
      "2024-11-12 16:04:41,480 - INFO - Sentiment Analysis API call for topic 'Hunger Meter': Prompt tokens used: 150, Completion tokens used: 1\n",
      "2024-11-12 16:04:42,443 - INFO - HTTP Request: POST https://api.openai.com/v1/chat/completions \"HTTP/1.1 200 OK\"\n",
      "2024-11-12 16:04:42,446 - INFO - Sentiment Analysis API call for topic 'Weapon Wear Indicator': Prompt tokens used: 149, Completion tokens used: 1\n",
      "2024-11-12 16:04:43,287 - INFO - HTTP Request: POST https://api.openai.com/v1/chat/completions \"HTTP/1.1 200 OK\"\n",
      "2024-11-12 16:04:43,290 - INFO - Sentiment Analysis API call for topic 'Character Balance': Prompt tokens used: 145, Completion tokens used: 1\n",
      "2024-11-12 16:04:43,776 - INFO - HTTP Request: POST https://api.openai.com/v1/chat/completions \"HTTP/1.1 200 OK\"\n",
      "2024-11-12 16:04:43,778 - INFO - Sentiment Analysis API call for topic 'Loot Visibility': Prompt tokens used: 151, Completion tokens used: 3\n",
      "2024-11-12 16:04:43,779 - INFO - Completed processing entry ID: 5\n",
      "2024-11-12 16:04:43,779 - INFO - Processing entry ID: 6\n",
      "2024-11-12 16:04:44,161 - INFO - HTTP Request: POST https://api.openai.com/v1/chat/completions \"HTTP/1.1 200 OK\"\n",
      "2024-11-12 16:04:44,163 - INFO - Translation API call: Prompt tokens used: 287, Completion tokens used: 2\n",
      "2024-11-12 16:04:47,511 - INFO - HTTP Request: POST https://api.openai.com/v1/chat/completions \"HTTP/1.1 200 OK\"\n",
      "2024-11-12 16:04:47,514 - INFO - Topic Extraction API call: Prompt tokens used: 510, Completion tokens used: 124\n",
      "2024-11-12 16:04:47,915 - INFO - HTTP Request: POST https://api.openai.com/v1/chat/completions \"HTTP/1.1 200 OK\"\n",
      "2024-11-12 16:04:47,917 - INFO - Sentiment Analysis API call for topic 'Character Variety': Prompt tokens used: 151, Completion tokens used: 1\n",
      "2024-11-12 16:04:48,372 - INFO - HTTP Request: POST https://api.openai.com/v1/chat/completions \"HTTP/1.1 200 OK\"\n",
      "2024-11-12 16:04:48,375 - INFO - Sentiment Analysis API call for topic 'Game Development': Prompt tokens used: 155, Completion tokens used: 1\n",
      "2024-11-12 16:04:48,902 - INFO - HTTP Request: POST https://api.openai.com/v1/chat/completions \"HTTP/1.1 200 OK\"\n",
      "2024-11-12 16:04:48,904 - INFO - Sentiment Analysis API call for topic 'Lag Issues': Prompt tokens used: 157, Completion tokens used: 3\n",
      "2024-11-12 16:04:48,905 - INFO - Completed processing entry ID: 6\n",
      "2024-11-12 16:04:48,906 - INFO - Processing entry ID: 7\n",
      "2024-11-12 16:04:49,358 - INFO - HTTP Request: POST https://api.openai.com/v1/chat/completions \"HTTP/1.1 200 OK\"\n",
      "2024-11-12 16:04:49,361 - INFO - Translation API call: Prompt tokens used: 333, Completion tokens used: 2\n",
      "2024-11-12 16:04:52,785 - INFO - HTTP Request: POST https://api.openai.com/v1/chat/completions \"HTTP/1.1 200 OK\"\n",
      "2024-11-12 16:04:52,787 - INFO - Topic Extraction API call: Prompt tokens used: 556, Completion tokens used: 123\n",
      "2024-11-12 16:04:53,405 - INFO - HTTP Request: POST https://api.openai.com/v1/chat/completions \"HTTP/1.1 200 OK\"\n",
      "2024-11-12 16:04:53,408 - INFO - Sentiment Analysis API call for topic 'Art Style': Prompt tokens used: 147, Completion tokens used: 1\n",
      "2024-11-12 16:04:54,058 - INFO - HTTP Request: POST https://api.openai.com/v1/chat/completions \"HTTP/1.1 200 OK\"\n",
      "2024-11-12 16:04:54,061 - INFO - Sentiment Analysis API call for topic 'Base Management': Prompt tokens used: 158, Completion tokens used: 3\n",
      "2024-11-12 16:04:54,537 - INFO - HTTP Request: POST https://api.openai.com/v1/chat/completions \"HTTP/1.1 200 OK\"\n",
      "2024-11-12 16:04:54,540 - INFO - Sentiment Analysis API call for topic 'Combat': Prompt tokens used: 157, Completion tokens used: 1\n",
      "2024-11-12 16:04:54,541 - INFO - Completed processing entry ID: 7\n",
      "2024-11-12 16:04:54,542 - INFO - Processing entry ID: 8\n",
      "2024-11-12 16:04:55,130 - INFO - HTTP Request: POST https://api.openai.com/v1/chat/completions \"HTTP/1.1 200 OK\"\n",
      "2024-11-12 16:04:55,132 - INFO - Translation API call: Prompt tokens used: 281, Completion tokens used: 2\n",
      "2024-11-12 16:04:58,462 - INFO - HTTP Request: POST https://api.openai.com/v1/chat/completions \"HTTP/1.1 200 OK\"\n",
      "2024-11-12 16:04:58,465 - INFO - Topic Extraction API call: Prompt tokens used: 503, Completion tokens used: 126\n",
      "2024-11-12 16:04:59,018 - INFO - HTTP Request: POST https://api.openai.com/v1/chat/completions \"HTTP/1.1 200 OK\"\n",
      "2024-11-12 16:04:59,020 - INFO - Sentiment Analysis API call for topic 'Multiplayer': Prompt tokens used: 161, Completion tokens used: 3\n",
      "2024-11-12 16:04:59,641 - INFO - HTTP Request: POST https://api.openai.com/v1/chat/completions \"HTTP/1.1 200 OK\"\n",
      "2024-11-12 16:04:59,643 - INFO - Sentiment Analysis API call for topic 'Player Death Mechanics': Prompt tokens used: 156, Completion tokens used: 1\n",
      "2024-11-12 16:05:00,044 - INFO - HTTP Request: POST https://api.openai.com/v1/chat/completions \"HTTP/1.1 200 OK\"\n",
      "2024-11-12 16:05:00,045 - INFO - Sentiment Analysis API call for topic 'Game Enjoyment': Prompt tokens used: 146, Completion tokens used: 1\n",
      "2024-11-12 16:05:00,046 - INFO - Completed processing entry ID: 8\n",
      "2024-11-12 16:05:00,048 - INFO - Processing entry ID: 9\n",
      "2024-11-12 16:05:06,039 - INFO - HTTP Request: POST https://api.openai.com/v1/chat/completions \"HTTP/1.1 200 OK\"\n",
      "2024-11-12 16:05:06,042 - INFO - Translation API call: Prompt tokens used: 586, Completion tokens used: 377\n",
      "2024-11-12 16:05:10,115 - INFO - HTTP Request: POST https://api.openai.com/v1/chat/completions \"HTTP/1.1 200 OK\"\n",
      "2024-11-12 16:05:10,117 - INFO - Topic Extraction API call: Prompt tokens used: 822, Completion tokens used: 181\n",
      "2024-11-12 16:05:10,616 - INFO - HTTP Request: POST https://api.openai.com/v1/chat/completions \"HTTP/1.1 200 OK\"\n",
      "2024-11-12 16:05:10,618 - INFO - Sentiment Analysis API call for topic 'Weapon Durability': Prompt tokens used: 162, Completion tokens used: 1\n",
      "2024-11-12 16:05:11,013 - INFO - HTTP Request: POST https://api.openai.com/v1/chat/completions \"HTTP/1.1 200 OK\"\n",
      "2024-11-12 16:05:11,015 - INFO - Sentiment Analysis API call for topic 'Phase System': Prompt tokens used: 155, Completion tokens used: 1\n",
      "2024-11-12 16:05:11,491 - INFO - HTTP Request: POST https://api.openai.com/v1/chat/completions \"HTTP/1.1 200 OK\"\n",
      "2024-11-12 16:05:11,494 - INFO - Sentiment Analysis API call for topic 'Game Concept': Prompt tokens used: 164, Completion tokens used: 1\n",
      "2024-11-12 16:05:11,864 - INFO - HTTP Request: POST https://api.openai.com/v1/chat/completions \"HTTP/1.1 200 OK\"\n",
      "2024-11-12 16:05:11,866 - INFO - Sentiment Analysis API call for topic 'Crafting': Prompt tokens used: 155, Completion tokens used: 1\n",
      "2024-11-12 16:05:11,867 - INFO - Completed processing entry ID: 9\n",
      "2024-11-12 16:05:11,867 - INFO - Processing entry ID: 10\n",
      "2024-11-12 16:05:12,651 - INFO - HTTP Request: POST https://api.openai.com/v1/chat/completions \"HTTP/1.1 200 OK\"\n",
      "2024-11-12 16:05:12,652 - INFO - Translation API call: Prompt tokens used: 255, Completion tokens used: 34\n",
      "2024-11-12 16:05:14,766 - INFO - HTTP Request: POST https://api.openai.com/v1/chat/completions \"HTTP/1.1 200 OK\"\n",
      "2024-11-12 16:05:14,768 - INFO - Topic Extraction API call: Prompt tokens used: 479, Completion tokens used: 102\n",
      "2024-11-12 16:05:15,175 - INFO - HTTP Request: POST https://api.openai.com/v1/chat/completions \"HTTP/1.1 200 OK\"\n",
      "2024-11-12 16:05:15,176 - INFO - Sentiment Analysis API call for topic 'Similar Games': Prompt tokens used: 152, Completion tokens used: 3\n",
      "2024-11-12 16:05:15,612 - INFO - HTTP Request: POST https://api.openai.com/v1/chat/completions \"HTTP/1.1 200 OK\"\n",
      "2024-11-12 16:05:15,614 - INFO - Sentiment Analysis API call for topic 'Weapon Durability': Prompt tokens used: 145, Completion tokens used: 1\n",
      "2024-11-12 16:05:16,084 - INFO - HTTP Request: POST https://api.openai.com/v1/chat/completions \"HTTP/1.1 200 OK\"\n",
      "2024-11-12 16:05:16,087 - INFO - Sentiment Analysis API call for topic 'Zombie Detection': Prompt tokens used: 144, Completion tokens used: 1\n",
      "2024-11-12 16:05:16,089 - INFO - Completed processing entry ID: 10\n",
      "2024-11-12 16:05:16,090 - INFO - Processing entry ID: 11\n",
      "2024-11-12 16:05:17,891 - INFO - HTTP Request: POST https://api.openai.com/v1/chat/completions \"HTTP/1.1 200 OK\"\n",
      "2024-11-12 16:05:17,893 - INFO - Translation API call: Prompt tokens used: 317, Completion tokens used: 99\n",
      "2024-11-12 16:05:22,244 - INFO - HTTP Request: POST https://api.openai.com/v1/chat/completions \"HTTP/1.1 200 OK\"\n",
      "2024-11-12 16:05:22,246 - INFO - Topic Extraction API call: Prompt tokens used: 544, Completion tokens used: 199\n",
      "2024-11-12 16:05:22,991 - INFO - HTTP Request: POST https://api.openai.com/v1/chat/completions \"HTTP/1.1 200 OK\"\n",
      "2024-11-12 16:05:22,994 - INFO - Sentiment Analysis API call for topic 'Stairs': Prompt tokens used: 154, Completion tokens used: 1\n",
      "2024-11-12 16:05:23,398 - INFO - HTTP Request: POST https://api.openai.com/v1/chat/completions \"HTTP/1.1 200 OK\"\n",
      "2024-11-12 16:05:23,403 - INFO - Sentiment Analysis API call for topic 'Movements': Prompt tokens used: 147, Completion tokens used: 1\n",
      "2024-11-12 16:05:23,913 - INFO - HTTP Request: POST https://api.openai.com/v1/chat/completions \"HTTP/1.1 200 OK\"\n",
      "2024-11-12 16:05:23,913 - INFO - Sentiment Analysis API call for topic 'Zombies': Prompt tokens used: 151, Completion tokens used: 1\n",
      "2024-11-12 16:05:24,334 - INFO - HTTP Request: POST https://api.openai.com/v1/chat/completions \"HTTP/1.1 200 OK\"\n",
      "2024-11-12 16:05:24,338 - INFO - Sentiment Analysis API call for topic 'Crafting Materials': Prompt tokens used: 154, Completion tokens used: 1\n",
      "2024-11-12 16:05:24,820 - INFO - HTTP Request: POST https://api.openai.com/v1/chat/completions \"HTTP/1.1 200 OK\"\n",
      "2024-11-12 16:05:24,823 - INFO - Sentiment Analysis API call for topic 'Modding': Prompt tokens used: 163, Completion tokens used: 1\n",
      "2024-11-12 16:05:24,824 - INFO - Completed processing entry ID: 11\n",
      "2024-11-12 16:05:24,825 - INFO - Processing entry ID: 12\n",
      "2024-11-12 16:05:26,449 - INFO - HTTP Request: POST https://api.openai.com/v1/chat/completions \"HTTP/1.1 200 OK\"\n",
      "2024-11-12 16:05:26,451 - INFO - Translation API call: Prompt tokens used: 304, Completion tokens used: 88\n",
      "2024-11-12 16:05:29,940 - INFO - HTTP Request: POST https://api.openai.com/v1/chat/completions \"HTTP/1.1 200 OK\"\n",
      "2024-11-12 16:05:29,943 - INFO - Topic Extraction API call: Prompt tokens used: 533, Completion tokens used: 179\n",
      "2024-11-12 16:05:30,475 - INFO - HTTP Request: POST https://api.openai.com/v1/chat/completions \"HTTP/1.1 200 OK\"\n",
      "2024-11-12 16:05:30,477 - INFO - Sentiment Analysis API call for topic 'Weapon Balance': Prompt tokens used: 157, Completion tokens used: 1\n",
      "2024-11-12 16:05:30,851 - INFO - HTTP Request: POST https://api.openai.com/v1/chat/completions \"HTTP/1.1 200 OK\"\n",
      "2024-11-12 16:05:30,853 - INFO - Sentiment Analysis API call for topic 'Durability': Prompt tokens used: 153, Completion tokens used: 1\n",
      "2024-11-12 16:05:31,286 - INFO - HTTP Request: POST https://api.openai.com/v1/chat/completions \"HTTP/1.1 200 OK\"\n",
      "2024-11-12 16:05:31,288 - INFO - Sentiment Analysis API call for topic 'Character Management': Prompt tokens used: 159, Completion tokens used: 1\n",
      "2024-11-12 16:05:31,924 - INFO - HTTP Request: POST https://api.openai.com/v1/chat/completions \"HTTP/1.1 200 OK\"\n",
      "2024-11-12 16:05:31,927 - INFO - Sentiment Analysis API call for topic 'Safe House Limitations': Prompt tokens used: 165, Completion tokens used: 1\n",
      "2024-11-12 16:05:31,928 - INFO - Completed processing entry ID: 12\n",
      "2024-11-12 16:05:31,929 - INFO - Processing entry ID: 13\n",
      "2024-11-12 16:05:32,559 - INFO - HTTP Request: POST https://api.openai.com/v1/chat/completions \"HTTP/1.1 200 OK\"\n",
      "2024-11-12 16:05:32,562 - INFO - Translation API call: Prompt tokens used: 243, Completion tokens used: 24\n",
      "2024-11-12 16:05:33,993 - INFO - HTTP Request: POST https://api.openai.com/v1/chat/completions \"HTTP/1.1 200 OK\"\n",
      "2024-11-12 16:05:33,995 - INFO - Topic Extraction API call: Prompt tokens used: 469, Completion tokens used: 75\n",
      "2024-11-12 16:05:35,498 - INFO - HTTP Request: POST https://api.openai.com/v1/chat/completions \"HTTP/1.1 200 OK\"\n",
      "2024-11-12 16:05:35,500 - INFO - Sentiment Analysis API call for topic 'Fun Factor': Prompt tokens used: 149, Completion tokens used: 1\n",
      "2024-11-12 16:05:36,332 - INFO - HTTP Request: POST https://api.openai.com/v1/chat/completions \"HTTP/1.1 200 OK\"\n",
      "2024-11-12 16:05:36,335 - INFO - Sentiment Analysis API call for topic 'Zombies': Prompt tokens used: 147, Completion tokens used: 3\n",
      "2024-11-12 16:05:36,335 - INFO - Completed processing entry ID: 13\n",
      "2024-11-12 16:05:36,336 - INFO - Processing entry ID: 14\n",
      "2024-11-12 16:05:36,701 - INFO - HTTP Request: POST https://api.openai.com/v1/chat/completions \"HTTP/1.1 200 OK\"\n",
      "2024-11-12 16:05:36,703 - INFO - Translation API call: Prompt tokens used: 438, Completion tokens used: 2\n",
      "2024-11-12 16:05:40,788 - INFO - HTTP Request: POST https://api.openai.com/v1/chat/completions \"HTTP/1.1 200 OK\"\n",
      "2024-11-12 16:05:40,790 - INFO - Topic Extraction API call: Prompt tokens used: 660, Completion tokens used: 264\n",
      "2024-11-12 16:05:41,241 - INFO - HTTP Request: POST https://api.openai.com/v1/chat/completions \"HTTP/1.1 200 OK\"\n",
      "2024-11-12 16:05:41,244 - INFO - Sentiment Analysis API call for topic 'Item Creation Explanation': Prompt tokens used: 155, Completion tokens used: 1\n",
      "2024-11-12 16:05:41,663 - INFO - HTTP Request: POST https://api.openai.com/v1/chat/completions \"HTTP/1.1 200 OK\"\n",
      "2024-11-12 16:05:41,665 - INFO - Sentiment Analysis API call for topic 'Disappointment Animation': Prompt tokens used: 161, Completion tokens used: 3\n",
      "2024-11-12 16:05:42,134 - INFO - HTTP Request: POST https://api.openai.com/v1/chat/completions \"HTTP/1.1 200 OK\"\n",
      "2024-11-12 16:05:42,136 - INFO - Sentiment Analysis API call for topic 'Dodge Mechanic': Prompt tokens used: 154, Completion tokens used: 3\n",
      "2024-11-12 16:05:42,552 - INFO - HTTP Request: POST https://api.openai.com/v1/chat/completions \"HTTP/1.1 200 OK\"\n",
      "2024-11-12 16:05:42,553 - INFO - Sentiment Analysis API call for topic 'Emotional Dialogue': Prompt tokens used: 150, Completion tokens used: 1\n",
      "2024-11-12 16:05:42,919 - INFO - HTTP Request: POST https://api.openai.com/v1/chat/completions \"HTTP/1.1 200 OK\"\n",
      "2024-11-12 16:05:42,922 - INFO - Sentiment Analysis API call for topic 'Game Polishing': Prompt tokens used: 151, Completion tokens used: 1\n",
      "2024-11-12 16:05:43,368 - INFO - HTTP Request: POST https://api.openai.com/v1/chat/completions \"HTTP/1.1 200 OK\"\n",
      "2024-11-12 16:05:43,369 - INFO - Sentiment Analysis API call for topic 'Bugs': Prompt tokens used: 143, Completion tokens used: 1\n",
      "2024-11-12 16:05:43,758 - INFO - HTTP Request: POST https://api.openai.com/v1/chat/completions \"HTTP/1.1 200 OK\"\n",
      "2024-11-12 16:05:43,760 - INFO - Sentiment Analysis API call for topic 'Game Spectacularity': Prompt tokens used: 150, Completion tokens used: 1\n",
      "2024-11-12 16:05:43,761 - INFO - Completed processing entry ID: 14\n",
      "2024-11-12 16:05:43,762 - INFO - Processing entry ID: 15\n",
      "2024-11-12 16:05:44,950 - INFO - HTTP Request: POST https://api.openai.com/v1/chat/completions \"HTTP/1.1 200 OK\"\n",
      "2024-11-12 16:05:44,952 - INFO - Translation API call: Prompt tokens used: 264, Completion tokens used: 38\n",
      "2024-11-12 16:05:46,232 - INFO - HTTP Request: POST https://api.openai.com/v1/chat/completions \"HTTP/1.1 200 OK\"\n",
      "2024-11-12 16:05:46,235 - INFO - Topic Extraction API call: Prompt tokens used: 483, Completion tokens used: 72\n",
      "2024-11-12 16:05:46,613 - INFO - HTTP Request: POST https://api.openai.com/v1/chat/completions \"HTTP/1.1 200 OK\"\n",
      "2024-11-12 16:05:46,616 - INFO - Sentiment Analysis API call for topic 'Graphics': Prompt tokens used: 149, Completion tokens used: 1\n",
      "2024-11-12 16:05:47,088 - INFO - HTTP Request: POST https://api.openai.com/v1/chat/completions \"HTTP/1.1 200 OK\"\n",
      "2024-11-12 16:05:47,092 - INFO - Sentiment Analysis API call for topic 'Language Support': Prompt tokens used: 146, Completion tokens used: 3\n",
      "2024-11-12 16:05:47,093 - INFO - Completed processing entry ID: 15\n",
      "2024-11-12 16:05:47,094 - INFO - Processing entry ID: 16\n",
      "2024-11-12 16:05:47,464 - INFO - HTTP Request: POST https://api.openai.com/v1/chat/completions \"HTTP/1.1 200 OK\"\n",
      "2024-11-12 16:05:47,465 - INFO - Translation API call: Prompt tokens used: 254, Completion tokens used: 2\n",
      "2024-11-12 16:05:49,265 - INFO - HTTP Request: POST https://api.openai.com/v1/chat/completions \"HTTP/1.1 200 OK\"\n",
      "2024-11-12 16:05:49,266 - INFO - Topic Extraction API call: Prompt tokens used: 475, Completion tokens used: 75\n",
      "2024-11-12 16:05:49,793 - INFO - HTTP Request: POST https://api.openai.com/v1/chat/completions \"HTTP/1.1 200 OK\"\n",
      "2024-11-12 16:05:49,795 - INFO - Sentiment Analysis API call for topic 'Weapon System': Prompt tokens used: 146, Completion tokens used: 1\n",
      "2024-11-12 16:05:50,172 - INFO - HTTP Request: POST https://api.openai.com/v1/chat/completions \"HTTP/1.1 200 OK\"\n",
      "2024-11-12 16:05:50,174 - INFO - Sentiment Analysis API call for topic 'Weapon Durability': Prompt tokens used: 151, Completion tokens used: 1\n",
      "2024-11-12 16:05:50,174 - INFO - Completed processing entry ID: 16\n",
      "2024-11-12 16:05:50,175 - INFO - Processing entry ID: 17\n",
      "2024-11-12 16:05:51,566 - INFO - HTTP Request: POST https://api.openai.com/v1/chat/completions \"HTTP/1.1 200 OK\"\n",
      "2024-11-12 16:05:51,568 - INFO - Translation API call: Prompt tokens used: 292, Completion tokens used: 74\n",
      "2024-11-12 16:05:54,760 - INFO - HTTP Request: POST https://api.openai.com/v1/chat/completions \"HTTP/1.1 200 OK\"\n",
      "2024-11-12 16:05:54,762 - INFO - Topic Extraction API call: Prompt tokens used: 519, Completion tokens used: 158\n",
      "2024-11-12 16:05:55,284 - INFO - HTTP Request: POST https://api.openai.com/v1/chat/completions \"HTTP/1.1 200 OK\"\n",
      "2024-11-12 16:05:55,287 - INFO - Sentiment Analysis API call for topic 'Atmosphere': Prompt tokens used: 152, Completion tokens used: 1\n",
      "2024-11-12 16:05:55,778 - INFO - HTTP Request: POST https://api.openai.com/v1/chat/completions \"HTTP/1.1 200 OK\"\n",
      "2024-11-12 16:05:55,781 - INFO - Sentiment Analysis API call for topic 'Subtitles': Prompt tokens used: 149, Completion tokens used: 1\n",
      "2024-11-12 16:05:56,300 - INFO - HTTP Request: POST https://api.openai.com/v1/chat/completions \"HTTP/1.1 200 OK\"\n",
      "2024-11-12 16:05:56,302 - INFO - Sentiment Analysis API call for topic 'Character Identification': Prompt tokens used: 167, Completion tokens used: 1\n",
      "2024-11-12 16:05:56,917 - INFO - HTTP Request: POST https://api.openai.com/v1/chat/completions \"HTTP/1.1 200 OK\"\n",
      "2024-11-12 16:05:56,920 - INFO - Sentiment Analysis API call for topic 'Visited Locations': Prompt tokens used: 146, Completion tokens used: 3\n",
      "2024-11-12 16:05:56,920 - INFO - Completed processing entry ID: 17\n",
      "2024-11-12 16:05:56,923 - INFO - Total prompt tokens used: 25984\n",
      "2024-11-12 16:05:56,924 - INFO - Total completion tokens used: 3866\n",
      "2024-11-12 16:05:56,924 - INFO - Processed data with topics, sentiments, language info, and IDs saved to C:\\Users\\fbohm\\Desktop\\Projects\\DataScience\\cluster_analysis/Data/survey_results_with_topics.json\n"
     ]
    }
   ],
   "execution_count": 30
  },
  {
   "metadata": {},
   "cell_type": "markdown",
   "source": "## Cost Calculation",
   "id": "7ee602390995dc7e"
  },
  {
   "metadata": {
    "ExecuteTime": {
     "end_time": "2024-11-12T03:06:04.938170Z",
     "start_time": "2024-11-12T03:06:04.932279Z"
    }
   },
   "cell_type": "code",
   "source": [
    "#Usage and pricing for GPT-3.5-turbo\n",
    "total_prompt_cost = (prompt_tokens / 1_000_000) * 0.15\n",
    "total_completion_cost = (completion_tokens / 1_000_000) * 0.6\n",
    "\n",
    "\n",
    "print(f\"Total prompt tokens used: {prompt_tokens}\")\n",
    "print(f\"Total completion tokens used: {completion_tokens}\")\n",
    "print(f\"Total prompt token cost: ${total_prompt_cost:.4f}\")\n",
    "print(f\"Total completion token cost: ${total_completion_cost:.4f}\")\n",
    "\n"
   ],
   "id": "8a7324029ec32127",
   "outputs": [
    {
     "name": "stdout",
     "output_type": "stream",
     "text": [
      "Total prompt tokens used: 25984\n",
      "Total completion tokens used: 3866\n",
      "Total prompt token cost: $0.0039\n",
      "Total completion token cost: $0.0023\n"
     ]
    }
   ],
   "execution_count": 31
  },
  {
   "metadata": {
    "ExecuteTime": {
     "end_time": "2024-11-12T03:06:38.908301Z",
     "start_time": "2024-11-12T03:06:38.902827Z"
    }
   },
   "cell_type": "code",
   "source": [
    "# Read in the JSON file with survey results\n",
    "with open(s_root + 'Data/survey_results_with_topics.json', 'r', encoding='utf-8') as f:\n",
    "    db = json.load(f)\n",
    "    "
   ],
   "id": "473706bede4fead2",
   "outputs": [],
   "execution_count": 32
  },
  {
   "metadata": {},
   "cell_type": "markdown",
   "source": [
    "## Embed the reviews\n",
    "### Only the topics of the reviews"
   ],
   "id": "ac0b5f9882f8b1fd"
  },
  {
   "metadata": {
    "ExecuteTime": {
     "end_time": "2024-11-12T03:06:45.006129Z",
     "start_time": "2024-11-12T03:06:42.188612Z"
    }
   },
   "cell_type": "code",
   "source": [
    "import torch\n",
    "print(\"CUDA available:\", torch.cuda.is_available())\n",
    "print(\"CUDA device count:\", torch.cuda.device_count())\n",
    "print(\"Current CUDA device:\", torch.cuda.current_device())\n",
    "print(\"CUDA device name:\", torch.cuda.get_device_name(torch.cuda.current_device()))\n"
   ],
   "id": "a5dbcf17bbde7f31",
   "outputs": [
    {
     "name": "stdout",
     "output_type": "stream",
     "text": [
      "CUDA available: True\n",
      "CUDA device count: 1\n",
      "Current CUDA device: 0\n",
      "CUDA device name: NVIDIA GeForce GTX 1650 with Max-Q Design\n"
     ]
    }
   ],
   "execution_count": 33
  },
  {
   "metadata": {
    "ExecuteTime": {
     "end_time": "2024-11-12T03:06:50.254319Z",
     "start_time": "2024-11-12T03:06:50.249436Z"
    }
   },
   "cell_type": "code",
   "source": [
    "def index_embedding(text, model_name=embedding_model_name):\n",
    "    text = text.encode(encoding='ASCII', errors='ignore').decode()\n",
    "    embed_model = LangchainEmbedding(\n",
    "        HuggingFaceEmbeddings(model_name=model_name)\n",
    "    )\n",
    "    vector = embed_model.get_text_embedding(text)\n",
    "    return vector\n"
   ],
   "id": "431d4a4249d79ea",
   "outputs": [],
   "execution_count": 34
  },
  {
   "metadata": {
    "ExecuteTime": {
     "end_time": "2024-11-12T03:10:27.160875Z",
     "start_time": "2024-11-12T03:06:53.132755Z"
    }
   },
   "cell_type": "code",
   "source": [
    "import gc\n",
    "\n",
    "batch_size = 10  # Adjust based on available memory and dataset size\n",
    "b_embedding = True\n",
    "\n",
    "if b_embedding:\n",
    "    with open(s_root + s_db_json, 'r', encoding='utf-8') as f:\n",
    "        d_review_output = json.load(f)\n",
    "        print('Loaded JSON data')\n",
    "\n",
    "    for batch_start in range(0, len(d_review_output), batch_size):\n",
    "        batch_end = min(batch_start + batch_size, len(d_review_output))\n",
    "        batch = d_review_output[batch_start:batch_end]\n",
    "        \n",
    "        for i, review_entry in enumerate(batch):\n",
    "            print(f\"Processing Review {i + batch_start + 1}\")\n",
    "            \n",
    "            if isinstance(review_entry, dict) and 'topics' in review_entry and isinstance(review_entry['topics'], list):\n",
    "                d_topics = review_entry['topics']\n",
    "                \n",
    "                for d_topic in d_topics:\n",
    "                    if isinstance(d_topic, dict):\n",
    "                        if 'embedding' not in d_topic or b_override:\n",
    "                            if 'topic' in d_topic:\n",
    "                                d_topic['embedding'] = index_embedding(d_topic['topic'])\n",
    "                                \n",
    "                                # Release memory\n",
    "                                torch.cuda.empty_cache()\n",
    "                                gc.collect()\n",
    "                            else:\n",
    "                                d_topic['embedding'] = 0\n",
    "                print('.', end='')\n",
    "        print(f\"\\nBatch {batch_start // batch_size + 1} processed.\")\n",
    "\n",
    "    # Save updated JSON with embeddings\n",
    "    with open(s_root + s_db_embed_json, 'w', encoding='utf-8') as f:\n",
    "        json.dump(d_review_output, f)\n",
    "    print(\"Embeddings saved.\")\n"
   ],
   "id": "22e454d4d960fe1e",
   "outputs": [
    {
     "name": "stdout",
     "output_type": "stream",
     "text": [
      "Loaded JSON data\n",
      "Processing Review 1\n"
     ]
    },
    {
     "name": "stderr",
     "output_type": "stream",
     "text": [
      "C:\\Users\\fbohm\\AppData\\Local\\Temp\\ipykernel_18296\\743207692.py:4: LangChainDeprecationWarning: The class `HuggingFaceEmbeddings` was deprecated in LangChain 0.2.2 and will be removed in 1.0. An updated version of the class exists in the langchain-huggingface package and should be used instead. To use it run `pip install -U langchain-huggingface` and import as `from langchain_huggingface import HuggingFaceEmbeddings`.\n",
      "  HuggingFaceEmbeddings(model_name=model_name)\n",
      "2024-11-12 16:06:56,150 - INFO - PyTorch version 2.4.0+cu124 available.\n",
      "2024-11-12 16:06:56,156 - INFO - Polars version 1.12.0 available.\n",
      "2024-11-12 16:06:56,160 - INFO - Duckdb version 1.1.2 available.\n",
      "2024-11-12 16:06:57,035 - INFO - Use pytorch device_name: cuda\n",
      "2024-11-12 16:06:57,035 - INFO - Load pretrained SentenceTransformer: sentence-transformers/all-mpnet-base-v2\n",
      "2024-11-12 16:07:01,029 - INFO - Use pytorch device_name: cuda\n",
      "2024-11-12 16:07:01,029 - INFO - Load pretrained SentenceTransformer: sentence-transformers/all-mpnet-base-v2\n",
      "2024-11-12 16:07:03,935 - INFO - Use pytorch device_name: cuda\n",
      "2024-11-12 16:07:03,935 - INFO - Load pretrained SentenceTransformer: sentence-transformers/all-mpnet-base-v2\n",
      "2024-11-12 16:07:06,848 - INFO - Use pytorch device_name: cuda\n",
      "2024-11-12 16:07:06,848 - INFO - Load pretrained SentenceTransformer: sentence-transformers/all-mpnet-base-v2\n",
      "2024-11-12 16:07:09,857 - INFO - Use pytorch device_name: cuda\n",
      "2024-11-12 16:07:09,858 - INFO - Load pretrained SentenceTransformer: sentence-transformers/all-mpnet-base-v2\n",
      "2024-11-12 16:07:12,837 - INFO - Use pytorch device_name: cuda\n",
      "2024-11-12 16:07:12,838 - INFO - Load pretrained SentenceTransformer: sentence-transformers/all-mpnet-base-v2\n",
      "2024-11-12 16:07:15,798 - INFO - Use pytorch device_name: cuda\n",
      "2024-11-12 16:07:15,799 - INFO - Load pretrained SentenceTransformer: sentence-transformers/all-mpnet-base-v2\n"
     ]
    },
    {
     "name": "stdout",
     "output_type": "stream",
     "text": [
      ".Processing Review 2\n"
     ]
    },
    {
     "name": "stderr",
     "output_type": "stream",
     "text": [
      "2024-11-12 16:07:18,772 - INFO - Use pytorch device_name: cuda\n",
      "2024-11-12 16:07:18,773 - INFO - Load pretrained SentenceTransformer: sentence-transformers/all-mpnet-base-v2\n",
      "2024-11-12 16:07:21,861 - INFO - Use pytorch device_name: cuda\n",
      "2024-11-12 16:07:21,862 - INFO - Load pretrained SentenceTransformer: sentence-transformers/all-mpnet-base-v2\n",
      "2024-11-12 16:07:25,384 - INFO - Use pytorch device_name: cuda\n",
      "2024-11-12 16:07:25,384 - INFO - Load pretrained SentenceTransformer: sentence-transformers/all-mpnet-base-v2\n",
      "2024-11-12 16:07:28,577 - INFO - Use pytorch device_name: cuda\n",
      "2024-11-12 16:07:28,578 - INFO - Load pretrained SentenceTransformer: sentence-transformers/all-mpnet-base-v2\n"
     ]
    },
    {
     "name": "stdout",
     "output_type": "stream",
     "text": [
      ".Processing Review 3\n"
     ]
    },
    {
     "name": "stderr",
     "output_type": "stream",
     "text": [
      "2024-11-12 16:07:31,722 - INFO - Use pytorch device_name: cuda\n",
      "2024-11-12 16:07:31,722 - INFO - Load pretrained SentenceTransformer: sentence-transformers/all-mpnet-base-v2\n",
      "2024-11-12 16:07:34,675 - INFO - Use pytorch device_name: cuda\n",
      "2024-11-12 16:07:34,675 - INFO - Load pretrained SentenceTransformer: sentence-transformers/all-mpnet-base-v2\n",
      "2024-11-12 16:07:37,652 - INFO - Use pytorch device_name: cuda\n",
      "2024-11-12 16:07:37,653 - INFO - Load pretrained SentenceTransformer: sentence-transformers/all-mpnet-base-v2\n"
     ]
    },
    {
     "name": "stdout",
     "output_type": "stream",
     "text": [
      ".Processing Review 4\n"
     ]
    },
    {
     "name": "stderr",
     "output_type": "stream",
     "text": [
      "2024-11-12 16:07:40,613 - INFO - Use pytorch device_name: cuda\n",
      "2024-11-12 16:07:40,613 - INFO - Load pretrained SentenceTransformer: sentence-transformers/all-mpnet-base-v2\n",
      "2024-11-12 16:07:43,614 - INFO - Use pytorch device_name: cuda\n",
      "2024-11-12 16:07:43,614 - INFO - Load pretrained SentenceTransformer: sentence-transformers/all-mpnet-base-v2\n",
      "2024-11-12 16:07:46,566 - INFO - Use pytorch device_name: cuda\n",
      "2024-11-12 16:07:46,567 - INFO - Load pretrained SentenceTransformer: sentence-transformers/all-mpnet-base-v2\n",
      "2024-11-12 16:07:49,604 - INFO - Use pytorch device_name: cuda\n",
      "2024-11-12 16:07:49,604 - INFO - Load pretrained SentenceTransformer: sentence-transformers/all-mpnet-base-v2\n",
      "2024-11-12 16:07:52,578 - INFO - Use pytorch device_name: cuda\n",
      "2024-11-12 16:07:52,578 - INFO - Load pretrained SentenceTransformer: sentence-transformers/all-mpnet-base-v2\n",
      "2024-11-12 16:07:55,564 - INFO - Use pytorch device_name: cuda\n",
      "2024-11-12 16:07:55,565 - INFO - Load pretrained SentenceTransformer: sentence-transformers/all-mpnet-base-v2\n",
      "2024-11-12 16:07:58,553 - INFO - Use pytorch device_name: cuda\n",
      "2024-11-12 16:07:58,553 - INFO - Load pretrained SentenceTransformer: sentence-transformers/all-mpnet-base-v2\n",
      "2024-11-12 16:08:01,508 - INFO - Use pytorch device_name: cuda\n",
      "2024-11-12 16:08:01,509 - INFO - Load pretrained SentenceTransformer: sentence-transformers/all-mpnet-base-v2\n",
      "2024-11-12 16:08:04,473 - INFO - Use pytorch device_name: cuda\n",
      "2024-11-12 16:08:04,474 - INFO - Load pretrained SentenceTransformer: sentence-transformers/all-mpnet-base-v2\n"
     ]
    },
    {
     "name": "stdout",
     "output_type": "stream",
     "text": [
      ".Processing Review 5\n"
     ]
    },
    {
     "name": "stderr",
     "output_type": "stream",
     "text": [
      "2024-11-12 16:08:07,442 - INFO - Use pytorch device_name: cuda\n",
      "2024-11-12 16:08:07,443 - INFO - Load pretrained SentenceTransformer: sentence-transformers/all-mpnet-base-v2\n",
      "2024-11-12 16:08:10,436 - INFO - Use pytorch device_name: cuda\n",
      "2024-11-12 16:08:10,436 - INFO - Load pretrained SentenceTransformer: sentence-transformers/all-mpnet-base-v2\n",
      "2024-11-12 16:08:13,419 - INFO - Use pytorch device_name: cuda\n",
      "2024-11-12 16:08:13,419 - INFO - Load pretrained SentenceTransformer: sentence-transformers/all-mpnet-base-v2\n",
      "2024-11-12 16:08:16,375 - INFO - Use pytorch device_name: cuda\n",
      "2024-11-12 16:08:16,376 - INFO - Load pretrained SentenceTransformer: sentence-transformers/all-mpnet-base-v2\n",
      "2024-11-12 16:08:19,453 - INFO - Use pytorch device_name: cuda\n",
      "2024-11-12 16:08:19,453 - INFO - Load pretrained SentenceTransformer: sentence-transformers/all-mpnet-base-v2\n"
     ]
    },
    {
     "name": "stdout",
     "output_type": "stream",
     "text": [
      ".Processing Review 6\n"
     ]
    },
    {
     "name": "stderr",
     "output_type": "stream",
     "text": [
      "2024-11-12 16:08:22,391 - INFO - Use pytorch device_name: cuda\n",
      "2024-11-12 16:08:22,392 - INFO - Load pretrained SentenceTransformer: sentence-transformers/all-mpnet-base-v2\n",
      "2024-11-12 16:08:25,384 - INFO - Use pytorch device_name: cuda\n",
      "2024-11-12 16:08:25,384 - INFO - Load pretrained SentenceTransformer: sentence-transformers/all-mpnet-base-v2\n",
      "2024-11-12 16:08:28,462 - INFO - Use pytorch device_name: cuda\n",
      "2024-11-12 16:08:28,462 - INFO - Load pretrained SentenceTransformer: sentence-transformers/all-mpnet-base-v2\n"
     ]
    },
    {
     "name": "stdout",
     "output_type": "stream",
     "text": [
      ".Processing Review 7\n"
     ]
    },
    {
     "name": "stderr",
     "output_type": "stream",
     "text": [
      "2024-11-12 16:08:31,411 - INFO - Use pytorch device_name: cuda\n",
      "2024-11-12 16:08:31,412 - INFO - Load pretrained SentenceTransformer: sentence-transformers/all-mpnet-base-v2\n",
      "2024-11-12 16:08:34,400 - INFO - Use pytorch device_name: cuda\n",
      "2024-11-12 16:08:34,400 - INFO - Load pretrained SentenceTransformer: sentence-transformers/all-mpnet-base-v2\n",
      "2024-11-12 16:08:37,353 - INFO - Use pytorch device_name: cuda\n",
      "2024-11-12 16:08:37,353 - INFO - Load pretrained SentenceTransformer: sentence-transformers/all-mpnet-base-v2\n"
     ]
    },
    {
     "name": "stdout",
     "output_type": "stream",
     "text": [
      ".Processing Review 8\n"
     ]
    },
    {
     "name": "stderr",
     "output_type": "stream",
     "text": [
      "2024-11-12 16:08:40,365 - INFO - Use pytorch device_name: cuda\n",
      "2024-11-12 16:08:40,365 - INFO - Load pretrained SentenceTransformer: sentence-transformers/all-mpnet-base-v2\n",
      "2024-11-12 16:08:43,529 - INFO - Use pytorch device_name: cuda\n",
      "2024-11-12 16:08:43,529 - INFO - Load pretrained SentenceTransformer: sentence-transformers/all-mpnet-base-v2\n",
      "2024-11-12 16:08:46,713 - INFO - Use pytorch device_name: cuda\n",
      "2024-11-12 16:08:46,714 - INFO - Load pretrained SentenceTransformer: sentence-transformers/all-mpnet-base-v2\n"
     ]
    },
    {
     "name": "stdout",
     "output_type": "stream",
     "text": [
      ".Processing Review 9\n"
     ]
    },
    {
     "name": "stderr",
     "output_type": "stream",
     "text": [
      "2024-11-12 16:08:49,853 - INFO - Use pytorch device_name: cuda\n",
      "2024-11-12 16:08:49,853 - INFO - Load pretrained SentenceTransformer: sentence-transformers/all-mpnet-base-v2\n",
      "2024-11-12 16:08:53,019 - INFO - Use pytorch device_name: cuda\n",
      "2024-11-12 16:08:53,021 - INFO - Load pretrained SentenceTransformer: sentence-transformers/all-mpnet-base-v2\n",
      "2024-11-12 16:08:56,022 - INFO - Use pytorch device_name: cuda\n",
      "2024-11-12 16:08:56,022 - INFO - Load pretrained SentenceTransformer: sentence-transformers/all-mpnet-base-v2\n",
      "2024-11-12 16:08:59,063 - INFO - Use pytorch device_name: cuda\n",
      "2024-11-12 16:08:59,064 - INFO - Load pretrained SentenceTransformer: sentence-transformers/all-mpnet-base-v2\n"
     ]
    },
    {
     "name": "stdout",
     "output_type": "stream",
     "text": [
      ".Processing Review 10\n"
     ]
    },
    {
     "name": "stderr",
     "output_type": "stream",
     "text": [
      "2024-11-12 16:09:02,071 - INFO - Use pytorch device_name: cuda\n",
      "2024-11-12 16:09:02,072 - INFO - Load pretrained SentenceTransformer: sentence-transformers/all-mpnet-base-v2\n",
      "2024-11-12 16:09:05,027 - INFO - Use pytorch device_name: cuda\n",
      "2024-11-12 16:09:05,028 - INFO - Load pretrained SentenceTransformer: sentence-transformers/all-mpnet-base-v2\n",
      "2024-11-12 16:09:08,036 - INFO - Use pytorch device_name: cuda\n",
      "2024-11-12 16:09:08,037 - INFO - Load pretrained SentenceTransformer: sentence-transformers/all-mpnet-base-v2\n"
     ]
    },
    {
     "name": "stdout",
     "output_type": "stream",
     "text": [
      ".\n",
      "Batch 1 processed.\n",
      "Processing Review 11\n"
     ]
    },
    {
     "name": "stderr",
     "output_type": "stream",
     "text": [
      "2024-11-12 16:09:11,029 - INFO - Use pytorch device_name: cuda\n",
      "2024-11-12 16:09:11,030 - INFO - Load pretrained SentenceTransformer: sentence-transformers/all-mpnet-base-v2\n",
      "2024-11-12 16:09:14,029 - INFO - Use pytorch device_name: cuda\n",
      "2024-11-12 16:09:14,030 - INFO - Load pretrained SentenceTransformer: sentence-transformers/all-mpnet-base-v2\n",
      "2024-11-12 16:09:16,974 - INFO - Use pytorch device_name: cuda\n",
      "2024-11-12 16:09:16,974 - INFO - Load pretrained SentenceTransformer: sentence-transformers/all-mpnet-base-v2\n",
      "2024-11-12 16:09:19,936 - INFO - Use pytorch device_name: cuda\n",
      "2024-11-12 16:09:19,937 - INFO - Load pretrained SentenceTransformer: sentence-transformers/all-mpnet-base-v2\n",
      "2024-11-12 16:09:22,940 - INFO - Use pytorch device_name: cuda\n",
      "2024-11-12 16:09:22,941 - INFO - Load pretrained SentenceTransformer: sentence-transformers/all-mpnet-base-v2\n"
     ]
    },
    {
     "name": "stdout",
     "output_type": "stream",
     "text": [
      ".Processing Review 12\n"
     ]
    },
    {
     "name": "stderr",
     "output_type": "stream",
     "text": [
      "2024-11-12 16:09:25,955 - INFO - Use pytorch device_name: cuda\n",
      "2024-11-12 16:09:25,956 - INFO - Load pretrained SentenceTransformer: sentence-transformers/all-mpnet-base-v2\n",
      "2024-11-12 16:09:28,924 - INFO - Use pytorch device_name: cuda\n",
      "2024-11-12 16:09:28,924 - INFO - Load pretrained SentenceTransformer: sentence-transformers/all-mpnet-base-v2\n",
      "2024-11-12 16:09:31,900 - INFO - Use pytorch device_name: cuda\n",
      "2024-11-12 16:09:31,900 - INFO - Load pretrained SentenceTransformer: sentence-transformers/all-mpnet-base-v2\n",
      "2024-11-12 16:09:34,928 - INFO - Use pytorch device_name: cuda\n",
      "2024-11-12 16:09:34,928 - INFO - Load pretrained SentenceTransformer: sentence-transformers/all-mpnet-base-v2\n"
     ]
    },
    {
     "name": "stdout",
     "output_type": "stream",
     "text": [
      ".Processing Review 13\n"
     ]
    },
    {
     "name": "stderr",
     "output_type": "stream",
     "text": [
      "2024-11-12 16:09:38,025 - INFO - Use pytorch device_name: cuda\n",
      "2024-11-12 16:09:38,026 - INFO - Load pretrained SentenceTransformer: sentence-transformers/all-mpnet-base-v2\n",
      "2024-11-12 16:09:41,014 - INFO - Use pytorch device_name: cuda\n",
      "2024-11-12 16:09:41,015 - INFO - Load pretrained SentenceTransformer: sentence-transformers/all-mpnet-base-v2\n"
     ]
    },
    {
     "name": "stdout",
     "output_type": "stream",
     "text": [
      ".Processing Review 14\n"
     ]
    },
    {
     "name": "stderr",
     "output_type": "stream",
     "text": [
      "2024-11-12 16:09:44,024 - INFO - Use pytorch device_name: cuda\n",
      "2024-11-12 16:09:44,025 - INFO - Load pretrained SentenceTransformer: sentence-transformers/all-mpnet-base-v2\n",
      "2024-11-12 16:09:47,192 - INFO - Use pytorch device_name: cuda\n",
      "2024-11-12 16:09:47,193 - INFO - Load pretrained SentenceTransformer: sentence-transformers/all-mpnet-base-v2\n",
      "2024-11-12 16:09:50,190 - INFO - Use pytorch device_name: cuda\n",
      "2024-11-12 16:09:50,190 - INFO - Load pretrained SentenceTransformer: sentence-transformers/all-mpnet-base-v2\n",
      "2024-11-12 16:09:53,143 - INFO - Use pytorch device_name: cuda\n",
      "2024-11-12 16:09:53,144 - INFO - Load pretrained SentenceTransformer: sentence-transformers/all-mpnet-base-v2\n",
      "2024-11-12 16:09:56,082 - INFO - Use pytorch device_name: cuda\n",
      "2024-11-12 16:09:56,083 - INFO - Load pretrained SentenceTransformer: sentence-transformers/all-mpnet-base-v2\n",
      "2024-11-12 16:09:59,047 - INFO - Use pytorch device_name: cuda\n",
      "2024-11-12 16:09:59,047 - INFO - Load pretrained SentenceTransformer: sentence-transformers/all-mpnet-base-v2\n",
      "2024-11-12 16:10:02,550 - INFO - Use pytorch device_name: cuda\n",
      "2024-11-12 16:10:02,551 - INFO - Load pretrained SentenceTransformer: sentence-transformers/all-mpnet-base-v2\n"
     ]
    },
    {
     "name": "stdout",
     "output_type": "stream",
     "text": [
      ".Processing Review 15\n"
     ]
    },
    {
     "name": "stderr",
     "output_type": "stream",
     "text": [
      "2024-11-12 16:10:05,574 - INFO - Use pytorch device_name: cuda\n",
      "2024-11-12 16:10:05,575 - INFO - Load pretrained SentenceTransformer: sentence-transformers/all-mpnet-base-v2\n",
      "2024-11-12 16:10:08,526 - INFO - Use pytorch device_name: cuda\n",
      "2024-11-12 16:10:08,527 - INFO - Load pretrained SentenceTransformer: sentence-transformers/all-mpnet-base-v2\n"
     ]
    },
    {
     "name": "stdout",
     "output_type": "stream",
     "text": [
      ".Processing Review 16\n"
     ]
    },
    {
     "name": "stderr",
     "output_type": "stream",
     "text": [
      "2024-11-12 16:10:11,529 - INFO - Use pytorch device_name: cuda\n",
      "2024-11-12 16:10:11,529 - INFO - Load pretrained SentenceTransformer: sentence-transformers/all-mpnet-base-v2\n",
      "2024-11-12 16:10:14,960 - INFO - Use pytorch device_name: cuda\n",
      "2024-11-12 16:10:14,960 - INFO - Load pretrained SentenceTransformer: sentence-transformers/all-mpnet-base-v2\n"
     ]
    },
    {
     "name": "stdout",
     "output_type": "stream",
     "text": [
      ".Processing Review 17\n"
     ]
    },
    {
     "name": "stderr",
     "output_type": "stream",
     "text": [
      "2024-11-12 16:10:17,963 - INFO - Use pytorch device_name: cuda\n",
      "2024-11-12 16:10:17,964 - INFO - Load pretrained SentenceTransformer: sentence-transformers/all-mpnet-base-v2\n",
      "2024-11-12 16:10:21,113 - INFO - Use pytorch device_name: cuda\n",
      "2024-11-12 16:10:21,113 - INFO - Load pretrained SentenceTransformer: sentence-transformers/all-mpnet-base-v2\n",
      "2024-11-12 16:10:24,114 - INFO - Use pytorch device_name: cuda\n",
      "2024-11-12 16:10:24,115 - INFO - Load pretrained SentenceTransformer: sentence-transformers/all-mpnet-base-v2\n"
     ]
    },
    {
     "name": "stdout",
     "output_type": "stream",
     "text": [
      ".\n",
      "Batch 2 processed.\n",
      "Embeddings saved.\n"
     ]
    }
   ],
   "execution_count": 35
  },
  {
   "metadata": {
    "ExecuteTime": {
     "end_time": "2024-11-12T03:11:17.552896Z",
     "start_time": "2024-11-12T03:11:16.978567Z"
    }
   },
   "cell_type": "code",
   "source": [
    "import pandas as pd\n",
    "import json\n",
    "\n",
    "b_to_table = True\n",
    "\n",
    "if b_to_table:\n",
    "    # Initialize an empty DataFrame to hold all topics\n",
    "    df_total = pd.DataFrame()\n",
    "    \n",
    "    # Load the JSON data with embeddings\n",
    "    with open(s_root + s_db_embed_json, 'r', encoding='utf-8') as f:\n",
    "        d_review_output = json.load(f)\n",
    "        print(\"Loaded JSON with embeddings\")\n",
    "\n",
    "    # Iterate over each review entry in the JSON data\n",
    "    for review_entry in d_review_output:\n",
    "        # Check if 'topics' exists in each review entry\n",
    "        if 'topics' in review_entry and isinstance(review_entry['topics'], list):\n",
    "            # Create a DataFrame for the current review's topics\n",
    "            df_gp = pd.DataFrame(review_entry['topics'])\n",
    "            \n",
    "            # Add additional columns from the review entry\n",
    "            for key, value in review_entry.items():\n",
    "                if key != 'topics':  # Skip the topics column itself\n",
    "                    df_gp[key] = value  # Assign each additional field to each row in df_gp\n",
    "\n",
    "            # Concatenate this review's DataFrame to the total DataFrame\n",
    "            df_total = pd.concat([df_total, df_gp], ignore_index=True)\n",
    "    \n",
    "    # Save the combined DataFrame to JSON and Excel\n",
    "    df_total.to_json(s_root + s_db_table_json, orient='records')\n",
    "    df_total.to_excel(s_root + s_db_table_xlsx, index=False)\n",
    "    print(\"Data saved to JSON and Excel\")\n"
   ],
   "id": "478a107e0ffd72ef",
   "outputs": [
    {
     "name": "stdout",
     "output_type": "stream",
     "text": [
      "Loaded JSON with embeddings\n",
      "Data saved to JSON and Excel\n"
     ]
    }
   ],
   "execution_count": 36
  },
  {
   "metadata": {},
   "cell_type": "markdown",
   "source": "## PCA",
   "id": "56c30f79e9326d12"
  },
  {
   "metadata": {
    "ExecuteTime": {
     "end_time": "2024-11-12T03:11:50.608106Z",
     "start_time": "2024-11-12T03:11:39.304956Z"
    }
   },
   "cell_type": "code",
   "source": [
    "import os\n",
    "import json\n",
    "import numpy as np\n",
    "import pandas as pd\n",
    "from sklearn.cluster import KMeans\n",
    "from sklearn.decomposition import PCA\n",
    "from sklearn.manifold import TSNE\n",
    "from umap import UMAP\n",
    "import matplotlib.pyplot as plt\n",
    "\n",
    "b_pca_kmeans = True\n",
    "b_update_kmeans_centers = True\n",
    "\n",
    "if b_pca_kmeans:\n",
    "    keyword = 'zombie'\n",
    "    \n",
    "    # Load existing K-means centers if available\n",
    "    if os.path.isfile(s_root + s_kmeans_centers):\n",
    "        with open(s_root + s_kmeans_centers, 'r') as f:\n",
    "            d_kmeans_centers = json.load(f)\n",
    "    else:\n",
    "        d_kmeans_centers = {}\n",
    "\n",
    "    # Load the DataFrame with embeddings\n",
    "    df_total = pd.read_json(s_root + s_db_table_json, orient='records')\n",
    "    df_total = df_total[df_total['embedding'].apply(lambda x: isinstance(x, list) and len(x) > 0)]\n",
    "    \n",
    "    # Convert embeddings to matrix\n",
    "    mat = np.array(df_total['embedding'].tolist())\n",
    "\n",
    "    # Embed the keyword and compute similarity for each entry\n",
    "    keyword_embed = index_embedding(keyword)\n",
    "    df_total['similarity'] = mat @ keyword_embed  # Dot product for cosine similarity\n",
    "\n",
    "    # Define number of clusters for main clustering and sub-clustering\n",
    "    n_clusters = 20\n",
    "    n_clusters_sub = 2\n",
    "    s_key = str(n_clusters)\n",
    "    \n",
    "    # Initialize K-means clusters or use precomputed centers\n",
    "    if s_key in d_kmeans_centers:\n",
    "        mat_init = np.array(d_kmeans_centers[s_key])\n",
    "    else:\n",
    "        mat_init = np.zeros((n_clusters, mat.shape[1]))\n",
    "        np.fill_diagonal(mat_init, 1.0)\n",
    "    \n",
    "    # Main K-means clustering\n",
    "    kmeans = KMeans(n_clusters=n_clusters, init=mat_init, n_init=1).fit(mat)\n",
    "    df_total['kmeans'] = kmeans.labels_\n",
    "    \n",
    "    if b_update_kmeans_centers:\n",
    "        d_kmeans_centers[s_key] = kmeans.cluster_centers_.tolist()\n",
    "\n",
    "    # Sub-clustering for larger clusters\n",
    "    df_total['kmeans_sub'] = 0\n",
    "    for i_c in range(n_clusters):\n",
    "        cluster_indices = np.where(df_total['kmeans'] == i_c)[0]\n",
    "        if len(cluster_indices) > len(df_total) / n_clusters:\n",
    "            mat_i_c = mat[cluster_indices, :]\n",
    "            s_key_sub = f\"{n_clusters}_{i_c}_{n_clusters_sub}\"\n",
    "    \n",
    "            # Adjust n_clusters_sub if fewer samples than sub-clusters\n",
    "            adjusted_n_clusters_sub = min(n_clusters_sub, len(mat_i_c))\n",
    "    \n",
    "            if s_key_sub in d_kmeans_centers and adjusted_n_clusters_sub == n_clusters_sub:\n",
    "                mat_init_sub = np.array(d_kmeans_centers[s_key_sub])\n",
    "            else:\n",
    "                mat_init_sub = np.zeros((adjusted_n_clusters_sub, mat.shape[1]))\n",
    "                np.fill_diagonal(mat_init_sub, 1.0)\n",
    "    \n",
    "            # Apply KMeans with adjusted number of clusters\n",
    "            kmeans_sub = KMeans(n_clusters=adjusted_n_clusters_sub, init=mat_init_sub, n_init=1).fit(mat_i_c)\n",
    "            df_total.loc[cluster_indices, 'kmeans_sub'] = kmeans_sub.labels_\n",
    "    \n",
    "            if b_update_kmeans_centers and adjusted_n_clusters_sub == n_clusters_sub:\n",
    "                d_kmeans_centers[s_key_sub] = kmeans_sub.cluster_centers_.tolist()\n",
    "\n",
    "\n",
    "    # Dimensionality Reduction Techniques\n",
    "    methods = [\n",
    "        ('PCA', PCA(n_components=3)),\n",
    "        ('t-SNE', TSNE(n_components=2)),\n",
    "        ('UMAP', UMAP(n_components=2))\n",
    "    ]\n",
    "\n",
    "    # Visualization\n",
    "    plt.figure(figsize=(30, 10))\n",
    "    for i, (name, model) in enumerate(methods):\n",
    "        print(name)\n",
    "        plt.subplot(1, 3, i + 1)\n",
    "\n",
    "        if name == 'PCA':\n",
    "            X_embedded = model.fit_transform(mat)\n",
    "            df_total['first_dim_PCA'] = X_embedded[:, 0]\n",
    "            df_total['second_dim_PCA'] = X_embedded[:, 1]\n",
    "            df_total['third_dim_PCA'] = X_embedded[:, 2]\n",
    "            plt.scatter(X_embedded[:, 1], X_embedded[:, 2], c=df_total['kmeans'], cmap='tab20')\n",
    "        else:\n",
    "            X_embedded = model.fit_transform(mat)\n",
    "            df_total[f'first_dim_{name}'] = X_embedded[:, 0]\n",
    "            df_total[f'second_dim_{name}'] = X_embedded[:, 1]\n",
    "            plt.scatter(X_embedded[:, 0], X_embedded[:, 1], c=df_total['kmeans'], cmap='tab20')\n",
    "\n",
    "        plt.title(f\"{name} Visualization\")\n",
    "        plt.colorbar()\n",
    "\n",
    "    plt.show()\n",
    "\n",
    "    # Save K-means centers and DataFrame with clustering results\n",
    "    with open(s_root + s_kmeans_centers, 'w') as f:\n",
    "        json.dump(d_kmeans_centers, f)\n",
    "\n",
    "    df_total.to_json(s_root + s_db_table_pca_json, orient='records')\n",
    "    df_total.to_excel(s_root + s_db_table_pca_xlsx, index=False)\n",
    "    print(\"Clustering and dimensionality reduction results saved.\")\n"
   ],
   "id": "57c8f280d7e6929",
   "outputs": [
    {
     "name": "stderr",
     "output_type": "stream",
     "text": [
      "2024-11-12 16:11:39,344 - INFO - Use pytorch device_name: cuda\n",
      "2024-11-12 16:11:39,345 - INFO - Load pretrained SentenceTransformer: sentence-transformers/all-mpnet-base-v2\n",
      "C:\\Users\\fbohm\\Documents\\Venvironments\\Lib\\site-packages\\threadpoolctl.py:1214: RuntimeWarning: \n",
      "Found Intel OpenMP ('libiomp') and LLVM OpenMP ('libomp') loaded at\n",
      "the same time. Both libraries are known to be incompatible and this\n",
      "can cause random crashes or deadlocks on Linux when loaded in the\n",
      "same Python program.\n",
      "Using threadpoolctl may cause crashes or deadlocks. For more\n",
      "information and possible workarounds, please see\n",
      "    https://github.com/joblib/threadpoolctl/blob/master/multiple_openmp.md\n",
      "\n",
      "  warnings.warn(msg, RuntimeWarning)\n"
     ]
    },
    {
     "name": "stdout",
     "output_type": "stream",
     "text": [
      "PCA\n",
      "t-SNE\n",
      "UMAP\n"
     ]
    },
    {
     "data": {
      "text/plain": [
       "<Figure size 3000x1000 with 6 Axes>"
      ],
      "image/png": "[encoded data removed]"
     },
     "metadata": {},
     "output_type": "display_data"
    },
    {
     "name": "stdout",
     "output_type": "stream",
     "text": [
      "Clustering and dimensionality reduction results saved.\n"
     ]
    }
   ],
   "execution_count": 37
  }
 ],
 "metadata": {
  "kernelspec": {
   "display_name": "Python 3",
   "language": "python",
   "name": "python3"
  },
  "language_info": {
   "codemirror_mode": {
    "name": "ipython",
    "version": 2
   },
   "file_extension": ".py",
   "mimetype": "text/x-python",
   "name": "python",
   "nbconvert_exporter": "python",
   "pygments_lexer": "ipython2",
   "version": "2.7.6"
  }
 },
 "nbformat": 4,
 "nbformat_minor": 5
}
