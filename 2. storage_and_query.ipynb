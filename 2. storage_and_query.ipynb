{
 "cells": [
  {
   "cell_type": "code",
   "id": "initial_id",
   "metadata": {
    "collapsed": true,
    "ExecuteTime": {
     "end_time": "2025-03-20T21:37:18.251873Z",
     "start_time": "2025-03-20T21:37:08.878812Z"
    }
   },
   "source": [
    "# First and foremost Data Preparation\n",
    "from helper.chroma_handler import prepare_dataframe\n",
    "\n",
    "# Prepare the DataFrame\n",
    "raw_data = 'S:\\SID\\Analytics\\Working Files\\Individual\\Florian\\Projects\\DataScience\\cluster_analysis\\Data\\HRC\\Zendesk_csv\\db_embedded.json'\n",
    "prepared_dataframe = prepare_dataframe('Zendesk_csv', raw_data, output_csv_path=None)           # No output path = no CSV is going to be saved\n"
   ],
   "outputs": [
    {
     "name": "stderr",
     "output_type": "stream",
     "text": [
      "C:\\Users\\fbohm\\Documents\\Venvironments\\.venv\\Lib\\site-packages\\sklearn\\utils\\deprecation.py:151: FutureWarning: 'force_all_finite' was renamed to 'ensure_all_finite' in 1.6 and will be removed in 1.8.\n",
      "  warnings.warn(\n"
     ]
    }
   ],
   "execution_count": 7
  },
  {
   "metadata": {
    "ExecuteTime": {
     "end_time": "2025-03-20T21:34:24.235426Z",
     "start_time": "2025-03-20T21:34:24.229075Z"
    }
   },
   "cell_type": "code",
   "source": [
    "from helper.chroma_handler import upsert_chroma_data\n",
    "import chromadb\n",
    "\n",
    "# Chroma Parameters\n",
    "collection_name = 'HRC_Zendesk' #HRC #DRS\n",
    "persist_dir = r'S:\\SID\\Analytics\\Working Files\\Individual\\Florian\\Projects\\DataScience\\cluster_analysis\\Database\\ChromaDB'  # folder for storing the persistent DB"
   ],
   "id": "49faf9b84416af7b",
   "outputs": [],
   "execution_count": 4
  },
  {
   "metadata": {
    "ExecuteTime": {
     "end_time": "2025-03-20T23:10:10.330058Z",
     "start_time": "2025-03-20T23:10:10.300839Z"
    }
   },
   "cell_type": "code",
   "source": [
    "# Check if collection exists\n",
    "chroma_client = chromadb.PersistentClient(path=persist_dir)\n",
    "collection = chroma_client.get_collection(name=collection_name)\n",
    "collection.count()"
   ],
   "id": "a874f2d542fd52c0",
   "outputs": [
    {
     "data": {
      "text/plain": [
       "3216"
      ]
     },
     "execution_count": 9,
     "metadata": {},
     "output_type": "execute_result"
    }
   ],
   "execution_count": 9
  },
  {
   "metadata": {
    "ExecuteTime": {
     "end_time": "2025-03-20T21:34:54.297276Z",
     "start_time": "2025-03-20T21:34:54.262971Z"
    }
   },
   "cell_type": "code",
   "source": [
    "# Delete a chroma collection\n",
    "chroma_client.delete_collection(collection_name)"
   ],
   "id": "4c0942a1f8c90965",
   "outputs": [
    {
     "ename": "ValueError",
     "evalue": "Collection HRC_Zendesk does not exist.",
     "output_type": "error",
     "traceback": [
      "\u001B[1;31m---------------------------------------------------------------------------\u001B[0m",
      "\u001B[1;31mValueError\u001B[0m                                Traceback (most recent call last)",
      "Cell \u001B[1;32mIn[6], line 2\u001B[0m\n\u001B[0;32m      1\u001B[0m \u001B[38;5;66;03m# Delete a chroma collection\u001B[39;00m\n\u001B[1;32m----> 2\u001B[0m \u001B[43mchroma_client\u001B[49m\u001B[38;5;241;43m.\u001B[39;49m\u001B[43mdelete_collection\u001B[49m\u001B[43m(\u001B[49m\u001B[43mcollection_name\u001B[49m\u001B[43m)\u001B[49m\n",
      "File \u001B[1;32m~\\Documents\\Venvironments\\.venv\\Lib\\site-packages\\chromadb\\api\\client.py:228\u001B[0m, in \u001B[0;36mClient.delete_collection\u001B[1;34m(self, name)\u001B[0m\n\u001B[0;32m    223\u001B[0m \u001B[38;5;129m@override\u001B[39m\n\u001B[0;32m    224\u001B[0m \u001B[38;5;28;01mdef\u001B[39;00m\u001B[38;5;250m \u001B[39m\u001B[38;5;21mdelete_collection\u001B[39m(\n\u001B[0;32m    225\u001B[0m     \u001B[38;5;28mself\u001B[39m,\n\u001B[0;32m    226\u001B[0m     name: \u001B[38;5;28mstr\u001B[39m,\n\u001B[0;32m    227\u001B[0m ) \u001B[38;5;241m-\u001B[39m\u001B[38;5;241m>\u001B[39m \u001B[38;5;28;01mNone\u001B[39;00m:\n\u001B[1;32m--> 228\u001B[0m     \u001B[38;5;28;01mreturn\u001B[39;00m \u001B[38;5;28;43mself\u001B[39;49m\u001B[38;5;241;43m.\u001B[39;49m\u001B[43m_server\u001B[49m\u001B[38;5;241;43m.\u001B[39;49m\u001B[43mdelete_collection\u001B[49m\u001B[43m(\u001B[49m\n\u001B[0;32m    229\u001B[0m \u001B[43m        \u001B[49m\u001B[43mname\u001B[49m\u001B[38;5;241;43m=\u001B[39;49m\u001B[43mname\u001B[49m\u001B[43m,\u001B[49m\n\u001B[0;32m    230\u001B[0m \u001B[43m        \u001B[49m\u001B[43mtenant\u001B[49m\u001B[38;5;241;43m=\u001B[39;49m\u001B[38;5;28;43mself\u001B[39;49m\u001B[38;5;241;43m.\u001B[39;49m\u001B[43mtenant\u001B[49m\u001B[43m,\u001B[49m\n\u001B[0;32m    231\u001B[0m \u001B[43m        \u001B[49m\u001B[43mdatabase\u001B[49m\u001B[38;5;241;43m=\u001B[39;49m\u001B[38;5;28;43mself\u001B[39;49m\u001B[38;5;241;43m.\u001B[39;49m\u001B[43mdatabase\u001B[49m\u001B[43m,\u001B[49m\n\u001B[0;32m    232\u001B[0m \u001B[43m    \u001B[49m\u001B[43m)\u001B[49m\n",
      "File \u001B[1;32m~\\Documents\\Venvironments\\.venv\\Lib\\site-packages\\chromadb\\telemetry\\opentelemetry\\__init__.py:150\u001B[0m, in \u001B[0;36mtrace_method.<locals>.decorator.<locals>.wrapper\u001B[1;34m(*args, **kwargs)\u001B[0m\n\u001B[0;32m    148\u001B[0m \u001B[38;5;28;01mglobal\u001B[39;00m tracer, granularity\n\u001B[0;32m    149\u001B[0m \u001B[38;5;28;01mif\u001B[39;00m trace_granularity \u001B[38;5;241m<\u001B[39m granularity:\n\u001B[1;32m--> 150\u001B[0m     \u001B[38;5;28;01mreturn\u001B[39;00m \u001B[43mf\u001B[49m\u001B[43m(\u001B[49m\u001B[38;5;241;43m*\u001B[39;49m\u001B[43margs\u001B[49m\u001B[43m,\u001B[49m\u001B[43m \u001B[49m\u001B[38;5;241;43m*\u001B[39;49m\u001B[38;5;241;43m*\u001B[39;49m\u001B[43mkwargs\u001B[49m\u001B[43m)\u001B[49m\n\u001B[0;32m    151\u001B[0m \u001B[38;5;28;01mif\u001B[39;00m \u001B[38;5;129;01mnot\u001B[39;00m tracer:\n\u001B[0;32m    152\u001B[0m     \u001B[38;5;28;01mreturn\u001B[39;00m f(\u001B[38;5;241m*\u001B[39margs, \u001B[38;5;241m*\u001B[39m\u001B[38;5;241m*\u001B[39mkwargs)\n",
      "File \u001B[1;32m~\\Documents\\Venvironments\\.venv\\Lib\\site-packages\\chromadb\\api\\segment.py:103\u001B[0m, in \u001B[0;36mrate_limit.<locals>.wrapper\u001B[1;34m(*args, **kwargs)\u001B[0m\n\u001B[0;32m    100\u001B[0m \u001B[38;5;129m@wraps\u001B[39m(func)\n\u001B[0;32m    101\u001B[0m \u001B[38;5;28;01mdef\u001B[39;00m\u001B[38;5;250m \u001B[39m\u001B[38;5;21mwrapper\u001B[39m(\u001B[38;5;241m*\u001B[39margs: Any, \u001B[38;5;241m*\u001B[39m\u001B[38;5;241m*\u001B[39mkwargs: Any) \u001B[38;5;241m-\u001B[39m\u001B[38;5;241m>\u001B[39m Any:\n\u001B[0;32m    102\u001B[0m     \u001B[38;5;28mself\u001B[39m \u001B[38;5;241m=\u001B[39m args[\u001B[38;5;241m0\u001B[39m]\n\u001B[1;32m--> 103\u001B[0m     \u001B[38;5;28;01mreturn\u001B[39;00m \u001B[38;5;28;43mself\u001B[39;49m\u001B[38;5;241;43m.\u001B[39;49m\u001B[43m_rate_limit_enforcer\u001B[49m\u001B[38;5;241;43m.\u001B[39;49m\u001B[43mrate_limit\u001B[49m\u001B[43m(\u001B[49m\u001B[43mfunc\u001B[49m\u001B[43m)\u001B[49m\u001B[43m(\u001B[49m\u001B[38;5;241;43m*\u001B[39;49m\u001B[43margs\u001B[49m\u001B[43m,\u001B[49m\u001B[43m \u001B[49m\u001B[38;5;241;43m*\u001B[39;49m\u001B[38;5;241;43m*\u001B[39;49m\u001B[43mkwargs\u001B[49m\u001B[43m)\u001B[49m\n",
      "File \u001B[1;32m~\\Documents\\Venvironments\\.venv\\Lib\\site-packages\\chromadb\\rate_limit\\simple_rate_limit\\__init__.py:24\u001B[0m, in \u001B[0;36mSimpleRateLimitEnforcer.rate_limit.<locals>.wrapper\u001B[1;34m(*args, **kwargs)\u001B[0m\n\u001B[0;32m     22\u001B[0m \u001B[38;5;129m@wraps\u001B[39m(func)\n\u001B[0;32m     23\u001B[0m \u001B[38;5;28;01mdef\u001B[39;00m\u001B[38;5;250m \u001B[39m\u001B[38;5;21mwrapper\u001B[39m(\u001B[38;5;241m*\u001B[39margs: Any, \u001B[38;5;241m*\u001B[39m\u001B[38;5;241m*\u001B[39mkwargs: Any) \u001B[38;5;241m-\u001B[39m\u001B[38;5;241m>\u001B[39m Any:\n\u001B[1;32m---> 24\u001B[0m     \u001B[38;5;28;01mreturn\u001B[39;00m \u001B[43mfunc\u001B[49m\u001B[43m(\u001B[49m\u001B[38;5;241;43m*\u001B[39;49m\u001B[43margs\u001B[49m\u001B[43m,\u001B[49m\u001B[43m \u001B[49m\u001B[38;5;241;43m*\u001B[39;49m\u001B[38;5;241;43m*\u001B[39;49m\u001B[43mkwargs\u001B[49m\u001B[43m)\u001B[49m\n",
      "File \u001B[1;32m~\\Documents\\Venvironments\\.venv\\Lib\\site-packages\\chromadb\\api\\segment.py:408\u001B[0m, in \u001B[0;36mSegmentAPI.delete_collection\u001B[1;34m(self, name, tenant, database)\u001B[0m\n\u001B[0;32m    406\u001B[0m     \u001B[38;5;28mself\u001B[39m\u001B[38;5;241m.\u001B[39m_manager\u001B[38;5;241m.\u001B[39mdelete_segments(existing[\u001B[38;5;241m0\u001B[39m]\u001B[38;5;241m.\u001B[39mid)\n\u001B[0;32m    407\u001B[0m \u001B[38;5;28;01melse\u001B[39;00m:\n\u001B[1;32m--> 408\u001B[0m     \u001B[38;5;28;01mraise\u001B[39;00m \u001B[38;5;167;01mValueError\u001B[39;00m(\u001B[38;5;124mf\u001B[39m\u001B[38;5;124m\"\u001B[39m\u001B[38;5;124mCollection \u001B[39m\u001B[38;5;132;01m{\u001B[39;00mname\u001B[38;5;132;01m}\u001B[39;00m\u001B[38;5;124m does not exist.\u001B[39m\u001B[38;5;124m\"\u001B[39m)\n",
      "\u001B[1;31mValueError\u001B[0m: Collection HRC_Zendesk does not exist."
     ]
    }
   ],
   "execution_count": 6
  },
  {
   "metadata": {
    "ExecuteTime": {
     "end_time": "2025-03-20T21:38:29.129882Z",
     "start_time": "2025-03-20T21:38:08.076925Z"
    }
   },
   "cell_type": "code",
   "source": "upsert_chroma_data(prepared_dataframe, collection_name, persist_dir)",
   "id": "34cfe5692076bc26",
   "outputs": [
    {
     "name": "stderr",
     "output_type": "stream",
     "text": [
      "2025-03-21 10:38:08,078 - INFO - Initializing persistent Chroma client via `PersistentClient`.\n",
      "2025-03-21 10:38:08,092 - INFO - Collection 'HRC_Zendesk' does NOT exist. Creating new collection.\n",
      "2025-03-21 10:38:08,597 - INFO - Collection is new. Inserting all 3216 rows.\n",
      "2025-03-21 10:38:09,167 - INFO - Inserted rows 0 to 99 into 'HRC_Zendesk'.\n",
      "2025-03-21 10:38:09,487 - INFO - Inserted rows 100 to 199 into 'HRC_Zendesk'.\n",
      "2025-03-21 10:38:09,802 - INFO - Inserted rows 200 to 299 into 'HRC_Zendesk'.\n",
      "2025-03-21 10:38:10,130 - INFO - Inserted rows 300 to 399 into 'HRC_Zendesk'.\n",
      "2025-03-21 10:38:10,661 - INFO - Inserted rows 400 to 499 into 'HRC_Zendesk'.\n",
      "2025-03-21 10:38:11,144 - INFO - Inserted rows 500 to 599 into 'HRC_Zendesk'.\n",
      "2025-03-21 10:38:11,697 - INFO - Inserted rows 600 to 699 into 'HRC_Zendesk'.\n",
      "2025-03-21 10:38:12,066 - INFO - Inserted rows 700 to 799 into 'HRC_Zendesk'.\n",
      "2025-03-21 10:38:12,516 - INFO - Inserted rows 800 to 899 into 'HRC_Zendesk'.\n",
      "2025-03-21 10:38:13,171 - INFO - Inserted rows 900 to 999 into 'HRC_Zendesk'.\n",
      "2025-03-21 10:38:13,681 - INFO - Inserted rows 1000 to 1099 into 'HRC_Zendesk'.\n",
      "2025-03-21 10:38:14,145 - INFO - Inserted rows 1100 to 1199 into 'HRC_Zendesk'.\n",
      "2025-03-21 10:38:14,672 - INFO - Inserted rows 1200 to 1299 into 'HRC_Zendesk'.\n",
      "2025-03-21 10:38:15,342 - INFO - Inserted rows 1300 to 1399 into 'HRC_Zendesk'.\n",
      "2025-03-21 10:38:15,947 - INFO - Inserted rows 1400 to 1499 into 'HRC_Zendesk'.\n",
      "2025-03-21 10:38:16,655 - INFO - Inserted rows 1500 to 1599 into 'HRC_Zendesk'.\n",
      "2025-03-21 10:38:17,261 - INFO - Inserted rows 1600 to 1699 into 'HRC_Zendesk'.\n",
      "2025-03-21 10:38:17,930 - INFO - Inserted rows 1700 to 1799 into 'HRC_Zendesk'.\n",
      "2025-03-21 10:38:18,765 - INFO - Inserted rows 1800 to 1899 into 'HRC_Zendesk'.\n",
      "2025-03-21 10:38:19,559 - INFO - Inserted rows 1900 to 1999 into 'HRC_Zendesk'.\n",
      "2025-03-21 10:38:20,423 - INFO - Inserted rows 2000 to 2099 into 'HRC_Zendesk'.\n",
      "2025-03-21 10:38:21,337 - INFO - Inserted rows 2100 to 2199 into 'HRC_Zendesk'.\n",
      "2025-03-21 10:38:22,312 - INFO - Inserted rows 2200 to 2299 into 'HRC_Zendesk'.\n",
      "2025-03-21 10:38:23,109 - INFO - Inserted rows 2300 to 2399 into 'HRC_Zendesk'.\n",
      "2025-03-21 10:38:23,880 - INFO - Inserted rows 2400 to 2499 into 'HRC_Zendesk'.\n",
      "2025-03-21 10:38:24,601 - INFO - Inserted rows 2500 to 2599 into 'HRC_Zendesk'.\n",
      "2025-03-21 10:38:25,324 - INFO - Inserted rows 2600 to 2699 into 'HRC_Zendesk'.\n",
      "2025-03-21 10:38:26,047 - INFO - Inserted rows 2700 to 2799 into 'HRC_Zendesk'.\n",
      "2025-03-21 10:38:26,764 - INFO - Inserted rows 2800 to 2899 into 'HRC_Zendesk'.\n",
      "2025-03-21 10:38:27,463 - INFO - Inserted rows 2900 to 2999 into 'HRC_Zendesk'.\n",
      "2025-03-21 10:38:28,184 - INFO - Inserted rows 3000 to 3099 into 'HRC_Zendesk'.\n",
      "2025-03-21 10:38:28,812 - INFO - Inserted rows 3100 to 3199 into 'HRC_Zendesk'.\n",
      "2025-03-21 10:38:29,116 - INFO - Inserted rows 3200 to 3299 into 'HRC_Zendesk'.\n",
      "2025-03-21 10:38:29,116 - INFO - Upsert complete. Collection 'HRC_Zendesk' updated with no duplicates.\n"
     ]
    }
   ],
   "execution_count": 8
  }
 ],
 "metadata": {
  "kernelspec": {
   "display_name": "Python 3",
   "language": "python",
   "name": "python3"
  },
  "language_info": {
   "codemirror_mode": {
    "name": "ipython",
    "version": 2
   },
   "file_extension": ".py",
   "mimetype": "text/x-python",
   "name": "python",
   "nbconvert_exporter": "python",
   "pygments_lexer": "ipython2",
   "version": "2.7.6"
  }
 },
 "nbformat": 4,
 "nbformat_minor": 5
}
