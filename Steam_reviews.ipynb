{
 "cells": [
  {
   "cell_type": "code",
   "id": "initial_id",
   "metadata": {
    "collapsed": true,
    "ExecuteTime": {
     "end_time": "2024-11-25T23:08:15.396379Z",
     "start_time": "2024-11-25T23:08:15.377535Z"
    }
   },
   "source": [
    "from helper.steam_scraper import *\n",
    "from helper.utils import *\n",
    "\n",
    "# General modules\n",
    "import os\n",
    "\n",
    "\n",
    "# Paths\n",
    "root_dir = r'C:\\Users\\fbohm\\Desktop\\Projects\\DataScience\\cluster_analysis'\n",
    "path_input = os.path.join(root_dir, \"Data\", \"Into the Dead Our Darkest Days_1511resposnes.xlsx\")\n",
    "\n",
    "path_steam_reviews = os.path.join(root_dir, \"Data\", \"steam_reviews.json\")\n"
   ],
   "outputs": [],
   "execution_count": 4
  },
  {
   "metadata": {
    "ExecuteTime": {
     "end_time": "2024-11-25T23:10:31.331220Z",
     "start_time": "2024-11-25T23:10:26.463816Z"
    }
   },
   "cell_type": "code",
   "source": [
    "params = {\n",
    "    'json': 1,\n",
    "    'filter': 'recent',\n",
    "    'language': 'all',\n",
    "    'day_range': 9223372036854775807,\n",
    "    'review_type': 'all',\n",
    "    'purchase_type': 'all'\n",
    "}\n",
    "\n",
    "appid = 1128810\n",
    "reviews = get_n_reviews(str(appid), 1000, params)\n",
    "\n",
    "save_to_json(reviews, path_steam_reviews)"
   ],
   "id": "f89e0aa2fdc8ae88",
   "outputs": [
    {
     "name": "stderr",
     "output_type": "stream",
     "text": [
      "2024-11-26 12:10:27,115 - INFO - Retrieved 100 reviews so far.\n",
      "2024-11-26 12:10:27,592 - INFO - Retrieved 200 reviews so far.\n",
      "2024-11-26 12:10:28,038 - INFO - Retrieved 300 reviews so far.\n",
      "2024-11-26 12:10:28,484 - INFO - Retrieved 400 reviews so far.\n",
      "2024-11-26 12:10:28,929 - INFO - Retrieved 500 reviews so far.\n",
      "2024-11-26 12:10:29,395 - INFO - Retrieved 600 reviews so far.\n",
      "2024-11-26 12:10:29,914 - INFO - Retrieved 700 reviews so far.\n",
      "2024-11-26 12:10:30,332 - INFO - Retrieved 800 reviews so far.\n",
      "2024-11-26 12:10:30,807 - INFO - Retrieved 900 reviews so far.\n",
      "2024-11-26 12:10:31,273 - INFO - Retrieved 1000 reviews so far.\n",
      "2024-11-26 12:10:31,318 - INFO - Data successfully saved to C:\\Users\\fbohm\\Desktop\\Projects\\DataScience\\cluster_analysis\\Data\\steam_reviews.json\n"
     ]
    }
   ],
   "execution_count": 7
  },
  {
   "metadata": {
    "ExecuteTime": {
     "end_time": "2024-11-25T23:09:28.546308Z",
     "start_time": "2024-11-25T23:09:28.534848Z"
    }
   },
   "cell_type": "code",
   "source": "len(reviews)",
   "id": "476b9859e438d341",
   "outputs": [
    {
     "data": {
      "text/plain": [
       "1000"
      ]
     },
     "execution_count": 6,
     "metadata": {},
     "output_type": "execute_result"
    }
   ],
   "execution_count": 6
  }
 ],
 "metadata": {
  "kernelspec": {
   "display_name": "Python 3",
   "language": "python",
   "name": "python3"
  },
  "language_info": {
   "codemirror_mode": {
    "name": "ipython",
    "version": 2
   },
   "file_extension": ".py",
   "mimetype": "text/x-python",
   "name": "python",
   "nbconvert_exporter": "python",
   "pygments_lexer": "ipython2",
   "version": "2.7.6"
  }
 },
 "nbformat": 4,
 "nbformat_minor": 5
}
