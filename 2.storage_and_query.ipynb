{
 "cells": [
  {
   "cell_type": "code",
   "id": "initial_id",
   "metadata": {
    "collapsed": true,
    "ExecuteTime": {
     "end_time": "2025-03-25T00:11:10.034428Z",
     "start_time": "2025-03-25T00:10:52.755341Z"
    }
   },
   "source": [
    "# First and foremost Data Preparation\n",
    "from helper.chroma_handler import prepare_dataframe\n",
    "\n",
    "# Prepare the DataFrame\n",
    "raw_data = 'S:\\SID\\Analytics\\Working Files\\Individual\\Florian\\Projects\\DataScience\\cluster_analysis\\Data\\HRC\\Zendesk_csv\\db_embedded.json'\n",
    "prepared_dataframe = prepare_dataframe('Zendesk_csv',                   # Project Name (used to distinguish between different data sources)\n",
    "                                       raw_data,\n",
    "                                       output_csv_path=None)           # No output path = no CSV is going to be saved\n"
   ],
   "outputs": [
    {
     "name": "stderr",
     "output_type": "stream",
     "text": [
      "C:\\Users\\fbohm\\Documents\\Venvironments\\.venv\\Lib\\site-packages\\sklearn\\utils\\deprecation.py:151: FutureWarning: 'force_all_finite' was renamed to 'ensure_all_finite' in 1.6 and will be removed in 1.8.\n",
      "  warnings.warn(\n"
     ]
    }
   ],
   "execution_count": 1
  },
  {
   "metadata": {
    "ExecuteTime": {
     "end_time": "2025-03-25T00:11:42.799684Z",
     "start_time": "2025-03-25T00:11:42.795685Z"
    }
   },
   "cell_type": "code",
   "source": [
    "from helper.chroma_handler import upsert_chroma_data\n",
    "import chromadb\n",
    "\n",
    "# Chroma Parameters\n",
    "collection_name = 'HRC_Zendesk' #HRC #DRS\n",
    "persist_dir = r'S:\\SID\\Analytics\\Working Files\\Individual\\Florian\\Projects\\DataScience\\cluster_analysis\\Database\\ChromaDB'  # folder for storing the persistent DB"
   ],
   "id": "49faf9b84416af7b",
   "outputs": [],
   "execution_count": 2
  },
  {
   "metadata": {
    "ExecuteTime": {
     "end_time": "2025-03-25T00:11:51.289458Z",
     "start_time": "2025-03-25T00:11:50.525630Z"
    }
   },
   "cell_type": "code",
   "source": [
    "# Check if collection exists\n",
    "chroma_client = chromadb.PersistentClient(path=persist_dir)\n",
    "collection = chroma_client.get_collection(name=collection_name)\n",
    "collection.count()"
   ],
   "id": "a874f2d542fd52c0",
   "outputs": [
    {
     "ename": "InvalidCollectionException",
     "evalue": "Collection HRC_Zendesk does not exist.",
     "output_type": "error",
     "traceback": [
      "\u001B[1;31m---------------------------------------------------------------------------\u001B[0m",
      "\u001B[1;31mInvalidCollectionException\u001B[0m                Traceback (most recent call last)",
      "Cell \u001B[1;32mIn[5], line 3\u001B[0m\n\u001B[0;32m      1\u001B[0m \u001B[38;5;66;03m# Check if collection exists\u001B[39;00m\n\u001B[0;32m      2\u001B[0m chroma_client \u001B[38;5;241m=\u001B[39m chromadb\u001B[38;5;241m.\u001B[39mPersistentClient(path\u001B[38;5;241m=\u001B[39mpersist_dir)\n\u001B[1;32m----> 3\u001B[0m collection \u001B[38;5;241m=\u001B[39m \u001B[43mchroma_client\u001B[49m\u001B[38;5;241;43m.\u001B[39;49m\u001B[43mget_collection\u001B[49m\u001B[43m(\u001B[49m\u001B[43mname\u001B[49m\u001B[38;5;241;43m=\u001B[39;49m\u001B[43mcollection_name\u001B[49m\u001B[43m)\u001B[49m\n\u001B[0;32m      4\u001B[0m collection\u001B[38;5;241m.\u001B[39mcount()\n",
      "File \u001B[1;32m~\\Documents\\Venvironments\\.venv\\Lib\\site-packages\\chromadb\\api\\client.py:171\u001B[0m, in \u001B[0;36mClient.get_collection\u001B[1;34m(self, name, embedding_function, data_loader)\u001B[0m\n\u001B[0;32m    162\u001B[0m \u001B[38;5;129m@override\u001B[39m\n\u001B[0;32m    163\u001B[0m \u001B[38;5;28;01mdef\u001B[39;00m\u001B[38;5;250m \u001B[39m\u001B[38;5;21mget_collection\u001B[39m(\n\u001B[0;32m    164\u001B[0m     \u001B[38;5;28mself\u001B[39m,\n\u001B[1;32m   (...)\u001B[0m\n\u001B[0;32m    169\u001B[0m     data_loader: Optional[DataLoader[Loadable]] \u001B[38;5;241m=\u001B[39m \u001B[38;5;28;01mNone\u001B[39;00m,\n\u001B[0;32m    170\u001B[0m ) \u001B[38;5;241m-\u001B[39m\u001B[38;5;241m>\u001B[39m Collection:\n\u001B[1;32m--> 171\u001B[0m     model \u001B[38;5;241m=\u001B[39m \u001B[38;5;28;43mself\u001B[39;49m\u001B[38;5;241;43m.\u001B[39;49m\u001B[43m_server\u001B[49m\u001B[38;5;241;43m.\u001B[39;49m\u001B[43mget_collection\u001B[49m\u001B[43m(\u001B[49m\n\u001B[0;32m    172\u001B[0m \u001B[43m        \u001B[49m\u001B[43mname\u001B[49m\u001B[38;5;241;43m=\u001B[39;49m\u001B[43mname\u001B[49m\u001B[43m,\u001B[49m\n\u001B[0;32m    173\u001B[0m \u001B[43m        \u001B[49m\u001B[43mtenant\u001B[49m\u001B[38;5;241;43m=\u001B[39;49m\u001B[38;5;28;43mself\u001B[39;49m\u001B[38;5;241;43m.\u001B[39;49m\u001B[43mtenant\u001B[49m\u001B[43m,\u001B[49m\n\u001B[0;32m    174\u001B[0m \u001B[43m        \u001B[49m\u001B[43mdatabase\u001B[49m\u001B[38;5;241;43m=\u001B[39;49m\u001B[38;5;28;43mself\u001B[39;49m\u001B[38;5;241;43m.\u001B[39;49m\u001B[43mdatabase\u001B[49m\u001B[43m,\u001B[49m\n\u001B[0;32m    175\u001B[0m \u001B[43m    \u001B[49m\u001B[43m)\u001B[49m\n\u001B[0;32m    176\u001B[0m     \u001B[38;5;28;01mreturn\u001B[39;00m Collection(\n\u001B[0;32m    177\u001B[0m         client\u001B[38;5;241m=\u001B[39m\u001B[38;5;28mself\u001B[39m\u001B[38;5;241m.\u001B[39m_server,\n\u001B[0;32m    178\u001B[0m         model\u001B[38;5;241m=\u001B[39mmodel,\n\u001B[0;32m    179\u001B[0m         embedding_function\u001B[38;5;241m=\u001B[39membedding_function,\n\u001B[0;32m    180\u001B[0m         data_loader\u001B[38;5;241m=\u001B[39mdata_loader,\n\u001B[0;32m    181\u001B[0m     )\n",
      "File \u001B[1;32m~\\Documents\\Venvironments\\.venv\\Lib\\site-packages\\chromadb\\telemetry\\opentelemetry\\__init__.py:150\u001B[0m, in \u001B[0;36mtrace_method.<locals>.decorator.<locals>.wrapper\u001B[1;34m(*args, **kwargs)\u001B[0m\n\u001B[0;32m    148\u001B[0m \u001B[38;5;28;01mglobal\u001B[39;00m tracer, granularity\n\u001B[0;32m    149\u001B[0m \u001B[38;5;28;01mif\u001B[39;00m trace_granularity \u001B[38;5;241m<\u001B[39m granularity:\n\u001B[1;32m--> 150\u001B[0m     \u001B[38;5;28;01mreturn\u001B[39;00m \u001B[43mf\u001B[49m\u001B[43m(\u001B[49m\u001B[38;5;241;43m*\u001B[39;49m\u001B[43margs\u001B[49m\u001B[43m,\u001B[49m\u001B[43m \u001B[49m\u001B[38;5;241;43m*\u001B[39;49m\u001B[38;5;241;43m*\u001B[39;49m\u001B[43mkwargs\u001B[49m\u001B[43m)\u001B[49m\n\u001B[0;32m    151\u001B[0m \u001B[38;5;28;01mif\u001B[39;00m \u001B[38;5;129;01mnot\u001B[39;00m tracer:\n\u001B[0;32m    152\u001B[0m     \u001B[38;5;28;01mreturn\u001B[39;00m f(\u001B[38;5;241m*\u001B[39margs, \u001B[38;5;241m*\u001B[39m\u001B[38;5;241m*\u001B[39mkwargs)\n",
      "File \u001B[1;32m~\\Documents\\Venvironments\\.venv\\Lib\\site-packages\\chromadb\\api\\segment.py:103\u001B[0m, in \u001B[0;36mrate_limit.<locals>.wrapper\u001B[1;34m(*args, **kwargs)\u001B[0m\n\u001B[0;32m    100\u001B[0m \u001B[38;5;129m@wraps\u001B[39m(func)\n\u001B[0;32m    101\u001B[0m \u001B[38;5;28;01mdef\u001B[39;00m\u001B[38;5;250m \u001B[39m\u001B[38;5;21mwrapper\u001B[39m(\u001B[38;5;241m*\u001B[39margs: Any, \u001B[38;5;241m*\u001B[39m\u001B[38;5;241m*\u001B[39mkwargs: Any) \u001B[38;5;241m-\u001B[39m\u001B[38;5;241m>\u001B[39m Any:\n\u001B[0;32m    102\u001B[0m     \u001B[38;5;28mself\u001B[39m \u001B[38;5;241m=\u001B[39m args[\u001B[38;5;241m0\u001B[39m]\n\u001B[1;32m--> 103\u001B[0m     \u001B[38;5;28;01mreturn\u001B[39;00m \u001B[38;5;28;43mself\u001B[39;49m\u001B[38;5;241;43m.\u001B[39;49m\u001B[43m_rate_limit_enforcer\u001B[49m\u001B[38;5;241;43m.\u001B[39;49m\u001B[43mrate_limit\u001B[49m\u001B[43m(\u001B[49m\u001B[43mfunc\u001B[49m\u001B[43m)\u001B[49m\u001B[43m(\u001B[49m\u001B[38;5;241;43m*\u001B[39;49m\u001B[43margs\u001B[49m\u001B[43m,\u001B[49m\u001B[43m \u001B[49m\u001B[38;5;241;43m*\u001B[39;49m\u001B[38;5;241;43m*\u001B[39;49m\u001B[43mkwargs\u001B[49m\u001B[43m)\u001B[49m\n",
      "File \u001B[1;32m~\\Documents\\Venvironments\\.venv\\Lib\\site-packages\\chromadb\\rate_limit\\simple_rate_limit\\__init__.py:24\u001B[0m, in \u001B[0;36mSimpleRateLimitEnforcer.rate_limit.<locals>.wrapper\u001B[1;34m(*args, **kwargs)\u001B[0m\n\u001B[0;32m     22\u001B[0m \u001B[38;5;129m@wraps\u001B[39m(func)\n\u001B[0;32m     23\u001B[0m \u001B[38;5;28;01mdef\u001B[39;00m\u001B[38;5;250m \u001B[39m\u001B[38;5;21mwrapper\u001B[39m(\u001B[38;5;241m*\u001B[39margs: Any, \u001B[38;5;241m*\u001B[39m\u001B[38;5;241m*\u001B[39mkwargs: Any) \u001B[38;5;241m-\u001B[39m\u001B[38;5;241m>\u001B[39m Any:\n\u001B[1;32m---> 24\u001B[0m     \u001B[38;5;28;01mreturn\u001B[39;00m \u001B[43mfunc\u001B[49m\u001B[43m(\u001B[49m\u001B[38;5;241;43m*\u001B[39;49m\u001B[43margs\u001B[49m\u001B[43m,\u001B[49m\u001B[43m \u001B[49m\u001B[38;5;241;43m*\u001B[39;49m\u001B[38;5;241;43m*\u001B[39;49m\u001B[43mkwargs\u001B[49m\u001B[43m)\u001B[49m\n",
      "File \u001B[1;32m~\\Documents\\Venvironments\\.venv\\Lib\\site-packages\\chromadb\\api\\segment.py:316\u001B[0m, in \u001B[0;36mSegmentAPI.get_collection\u001B[1;34m(self, name, tenant, database)\u001B[0m\n\u001B[0;32m    314\u001B[0m     \u001B[38;5;28;01mreturn\u001B[39;00m existing[\u001B[38;5;241m0\u001B[39m]\n\u001B[0;32m    315\u001B[0m \u001B[38;5;28;01melse\u001B[39;00m:\n\u001B[1;32m--> 316\u001B[0m     \u001B[38;5;28;01mraise\u001B[39;00m InvalidCollectionException(\u001B[38;5;124mf\u001B[39m\u001B[38;5;124m\"\u001B[39m\u001B[38;5;124mCollection \u001B[39m\u001B[38;5;132;01m{\u001B[39;00mname\u001B[38;5;132;01m}\u001B[39;00m\u001B[38;5;124m does not exist.\u001B[39m\u001B[38;5;124m\"\u001B[39m)\n",
      "\u001B[1;31mInvalidCollectionException\u001B[0m: Collection HRC_Zendesk does not exist."
     ]
    }
   ],
   "execution_count": 5
  },
  {
   "metadata": {
    "ExecuteTime": {
     "end_time": "2025-03-25T00:11:48.102876Z",
     "start_time": "2025-03-25T00:11:47.793361Z"
    }
   },
   "cell_type": "code",
   "source": [
    "# Delete a chroma collection\n",
    "chroma_client.delete_collection(collection_name)"
   ],
   "id": "4c0942a1f8c90965",
   "outputs": [],
   "execution_count": 4
  },
  {
   "metadata": {
    "ExecuteTime": {
     "end_time": "2025-03-25T00:12:11.040098Z",
     "start_time": "2025-03-25T00:11:53.585942Z"
    }
   },
   "cell_type": "code",
   "source": "upsert_chroma_data(prepared_dataframe, collection_name, persist_dir)",
   "id": "34cfe5692076bc26",
   "outputs": [
    {
     "name": "stderr",
     "output_type": "stream",
     "text": [
      "2025-03-25 13:11:53,585 - INFO - Initializing persistent Chroma client via `PersistentClient`.\n",
      "2025-03-25 13:11:53,593 - INFO - Collection 'HRC_Zendesk' does NOT exist. Creating new collection.\n",
      "2025-03-25 13:11:54,047 - INFO - Collection is new. Inserting all 1824 rows.\n",
      "2025-03-25 13:11:55,836 - INFO - Inserted rows 0 to 99 into 'HRC_Zendesk'.\n",
      "2025-03-25 13:11:56,720 - INFO - Inserted rows 100 to 199 into 'HRC_Zendesk'.\n",
      "2025-03-25 13:11:57,597 - INFO - Inserted rows 200 to 299 into 'HRC_Zendesk'.\n",
      "2025-03-25 13:11:58,598 - INFO - Inserted rows 300 to 399 into 'HRC_Zendesk'.\n",
      "2025-03-25 13:11:59,380 - INFO - Inserted rows 400 to 499 into 'HRC_Zendesk'.\n",
      "2025-03-25 13:12:00,047 - INFO - Inserted rows 500 to 599 into 'HRC_Zendesk'.\n",
      "2025-03-25 13:12:00,797 - INFO - Inserted rows 600 to 699 into 'HRC_Zendesk'.\n",
      "2025-03-25 13:12:01,514 - INFO - Inserted rows 700 to 799 into 'HRC_Zendesk'.\n",
      "2025-03-25 13:12:02,248 - INFO - Inserted rows 800 to 899 into 'HRC_Zendesk'.\n",
      "2025-03-25 13:12:03,347 - INFO - Inserted rows 900 to 999 into 'HRC_Zendesk'.\n",
      "2025-03-25 13:12:04,229 - INFO - Inserted rows 1000 to 1099 into 'HRC_Zendesk'.\n",
      "2025-03-25 13:12:05,240 - INFO - Inserted rows 1100 to 1199 into 'HRC_Zendesk'.\n",
      "2025-03-25 13:12:06,106 - INFO - Inserted rows 1200 to 1299 into 'HRC_Zendesk'.\n",
      "2025-03-25 13:12:06,970 - INFO - Inserted rows 1300 to 1399 into 'HRC_Zendesk'.\n",
      "2025-03-25 13:12:07,813 - INFO - Inserted rows 1400 to 1499 into 'HRC_Zendesk'.\n",
      "2025-03-25 13:12:08,871 - INFO - Inserted rows 1500 to 1599 into 'HRC_Zendesk'.\n",
      "2025-03-25 13:12:09,739 - INFO - Inserted rows 1600 to 1699 into 'HRC_Zendesk'.\n",
      "2025-03-25 13:12:10,572 - INFO - Inserted rows 1700 to 1799 into 'HRC_Zendesk'.\n",
      "2025-03-25 13:12:11,032 - INFO - Inserted rows 1800 to 1899 into 'HRC_Zendesk'.\n",
      "2025-03-25 13:12:11,032 - INFO - Upsert complete. Collection 'HRC_Zendesk' updated with no duplicates.\n"
     ]
    }
   ],
   "execution_count": 6
  }
 ],
 "metadata": {
  "kernelspec": {
   "display_name": "Python 3",
   "language": "python",
   "name": "python3"
  },
  "language_info": {
   "codemirror_mode": {
    "name": "ipython",
    "version": 2
   },
   "file_extension": ".py",
   "mimetype": "text/x-python",
   "name": "python",
   "nbconvert_exporter": "python",
   "pygments_lexer": "ipython2",
   "version": "2.7.6"
  }
 },
 "nbformat": 4,
 "nbformat_minor": 5
}
