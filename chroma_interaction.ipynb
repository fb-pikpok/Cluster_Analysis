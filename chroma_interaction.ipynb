{
 "cells": [
  {
   "cell_type": "code",
   "id": "initial_id",
   "metadata": {
    "collapsed": true,
    "ExecuteTime": {
     "end_time": "2025-02-20T01:20:14.518540Z",
     "start_time": "2025-02-20T01:20:09.991380Z"
    }
   },
   "source": [
    "from chroma_handler import *\n",
    "import os\n",
    "import json\n",
    "\n",
    "\n",
    "input_path = r'S:\\SID\\Analytics\\Working Files\\Individual\\Florian\\Projects\\DataScience\\cluster_analysis\\Data\\Backup'\n",
    "google_play = 'Google Play\\db_embedded.json'\n",
    "survey = 'Survey\\db_embedded.json'\n",
    "zendesk = 'Zendesk\\db_embedded.json'\n",
    "\n",
    "google_path = os.path.join(input_path, google_play)\n",
    "survey_path = os.path.join(input_path, survey)\n",
    "zendesk_path = os.path.join(input_path, zendesk)\n",
    "\n",
    "\n",
    "collection_name = 'HRC_multi_source'\n",
    "persist_dir = r'S:\\SID\\Analytics\\Working Files\\Individual\\Florian\\Projects\\DataScience\\cluster_analysis\\Database\\ChromaDB'  # folder name for storing the persistent DB"
   ],
   "outputs": [
    {
     "name": "stderr",
     "output_type": "stream",
     "text": [
      "2025-02-20 14:20:14,504 - INFO - Environment variables loaded.\n"
     ]
    }
   ],
   "execution_count": 1
  },
  {
   "metadata": {
    "ExecuteTime": {
     "end_time": "2025-02-20T01:20:20.064454Z",
     "start_time": "2025-02-20T01:20:16.400976Z"
    }
   },
   "cell_type": "code",
   "source": [
    "# Load the data\n",
    "def prepare_dataframe_test(\n",
    "    input_json_path: str,\n",
    "    output_csv_path: str = None\n",
    ") -> pd.DataFrame:\n",
    "    \"\"\"\n",
    "    1) Load JSON data into a Pandas DataFrame.\n",
    "    2) Rename 'embedding' -> 'embedding_long'.\n",
    "    3) Reduce embedding dimensions to 25 via UMAP, save as 'embedding_short'.\n",
    "    4) Generate ID: 'steam_1', 'steam_2', ...\n",
    "    5) (Optional) Write the resulting DataFrame to a CSV file.\n",
    "    \"\"\"\n",
    "\n",
    "    # 1) Load JSON data\n",
    "    with open(input_json_path, \"r\", encoding=\"utf-8\") as f:\n",
    "        data = json.load(f)  # data is expected to be a list of dicts\n",
    "\n",
    "    df = pd.DataFrame(data)\n",
    "\n",
    "\n",
    "    # 4) Generate an incremental ID: steam_1, steam_2, ...\n",
    "    df[\"pp_id\"] = [f\"steam_{i+1}\" for i in range(len(df))]\n",
    "\n",
    "    # Optionally write to CSV\n",
    "    if output_csv_path:\n",
    "        df.to_csv(output_csv_path, index=False)\n",
    "    return df\n",
    "\n",
    "google_data = prepare_dataframe_test(google_path, output_csv_path=None)           # No output path = no CSV is going to be saved\n",
    "\n",
    "print(\"Preview of the resulting DataFrame:\")\n",
    "print(google_data.head())\n",
    "print(\"\\nNumber of rows:\", len(google_data))"
   ],
   "id": "3d76f9a4efafdb2d",
   "outputs": [
    {
     "name": "stdout",
     "output_type": "stream",
     "text": [
      "Preview of the resulting DataFrame:\n",
      "           userName                                          userImage  score  \\\n",
      "0     Payton Strode  https://play-lh.googleusercontent.com/a/ACg8oc...      5   \n",
      "1     Payton Strode  https://play-lh.googleusercontent.com/a/ACg8oc...      5   \n",
      "2  Rosalie Williams  https://play-lh.googleusercontent.com/a-/ALV-U...      5   \n",
      "3  Rosalie Williams  https://play-lh.googleusercontent.com/a-/ALV-U...      5   \n",
      "4     Sandra Canela  https://play-lh.googleusercontent.com/a-/ALV-U...      5   \n",
      "\n",
      "   thumbsUpCount reviewCreatedVersion replyContent  repliedAt appVersion  \\\n",
      "0              0                 None         None        NaN       None   \n",
      "1              0                 None         None        NaN       None   \n",
      "2              0                 None         None        NaN       None   \n",
      "3              0                 None         None        NaN       None   \n",
      "4              0                 None         None        NaN       None   \n",
      "\n",
      "         longname pp_data_source                          pp_review_id  \\\n",
      "0  com.pikpok.hrc    Google Play  0cc1f7ae-bf3a-4e1a-a5b1-00873f13cd6a   \n",
      "1  com.pikpok.hrc    Google Play  0cc1f7ae-bf3a-4e1a-a5b1-00873f13cd6a   \n",
      "2  com.pikpok.hrc    Google Play  60c6c960-e2b6-4321-bc95-768a5ef3da19   \n",
      "3  com.pikpok.hrc    Google Play  60c6c960-e2b6-4321-bc95-768a5ef3da19   \n",
      "4  com.pikpok.hrc    Google Play  86b3f8ae-5666-4035-9e1e-9ca2082d3718   \n",
      "\n",
      "                                           pp_review  pp_timestamp language  \\\n",
      "0  It is an amazing game, but I have one request....    1739756974  english   \n",
      "1  It is an amazing game, but I have one request....    1739756974  english   \n",
      "2  . It's so good fun I love it I won 20 races! S...    1739719317  english   \n",
      "3  . It's so good fun I love it I won 20 races! S...    1739719317  english   \n",
      "4                                    i love da horse    1739709729  english   \n",
      "\n",
      "                 topic     sentiment category  \\\n",
      "0       Game Enjoyment      Positive     fact   \n",
      "1   Friesians Addition  Inconclusive  request   \n",
      "2            Enjoyment      Positive     fact   \n",
      "3       Recommendation      Positive  request   \n",
      "4  Enjoyment of Horses      Positive     fact   \n",
      "\n",
      "                                            sentence  \\\n",
      "0     It is an amazing game, but I have one request.   \n",
      "1  I hope in the future the Rival Stars adds the ...   \n",
      "2         It's so good fun I love it I won 20 races!   \n",
      "3                                   So DOWLOADIT NOW   \n",
      "4                                   I love da horse.   \n",
      "\n",
      "                                           embedding    pp_id  \n",
      "0  [-0.01241164281964302, 0.010417025536298752, -...  steam_1  \n",
      "1  [-0.03838688135147095, -0.02864813804626465, -...  steam_2  \n",
      "2  [0.034922853112220764, 0.007044955622404814, -...  steam_3  \n",
      "3  [0.015004636719822884, -0.015071205794811249, ...  steam_4  \n",
      "4  [0.011589277535676956, -0.03388111665844917, -...  steam_5  \n",
      "\n",
      "Number of rows: 3226\n"
     ]
    }
   ],
   "execution_count": 2
  },
  {
   "metadata": {
    "ExecuteTime": {
     "end_time": "2025-02-20T01:20:24.355Z",
     "start_time": "2025-02-20T01:20:22.652433Z"
    }
   },
   "cell_type": "code",
   "source": [
    "# Create and populate the database\n",
    "create_and_populate_chroma(google_data, collection_name, persist_dir)"
   ],
   "id": "ef34d488f3d8a8b9",
   "outputs": [
    {
     "name": "stderr",
     "output_type": "stream",
     "text": [
      "2025-02-20 14:20:22,660 - INFO - Initializing persistent Chroma client via `PersistentClient`.\n",
      "2025-02-20 14:20:22,967 - INFO - Anonymized telemetry enabled. See                     https://docs.trychroma.com/telemetry for more information.\n",
      "2025-02-20 14:20:23,107 - INFO - Collection 'HRC_multi_source' already exists. Deleting it.\n",
      "2025-02-20 14:20:23,255 - INFO - Creating new collection 'HRC_multi_source'.\n",
      "2025-02-20 14:20:23,700 - INFO - Converting embedding values to Python lists.\n",
      "2025-02-20 14:20:23,814 - INFO - Inserting 3226 rows into 'HRC_multi_source' in batches of 100.\n"
     ]
    },
    {
     "ename": "ValueError",
     "evalue": "Expected metadata value to be a str, int, float or bool, got None which is a NoneType in add.",
     "output_type": "error",
     "traceback": [
      "\u001B[1;31m---------------------------------------------------------------------------\u001B[0m",
      "\u001B[1;31mValueError\u001B[0m                                Traceback (most recent call last)",
      "File \u001B[1;32m~\\Documents\\Venvironments\\.venv\\Lib\\site-packages\\chromadb\\api\\models\\CollectionCommon.py:90\u001B[0m, in \u001B[0;36mvalidation_context.<locals>.decorator.<locals>.wrapper\u001B[1;34m(self, *args, **kwargs)\u001B[0m\n\u001B[0;32m     89\u001B[0m \u001B[38;5;28;01mtry\u001B[39;00m:\n\u001B[1;32m---> 90\u001B[0m     \u001B[38;5;28;01mreturn\u001B[39;00m \u001B[43mfunc\u001B[49m\u001B[43m(\u001B[49m\u001B[38;5;28;43mself\u001B[39;49m\u001B[43m,\u001B[49m\u001B[43m \u001B[49m\u001B[38;5;241;43m*\u001B[39;49m\u001B[43margs\u001B[49m\u001B[43m,\u001B[49m\u001B[43m \u001B[49m\u001B[38;5;241;43m*\u001B[39;49m\u001B[38;5;241;43m*\u001B[39;49m\u001B[43mkwargs\u001B[49m\u001B[43m)\u001B[49m\n\u001B[0;32m     91\u001B[0m \u001B[38;5;28;01mexcept\u001B[39;00m \u001B[38;5;167;01mException\u001B[39;00m \u001B[38;5;28;01mas\u001B[39;00m e:\n",
      "File \u001B[1;32m~\\Documents\\Venvironments\\.venv\\Lib\\site-packages\\chromadb\\api\\models\\CollectionCommon.py:207\u001B[0m, in \u001B[0;36mCollectionCommon._validate_and_prepare_add_request\u001B[1;34m(self, ids, embeddings, metadatas, documents, images, uris)\u001B[0m\n\u001B[0;32m    206\u001B[0m \u001B[38;5;66;03m# Validate\u001B[39;00m\n\u001B[1;32m--> 207\u001B[0m \u001B[43mvalidate_insert_record_set\u001B[49m\u001B[43m(\u001B[49m\u001B[43mrecord_set\u001B[49m\u001B[38;5;241;43m=\u001B[39;49m\u001B[43madd_records\u001B[49m\u001B[43m)\u001B[49m\n\u001B[0;32m    208\u001B[0m validate_record_set_contains_any(record_set\u001B[38;5;241m=\u001B[39madd_records, contains_any\u001B[38;5;241m=\u001B[39m{\u001B[38;5;124m\"\u001B[39m\u001B[38;5;124mids\u001B[39m\u001B[38;5;124m\"\u001B[39m})\n",
      "File \u001B[1;32m~\\Documents\\Venvironments\\.venv\\Lib\\site-packages\\chromadb\\api\\types.py:230\u001B[0m, in \u001B[0;36mvalidate_insert_record_set\u001B[1;34m(record_set)\u001B[0m\n\u001B[0;32m    229\u001B[0m \u001B[38;5;28;01mif\u001B[39;00m record_set[\u001B[38;5;124m\"\u001B[39m\u001B[38;5;124mmetadatas\u001B[39m\u001B[38;5;124m\"\u001B[39m] \u001B[38;5;129;01mis\u001B[39;00m \u001B[38;5;129;01mnot\u001B[39;00m \u001B[38;5;28;01mNone\u001B[39;00m:\n\u001B[1;32m--> 230\u001B[0m     \u001B[43mvalidate_metadatas\u001B[49m\u001B[43m(\u001B[49m\u001B[43mrecord_set\u001B[49m\u001B[43m[\u001B[49m\u001B[38;5;124;43m\"\u001B[39;49m\u001B[38;5;124;43mmetadatas\u001B[39;49m\u001B[38;5;124;43m\"\u001B[39;49m\u001B[43m]\u001B[49m\u001B[43m)\u001B[49m\n",
      "File \u001B[1;32m~\\Documents\\Venvironments\\.venv\\Lib\\site-packages\\chromadb\\api\\types.py:592\u001B[0m, in \u001B[0;36mvalidate_metadatas\u001B[1;34m(metadatas)\u001B[0m\n\u001B[0;32m    591\u001B[0m \u001B[38;5;28;01mfor\u001B[39;00m metadata \u001B[38;5;129;01min\u001B[39;00m metadatas:\n\u001B[1;32m--> 592\u001B[0m     \u001B[43mvalidate_metadata\u001B[49m\u001B[43m(\u001B[49m\u001B[43mmetadata\u001B[49m\u001B[43m)\u001B[49m\n\u001B[0;32m    593\u001B[0m \u001B[38;5;28;01mreturn\u001B[39;00m metadatas\n",
      "File \u001B[1;32m~\\Documents\\Venvironments\\.venv\\Lib\\site-packages\\chromadb\\api\\types.py:558\u001B[0m, in \u001B[0;36mvalidate_metadata\u001B[1;34m(metadata)\u001B[0m\n\u001B[0;32m    557\u001B[0m     \u001B[38;5;28;01mif\u001B[39;00m \u001B[38;5;129;01mnot\u001B[39;00m \u001B[38;5;28misinstance\u001B[39m(value, \u001B[38;5;28mbool\u001B[39m) \u001B[38;5;129;01mand\u001B[39;00m \u001B[38;5;129;01mnot\u001B[39;00m \u001B[38;5;28misinstance\u001B[39m(value, (\u001B[38;5;28mstr\u001B[39m, \u001B[38;5;28mint\u001B[39m, \u001B[38;5;28mfloat\u001B[39m)):\n\u001B[1;32m--> 558\u001B[0m         \u001B[38;5;28;01mraise\u001B[39;00m \u001B[38;5;167;01mValueError\u001B[39;00m(\n\u001B[0;32m    559\u001B[0m             \u001B[38;5;124mf\u001B[39m\u001B[38;5;124m\"\u001B[39m\u001B[38;5;124mExpected metadata value to be a str, int, float or bool, got \u001B[39m\u001B[38;5;132;01m{\u001B[39;00mvalue\u001B[38;5;132;01m}\u001B[39;00m\u001B[38;5;124m which is a \u001B[39m\u001B[38;5;132;01m{\u001B[39;00m\u001B[38;5;28mtype\u001B[39m(value)\u001B[38;5;241m.\u001B[39m\u001B[38;5;18m__name__\u001B[39m\u001B[38;5;132;01m}\u001B[39;00m\u001B[38;5;124m\"\u001B[39m\n\u001B[0;32m    560\u001B[0m         )\n\u001B[0;32m    561\u001B[0m \u001B[38;5;28;01mreturn\u001B[39;00m metadata\n",
      "\u001B[1;31mValueError\u001B[0m: Expected metadata value to be a str, int, float or bool, got None which is a NoneType",
      "\nDuring handling of the above exception, another exception occurred:\n",
      "\u001B[1;31mValueError\u001B[0m                                Traceback (most recent call last)",
      "Cell \u001B[1;32mIn[3], line 3\u001B[0m\n\u001B[0;32m      1\u001B[0m \u001B[38;5;66;03m# Create and populate the database\u001B[39;00m\n\u001B[1;32m----> 3\u001B[0m \u001B[43mcreate_and_populate_chroma\u001B[49m\u001B[43m(\u001B[49m\u001B[43mgoogle_data\u001B[49m\u001B[43m,\u001B[49m\u001B[43m \u001B[49m\u001B[43mcollection_name\u001B[49m\u001B[43m,\u001B[49m\u001B[43m \u001B[49m\u001B[43mpersist_dir\u001B[49m\u001B[43m)\u001B[49m\n",
      "File \u001B[1;32mS:\\SID\\Analytics\\Working Files\\Individual\\Florian\\Projects\\DataScience\\cluster_analysis\\chroma_handler.py:120\u001B[0m, in \u001B[0;36mcreate_and_populate_chroma\u001B[1;34m(df, collection_name, persist_path)\u001B[0m\n\u001B[0;32m    117\u001B[0m     sub_docs \u001B[38;5;241m=\u001B[39m documents[start_idx:end_idx]\n\u001B[0;32m    118\u001B[0m     sub_metas \u001B[38;5;241m=\u001B[39m metadatas[start_idx:end_idx]\n\u001B[1;32m--> 120\u001B[0m     \u001B[43mcollection\u001B[49m\u001B[38;5;241;43m.\u001B[39;49m\u001B[43madd\u001B[49m\u001B[43m(\u001B[49m\n\u001B[0;32m    121\u001B[0m \u001B[43m        \u001B[49m\u001B[43mids\u001B[49m\u001B[38;5;241;43m=\u001B[39;49m\u001B[43msub_ids\u001B[49m\u001B[43m,\u001B[49m\n\u001B[0;32m    122\u001B[0m \u001B[43m        \u001B[49m\u001B[43membeddings\u001B[49m\u001B[38;5;241;43m=\u001B[39;49m\u001B[43msub_embeddings\u001B[49m\u001B[43m,\u001B[49m\n\u001B[0;32m    123\u001B[0m \u001B[43m        \u001B[49m\u001B[43mdocuments\u001B[49m\u001B[38;5;241;43m=\u001B[39;49m\u001B[43msub_docs\u001B[49m\u001B[43m,\u001B[49m\n\u001B[0;32m    124\u001B[0m \u001B[43m        \u001B[49m\u001B[43mmetadatas\u001B[49m\u001B[38;5;241;43m=\u001B[39;49m\u001B[43msub_metas\u001B[49m\n\u001B[0;32m    125\u001B[0m \u001B[43m    \u001B[49m\u001B[43m)\u001B[49m\n\u001B[0;32m    126\u001B[0m     logger\u001B[38;5;241m.\u001B[39minfo(\u001B[38;5;124mf\u001B[39m\u001B[38;5;124m\"\u001B[39m\u001B[38;5;124mInserted rows \u001B[39m\u001B[38;5;132;01m{\u001B[39;00mstart_idx\u001B[38;5;132;01m}\u001B[39;00m\u001B[38;5;124m to \u001B[39m\u001B[38;5;132;01m{\u001B[39;00mend_idx\u001B[38;5;250m \u001B[39m\u001B[38;5;241m-\u001B[39m\u001B[38;5;250m \u001B[39m\u001B[38;5;241m1\u001B[39m\u001B[38;5;132;01m}\u001B[39;00m\u001B[38;5;124m into the collection.\u001B[39m\u001B[38;5;124m\"\u001B[39m)\n\u001B[0;32m    128\u001B[0m logger\u001B[38;5;241m.\u001B[39minfo(\u001B[38;5;124mf\u001B[39m\u001B[38;5;124m\"\u001B[39m\u001B[38;5;124mCollection \u001B[39m\u001B[38;5;124m'\u001B[39m\u001B[38;5;132;01m{\u001B[39;00mcollection_name\u001B[38;5;132;01m}\u001B[39;00m\u001B[38;5;124m'\u001B[39m\u001B[38;5;124m successfully created and populated at \u001B[39m\u001B[38;5;124m'\u001B[39m\u001B[38;5;132;01m{\u001B[39;00mpersist_path\u001B[38;5;132;01m}\u001B[39;00m\u001B[38;5;124m'\u001B[39m\u001B[38;5;124m. \u001B[39m\u001B[38;5;124m\"\u001B[39m)\n",
      "File \u001B[1;32m~\\Documents\\Venvironments\\.venv\\Lib\\site-packages\\chromadb\\api\\models\\Collection.py:82\u001B[0m, in \u001B[0;36mCollection.add\u001B[1;34m(self, ids, embeddings, metadatas, documents, images, uris)\u001B[0m\n\u001B[0;32m     47\u001B[0m \u001B[38;5;28;01mdef\u001B[39;00m\u001B[38;5;250m \u001B[39m\u001B[38;5;21madd\u001B[39m(\n\u001B[0;32m     48\u001B[0m     \u001B[38;5;28mself\u001B[39m,\n\u001B[0;32m     49\u001B[0m     ids: OneOrMany[ID],\n\u001B[1;32m   (...)\u001B[0m\n\u001B[0;32m     59\u001B[0m     uris: Optional[OneOrMany[URI]] \u001B[38;5;241m=\u001B[39m \u001B[38;5;28;01mNone\u001B[39;00m,\n\u001B[0;32m     60\u001B[0m ) \u001B[38;5;241m-\u001B[39m\u001B[38;5;241m>\u001B[39m \u001B[38;5;28;01mNone\u001B[39;00m:\n\u001B[0;32m     61\u001B[0m \u001B[38;5;250m    \u001B[39m\u001B[38;5;124;03m\"\"\"Add embeddings to the data store.\u001B[39;00m\n\u001B[0;32m     62\u001B[0m \u001B[38;5;124;03m    Args:\u001B[39;00m\n\u001B[0;32m     63\u001B[0m \u001B[38;5;124;03m        ids: The ids of the embeddings you wish to add\u001B[39;00m\n\u001B[1;32m   (...)\u001B[0m\n\u001B[0;32m     79\u001B[0m \n\u001B[0;32m     80\u001B[0m \u001B[38;5;124;03m    \"\"\"\u001B[39;00m\n\u001B[1;32m---> 82\u001B[0m     add_request \u001B[38;5;241m=\u001B[39m \u001B[38;5;28;43mself\u001B[39;49m\u001B[38;5;241;43m.\u001B[39;49m\u001B[43m_validate_and_prepare_add_request\u001B[49m\u001B[43m(\u001B[49m\n\u001B[0;32m     83\u001B[0m \u001B[43m        \u001B[49m\u001B[43mids\u001B[49m\u001B[38;5;241;43m=\u001B[39;49m\u001B[43mids\u001B[49m\u001B[43m,\u001B[49m\n\u001B[0;32m     84\u001B[0m \u001B[43m        \u001B[49m\u001B[43membeddings\u001B[49m\u001B[38;5;241;43m=\u001B[39;49m\u001B[43membeddings\u001B[49m\u001B[43m,\u001B[49m\n\u001B[0;32m     85\u001B[0m \u001B[43m        \u001B[49m\u001B[43mmetadatas\u001B[49m\u001B[38;5;241;43m=\u001B[39;49m\u001B[43mmetadatas\u001B[49m\u001B[43m,\u001B[49m\n\u001B[0;32m     86\u001B[0m \u001B[43m        \u001B[49m\u001B[43mdocuments\u001B[49m\u001B[38;5;241;43m=\u001B[39;49m\u001B[43mdocuments\u001B[49m\u001B[43m,\u001B[49m\n\u001B[0;32m     87\u001B[0m \u001B[43m        \u001B[49m\u001B[43mimages\u001B[49m\u001B[38;5;241;43m=\u001B[39;49m\u001B[43mimages\u001B[49m\u001B[43m,\u001B[49m\n\u001B[0;32m     88\u001B[0m \u001B[43m        \u001B[49m\u001B[43muris\u001B[49m\u001B[38;5;241;43m=\u001B[39;49m\u001B[43muris\u001B[49m\u001B[43m,\u001B[49m\n\u001B[0;32m     89\u001B[0m \u001B[43m    \u001B[49m\u001B[43m)\u001B[49m\n\u001B[0;32m     91\u001B[0m     \u001B[38;5;28mself\u001B[39m\u001B[38;5;241m.\u001B[39m_client\u001B[38;5;241m.\u001B[39m_add(\n\u001B[0;32m     92\u001B[0m         collection_id\u001B[38;5;241m=\u001B[39m\u001B[38;5;28mself\u001B[39m\u001B[38;5;241m.\u001B[39mid,\n\u001B[0;32m     93\u001B[0m         ids\u001B[38;5;241m=\u001B[39madd_request[\u001B[38;5;124m\"\u001B[39m\u001B[38;5;124mids\u001B[39m\u001B[38;5;124m\"\u001B[39m],\n\u001B[1;32m   (...)\u001B[0m\n\u001B[0;32m     99\u001B[0m         database\u001B[38;5;241m=\u001B[39m\u001B[38;5;28mself\u001B[39m\u001B[38;5;241m.\u001B[39mdatabase,\n\u001B[0;32m    100\u001B[0m     )\n",
      "File \u001B[1;32m~\\Documents\\Venvironments\\.venv\\Lib\\site-packages\\chromadb\\api\\models\\CollectionCommon.py:93\u001B[0m, in \u001B[0;36mvalidation_context.<locals>.decorator.<locals>.wrapper\u001B[1;34m(self, *args, **kwargs)\u001B[0m\n\u001B[0;32m     91\u001B[0m \u001B[38;5;28;01mexcept\u001B[39;00m \u001B[38;5;167;01mException\u001B[39;00m \u001B[38;5;28;01mas\u001B[39;00m e:\n\u001B[0;32m     92\u001B[0m     msg \u001B[38;5;241m=\u001B[39m \u001B[38;5;124mf\u001B[39m\u001B[38;5;124m\"\u001B[39m\u001B[38;5;132;01m{\u001B[39;00m\u001B[38;5;28mstr\u001B[39m(e)\u001B[38;5;132;01m}\u001B[39;00m\u001B[38;5;124m in \u001B[39m\u001B[38;5;132;01m{\u001B[39;00mname\u001B[38;5;132;01m}\u001B[39;00m\u001B[38;5;124m.\u001B[39m\u001B[38;5;124m\"\u001B[39m\n\u001B[1;32m---> 93\u001B[0m     \u001B[38;5;28;01mraise\u001B[39;00m \u001B[38;5;28mtype\u001B[39m(e)(msg)\u001B[38;5;241m.\u001B[39mwith_traceback(e\u001B[38;5;241m.\u001B[39m__traceback__)\n",
      "File \u001B[1;32m~\\Documents\\Venvironments\\.venv\\Lib\\site-packages\\chromadb\\api\\models\\CollectionCommon.py:90\u001B[0m, in \u001B[0;36mvalidation_context.<locals>.decorator.<locals>.wrapper\u001B[1;34m(self, *args, **kwargs)\u001B[0m\n\u001B[0;32m     87\u001B[0m \u001B[38;5;129m@functools\u001B[39m\u001B[38;5;241m.\u001B[39mwraps(func)\n\u001B[0;32m     88\u001B[0m \u001B[38;5;28;01mdef\u001B[39;00m\u001B[38;5;250m \u001B[39m\u001B[38;5;21mwrapper\u001B[39m(\u001B[38;5;28mself\u001B[39m: Any, \u001B[38;5;241m*\u001B[39margs: Any, \u001B[38;5;241m*\u001B[39m\u001B[38;5;241m*\u001B[39mkwargs: Any) \u001B[38;5;241m-\u001B[39m\u001B[38;5;241m>\u001B[39m T:\n\u001B[0;32m     89\u001B[0m     \u001B[38;5;28;01mtry\u001B[39;00m:\n\u001B[1;32m---> 90\u001B[0m         \u001B[38;5;28;01mreturn\u001B[39;00m \u001B[43mfunc\u001B[49m\u001B[43m(\u001B[49m\u001B[38;5;28;43mself\u001B[39;49m\u001B[43m,\u001B[49m\u001B[43m \u001B[49m\u001B[38;5;241;43m*\u001B[39;49m\u001B[43margs\u001B[49m\u001B[43m,\u001B[49m\u001B[43m \u001B[49m\u001B[38;5;241;43m*\u001B[39;49m\u001B[38;5;241;43m*\u001B[39;49m\u001B[43mkwargs\u001B[49m\u001B[43m)\u001B[49m\n\u001B[0;32m     91\u001B[0m     \u001B[38;5;28;01mexcept\u001B[39;00m \u001B[38;5;167;01mException\u001B[39;00m \u001B[38;5;28;01mas\u001B[39;00m e:\n\u001B[0;32m     92\u001B[0m         msg \u001B[38;5;241m=\u001B[39m \u001B[38;5;124mf\u001B[39m\u001B[38;5;124m\"\u001B[39m\u001B[38;5;132;01m{\u001B[39;00m\u001B[38;5;28mstr\u001B[39m(e)\u001B[38;5;132;01m}\u001B[39;00m\u001B[38;5;124m in \u001B[39m\u001B[38;5;132;01m{\u001B[39;00mname\u001B[38;5;132;01m}\u001B[39;00m\u001B[38;5;124m.\u001B[39m\u001B[38;5;124m\"\u001B[39m\n",
      "File \u001B[1;32m~\\Documents\\Venvironments\\.venv\\Lib\\site-packages\\chromadb\\api\\models\\CollectionCommon.py:207\u001B[0m, in \u001B[0;36mCollectionCommon._validate_and_prepare_add_request\u001B[1;34m(self, ids, embeddings, metadatas, documents, images, uris)\u001B[0m\n\u001B[0;32m    197\u001B[0m add_records \u001B[38;5;241m=\u001B[39m normalize_insert_record_set(\n\u001B[0;32m    198\u001B[0m     ids\u001B[38;5;241m=\u001B[39mids,\n\u001B[0;32m    199\u001B[0m     embeddings\u001B[38;5;241m=\u001B[39membeddings,\n\u001B[1;32m   (...)\u001B[0m\n\u001B[0;32m    203\u001B[0m     uris\u001B[38;5;241m=\u001B[39muris,\n\u001B[0;32m    204\u001B[0m )\n\u001B[0;32m    206\u001B[0m \u001B[38;5;66;03m# Validate\u001B[39;00m\n\u001B[1;32m--> 207\u001B[0m \u001B[43mvalidate_insert_record_set\u001B[49m\u001B[43m(\u001B[49m\u001B[43mrecord_set\u001B[49m\u001B[38;5;241;43m=\u001B[39;49m\u001B[43madd_records\u001B[49m\u001B[43m)\u001B[49m\n\u001B[0;32m    208\u001B[0m validate_record_set_contains_any(record_set\u001B[38;5;241m=\u001B[39madd_records, contains_any\u001B[38;5;241m=\u001B[39m{\u001B[38;5;124m\"\u001B[39m\u001B[38;5;124mids\u001B[39m\u001B[38;5;124m\"\u001B[39m})\n\u001B[0;32m    210\u001B[0m \u001B[38;5;66;03m# Prepare\u001B[39;00m\n",
      "File \u001B[1;32m~\\Documents\\Venvironments\\.venv\\Lib\\site-packages\\chromadb\\api\\types.py:230\u001B[0m, in \u001B[0;36mvalidate_insert_record_set\u001B[1;34m(record_set)\u001B[0m\n\u001B[0;32m    228\u001B[0m validate_ids(record_set[\u001B[38;5;124m\"\u001B[39m\u001B[38;5;124mids\u001B[39m\u001B[38;5;124m\"\u001B[39m])\n\u001B[0;32m    229\u001B[0m \u001B[38;5;28;01mif\u001B[39;00m record_set[\u001B[38;5;124m\"\u001B[39m\u001B[38;5;124mmetadatas\u001B[39m\u001B[38;5;124m\"\u001B[39m] \u001B[38;5;129;01mis\u001B[39;00m \u001B[38;5;129;01mnot\u001B[39;00m \u001B[38;5;28;01mNone\u001B[39;00m:\n\u001B[1;32m--> 230\u001B[0m     \u001B[43mvalidate_metadatas\u001B[49m\u001B[43m(\u001B[49m\u001B[43mrecord_set\u001B[49m\u001B[43m[\u001B[49m\u001B[38;5;124;43m\"\u001B[39;49m\u001B[38;5;124;43mmetadatas\u001B[39;49m\u001B[38;5;124;43m\"\u001B[39;49m\u001B[43m]\u001B[49m\u001B[43m)\u001B[49m\n",
      "File \u001B[1;32m~\\Documents\\Venvironments\\.venv\\Lib\\site-packages\\chromadb\\api\\types.py:592\u001B[0m, in \u001B[0;36mvalidate_metadatas\u001B[1;34m(metadatas)\u001B[0m\n\u001B[0;32m    590\u001B[0m     \u001B[38;5;28;01mraise\u001B[39;00m \u001B[38;5;167;01mValueError\u001B[39;00m(\u001B[38;5;124mf\u001B[39m\u001B[38;5;124m\"\u001B[39m\u001B[38;5;124mExpected metadatas to be a list, got \u001B[39m\u001B[38;5;132;01m{\u001B[39;00mmetadatas\u001B[38;5;132;01m}\u001B[39;00m\u001B[38;5;124m\"\u001B[39m)\n\u001B[0;32m    591\u001B[0m \u001B[38;5;28;01mfor\u001B[39;00m metadata \u001B[38;5;129;01min\u001B[39;00m metadatas:\n\u001B[1;32m--> 592\u001B[0m     \u001B[43mvalidate_metadata\u001B[49m\u001B[43m(\u001B[49m\u001B[43mmetadata\u001B[49m\u001B[43m)\u001B[49m\n\u001B[0;32m    593\u001B[0m \u001B[38;5;28;01mreturn\u001B[39;00m metadatas\n",
      "File \u001B[1;32m~\\Documents\\Venvironments\\.venv\\Lib\\site-packages\\chromadb\\api\\types.py:558\u001B[0m, in \u001B[0;36mvalidate_metadata\u001B[1;34m(metadata)\u001B[0m\n\u001B[0;32m    556\u001B[0m     \u001B[38;5;66;03m# isinstance(True, int) evaluates to True, so we need to check for bools separately\u001B[39;00m\n\u001B[0;32m    557\u001B[0m     \u001B[38;5;28;01mif\u001B[39;00m \u001B[38;5;129;01mnot\u001B[39;00m \u001B[38;5;28misinstance\u001B[39m(value, \u001B[38;5;28mbool\u001B[39m) \u001B[38;5;129;01mand\u001B[39;00m \u001B[38;5;129;01mnot\u001B[39;00m \u001B[38;5;28misinstance\u001B[39m(value, (\u001B[38;5;28mstr\u001B[39m, \u001B[38;5;28mint\u001B[39m, \u001B[38;5;28mfloat\u001B[39m)):\n\u001B[1;32m--> 558\u001B[0m         \u001B[38;5;28;01mraise\u001B[39;00m \u001B[38;5;167;01mValueError\u001B[39;00m(\n\u001B[0;32m    559\u001B[0m             \u001B[38;5;124mf\u001B[39m\u001B[38;5;124m\"\u001B[39m\u001B[38;5;124mExpected metadata value to be a str, int, float or bool, got \u001B[39m\u001B[38;5;132;01m{\u001B[39;00mvalue\u001B[38;5;132;01m}\u001B[39;00m\u001B[38;5;124m which is a \u001B[39m\u001B[38;5;132;01m{\u001B[39;00m\u001B[38;5;28mtype\u001B[39m(value)\u001B[38;5;241m.\u001B[39m\u001B[38;5;18m__name__\u001B[39m\u001B[38;5;132;01m}\u001B[39;00m\u001B[38;5;124m\"\u001B[39m\n\u001B[0;32m    560\u001B[0m         )\n\u001B[0;32m    561\u001B[0m \u001B[38;5;28;01mreturn\u001B[39;00m metadata\n",
      "\u001B[1;31mValueError\u001B[0m: Expected metadata value to be a str, int, float or bool, got None which is a NoneType in add."
     ]
    }
   ],
   "execution_count": 3
  }
 ],
 "metadata": {
  "kernelspec": {
   "display_name": "Python 3",
   "language": "python",
   "name": "python3"
  },
  "language_info": {
   "codemirror_mode": {
    "name": "ipython",
    "version": 2
   },
   "file_extension": ".py",
   "mimetype": "text/x-python",
   "name": "python",
   "nbconvert_exporter": "python",
   "pygments_lexer": "ipython2",
   "version": "2.7.6"
  }
 },
 "nbformat": 4,
 "nbformat_minor": 5
}
