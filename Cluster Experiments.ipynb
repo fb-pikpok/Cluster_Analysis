{
 "cells": [
  {
   "cell_type": "code",
   "id": "initial_id",
   "metadata": {
    "collapsed": true,
    "ExecuteTime": {
     "end_time": "2025-01-29T19:58:46.197931Z",
     "start_time": "2025-01-29T19:58:43.830744Z"
    }
   },
   "source": [
    "import os\n",
    "import openai\n",
    "from numpy.ma.core import shape\n",
    "\n",
    "from helper.utils import *\n",
    "from dotenv import load_dotenv\n",
    "\n",
    "load_dotenv()\n",
    "openai_api_key = os.getenv(\"OPENAI_API_KEY\")\n",
    "openai.api_key = openai_api_key\n",
    "client = openai.Client()\n",
    "\n",
    "chat_model_name = 'gpt-4o-mini'\n",
    "embed_model_name = \"all-MiniLM-L6-v2\"\n",
    "configure_api(client, chat_model_name)\n",
    "\n",
    "data_source = r'S:\\SID\\Analytics\\Working Files\\Individual\\Florian\\Projects\\DataScience\\cluster_analysis\\Data\\HRC\\Steam'\n",
    "data_storage = r'S:\\SID\\Analytics\\Working Files\\Individual\\Florian\\Projects\\DataScience\\cluster_analysis\\Data\\HRC\\Cluster_tests'\n",
    "\n",
    "path_db_analysed = os.path.join(data_source, \"db_analysed.json\")\n",
    "path_db_embedded = os.path.join(data_source, \"db_embedded.json\")\n",
    "path_db_clustered = os.path.join(data_storage, \"db_clustered.json\")\n",
    "path_db_final = os.path.join(data_storage, \"db_final.json\")"
   ],
   "outputs": [],
   "execution_count": 1
  },
  {
   "metadata": {},
   "cell_type": "markdown",
   "source": "# Extract unique topics",
   "id": "c61422ee630c2bcd"
  },
  {
   "metadata": {
    "ExecuteTime": {
     "end_time": "2025-01-29T19:58:49.190228Z",
     "start_time": "2025-01-29T19:58:47.760036Z"
    }
   },
   "cell_type": "code",
   "source": [
    "# Cluster algorithms force split datapoints even if they are identical. I will replace the embeddings of identical datapoints with the mean of their embeddings.\n",
    "# Load the JSON data\n",
    "data = read_json(path_db_embedded)\n",
    "# data is your JSON array (list of dicts)\n",
    "unique_topics = set()\n",
    "\n",
    "for entry in data:\n",
    "    unique_topics.add(entry['topic'])\n",
    "\n",
    "# Now unique_topics is a set of all topic names\n",
    "print(f'Original topics: {len(data)}')\n",
    "print(f'Unique topics: {len(unique_topics)}')"
   ],
   "id": "f3b03e7684e4b1a8",
   "outputs": [
    {
     "name": "stdout",
     "output_type": "stream",
     "text": [
      "Original topics: 5797\n",
      "Unique topics: 2578\n"
     ]
    }
   ],
   "execution_count": 2
  },
  {
   "metadata": {},
   "cell_type": "markdown",
   "source": "# reduce dimensions",
   "id": "1c054b8bf047f93f"
  },
  {
   "metadata": {
    "ExecuteTime": {
     "end_time": "2025-01-29T19:59:17.186067Z",
     "start_time": "2025-01-29T19:58:51.558254Z"
    }
   },
   "cell_type": "code",
   "source": [
    "# Reduce the dimensions with t-SNE and replace the old embeddings with the new ones\n",
    "from sklearn.manifold import TSNE\n",
    "import umap\n",
    "import matplotlib.pyplot as plt\n",
    "\n",
    "data = read_json(path_db_embedded)\n",
    "# Gather all embeddings\n",
    "embeddings = [entry['embedding'] for entry in data]\n",
    "\n",
    "# Convert to numpy array\n",
    "X = np.array(embeddings)\n",
    "\n",
    "# Perform t-SNE\n",
    "# X_embedded = TSNE(n_components=3).fit_transform(X)\n",
    "\n",
    "# Perform UMAP\n",
    "X_embedded = umap.UMAP(n_components=12).fit_transform(X)\n",
    "\n",
    "# Update the embeddings in the data\n",
    "for i, entry in enumerate(data):\n",
    "    entry['embedding'] = X_embedded[i].tolist()\n",
    "\n",
    "# Save the updated data\n",
    "\n"
   ],
   "id": "3b42b3523c0ce865",
   "outputs": [
    {
     "name": "stderr",
     "output_type": "stream",
     "text": [
      "C:\\Users\\fbohm\\Documents\\Venvironments\\.venv\\Lib\\site-packages\\tqdm\\auto.py:21: TqdmWarning: IProgress not found. Please update jupyter and ipywidgets. See https://ipywidgets.readthedocs.io/en/stable/user_install.html\n",
      "  from .autonotebook import tqdm as notebook_tqdm\n",
      "C:\\Users\\fbohm\\Documents\\Venvironments\\.venv\\Lib\\site-packages\\sklearn\\utils\\deprecation.py:151: FutureWarning: 'force_all_finite' was renamed to 'ensure_all_finite' in 1.6 and will be removed in 1.8.\n",
      "  warnings.warn(\n"
     ]
    }
   ],
   "execution_count": 3
  },
  {
   "metadata": {
    "ExecuteTime": {
     "end_time": "2025-01-29T19:59:35.473715Z",
     "start_time": "2025-01-29T19:59:35.466497Z"
    }
   },
   "cell_type": "code",
   "source": "data[0]",
   "id": "3e1384c99bd5d5fb",
   "outputs": [
    {
     "data": {
      "text/plain": [
       "{'app_id_name': '1166860_Rival_Stars_Horse_Racing_Desktop_Edition',\n",
       " 'recommendationid': 179387177,\n",
       " 'playtime_at_review_minutes': 1775,\n",
       " 'last_played': 1735228376,\n",
       " 'review_text': \"Very detailed and it has lot's to do.\",\n",
       " 'timestamp_updated': 1732047413,\n",
       " 'voted_up': True,\n",
       " 'votes_up': 0,\n",
       " 'votes_funny': 0,\n",
       " 'weighted_vote_score': 0.0,\n",
       " 'steam_purchase': True,\n",
       " 'received_for_free': False,\n",
       " 'written_during_early_access': False,\n",
       " 'language': 'english',\n",
       " 'topic': 'Game Detail',\n",
       " 'sentiment': 'Positive',\n",
       " 'category': 'fact',\n",
       " 'sentence': \"Very detailed and it has lot's to do.\",\n",
       " 'embedding': [10.250261306762695,\n",
       "  0.9153907895088196,\n",
       "  3.830810785293579,\n",
       "  4.515744686126709,\n",
       "  3.7529430389404297,\n",
       "  4.707149982452393,\n",
       "  6.164806365966797,\n",
       "  4.536752700805664,\n",
       "  4.263311386108398,\n",
       "  3.573075771331787,\n",
       "  4.3914618492126465,\n",
       "  5.210045337677002]}"
      ]
     },
     "execution_count": 4,
     "metadata": {},
     "output_type": "execute_result"
    }
   ],
   "execution_count": 4
  },
  {
   "metadata": {
    "ExecuteTime": {
     "end_time": "2025-01-29T19:59:49.244662Z",
     "start_time": "2025-01-29T19:59:49.230303Z"
    }
   },
   "cell_type": "code",
   "source": "save_data = data",
   "id": "606f9fd914b5013e",
   "outputs": [],
   "execution_count": 5
  },
  {
   "metadata": {
    "ExecuteTime": {
     "end_time": "2025-01-29T19:59:52.977727Z",
     "start_time": "2025-01-29T19:59:52.958971Z"
    }
   },
   "cell_type": "code",
   "source": [
    "import numpy as np\n",
    "\n",
    "# Dictionary to store all embeddings for each topic\n",
    "topic_to_embeddings = {topic: [] for topic in unique_topics}\n",
    "\n",
    "# Gather embeddings by topic\n",
    "for entry in data:\n",
    "    topic = entry['topic']\n",
    "    # print(topic)\n",
    "    embedding = entry['embedding']\n",
    "    # print(embedding)\n",
    "    topic_to_embeddings[topic].append(embedding)\n",
    "    # print(topic_to_embeddings[topic])"
   ],
   "id": "d3221bbe030a1398",
   "outputs": [],
   "execution_count": 6
  },
  {
   "metadata": {
    "ExecuteTime": {
     "end_time": "2025-01-29T19:59:55.488839Z",
     "start_time": "2025-01-29T19:59:55.475194Z"
    }
   },
   "cell_type": "code",
   "source": "topic_to_embeddings['Game Detail']",
   "id": "244e86f7a033937",
   "outputs": [
    {
     "data": {
      "text/plain": [
       "[[10.250261306762695,\n",
       "  0.9153907895088196,\n",
       "  3.830810785293579,\n",
       "  4.515744686126709,\n",
       "  3.7529430389404297,\n",
       "  4.707149982452393,\n",
       "  6.164806365966797,\n",
       "  4.536752700805664,\n",
       "  4.263311386108398,\n",
       "  3.573075771331787,\n",
       "  4.3914618492126465,\n",
       "  5.210045337677002],\n",
       " [10.250589370727539,\n",
       "  0.9104607105255127,\n",
       "  3.827085256576538,\n",
       "  4.510655879974365,\n",
       "  3.7494828701019287,\n",
       "  4.708189964294434,\n",
       "  6.161110877990723,\n",
       "  4.535309314727783,\n",
       "  4.260833740234375,\n",
       "  3.573715925216675,\n",
       "  4.3884148597717285,\n",
       "  5.207934379577637],\n",
       " [10.248376846313477,\n",
       "  0.9143823981285095,\n",
       "  3.8335189819335938,\n",
       "  4.520477771759033,\n",
       "  3.7542688846588135,\n",
       "  4.707557678222656,\n",
       "  6.1696882247924805,\n",
       "  4.536090850830078,\n",
       "  4.267821788787842,\n",
       "  3.5718727111816406,\n",
       "  4.390283584594727,\n",
       "  5.207627773284912],\n",
       " [10.24856948852539,\n",
       "  0.9095073342323303,\n",
       "  3.8342905044555664,\n",
       "  4.51556396484375,\n",
       "  3.7518787384033203,\n",
       "  4.708734035491943,\n",
       "  6.176413059234619,\n",
       "  4.532730579376221,\n",
       "  4.264269828796387,\n",
       "  3.571284532546997,\n",
       "  4.388092994689941,\n",
       "  5.206649303436279]]"
      ]
     },
     "execution_count": 7,
     "metadata": {},
     "output_type": "execute_result"
    }
   ],
   "execution_count": 7
  },
  {
   "metadata": {
    "ExecuteTime": {
     "end_time": "2025-01-29T20:00:04.140026Z",
     "start_time": "2025-01-29T20:00:04.105907Z"
    }
   },
   "cell_type": "code",
   "source": [
    "# Calculate mean embedding for each topic\n",
    "topic_to_mean_embedding = {}\n",
    "\n",
    "for topic, embeddings_list in topic_to_embeddings.items():\n",
    "    # Convert to a numpy array for easy mean calculation\n",
    "    np_embeddings = np.array(embeddings_list)\n",
    "    mean_embedding = np.mean(np_embeddings, axis=0)  # Shape will match original embedding dimension\n",
    "\n",
    "    # Store the mean embedding (convert back to list if you want plain Python types)\n",
    "    topic_to_mean_embedding[topic] = mean_embedding.tolist()"
   ],
   "id": "b7073d0a1d95ba90",
   "outputs": [],
   "execution_count": 8
  },
  {
   "metadata": {
    "ExecuteTime": {
     "end_time": "2025-01-29T20:00:06.803158Z",
     "start_time": "2025-01-29T20:00:06.793030Z"
    }
   },
   "cell_type": "code",
   "source": "topic_to_mean_embedding['Game Detail']",
   "id": "1713be335759be69",
   "outputs": [
    {
     "data": {
      "text/plain": [
       "[10.249449253082275,\n",
       " 0.912435308098793,\n",
       " 3.8314263820648193,\n",
       " 4.515610575675964,\n",
       " 3.752143383026123,\n",
       " 4.7079079151153564,\n",
       " 6.168004631996155,\n",
       " 4.5352208614349365,\n",
       " 4.2640591859817505,\n",
       " 3.572487235069275,\n",
       " 4.389563322067261,\n",
       " 5.2080641984939575]"
      ]
     },
     "execution_count": 9,
     "metadata": {},
     "output_type": "execute_result"
    }
   ],
   "execution_count": 9
  },
  {
   "metadata": {
    "ExecuteTime": {
     "end_time": "2025-01-29T02:27:40.772945Z",
     "start_time": "2025-01-29T02:27:40.764152Z"
    }
   },
   "cell_type": "code",
   "source": "(-2.168487071990967 -2.173760414123535 -2.168487071990967 -2.173734426498413) / 4",
   "id": "c545a20aecd4a879",
   "outputs": [
    {
     "data": {
      "text/plain": [
       "-2.1711172461509705"
      ]
     },
     "execution_count": 57,
     "metadata": {},
     "output_type": "execute_result"
    }
   ],
   "execution_count": 57
  },
  {
   "metadata": {
    "ExecuteTime": {
     "end_time": "2025-01-29T20:00:13.930487Z",
     "start_time": "2025-01-29T20:00:13.924262Z"
    }
   },
   "cell_type": "code",
   "source": [
    "for entry in data:\n",
    "    topic = entry['topic']\n",
    "    entry['embedding'] = topic_to_mean_embedding[topic]\n"
   ],
   "id": "2a5ed5646c6157e2",
   "outputs": [],
   "execution_count": 10
  },
  {
   "metadata": {
    "ExecuteTime": {
     "end_time": "2025-01-29T20:01:03.560860Z",
     "start_time": "2025-01-29T20:01:03.555967Z"
    }
   },
   "cell_type": "code",
   "source": "data[0]",
   "id": "8e82df2ff7ba1b33",
   "outputs": [
    {
     "data": {
      "text/plain": [
       "{'app_id_name': '1166860_Rival_Stars_Horse_Racing_Desktop_Edition',\n",
       " 'recommendationid': 179387177,\n",
       " 'playtime_at_review_minutes': 1775,\n",
       " 'last_played': 1735228376,\n",
       " 'review_text': \"Very detailed and it has lot's to do.\",\n",
       " 'timestamp_updated': 1732047413,\n",
       " 'voted_up': True,\n",
       " 'votes_up': 0,\n",
       " 'votes_funny': 0,\n",
       " 'weighted_vote_score': 0.0,\n",
       " 'steam_purchase': True,\n",
       " 'received_for_free': False,\n",
       " 'written_during_early_access': False,\n",
       " 'language': 'english',\n",
       " 'topic': 'Game Detail',\n",
       " 'sentiment': 'Positive',\n",
       " 'category': 'fact',\n",
       " 'sentence': \"Very detailed and it has lot's to do.\",\n",
       " 'embedding': [10.249449253082275,\n",
       "  0.912435308098793,\n",
       "  3.8314263820648193,\n",
       "  4.515610575675964,\n",
       "  3.752143383026123,\n",
       "  4.7079079151153564,\n",
       "  6.168004631996155,\n",
       "  4.5352208614349365,\n",
       "  4.2640591859817505,\n",
       "  3.572487235069275,\n",
       "  4.389563322067261,\n",
       "  5.2080641984939575]}"
      ]
     },
     "execution_count": 14,
     "metadata": {},
     "output_type": "execute_result"
    }
   ],
   "execution_count": 14
  },
  {
   "metadata": {},
   "cell_type": "markdown",
   "source": "# Cluster analysis",
   "id": "b21bf74eaa236494"
  },
  {
   "metadata": {
    "ExecuteTime": {
     "end_time": "2025-01-29T20:09:41.696234Z",
     "start_time": "2025-01-29T20:09:14.790534Z"
    }
   },
   "cell_type": "code",
   "source": [
    "# The clustering does not perform to good. Some datapoints that clearly should be in a cluster based on eyeballing and their topic name but they are not. Rather often some points in a dense cluster are categorized as noise.\n",
    "# I will try to improve this by first perform a dimension reduction and then perform clustering. Reason being, that in high dimensions the data might be too sparse for the clustering algorithm to work properly.\n",
    "\n",
    "from helper.cluster_analysis import *\n",
    "from helper.utils import *\n",
    "\n",
    "# Adjustable parameters\n",
    "dimensionality_methods = ['UMAP', 'PCA', 'tSNE']\n",
    "hdbscan_params = {\"min_cluster_size\": 50, \"min_samples\": 2, \"cluster_selection_epsilon\": 0.15}\n",
    "\n",
    "df = pd.DataFrame(data)\n",
    "df = df[df['embedding'].apply(lambda x: isinstance(x, list) and len(x) > 0)]\n",
    "print(f\"Loaded {len(df)} valid entries with embeddings.\")\n",
    "\n",
    "# Extract embeddings\n",
    "mat = np.array(df['embedding'].tolist())\n",
    "\n",
    "hdbscan_clusterer = hdbscan.HDBSCAN(**hdbscan_params)\n",
    "cluster_labels = hdbscan_clusterer.fit_predict(mat)\n",
    "\n",
    "reduction_results = {}\n",
    "\n",
    "for method in dimensionality_methods:\n",
    "    coords_2d = dimensionality_reduction(mat, method, n_components=2)\n",
    "    reduction_results[f'{method}_2D'] = {\n",
    "        'x': coords_2d[:, 0],\n",
    "        'y': coords_2d[:, 1]\n",
    "    }\n",
    "\n",
    "# 3D Reduction\n",
    "    coords_3d = dimensionality_reduction(mat, method, n_components=3)\n",
    "    reduction_results[f'{method}_3D'] = {\n",
    "        'x': coords_3d[:, 0],\n",
    "        'y': coords_3d[:, 1],\n",
    "        'z': coords_3d[:, 2]\n",
    "    }\n",
    "\n",
    "# Add dimensional coordinates to DataFrame\n",
    "for method_dim, coords in reduction_results.items():\n",
    "    for axis, values in coords.items():\n",
    "        df[f'{method_dim}_{axis}'] = values\n",
    "\n",
    "# Add the cluster labels to the DataFrame\n",
    "df['cluster_id'] = cluster_labels\n"
   ],
   "id": "d54eafaca5a45ece",
   "outputs": [
    {
     "name": "stderr",
     "output_type": "stream",
     "text": [
      "C:\\Users\\fbohm\\Documents\\Venvironments\\.venv\\Lib\\site-packages\\sklearn\\utils\\deprecation.py:151: FutureWarning: 'force_all_finite' was renamed to 'ensure_all_finite' in 1.6 and will be removed in 1.8.\n",
      "  warnings.warn(\n",
      "C:\\Users\\fbohm\\Documents\\Venvironments\\.venv\\Lib\\site-packages\\sklearn\\utils\\deprecation.py:151: FutureWarning: 'force_all_finite' was renamed to 'ensure_all_finite' in 1.6 and will be removed in 1.8.\n",
      "  warnings.warn(\n",
      "2025-01-30 09:09:15,304 - INFO - Applying UMAP with 2 components.\n"
     ]
    },
    {
     "name": "stdout",
     "output_type": "stream",
     "text": [
      "Loaded 5797 valid entries with embeddings.\n"
     ]
    },
    {
     "name": "stderr",
     "output_type": "stream",
     "text": [
      "C:\\Users\\fbohm\\Documents\\Venvironments\\.venv\\Lib\\site-packages\\sklearn\\utils\\deprecation.py:151: FutureWarning: 'force_all_finite' was renamed to 'ensure_all_finite' in 1.6 and will be removed in 1.8.\n",
      "  warnings.warn(\n",
      "C:\\Users\\fbohm\\Documents\\Venvironments\\.venv\\Lib\\site-packages\\sklearn\\manifold\\_spectral_embedding.py:455: UserWarning: Exited at iteration 2000 with accuracies \n",
      "[5.45539342e-15 1.48931072e-06 1.50321232e-06 1.23879171e-05]\n",
      "not reaching the requested tolerance 1.817941665649414e-06.\n",
      "Use iteration 1149 instead with accuracy \n",
      "1.0064173185583427e-06.\n",
      "\n",
      "  _, diffusion_map = lobpcg(\n",
      "C:\\Users\\fbohm\\Documents\\Venvironments\\.venv\\Lib\\site-packages\\sklearn\\manifold\\_spectral_embedding.py:455: UserWarning: Exited postprocessing with accuracies \n",
      "[2.29703430e-15 4.86256749e-07 5.30348495e-07 3.00907056e-06]\n",
      "not reaching the requested tolerance 1.817941665649414e-06.\n",
      "  _, diffusion_map = lobpcg(\n",
      "C:\\Users\\fbohm\\Documents\\Venvironments\\.venv\\Lib\\site-packages\\umap\\spectral.py:548: UserWarning: Spectral initialisation failed! The eigenvector solver\n",
      "failed. This is likely due to too small an eigengap. Consider\n",
      "adding some noise or jitter to your data.\n",
      "\n",
      "Falling back to random initialisation!\n",
      "  warn(\n",
      "C:\\Users\\fbohm\\Documents\\Venvironments\\.venv\\Lib\\site-packages\\umap\\spectral.py:548: UserWarning: Spectral initialisation failed! The eigenvector solver\n",
      "failed. This is likely due to too small an eigengap. Consider\n",
      "adding some noise or jitter to your data.\n",
      "\n",
      "Falling back to random initialisation!\n",
      "  warn(\n",
      "C:\\Users\\fbohm\\Documents\\Venvironments\\.venv\\Lib\\site-packages\\umap\\spectral.py:548: UserWarning: Spectral initialisation failed! The eigenvector solver\n",
      "failed. This is likely due to too small an eigengap. Consider\n",
      "adding some noise or jitter to your data.\n",
      "\n",
      "Falling back to random initialisation!\n",
      "  warn(\n",
      "2025-01-30 09:09:17,496 - INFO - Applying UMAP with 3 components.\n",
      "C:\\Users\\fbohm\\Documents\\Venvironments\\.venv\\Lib\\site-packages\\sklearn\\utils\\deprecation.py:151: FutureWarning: 'force_all_finite' was renamed to 'ensure_all_finite' in 1.6 and will be removed in 1.8.\n",
      "  warnings.warn(\n",
      "C:\\Users\\fbohm\\Documents\\Venvironments\\.venv\\Lib\\site-packages\\sklearn\\manifold\\_spectral_embedding.py:455: UserWarning: Exited at iteration 2000 with accuracies \n",
      "[6.70244769e-13 4.90045056e-07 4.54334645e-07 4.75139506e-07\n",
      " 7.50753537e-06]\n",
      "not reaching the requested tolerance 1.8030405044555664e-06.\n",
      "Use iteration 1630 instead with accuracy \n",
      "8.878751938644279e-07.\n",
      "\n",
      "  _, diffusion_map = lobpcg(\n",
      "C:\\Users\\fbohm\\Documents\\Venvironments\\.venv\\Lib\\site-packages\\sklearn\\manifold\\_spectral_embedding.py:455: UserWarning: Exited postprocessing with accuracies \n",
      "[1.29794090e-13 4.97145631e-07 4.62972859e-07 4.81957299e-07\n",
      " 2.99729291e-06]\n",
      "not reaching the requested tolerance 1.8030405044555664e-06.\n",
      "  _, diffusion_map = lobpcg(\n",
      "2025-01-30 09:09:19,423 - INFO - Applying PCA with 2 components.\n",
      "2025-01-30 09:09:19,428 - INFO - Applying PCA with 3 components.\n",
      "2025-01-30 09:09:19,430 - INFO - Applying tSNE with 2 components.\n",
      "2025-01-30 09:09:19,432 - INFO - Perplexity not provided, setting to 30 based on sample size.\n",
      "2025-01-30 09:09:27,808 - INFO - Applying tSNE with 3 components.\n",
      "2025-01-30 09:09:27,810 - INFO - Perplexity not provided, setting to 30 based on sample size.\n"
     ]
    }
   ],
   "execution_count": 15
  },
  {
   "metadata": {
    "ExecuteTime": {
     "end_time": "2025-01-29T20:09:59.280113Z",
     "start_time": "2025-01-29T20:09:59.268837Z"
    }
   },
   "cell_type": "code",
   "source": "df.head()",
   "id": "a329230dea157621",
   "outputs": [
    {
     "data": {
      "text/plain": [
       "                                        app_id_name  recommendationid  \\\n",
       "0  1166860_Rival_Stars_Horse_Racing_Desktop_Edition         179387177   \n",
       "1  1166860_Rival_Stars_Horse_Racing_Desktop_Edition         178743676   \n",
       "2  1166860_Rival_Stars_Horse_Racing_Desktop_Edition         178743676   \n",
       "3  1166860_Rival_Stars_Horse_Racing_Desktop_Edition         178350425   \n",
       "4  1166860_Rival_Stars_Horse_Racing_Desktop_Edition         177351085   \n",
       "\n",
       "   playtime_at_review_minutes  last_played  \\\n",
       "0                        1775   1735228376   \n",
       "1                        1016   1731228389   \n",
       "2                        1016   1731228389   \n",
       "3                        2492   1736827844   \n",
       "4                        3678   1729362177   \n",
       "\n",
       "                                         review_text  timestamp_updated  \\\n",
       "0              Very detailed and it has lot's to do.         1732047413   \n",
       "1  definitely a favourite go-to game of mine, I c...         1731227648   \n",
       "2  definitely a favourite go-to game of mine, I c...         1731227648   \n",
       "3  i love this game one phone and pc. i just wish...         1730675154   \n",
       "4  \"It's wonderful, simply one of the best horse ...         1729361303   \n",
       "\n",
       "   voted_up  votes_up  votes_funny  weighted_vote_score  ...  PCA_2D_y  \\\n",
       "0      True         0            0             0.000000  ... -0.568135   \n",
       "1      True         9            0             0.652082  ...  1.695222   \n",
       "2      True         9            0             0.652082  ...  1.803372   \n",
       "3      True         0            0             0.000000  ...  1.454440   \n",
       "4      True         0            0             0.000000  ...  2.763658   \n",
       "\n",
       "    PCA_3D_x  PCA_3D_y   PCA_3D_z  tSNE_2D_x  tSNE_2D_y  tSNE_3D_x  tSNE_3D_y  \\\n",
       "0   0.681735 -0.568135   0.795651 -11.443602  -5.308172 -10.599676  -0.169257   \n",
       "1 -11.549797  1.695222  -0.141733 -57.855373  20.379818 -20.790731   1.832306   \n",
       "2   3.464440  1.803372 -16.562259  -7.793510  45.615433   3.165056   0.021274   \n",
       "3   2.097897  1.454440   1.276368  21.608898  24.011642   8.558475  15.149671   \n",
       "4   3.153257  2.763658   2.007338  68.333778   9.927643  12.309410   2.273433   \n",
       "\n",
       "   tSNE_3D_z  cluster_id  \n",
       "0 -11.246475          -1  \n",
       "1  -8.828346           6  \n",
       "2 -26.633314           4  \n",
       "3   5.031723          35  \n",
       "4  32.916172          -1  \n",
       "\n",
       "[5 rows x 35 columns]"
      ],
      "text/html": [
       "<div>\n",
       "<style scoped>\n",
       "    .dataframe tbody tr th:only-of-type {\n",
       "        vertical-align: middle;\n",
       "    }\n",
       "\n",
       "    .dataframe tbody tr th {\n",
       "        vertical-align: top;\n",
       "    }\n",
       "\n",
       "    .dataframe thead th {\n",
       "        text-align: right;\n",
       "    }\n",
       "</style>\n",
       "<table border=\"1\" class=\"dataframe\">\n",
       "  <thead>\n",
       "    <tr style=\"text-align: right;\">\n",
       "      <th></th>\n",
       "      <th>app_id_name</th>\n",
       "      <th>recommendationid</th>\n",
       "      <th>playtime_at_review_minutes</th>\n",
       "      <th>last_played</th>\n",
       "      <th>review_text</th>\n",
       "      <th>timestamp_updated</th>\n",
       "      <th>voted_up</th>\n",
       "      <th>votes_up</th>\n",
       "      <th>votes_funny</th>\n",
       "      <th>weighted_vote_score</th>\n",
       "      <th>...</th>\n",
       "      <th>PCA_2D_y</th>\n",
       "      <th>PCA_3D_x</th>\n",
       "      <th>PCA_3D_y</th>\n",
       "      <th>PCA_3D_z</th>\n",
       "      <th>tSNE_2D_x</th>\n",
       "      <th>tSNE_2D_y</th>\n",
       "      <th>tSNE_3D_x</th>\n",
       "      <th>tSNE_3D_y</th>\n",
       "      <th>tSNE_3D_z</th>\n",
       "      <th>cluster_id</th>\n",
       "    </tr>\n",
       "  </thead>\n",
       "  <tbody>\n",
       "    <tr>\n",
       "      <th>0</th>\n",
       "      <td>1166860_Rival_Stars_Horse_Racing_Desktop_Edition</td>\n",
       "      <td>179387177</td>\n",
       "      <td>1775</td>\n",
       "      <td>1735228376</td>\n",
       "      <td>Very detailed and it has lot's to do.</td>\n",
       "      <td>1732047413</td>\n",
       "      <td>True</td>\n",
       "      <td>0</td>\n",
       "      <td>0</td>\n",
       "      <td>0.000000</td>\n",
       "      <td>...</td>\n",
       "      <td>-0.568135</td>\n",
       "      <td>0.681735</td>\n",
       "      <td>-0.568135</td>\n",
       "      <td>0.795651</td>\n",
       "      <td>-11.443602</td>\n",
       "      <td>-5.308172</td>\n",
       "      <td>-10.599676</td>\n",
       "      <td>-0.169257</td>\n",
       "      <td>-11.246475</td>\n",
       "      <td>-1</td>\n",
       "    </tr>\n",
       "    <tr>\n",
       "      <th>1</th>\n",
       "      <td>1166860_Rival_Stars_Horse_Racing_Desktop_Edition</td>\n",
       "      <td>178743676</td>\n",
       "      <td>1016</td>\n",
       "      <td>1731228389</td>\n",
       "      <td>definitely a favourite go-to game of mine, I c...</td>\n",
       "      <td>1731227648</td>\n",
       "      <td>True</td>\n",
       "      <td>9</td>\n",
       "      <td>0</td>\n",
       "      <td>0.652082</td>\n",
       "      <td>...</td>\n",
       "      <td>1.695222</td>\n",
       "      <td>-11.549797</td>\n",
       "      <td>1.695222</td>\n",
       "      <td>-0.141733</td>\n",
       "      <td>-57.855373</td>\n",
       "      <td>20.379818</td>\n",
       "      <td>-20.790731</td>\n",
       "      <td>1.832306</td>\n",
       "      <td>-8.828346</td>\n",
       "      <td>6</td>\n",
       "    </tr>\n",
       "    <tr>\n",
       "      <th>2</th>\n",
       "      <td>1166860_Rival_Stars_Horse_Racing_Desktop_Edition</td>\n",
       "      <td>178743676</td>\n",
       "      <td>1016</td>\n",
       "      <td>1731228389</td>\n",
       "      <td>definitely a favourite go-to game of mine, I c...</td>\n",
       "      <td>1731227648</td>\n",
       "      <td>True</td>\n",
       "      <td>9</td>\n",
       "      <td>0</td>\n",
       "      <td>0.652082</td>\n",
       "      <td>...</td>\n",
       "      <td>1.803372</td>\n",
       "      <td>3.464440</td>\n",
       "      <td>1.803372</td>\n",
       "      <td>-16.562259</td>\n",
       "      <td>-7.793510</td>\n",
       "      <td>45.615433</td>\n",
       "      <td>3.165056</td>\n",
       "      <td>0.021274</td>\n",
       "      <td>-26.633314</td>\n",
       "      <td>4</td>\n",
       "    </tr>\n",
       "    <tr>\n",
       "      <th>3</th>\n",
       "      <td>1166860_Rival_Stars_Horse_Racing_Desktop_Edition</td>\n",
       "      <td>178350425</td>\n",
       "      <td>2492</td>\n",
       "      <td>1736827844</td>\n",
       "      <td>i love this game one phone and pc. i just wish...</td>\n",
       "      <td>1730675154</td>\n",
       "      <td>True</td>\n",
       "      <td>0</td>\n",
       "      <td>0</td>\n",
       "      <td>0.000000</td>\n",
       "      <td>...</td>\n",
       "      <td>1.454440</td>\n",
       "      <td>2.097897</td>\n",
       "      <td>1.454440</td>\n",
       "      <td>1.276368</td>\n",
       "      <td>21.608898</td>\n",
       "      <td>24.011642</td>\n",
       "      <td>8.558475</td>\n",
       "      <td>15.149671</td>\n",
       "      <td>5.031723</td>\n",
       "      <td>35</td>\n",
       "    </tr>\n",
       "    <tr>\n",
       "      <th>4</th>\n",
       "      <td>1166860_Rival_Stars_Horse_Racing_Desktop_Edition</td>\n",
       "      <td>177351085</td>\n",
       "      <td>3678</td>\n",
       "      <td>1729362177</td>\n",
       "      <td>\"It's wonderful, simply one of the best horse ...</td>\n",
       "      <td>1729361303</td>\n",
       "      <td>True</td>\n",
       "      <td>0</td>\n",
       "      <td>0</td>\n",
       "      <td>0.000000</td>\n",
       "      <td>...</td>\n",
       "      <td>2.763658</td>\n",
       "      <td>3.153257</td>\n",
       "      <td>2.763658</td>\n",
       "      <td>2.007338</td>\n",
       "      <td>68.333778</td>\n",
       "      <td>9.927643</td>\n",
       "      <td>12.309410</td>\n",
       "      <td>2.273433</td>\n",
       "      <td>32.916172</td>\n",
       "      <td>-1</td>\n",
       "    </tr>\n",
       "  </tbody>\n",
       "</table>\n",
       "<p>5 rows × 35 columns</p>\n",
       "</div>"
      ]
     },
     "execution_count": 17,
     "metadata": {},
     "output_type": "execute_result"
    }
   ],
   "execution_count": 17
  },
  {
   "metadata": {
    "ExecuteTime": {
     "end_time": "2025-01-29T20:10:23.793406Z",
     "start_time": "2025-01-29T20:10:22.913961Z"
    }
   },
   "cell_type": "code",
   "source": "save_df_as_json(df, path_db_clustered)",
   "id": "610851bfb07a0050",
   "outputs": [
    {
     "name": "stderr",
     "output_type": "stream",
     "text": [
      "2025-01-30 09:10:22,913 - INFO - Saving data to S:\\SID\\Analytics\\Working Files\\Individual\\Florian\\Projects\\DataScience\\cluster_analysis\\Data\\HRC\\Cluster_tests\\db_clustered.json\n"
     ]
    }
   ],
   "execution_count": 18
  },
  {
   "metadata": {},
   "cell_type": "markdown",
   "source": "# Cluster Naming",
   "id": "afbc3f4a64dc645d"
  },
  {
   "metadata": {
    "ExecuteTime": {
     "end_time": "2025-01-29T20:11:04.049792Z",
     "start_time": "2025-01-29T20:10:26.737385Z"
    }
   },
   "cell_type": "code",
   "source": [
    "from helper.cluster_naming import *\n",
    "\n",
    "api_settings = {\"client\": client, \"model\": chat_model_name}\n",
    "\n",
    "data_cluster = read_json(path_db_clustered)\n",
    "\n",
    "unique_cluster_names = {}\n",
    "\n",
    "df = pd.DataFrame(data_cluster)\n",
    "df = df[df['embedding'].apply(lambda x: isinstance(x, list) and len(x) > 0)]\n",
    "print(f\"Loaded {len(df)} valid entries with embeddings.\")\n",
    "\n",
    "\n",
    "unique_clusters = df['cluster_id'].unique()\n",
    "\n",
    "for cluster_id in unique_clusters:\n",
    "    if cluster_id == -1:  # Skip noise clusters\n",
    "        continue\n",
    "\n",
    "    # Find the 10 most centric points in the cluster and store them in a list named 'topics'\n",
    "    cluster_data = df[df['cluster_id'] == cluster_id]\n",
    "    cluster_embeddings = np.array(cluster_data['embedding'].tolist())\n",
    "    cluster_centroid = np.mean(cluster_embeddings, axis=0)\n",
    "    cluster_centroid = cluster_centroid.tolist()\n",
    "\n",
    "    distances = cosine_distances([cluster_centroid], cluster_embeddings).flatten()\n",
    "    closest_indices = np.argsort(distances)[:10]\n",
    "    representative_topics = cluster_data.iloc[closest_indices]['sentence'].tolist()\n",
    "\n",
    "    #print(representative_topics)\n",
    "\n",
    "    # Generate or retrieve cluster name\n",
    "    if cluster_id not in unique_cluster_names:\n",
    "        cluster_name = generate_cluster_name(representative_topics, api_settings)\n",
    "        unique_cluster_names[cluster_id] = cluster_name\n",
    "\n"
   ],
   "id": "605f73fe9d66565c",
   "outputs": [
    {
     "name": "stdout",
     "output_type": "stream",
     "text": [
      "Loaded 5797 valid entries with embeddings.\n"
     ]
    },
    {
     "name": "stderr",
     "output_type": "stream",
     "text": [
      "2025-01-30 09:10:29,542 - INFO - Generated cluster name: Horse Ownership and Breeding Dynamics\n",
      "2025-01-30 09:10:29,542 - INFO - Tokens used so far: Prompt Tokens: 205, Completion Tokens: 7\n",
      "2025-01-30 09:10:30,126 - INFO - Generated cluster name: Game Appreciation and Enthusiasm\n",
      "2025-01-30 09:10:30,126 - INFO - Tokens used so far: Prompt Tokens: 345, Completion Tokens: 13\n",
      "2025-01-30 09:10:30,913 - INFO - Generated cluster name: \"Update Delays: Mobile vs. PC\"\n",
      "2025-01-30 09:10:30,913 - INFO - Tokens used so far: Prompt Tokens: 564, Completion Tokens: 24\n",
      "2025-01-30 09:10:33,798 - INFO - Generated cluster name: Mobile vs. PC Game Experience\n",
      "2025-01-30 09:10:33,798 - INFO - Tokens used so far: Prompt Tokens: 797, Completion Tokens: 31\n",
      "2025-01-30 09:10:34,398 - INFO - Generated cluster name: Horse Game Opinions and Feedback\n",
      "2025-01-30 09:10:34,398 - INFO - Tokens used so far: Prompt Tokens: 938, Completion Tokens: 37\n",
      "2025-01-30 09:10:35,021 - INFO - Generated cluster name: Addictive and Enjoyable Gaming Experience\n",
      "2025-01-30 09:10:35,021 - INFO - Tokens used so far: Prompt Tokens: 1099, Completion Tokens: 45\n",
      "2025-01-30 09:10:35,792 - INFO - Generated cluster name: Horse Customization Options and Features\n",
      "2025-01-30 09:10:35,792 - INFO - Tokens used so far: Prompt Tokens: 1317, Completion Tokens: 52\n",
      "2025-01-30 09:10:36,364 - INFO - Generated cluster name: Immersive Horse Racing Experience\n",
      "2025-01-30 09:10:36,367 - INFO - Tokens used so far: Prompt Tokens: 1495, Completion Tokens: 59\n",
      "2025-01-30 09:10:40,082 - INFO - Generated cluster name: Value Perception in Gaming\n",
      "2025-01-30 09:10:40,082 - INFO - Tokens used so far: Prompt Tokens: 1696, Completion Tokens: 65\n",
      "2025-01-30 09:10:40,993 - INFO - Generated cluster name: Engaging and Addictive Gaming Experience\n",
      "2025-01-30 09:10:40,993 - INFO - Tokens used so far: Prompt Tokens: 1883, Completion Tokens: 73\n",
      "2025-01-30 09:10:41,482 - INFO - Generated cluster name: Desire for Diverse Breeds\n",
      "2025-01-30 09:10:41,482 - INFO - Tokens used so far: Prompt Tokens: 2067, Completion Tokens: 80\n",
      "2025-01-30 09:10:42,533 - INFO - Generated cluster name: Diverse Racing Gameplay Experience\n",
      "2025-01-30 09:10:42,533 - INFO - Tokens used so far: Prompt Tokens: 2269, Completion Tokens: 86\n",
      "2025-01-30 09:10:42,978 - INFO - Generated cluster name: Social Interaction and Horse Care\n",
      "2025-01-30 09:10:42,984 - INFO - Tokens used so far: Prompt Tokens: 2465, Completion Tokens: 92\n",
      "2025-01-30 09:10:43,544 - INFO - Generated cluster name: Lag and Performance Issues\n",
      "2025-01-30 09:10:43,544 - INFO - Tokens used so far: Prompt Tokens: 2670, Completion Tokens: 97\n",
      "2025-01-30 09:10:44,315 - INFO - Generated cluster name: Racing Experience: Fun vs. Repetitiveness\n",
      "2025-01-30 09:10:44,315 - INFO - Tokens used so far: Prompt Tokens: 2869, Completion Tokens: 109\n",
      "2025-01-30 09:10:45,373 - INFO - Generated cluster name: Horse Racing Game Enthusiasts\n",
      "2025-01-30 09:10:45,373 - INFO - Tokens used so far: Prompt Tokens: 3056, Completion Tokens: 116\n",
      "2025-01-30 09:10:46,826 - INFO - Generated cluster name: Outstanding Horse Simulation Games\n",
      "2025-01-30 09:10:46,826 - INFO - Tokens used so far: Prompt Tokens: 3218, Completion Tokens: 121\n",
      "2025-01-30 09:10:47,645 - INFO - Generated cluster name: Horse Game Modes and Features\n",
      "2025-01-30 09:10:47,645 - INFO - Tokens used so far: Prompt Tokens: 3405, Completion Tokens: 127\n",
      "2025-01-30 09:10:48,230 - INFO - Generated cluster name: Chill and Entertaining Gaming Experience\n",
      "2025-01-30 09:10:48,230 - INFO - Tokens used so far: Prompt Tokens: 3559, Completion Tokens: 136\n",
      "2025-01-30 09:10:48,803 - INFO - Generated cluster name: Game Graphics Praise\n",
      "2025-01-30 09:10:48,803 - INFO - Tokens used so far: Prompt Tokens: 3737, Completion Tokens: 140\n",
      "2025-01-30 09:10:49,540 - INFO - Generated cluster name: Cross Country Enthusiasm and Features\n",
      "2025-01-30 09:10:49,540 - INFO - Tokens used so far: Prompt Tokens: 3936, Completion Tokens: 147\n",
      "2025-01-30 09:10:50,198 - INFO - Generated cluster name: Highly Recommended Horse Game\n",
      "2025-01-30 09:10:50,198 - INFO - Tokens used so far: Prompt Tokens: 4106, Completion Tokens: 152\n",
      "2025-01-30 09:10:50,717 - INFO - Generated cluster name: Diverse Horse Colors and Variations\n",
      "2025-01-30 09:10:50,717 - INFO - Tokens used so far: Prompt Tokens: 4292, Completion Tokens: 160\n",
      "2025-01-30 09:10:51,681 - INFO - Generated cluster name: Game Feedback and Improvement Suggestions\n",
      "2025-01-30 09:10:51,688 - INFO - Tokens used so far: Prompt Tokens: 4481, Completion Tokens: 166\n",
      "2025-01-30 09:10:52,411 - INFO - Generated cluster name: Horse Game Progression Frustrations\n",
      "2025-01-30 09:10:52,411 - INFO - Tokens used so far: Prompt Tokens: 4691, Completion Tokens: 174\n",
      "2025-01-30 09:10:53,329 - INFO - Generated cluster name: Realistic Horse Racing Experience\n",
      "2025-01-30 09:10:53,329 - INFO - Tokens used so far: Prompt Tokens: 4872, Completion Tokens: 180\n",
      "2025-01-30 09:10:53,891 - INFO - Generated cluster name: Price Value and Sales Recommendations\n",
      "2025-01-30 09:10:53,891 - INFO - Tokens used so far: Prompt Tokens: 5113, Completion Tokens: 186\n",
      "2025-01-30 09:10:54,516 - INFO - Generated cluster name: \"Buy on Sale Recommendations\"\n",
      "2025-01-30 09:10:54,532 - INFO - Tokens used so far: Prompt Tokens: 5335, Completion Tokens: 193\n",
      "2025-01-30 09:10:55,076 - INFO - Generated cluster name: Horse Breeding Mechanics and Challenges\n",
      "2025-01-30 09:10:55,076 - INFO - Tokens used so far: Prompt Tokens: 5544, Completion Tokens: 200\n",
      "2025-01-30 09:10:55,724 - INFO - Generated cluster name: Multiplayer Connectivity Issues\n",
      "2025-01-30 09:10:55,724 - INFO - Tokens used so far: Prompt Tokens: 5754, Completion Tokens: 205\n",
      "2025-01-30 09:10:56,376 - INFO - Generated cluster name: Mixed Reviews on Horse Racing Games\n",
      "2025-01-30 09:10:56,376 - INFO - Tokens used so far: Prompt Tokens: 5943, Completion Tokens: 212\n",
      "2025-01-30 09:10:56,912 - INFO - Generated cluster name: Simplified Horse Racing Experience\n",
      "2025-01-30 09:10:56,912 - INFO - Tokens used so far: Prompt Tokens: 6155, Completion Tokens: 218\n",
      "2025-01-30 09:10:57,668 - INFO - Generated cluster name: Horse Creation and Gameplay Perspectives\n",
      "2025-01-30 09:10:57,668 - INFO - Tokens used so far: Prompt Tokens: 6347, Completion Tokens: 224\n",
      "2025-01-30 09:10:59,096 - INFO - Generated cluster name: Game Improvement and Player Feedback\n",
      "2025-01-30 09:10:59,096 - INFO - Tokens used so far: Prompt Tokens: 6576, Completion Tokens: 230\n",
      "2025-01-30 09:10:59,851 - INFO - Generated cluster name: Game Difficulty and Experience Variability\n",
      "2025-01-30 09:10:59,867 - INFO - Tokens used so far: Prompt Tokens: 6796, Completion Tokens: 237\n",
      "2025-01-30 09:11:00,393 - INFO - Generated cluster name: Horse Customization and Personalization\n",
      "2025-01-30 09:11:00,393 - INFO - Tokens used so far: Prompt Tokens: 7029, Completion Tokens: 244\n",
      "2025-01-30 09:11:01,509 - INFO - Generated cluster name: Horse Care and Management Frustrations\n",
      "2025-01-30 09:11:01,509 - INFO - Tokens used so far: Prompt Tokens: 7307, Completion Tokens: 252\n",
      "2025-01-30 09:11:02,039 - INFO - Generated cluster name: Single Currency Gold Economy\n",
      "2025-01-30 09:11:02,039 - INFO - Tokens used so far: Prompt Tokens: 7532, Completion Tokens: 257\n",
      "2025-01-30 09:11:02,734 - INFO - Generated cluster name: Lack of Depth in Horse Games\n",
      "2025-01-30 09:11:02,734 - INFO - Tokens used so far: Prompt Tokens: 7800, Completion Tokens: 265\n",
      "2025-01-30 09:11:03,400 - INFO - Generated cluster name: Engaging Equine Adventure Games\n",
      "2025-01-30 09:11:03,400 - INFO - Tokens used so far: Prompt Tokens: 8027, Completion Tokens: 272\n",
      "2025-01-30 09:11:04,041 - INFO - Generated cluster name: Race Animation Quality and Diversity\n",
      "2025-01-30 09:11:04,041 - INFO - Tokens used so far: Prompt Tokens: 8195, Completion Tokens: 278\n"
     ]
    }
   ],
   "execution_count": 19
  },
  {
   "metadata": {},
   "cell_type": "code",
   "outputs": [],
   "execution_count": null,
   "source": "",
   "id": "b87c81621dd9af68"
  },
  {
   "metadata": {
    "ExecuteTime": {
     "end_time": "2025-01-29T20:14:23.160469Z",
     "start_time": "2025-01-29T20:14:23.143171Z"
    }
   },
   "cell_type": "code",
   "source": "unique_cluster_names",
   "id": "881141b3040bf8df",
   "outputs": [
    {
     "data": {
      "text/plain": [
       "{6: 'Horse Ownership and Breeding Dynamics',\n",
       " 4: 'Game Appreciation and Enthusiasm',\n",
       " 35: '\"Update Delays: Mobile vs. PC\"',\n",
       " 24: 'Mobile vs. PC Game Experience',\n",
       " 10: 'Horse Game Opinions and Feedback',\n",
       " 13: 'Addictive and Enjoyable Gaming Experience',\n",
       " 11: 'Horse Customization Options and Features',\n",
       " 22: 'Immersive Horse Racing Experience',\n",
       " 0: 'Value Perception in Gaming',\n",
       " 20: 'Engaging and Addictive Gaming Experience',\n",
       " 8: 'Desire for Diverse Breeds',\n",
       " 28: 'Diverse Racing Gameplay Experience',\n",
       " 40: 'Social Interaction and Horse Care',\n",
       " 30: 'Lag and Performance Issues',\n",
       " 26: 'Racing Experience: Fun vs. Repetitiveness',\n",
       " 1: 'Horse Racing Game Enthusiasts',\n",
       " 21: 'Outstanding Horse Simulation Games',\n",
       " 34: 'Horse Game Modes and Features',\n",
       " 15: 'Chill and Entertaining Gaming Experience',\n",
       " 2: 'Game Graphics Praise',\n",
       " 25: 'Cross Country Enthusiasm and Features',\n",
       " 14: 'Highly Recommended Horse Game',\n",
       " 7: 'Diverse Horse Colors and Variations',\n",
       " 37: 'Game Feedback and Improvement Suggestions',\n",
       " 31: 'Horse Game Progression Frustrations',\n",
       " 16: 'Realistic Horse Racing Experience',\n",
       " 17: 'Price Value and Sales Recommendations',\n",
       " 18: '\"Buy on Sale Recommendations\"',\n",
       " 9: 'Horse Breeding Mechanics and Challenges',\n",
       " 36: 'Multiplayer Connectivity Issues',\n",
       " 12: 'Mixed Reviews on Horse Racing Games',\n",
       " 39: 'Simplified Horse Racing Experience',\n",
       " 32: 'Horse Creation and Gameplay Perspectives',\n",
       " 38: 'Game Improvement and Player Feedback',\n",
       " 27: 'Game Difficulty and Experience Variability',\n",
       " 5: 'Horse Customization and Personalization',\n",
       " 29: 'Horse Care and Management Frustrations',\n",
       " 3: 'Single Currency Gold Economy',\n",
       " 33: 'Lack of Depth in Horse Games',\n",
       " 23: 'Engaging Equine Adventure Games',\n",
       " 19: 'Race Animation Quality and Diversity'}"
      ]
     },
     "execution_count": 20,
     "metadata": {},
     "output_type": "execute_result"
    }
   ],
   "execution_count": 20
  },
  {
   "metadata": {
    "ExecuteTime": {
     "end_time": "2025-01-29T20:14:35.876198Z",
     "start_time": "2025-01-29T20:14:35.864709Z"
    }
   },
   "cell_type": "code",
   "source": [
    "# store the cluster names\n",
    "df['cluster_name'] = df['cluster_id'].apply(lambda x: unique_cluster_names[x] if x in unique_cluster_names else \"Unknown\")"
   ],
   "id": "659513922d106c79",
   "outputs": [],
   "execution_count": 21
  },
  {
   "metadata": {
    "ExecuteTime": {
     "end_time": "2025-01-29T20:14:37.711068Z",
     "start_time": "2025-01-29T20:14:37.697411Z"
    }
   },
   "cell_type": "code",
   "source": "df.head()",
   "id": "a99629a6c4dca15f",
   "outputs": [
    {
     "data": {
      "text/plain": [
       "                                        app_id_name  recommendationid  \\\n",
       "0  1166860_Rival_Stars_Horse_Racing_Desktop_Edition         179387177   \n",
       "1  1166860_Rival_Stars_Horse_Racing_Desktop_Edition         178743676   \n",
       "2  1166860_Rival_Stars_Horse_Racing_Desktop_Edition         178743676   \n",
       "3  1166860_Rival_Stars_Horse_Racing_Desktop_Edition         178350425   \n",
       "4  1166860_Rival_Stars_Horse_Racing_Desktop_Edition         177351085   \n",
       "\n",
       "   playtime_at_review_minutes  last_played  \\\n",
       "0                        1775   1735228376   \n",
       "1                        1016   1731228389   \n",
       "2                        1016   1731228389   \n",
       "3                        2492   1736827844   \n",
       "4                        3678   1729362177   \n",
       "\n",
       "                                         review_text  timestamp_updated  \\\n",
       "0              Very detailed and it has lot's to do.         1732047413   \n",
       "1  definitely a favourite go-to game of mine, I c...         1731227648   \n",
       "2  definitely a favourite go-to game of mine, I c...         1731227648   \n",
       "3  i love this game one phone and pc. i just wish...         1730675154   \n",
       "4  \"It's wonderful, simply one of the best horse ...         1729361303   \n",
       "\n",
       "   voted_up  votes_up  votes_funny  weighted_vote_score  ...   PCA_3D_x  \\\n",
       "0      True         0            0             0.000000  ...   0.681735   \n",
       "1      True         9            0             0.652082  ... -11.549797   \n",
       "2      True         9            0             0.652082  ...   3.464440   \n",
       "3      True         0            0             0.000000  ...   2.097897   \n",
       "4      True         0            0             0.000000  ...   3.153257   \n",
       "\n",
       "   PCA_3D_y   PCA_3D_z  tSNE_2D_x  tSNE_2D_y  tSNE_3D_x  tSNE_3D_y  tSNE_3D_z  \\\n",
       "0 -0.568135   0.795651 -11.443602  -5.308172 -10.599676  -0.169257 -11.246475   \n",
       "1  1.695222  -0.141733 -57.855373  20.379818 -20.790731   1.832306  -8.828346   \n",
       "2  1.803372 -16.562259  -7.793510  45.615433   3.165056   0.021274 -26.633314   \n",
       "3  1.454440   1.276368  21.608898  24.011642   8.558475  15.149671   5.031723   \n",
       "4  2.763658   2.007338  68.333778   9.927643  12.309410   2.273433  32.916172   \n",
       "\n",
       "  cluster_id                           cluster_name  \n",
       "0         -1                                Unknown  \n",
       "1          6  Horse Ownership and Breeding Dynamics  \n",
       "2          4       Game Appreciation and Enthusiasm  \n",
       "3         35         \"Update Delays: Mobile vs. PC\"  \n",
       "4         -1                                Unknown  \n",
       "\n",
       "[5 rows x 36 columns]"
      ],
      "text/html": [
       "<div>\n",
       "<style scoped>\n",
       "    .dataframe tbody tr th:only-of-type {\n",
       "        vertical-align: middle;\n",
       "    }\n",
       "\n",
       "    .dataframe tbody tr th {\n",
       "        vertical-align: top;\n",
       "    }\n",
       "\n",
       "    .dataframe thead th {\n",
       "        text-align: right;\n",
       "    }\n",
       "</style>\n",
       "<table border=\"1\" class=\"dataframe\">\n",
       "  <thead>\n",
       "    <tr style=\"text-align: right;\">\n",
       "      <th></th>\n",
       "      <th>app_id_name</th>\n",
       "      <th>recommendationid</th>\n",
       "      <th>playtime_at_review_minutes</th>\n",
       "      <th>last_played</th>\n",
       "      <th>review_text</th>\n",
       "      <th>timestamp_updated</th>\n",
       "      <th>voted_up</th>\n",
       "      <th>votes_up</th>\n",
       "      <th>votes_funny</th>\n",
       "      <th>weighted_vote_score</th>\n",
       "      <th>...</th>\n",
       "      <th>PCA_3D_x</th>\n",
       "      <th>PCA_3D_y</th>\n",
       "      <th>PCA_3D_z</th>\n",
       "      <th>tSNE_2D_x</th>\n",
       "      <th>tSNE_2D_y</th>\n",
       "      <th>tSNE_3D_x</th>\n",
       "      <th>tSNE_3D_y</th>\n",
       "      <th>tSNE_3D_z</th>\n",
       "      <th>cluster_id</th>\n",
       "      <th>cluster_name</th>\n",
       "    </tr>\n",
       "  </thead>\n",
       "  <tbody>\n",
       "    <tr>\n",
       "      <th>0</th>\n",
       "      <td>1166860_Rival_Stars_Horse_Racing_Desktop_Edition</td>\n",
       "      <td>179387177</td>\n",
       "      <td>1775</td>\n",
       "      <td>1735228376</td>\n",
       "      <td>Very detailed and it has lot's to do.</td>\n",
       "      <td>1732047413</td>\n",
       "      <td>True</td>\n",
       "      <td>0</td>\n",
       "      <td>0</td>\n",
       "      <td>0.000000</td>\n",
       "      <td>...</td>\n",
       "      <td>0.681735</td>\n",
       "      <td>-0.568135</td>\n",
       "      <td>0.795651</td>\n",
       "      <td>-11.443602</td>\n",
       "      <td>-5.308172</td>\n",
       "      <td>-10.599676</td>\n",
       "      <td>-0.169257</td>\n",
       "      <td>-11.246475</td>\n",
       "      <td>-1</td>\n",
       "      <td>Unknown</td>\n",
       "    </tr>\n",
       "    <tr>\n",
       "      <th>1</th>\n",
       "      <td>1166860_Rival_Stars_Horse_Racing_Desktop_Edition</td>\n",
       "      <td>178743676</td>\n",
       "      <td>1016</td>\n",
       "      <td>1731228389</td>\n",
       "      <td>definitely a favourite go-to game of mine, I c...</td>\n",
       "      <td>1731227648</td>\n",
       "      <td>True</td>\n",
       "      <td>9</td>\n",
       "      <td>0</td>\n",
       "      <td>0.652082</td>\n",
       "      <td>...</td>\n",
       "      <td>-11.549797</td>\n",
       "      <td>1.695222</td>\n",
       "      <td>-0.141733</td>\n",
       "      <td>-57.855373</td>\n",
       "      <td>20.379818</td>\n",
       "      <td>-20.790731</td>\n",
       "      <td>1.832306</td>\n",
       "      <td>-8.828346</td>\n",
       "      <td>6</td>\n",
       "      <td>Horse Ownership and Breeding Dynamics</td>\n",
       "    </tr>\n",
       "    <tr>\n",
       "      <th>2</th>\n",
       "      <td>1166860_Rival_Stars_Horse_Racing_Desktop_Edition</td>\n",
       "      <td>178743676</td>\n",
       "      <td>1016</td>\n",
       "      <td>1731228389</td>\n",
       "      <td>definitely a favourite go-to game of mine, I c...</td>\n",
       "      <td>1731227648</td>\n",
       "      <td>True</td>\n",
       "      <td>9</td>\n",
       "      <td>0</td>\n",
       "      <td>0.652082</td>\n",
       "      <td>...</td>\n",
       "      <td>3.464440</td>\n",
       "      <td>1.803372</td>\n",
       "      <td>-16.562259</td>\n",
       "      <td>-7.793510</td>\n",
       "      <td>45.615433</td>\n",
       "      <td>3.165056</td>\n",
       "      <td>0.021274</td>\n",
       "      <td>-26.633314</td>\n",
       "      <td>4</td>\n",
       "      <td>Game Appreciation and Enthusiasm</td>\n",
       "    </tr>\n",
       "    <tr>\n",
       "      <th>3</th>\n",
       "      <td>1166860_Rival_Stars_Horse_Racing_Desktop_Edition</td>\n",
       "      <td>178350425</td>\n",
       "      <td>2492</td>\n",
       "      <td>1736827844</td>\n",
       "      <td>i love this game one phone and pc. i just wish...</td>\n",
       "      <td>1730675154</td>\n",
       "      <td>True</td>\n",
       "      <td>0</td>\n",
       "      <td>0</td>\n",
       "      <td>0.000000</td>\n",
       "      <td>...</td>\n",
       "      <td>2.097897</td>\n",
       "      <td>1.454440</td>\n",
       "      <td>1.276368</td>\n",
       "      <td>21.608898</td>\n",
       "      <td>24.011642</td>\n",
       "      <td>8.558475</td>\n",
       "      <td>15.149671</td>\n",
       "      <td>5.031723</td>\n",
       "      <td>35</td>\n",
       "      <td>\"Update Delays: Mobile vs. PC\"</td>\n",
       "    </tr>\n",
       "    <tr>\n",
       "      <th>4</th>\n",
       "      <td>1166860_Rival_Stars_Horse_Racing_Desktop_Edition</td>\n",
       "      <td>177351085</td>\n",
       "      <td>3678</td>\n",
       "      <td>1729362177</td>\n",
       "      <td>\"It's wonderful, simply one of the best horse ...</td>\n",
       "      <td>1729361303</td>\n",
       "      <td>True</td>\n",
       "      <td>0</td>\n",
       "      <td>0</td>\n",
       "      <td>0.000000</td>\n",
       "      <td>...</td>\n",
       "      <td>3.153257</td>\n",
       "      <td>2.763658</td>\n",
       "      <td>2.007338</td>\n",
       "      <td>68.333778</td>\n",
       "      <td>9.927643</td>\n",
       "      <td>12.309410</td>\n",
       "      <td>2.273433</td>\n",
       "      <td>32.916172</td>\n",
       "      <td>-1</td>\n",
       "      <td>Unknown</td>\n",
       "    </tr>\n",
       "  </tbody>\n",
       "</table>\n",
       "<p>5 rows × 36 columns</p>\n",
       "</div>"
      ]
     },
     "execution_count": 22,
     "metadata": {},
     "output_type": "execute_result"
    }
   ],
   "execution_count": 22
  },
  {
   "metadata": {
    "ExecuteTime": {
     "end_time": "2025-01-29T20:23:58.353094Z",
     "start_time": "2025-01-29T20:23:58.134799Z"
    }
   },
   "cell_type": "code",
   "source": "save_data_for_streamlit(df, path_db_final)",
   "id": "752efff46095d84d",
   "outputs": [
    {
     "name": "stderr",
     "output_type": "stream",
     "text": [
      "2025-01-30 09:23:58,134 - INFO - Saving updated data to S:\\SID\\Analytics\\Working Files\\Individual\\Florian\\Projects\\DataScience\\cluster_analysis\\Data\\HRC\\Cluster_tests\\db_final.json\n",
      "2025-01-30 09:23:58,345 - INFO - Data saved successfully.\n"
     ]
    }
   ],
   "execution_count": 23
  }
 ],
 "metadata": {
  "kernelspec": {
   "display_name": "Python 3",
   "language": "python",
   "name": "python3"
  },
  "language_info": {
   "codemirror_mode": {
    "name": "ipython",
    "version": 2
   },
   "file_extension": ".py",
   "mimetype": "text/x-python",
   "name": "python",
   "nbconvert_exporter": "python",
   "pygments_lexer": "ipython2",
   "version": "2.7.6"
  }
 },
 "nbformat": 4,
 "nbformat_minor": 5
}
