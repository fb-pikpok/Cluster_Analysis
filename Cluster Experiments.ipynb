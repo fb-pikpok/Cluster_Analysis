{
 "cells": [
  {
   "cell_type": "code",
   "id": "initial_id",
   "metadata": {
    "collapsed": true,
    "ExecuteTime": {
     "end_time": "2025-01-29T01:04:33.029164Z",
     "start_time": "2025-01-29T01:04:32.848795Z"
    }
   },
   "source": [
    "import os\n",
    "import openai\n",
    "from numpy.ma.core import shape\n",
    "\n",
    "from helper.utils import *\n",
    "from dotenv import load_dotenv\n",
    "\n",
    "load_dotenv()\n",
    "openai_api_key = os.getenv(\"OPENAI_API_KEY\")\n",
    "openai.api_key = openai_api_key\n",
    "client = openai.Client()\n",
    "\n",
    "chat_model_name = 'gpt-4o-mini'\n",
    "embed_model_name = \"all-MiniLM-L6-v2\"\n",
    "configure_api(client, chat_model_name)\n",
    "\n",
    "data_source = r'S:\\SID\\Analytics\\Working Files\\Individual\\Florian\\Projects\\DataScience\\cluster_analysis\\Data\\HRC\\Steam'\n",
    "data_storage = r'S:\\SID\\Analytics\\Working Files\\Individual\\Florian\\Projects\\DataScience\\cluster_analysis\\Data\\HRC\\Cluster_tests'\n",
    "\n",
    "path_db_analysed = os.path.join(data_source, \"db_analysed.json\")\n",
    "path_db_embedded = os.path.join(data_source, \"db_embedded.json\")\n",
    "path_db_clustered = os.path.join(data_storage, \"db_clustered.json\")\n",
    "path_db_final = os.path.join(data_storage, \"db_final.json\")"
   ],
   "outputs": [],
   "execution_count": 5
  },
  {
   "metadata": {},
   "cell_type": "markdown",
   "source": "# Extract unique topics",
   "id": "c61422ee630c2bcd"
  },
  {
   "metadata": {
    "ExecuteTime": {
     "end_time": "2025-01-29T01:51:53.574285Z",
     "start_time": "2025-01-29T01:51:52.885425Z"
    }
   },
   "cell_type": "code",
   "source": [
    "# Cluster algorithms force split datapoints even if they are identical. I will replace the embeddings of identical datapoints with the mean of their embeddings.\n",
    "# Load the JSON data\n",
    "data = read_json(path_db_embedded)\n",
    "# data is your JSON array (list of dicts)\n",
    "unique_topics = set()\n",
    "\n",
    "for entry in data:\n",
    "    unique_topics.add(entry['topic'])\n",
    "\n",
    "# Now unique_topics is a set of all topic names\n",
    "print(f'Original topics: {len(data)}')\n",
    "print(f'Unique topics: {len(unique_topics)}')"
   ],
   "id": "f3b03e7684e4b1a8",
   "outputs": [
    {
     "name": "stdout",
     "output_type": "stream",
     "text": [
      "Original topics: 5797\n",
      "Unique topics: 2578\n"
     ]
    }
   ],
   "execution_count": 15
  },
  {
   "metadata": {},
   "cell_type": "markdown",
   "source": "# reduce dimensions",
   "id": "1c054b8bf047f93f"
  },
  {
   "metadata": {
    "ExecuteTime": {
     "end_time": "2025-01-29T02:24:42.253187Z",
     "start_time": "2025-01-29T02:24:22.836689Z"
    }
   },
   "cell_type": "code",
   "source": [
    "# Reduce the dimensions with t-SNE and replace the old embeddings with the new ones\n",
    "from sklearn.manifold import TSNE\n",
    "import matplotlib.pyplot as plt\n",
    "\n",
    "data = read_json(path_db_embedded)\n",
    "# Gather all embeddings\n",
    "embeddings = [entry['embedding'] for entry in data]\n",
    "\n",
    "# Convert to numpy array\n",
    "X = np.array(embeddings)\n",
    "\n",
    "# Perform t-SNE\n",
    "X_embedded = TSNE(n_components=3).fit_transform(X)\n",
    "\n",
    "# Update the embeddings in the data\n",
    "for i, entry in enumerate(data):\n",
    "    entry['embedding'] = X_embedded[i].tolist()\n",
    "\n",
    "# Save the updated data\n",
    "\n"
   ],
   "id": "3b42b3523c0ce865",
   "outputs": [],
   "execution_count": 49
  },
  {
   "metadata": {
    "ExecuteTime": {
     "end_time": "2025-01-29T02:24:44.492488Z",
     "start_time": "2025-01-29T02:24:44.475839Z"
    }
   },
   "cell_type": "code",
   "source": "data[0]",
   "id": "3e1384c99bd5d5fb",
   "outputs": [
    {
     "data": {
      "text/plain": [
       "{'app_id_name': '1166860_Rival_Stars_Horse_Racing_Desktop_Edition',\n",
       " 'recommendationid': 179387177,\n",
       " 'playtime_at_review_minutes': 1775,\n",
       " 'last_played': 1735228376,\n",
       " 'review_text': \"Very detailed and it has lot's to do.\",\n",
       " 'timestamp_updated': 1732047413,\n",
       " 'voted_up': True,\n",
       " 'votes_up': 0,\n",
       " 'votes_funny': 0,\n",
       " 'weighted_vote_score': 0.0,\n",
       " 'steam_purchase': True,\n",
       " 'received_for_free': False,\n",
       " 'written_during_early_access': False,\n",
       " 'language': 'english',\n",
       " 'topic': 'Game Detail',\n",
       " 'sentiment': 'Positive',\n",
       " 'category': 'fact',\n",
       " 'sentence': \"Very detailed and it has lot's to do.\",\n",
       " 'embedding': [-2.168487071990967, -7.140398025512695, -1.3362581729888916]}"
      ]
     },
     "execution_count": 50,
     "metadata": {},
     "output_type": "execute_result"
    }
   ],
   "execution_count": 50
  },
  {
   "metadata": {
    "ExecuteTime": {
     "end_time": "2025-01-29T02:25:21.796083Z",
     "start_time": "2025-01-29T02:25:21.783347Z"
    }
   },
   "cell_type": "code",
   "source": "save_data = data",
   "id": "606f9fd914b5013e",
   "outputs": [],
   "execution_count": 51
  },
  {
   "metadata": {
    "ExecuteTime": {
     "end_time": "2025-01-29T02:25:25.527869Z",
     "start_time": "2025-01-29T02:25:25.501277Z"
    }
   },
   "cell_type": "code",
   "source": [
    "import numpy as np\n",
    "\n",
    "# Dictionary to store all embeddings for each topic\n",
    "topic_to_embeddings = {topic: [] for topic in unique_topics}\n",
    "\n",
    "# Gather embeddings by topic\n",
    "for entry in data:\n",
    "    topic = entry['topic']\n",
    "    # print(topic)\n",
    "    embedding = entry['embedding']\n",
    "    # print(embedding)\n",
    "    topic_to_embeddings[topic].append(embedding)\n",
    "    # print(topic_to_embeddings[topic])"
   ],
   "id": "d3221bbe030a1398",
   "outputs": [],
   "execution_count": 52
  },
  {
   "metadata": {
    "ExecuteTime": {
     "end_time": "2025-01-29T02:25:27.983062Z",
     "start_time": "2025-01-29T02:25:27.975774Z"
    }
   },
   "cell_type": "code",
   "source": "topic_to_embeddings['Game Detail']",
   "id": "244e86f7a033937",
   "outputs": [
    {
     "data": {
      "text/plain": [
       "[[-2.168487071990967, -7.140398025512695, -1.3362581729888916],\n",
       " [-2.173760414123535, -7.140198707580566, -1.3354815244674683],\n",
       " [-2.168487071990967, -7.140398025512695, -1.3362581729888916],\n",
       " [-2.173734426498413, -7.140158653259277, -1.3354891538619995]]"
      ]
     },
     "execution_count": 53,
     "metadata": {},
     "output_type": "execute_result"
    }
   ],
   "execution_count": 53
  },
  {
   "metadata": {
    "ExecuteTime": {
     "end_time": "2025-01-29T02:26:01.445099Z",
     "start_time": "2025-01-29T02:26:01.422307Z"
    }
   },
   "cell_type": "code",
   "source": [
    "# Calculate mean embedding for each topic\n",
    "topic_to_mean_embedding = {}\n",
    "\n",
    "for topic, embeddings_list in topic_to_embeddings.items():\n",
    "    # Convert to a numpy array for easy mean calculation\n",
    "    np_embeddings = np.array(embeddings_list)\n",
    "    mean_embedding = np.mean(np_embeddings, axis=0)  # Shape will match original embedding dimension\n",
    "\n",
    "    # Store the mean embedding (convert back to list if you want plain Python types)\n",
    "    topic_to_mean_embedding[topic] = mean_embedding.tolist()"
   ],
   "id": "b7073d0a1d95ba90",
   "outputs": [],
   "execution_count": 54
  },
  {
   "metadata": {
    "ExecuteTime": {
     "end_time": "2025-01-29T02:26:15.833970Z",
     "start_time": "2025-01-29T02:26:15.827292Z"
    }
   },
   "cell_type": "code",
   "source": "topic_to_mean_embedding['Game Detail']",
   "id": "1713be335759be69",
   "outputs": [
    {
     "data": {
      "text/plain": [
       "[-2.1711172461509705, -7.140288352966309, -1.3358717560768127]"
      ]
     },
     "execution_count": 56,
     "metadata": {},
     "output_type": "execute_result"
    }
   ],
   "execution_count": 56
  },
  {
   "metadata": {
    "ExecuteTime": {
     "end_time": "2025-01-29T02:27:40.772945Z",
     "start_time": "2025-01-29T02:27:40.764152Z"
    }
   },
   "cell_type": "code",
   "source": "(-2.168487071990967 -2.173760414123535 -2.168487071990967 -2.173734426498413) / 4",
   "id": "c545a20aecd4a879",
   "outputs": [
    {
     "data": {
      "text/plain": [
       "-2.1711172461509705"
      ]
     },
     "execution_count": 57,
     "metadata": {},
     "output_type": "execute_result"
    }
   ],
   "execution_count": 57
  },
  {
   "metadata": {
    "ExecuteTime": {
     "end_time": "2025-01-29T02:28:37.222330Z",
     "start_time": "2025-01-29T02:28:37.205372Z"
    }
   },
   "cell_type": "code",
   "source": [
    "for entry in data:\n",
    "    topic = entry['topic']\n",
    "    entry['embedding'] = topic_to_mean_embedding[topic]\n"
   ],
   "id": "2a5ed5646c6157e2",
   "outputs": [],
   "execution_count": 58
  },
  {
   "metadata": {
    "ExecuteTime": {
     "end_time": "2025-01-29T02:32:16.086446Z",
     "start_time": "2025-01-29T02:32:16.070006Z"
    }
   },
   "cell_type": "code",
   "source": "data['embedding']",
   "id": "8e82df2ff7ba1b33",
   "outputs": [
    {
     "ename": "TypeError",
     "evalue": "list indices must be integers or slices, not str",
     "output_type": "error",
     "traceback": [
      "\u001B[1;31m---------------------------------------------------------------------------\u001B[0m",
      "\u001B[1;31mTypeError\u001B[0m                                 Traceback (most recent call last)",
      "Cell \u001B[1;32mIn[61], line 1\u001B[0m\n\u001B[1;32m----> 1\u001B[0m \u001B[43mdata\u001B[49m\u001B[43m[\u001B[49m\u001B[38;5;124;43m'\u001B[39;49m\u001B[38;5;124;43membedding\u001B[39;49m\u001B[38;5;124;43m'\u001B[39;49m\u001B[43m]\u001B[49m\n",
      "\u001B[1;31mTypeError\u001B[0m: list indices must be integers or slices, not str"
     ]
    }
   ],
   "execution_count": 61
  },
  {
   "metadata": {},
   "cell_type": "code",
   "outputs": [],
   "execution_count": null,
   "source": "",
   "id": "2e13a1eb7f68d6f1"
  },
  {
   "metadata": {},
   "cell_type": "markdown",
   "source": "# Cluster analysis",
   "id": "b21bf74eaa236494"
  },
  {
   "metadata": {
    "ExecuteTime": {
     "end_time": "2025-01-29T02:36:09.742059Z",
     "start_time": "2025-01-29T02:36:09.633779Z"
    }
   },
   "cell_type": "code",
   "source": [
    "# The clustering does not perform to good. Some datapoints that clearly should be in a cluster based on eyeballing and their topic name but they are not. Rather often some points in a dense cluster are categorized as noise.\n",
    "# I will try to improve this by first perform a dimension reduction and then perform clustering. Reason being, that in high dimensions the data might be too sparse for the clustering algorithm to work properly.\n",
    "\n",
    "from helper.cluster_analysis import *\n",
    "from helper.utils import *\n",
    "\n",
    "# Adjustable parameters\n",
    "dimensionality_methods = ['UMAP', 'PCA', 'tSNE']\n",
    "hdbscan_params = {\"min_cluster_size\": 50, \"min_samples\": 2, \"cluster_selection_epsilon\": 0.15}\n",
    "\n",
    "df = pd.DataFrame(data)\n",
    "df = df[df['embedding'].apply(lambda x: isinstance(x, list) and len(x) > 0)]\n",
    "print(f\"Loaded {len(df)} valid entries with embeddings.\")\n",
    "\n",
    "# Extract embeddings\n",
    "mat = np.array(df['embedding'].tolist())\n",
    "\n",
    "hdbscan_clusterer = hdbscan.HDBSCAN(**hdbscan_params)\n",
    "cluster_labels = hdbscan_clusterer.fit_predict(mat)\n",
    "\n",
    "# Add the cluster labels to the DataFrame\n",
    "df['cluster_id'] = cluster_labels\n"
   ],
   "id": "d54eafaca5a45ece",
   "outputs": [
    {
     "name": "stdout",
     "output_type": "stream",
     "text": [
      "Loaded 5797 valid entries with embeddings.\n"
     ]
    },
    {
     "name": "stderr",
     "output_type": "stream",
     "text": [
      "C:\\Users\\fbohm\\Documents\\Venvironments\\.venv\\Lib\\site-packages\\sklearn\\utils\\deprecation.py:151: FutureWarning: 'force_all_finite' was renamed to 'ensure_all_finite' in 1.6 and will be removed in 1.8.\n",
      "  warnings.warn(\n",
      "C:\\Users\\fbohm\\Documents\\Venvironments\\.venv\\Lib\\site-packages\\sklearn\\utils\\deprecation.py:151: FutureWarning: 'force_all_finite' was renamed to 'ensure_all_finite' in 1.6 and will be removed in 1.8.\n",
      "  warnings.warn(\n"
     ]
    }
   ],
   "execution_count": 64
  },
  {
   "metadata": {
    "ExecuteTime": {
     "end_time": "2025-01-29T02:36:16.246767Z",
     "start_time": "2025-01-29T02:36:16.241206Z"
    }
   },
   "cell_type": "code",
   "source": "df['cluster_id'].value_counts()",
   "id": "a329230dea157621",
   "outputs": [
    {
     "data": {
      "text/plain": [
       "cluster_id\n",
       "-1     1314\n",
       " 26     281\n",
       " 32     252\n",
       " 3      226\n",
       " 0      220\n",
       " 24     204\n",
       " 13     190\n",
       " 37     171\n",
       " 19     170\n",
       " 29     164\n",
       " 23     164\n",
       " 28     145\n",
       " 27     137\n",
       " 33     136\n",
       " 12     136\n",
       " 2      126\n",
       " 30     126\n",
       " 20     119\n",
       " 35     110\n",
       " 14     108\n",
       " 22      97\n",
       " 8       95\n",
       " 11      93\n",
       " 15      84\n",
       " 6       81\n",
       " 21      74\n",
       " 25      72\n",
       " 31      71\n",
       " 7       70\n",
       " 36      64\n",
       " 18      63\n",
       " 9       58\n",
       " 34      57\n",
       " 16      57\n",
       " 17      56\n",
       " 1       55\n",
       " 4       51\n",
       " 5       50\n",
       " 10      50\n",
       "Name: count, dtype: int64"
      ]
     },
     "execution_count": 65,
     "metadata": {},
     "output_type": "execute_result"
    }
   ],
   "execution_count": 65
  },
  {
   "metadata": {
    "ExecuteTime": {
     "end_time": "2025-01-29T02:37:24.966364Z",
     "start_time": "2025-01-29T02:37:24.362583Z"
    }
   },
   "cell_type": "code",
   "source": "save_df_as_json(df, path_db_clustered)",
   "id": "610851bfb07a0050",
   "outputs": [
    {
     "name": "stderr",
     "output_type": "stream",
     "text": [
      "2025-01-29 15:37:24,362 - INFO - Saving data to S:\\SID\\Analytics\\Working Files\\Individual\\Florian\\Projects\\DataScience\\cluster_analysis\\Data\\HRC\\Cluster_tests\\db_clustered.json\n"
     ]
    }
   ],
   "execution_count": 66
  },
  {
   "metadata": {},
   "cell_type": "markdown",
   "source": "# Cluster Naming",
   "id": "afbc3f4a64dc645d"
  },
  {
   "metadata": {
    "ExecuteTime": {
     "end_time": "2025-01-29T03:37:50.522102Z",
     "start_time": "2025-01-29T03:37:29.104466Z"
    }
   },
   "cell_type": "code",
   "source": [
    "from helper.cluster_naming import *\n",
    "\n",
    "api_settings = {\"client\": client, \"model\": chat_model_name}\n",
    "\n",
    "data_cluster = read_json(path_db_clustered)\n",
    "\n",
    "unique_cluster_names = {}\n",
    "\n",
    "df = pd.DataFrame(data_cluster)\n",
    "df = df[df['embedding'].apply(lambda x: isinstance(x, list) and len(x) > 0)]\n",
    "print(f\"Loaded {len(df)} valid entries with embeddings.\")\n",
    "\n",
    "\n",
    "unique_clusters = df['cluster_id'].unique()\n",
    "\n",
    "for cluster_id in unique_clusters:\n",
    "    if cluster_id == -1:  # Skip noise clusters\n",
    "        continue\n",
    "\n",
    "    # Find the 10 most centric points in the cluster and store them in a list named 'topics'\n",
    "    cluster_data = df[df['cluster_id'] == cluster_id]\n",
    "    cluster_embeddings = np.array(cluster_data['embedding'].tolist())\n",
    "    cluster_centroid = np.mean(cluster_embeddings, axis=0)\n",
    "    cluster_centroid = cluster_centroid.tolist()\n",
    "\n",
    "    distances = cosine_distances([cluster_centroid], cluster_embeddings).flatten()\n",
    "    closest_indices = np.argsort(distances)[:10]\n",
    "    representative_topics = cluster_data.iloc[closest_indices]['sentence'].tolist()\n",
    "\n",
    "    #print(representative_topics)\n",
    "\n",
    "    # Generate or retrieve cluster name\n",
    "    if cluster_id not in unique_cluster_names:\n",
    "        cluster_name = generate_cluster_name(representative_topics, api_settings)\n",
    "        unique_cluster_names[cluster_id] = cluster_name\n",
    "\n"
   ],
   "id": "605f73fe9d66565c",
   "outputs": [
    {
     "name": "stdout",
     "output_type": "stream",
     "text": [
      "Loaded 5797 valid entries with embeddings.\n"
     ]
    },
    {
     "name": "stderr",
     "output_type": "stream",
     "text": [
      "2025-01-29 16:37:29,829 - INFO - Generated cluster name: AI Racing Challenges and Frustrations\n",
      "2025-01-29 16:37:29,829 - INFO - Tokens used so far: Prompt Tokens: 300839, Completion Tokens: 102\n",
      "2025-01-29 16:37:30,355 - INFO - Generated cluster name: Horse Models and Game Mechanics\n",
      "2025-01-29 16:37:30,371 - INFO - Tokens used so far: Prompt Tokens: 301060, Completion Tokens: 108\n",
      "2025-01-29 16:37:30,822 - INFO - Generated cluster name: Ultimate Game Praise\n",
      "2025-01-29 16:37:30,822 - INFO - Tokens used so far: Prompt Tokens: 301202, Completion Tokens: 112\n",
      "2025-01-29 16:37:31,291 - INFO - Generated cluster name: Ongoing Game Updates and Improvements\n",
      "2025-01-29 16:37:31,291 - INFO - Tokens used so far: Prompt Tokens: 301434, Completion Tokens: 119\n",
      "2025-01-29 16:37:31,762 - INFO - Generated cluster name: Game Ratings and Reviews\n",
      "2025-01-29 16:37:31,777 - INFO - Tokens used so far: Prompt Tokens: 301593, Completion Tokens: 124\n",
      "2025-01-29 16:37:32,279 - INFO - Generated cluster name: Mobile vs. PC Game Experience\n",
      "2025-01-29 16:37:32,279 - INFO - Tokens used so far: Prompt Tokens: 301853, Completion Tokens: 131\n",
      "2025-01-29 16:37:32,847 - INFO - Generated cluster name: \"Passion for Amazing Games\"\n",
      "2025-01-29 16:37:32,847 - INFO - Tokens used so far: Prompt Tokens: 301987, Completion Tokens: 139\n",
      "2025-01-29 16:37:33,406 - INFO - Generated cluster name: Game Enjoyment and Fun Factor\n",
      "2025-01-29 16:37:33,406 - INFO - Tokens used so far: Prompt Tokens: 302154, Completion Tokens: 146\n",
      "2025-01-29 16:37:33,852 - INFO - Generated cluster name: Horse Customization Options\n",
      "2025-01-29 16:37:33,852 - INFO - Tokens used so far: Prompt Tokens: 302358, Completion Tokens: 151\n",
      "2025-01-29 16:37:34,430 - INFO - Generated cluster name: Value Perception of Video Games\n",
      "2025-01-29 16:37:34,440 - INFO - Tokens used so far: Prompt Tokens: 302559, Completion Tokens: 158\n",
      "2025-01-29 16:37:34,933 - INFO - Generated cluster name: Game Experience Insights\n",
      "2025-01-29 16:37:34,933 - INFO - Tokens used so far: Prompt Tokens: 302825, Completion Tokens: 162\n",
      "2025-01-29 16:37:36,377 - INFO - Generated cluster name: Cloud and Mobile Gaming Experience\n",
      "2025-01-29 16:37:36,377 - INFO - Tokens used so far: Prompt Tokens: 303018, Completion Tokens: 168\n",
      "2025-01-29 16:37:37,089 - INFO - Generated cluster name: Gameplay Difficulty and Engagement Balance\n",
      "2025-01-29 16:37:37,089 - INFO - Tokens used so far: Prompt Tokens: 303227, Completion Tokens: 174\n",
      "2025-01-29 16:37:37,703 - INFO - Generated cluster name: Dynamic Equestrian Customization and Fun\n",
      "2025-01-29 16:37:37,703 - INFO - Tokens used so far: Prompt Tokens: 303408, Completion Tokens: 183\n",
      "2025-01-29 16:37:38,290 - INFO - Generated cluster name: Story Engagement and Interaction Issues\n",
      "2025-01-29 16:37:38,290 - INFO - Tokens used so far: Prompt Tokens: 303602, Completion Tokens: 189\n",
      "2025-01-29 16:37:38,894 - INFO - Generated cluster name: Horse Breeding Enthusiasm\n",
      "2025-01-29 16:37:38,910 - INFO - Tokens used so far: Prompt Tokens: 303785, Completion Tokens: 195\n",
      "2025-01-29 16:37:39,398 - INFO - Generated cluster name: Character Interaction in Horse Games\n",
      "2025-01-29 16:37:39,398 - INFO - Tokens used so far: Prompt Tokens: 304017, Completion Tokens: 201\n",
      "2025-01-29 16:37:39,835 - INFO - Generated cluster name: Fast Gold Earning Strategies\n",
      "2025-01-29 16:37:39,836 - INFO - Tokens used so far: Prompt Tokens: 304226, Completion Tokens: 207\n",
      "2025-01-29 16:37:40,322 - INFO - Generated cluster name: Storage Management in Gaming\n",
      "2025-01-29 16:37:40,336 - INFO - Tokens used so far: Prompt Tokens: 304434, Completion Tokens: 212\n",
      "2025-01-29 16:37:40,855 - INFO - Generated cluster name: Competitive Horse Racing Experience\n",
      "2025-01-29 16:37:40,855 - INFO - Tokens used so far: Prompt Tokens: 304661, Completion Tokens: 217\n",
      "2025-01-29 16:37:41,302 - INFO - Generated cluster name: Horse Lovers' Gaming Experience\n",
      "2025-01-29 16:37:41,302 - INFO - Tokens used so far: Prompt Tokens: 304848, Completion Tokens: 223\n",
      "2025-01-29 16:37:41,863 - INFO - Generated cluster name: Horse Breeding and Racing Dynamics\n",
      "2025-01-29 16:37:41,863 - INFO - Tokens used so far: Prompt Tokens: 305061, Completion Tokens: 230\n",
      "2025-01-29 16:37:42,460 - INFO - Generated cluster name: Engaging Horse Racing Fun\n",
      "2025-01-29 16:37:42,460 - INFO - Tokens used so far: Prompt Tokens: 305256, Completion Tokens: 236\n",
      "2025-01-29 16:37:42,961 - INFO - Generated cluster name: Impressive Graphics in Gaming\n",
      "2025-01-29 16:37:42,961 - INFO - Tokens used so far: Prompt Tokens: 305418, Completion Tokens: 242\n",
      "2025-01-29 16:37:43,566 - INFO - Generated cluster name: Highly Recommended Horse Game\n",
      "2025-01-29 16:37:43,566 - INFO - Tokens used so far: Prompt Tokens: 305577, Completion Tokens: 247\n",
      "2025-01-29 16:37:44,105 - INFO - Generated cluster name: Equine Eye and Coat Colors\n",
      "2025-01-29 16:37:44,105 - INFO - Tokens used so far: Prompt Tokens: 305797, Completion Tokens: 254\n",
      "2025-01-29 16:37:44,539 - INFO - Generated cluster name: Pricing and Value Considerations\n",
      "2025-01-29 16:37:44,539 - INFO - Tokens used so far: Prompt Tokens: 306004, Completion Tokens: 260\n",
      "2025-01-29 16:37:45,172 - INFO - Generated cluster name: Game Pricing Opinions and Recommendations\n",
      "2025-01-29 16:37:45,172 - INFO - Tokens used so far: Prompt Tokens: 306261, Completion Tokens: 266\n",
      "2025-01-29 16:37:45,816 - INFO - Generated cluster name: Addictive Breeding Mechanics in Gaming\n",
      "2025-01-29 16:37:45,816 - INFO - Tokens used so far: Prompt Tokens: 306477, Completion Tokens: 274\n",
      "2025-01-29 16:37:46,281 - INFO - Generated cluster name: Developer Engagement and Player Sentiment\n",
      "2025-01-29 16:37:46,286 - INFO - Tokens used so far: Prompt Tokens: 306703, Completion Tokens: 281\n",
      "2025-01-29 16:37:46,727 - INFO - Generated cluster name: Exceptional Horse Racing Game Reviews\n",
      "2025-01-29 16:37:46,727 - INFO - Tokens used so far: Prompt Tokens: 306853, Completion Tokens: 287\n",
      "2025-01-29 16:37:47,188 - INFO - Generated cluster name: Realistic Horse Racing Experience\n",
      "2025-01-29 16:37:47,188 - INFO - Tokens used so far: Prompt Tokens: 307026, Completion Tokens: 293\n",
      "2025-01-29 16:37:47,781 - INFO - Generated cluster name: Graphics and Artistry in Gaming\n",
      "2025-01-29 16:37:47,797 - INFO - Tokens used so far: Prompt Tokens: 307239, Completion Tokens: 300\n",
      "2025-01-29 16:37:48,411 - INFO - Generated cluster name: Cross Country Experience Feedback\n",
      "2025-01-29 16:37:48,411 - INFO - Tokens used so far: Prompt Tokens: 307433, Completion Tokens: 305\n",
      "2025-01-29 16:37:48,879 - INFO - Generated cluster name: Game Length and Enjoyment Assessment\n",
      "2025-01-29 16:37:48,881 - INFO - Tokens used so far: Prompt Tokens: 307640, Completion Tokens: 312\n",
      "2025-01-29 16:37:49,430 - INFO - Generated cluster name: Equestrian Game Improvements and Excitement\n",
      "2025-01-29 16:37:49,430 - INFO - Tokens used so far: Prompt Tokens: 307836, Completion Tokens: 321\n",
      "2025-01-29 16:37:49,922 - INFO - Generated cluster name: Repetitive Yet Enjoyable Horse Gameplay\n",
      "2025-01-29 16:37:49,922 - INFO - Tokens used so far: Prompt Tokens: 308111, Completion Tokens: 330\n",
      "2025-01-29 16:37:50,514 - INFO - Generated cluster name: Family-Friendly Easy Gameplay\n",
      "2025-01-29 16:37:50,514 - INFO - Tokens used so far: Prompt Tokens: 308350, Completion Tokens: 335\n"
     ]
    }
   ],
   "execution_count": 72
  },
  {
   "metadata": {
    "ExecuteTime": {
     "end_time": "2025-01-29T03:38:25.909113Z",
     "start_time": "2025-01-29T03:38:25.890434Z"
    }
   },
   "cell_type": "code",
   "source": "unique_cluster_names",
   "id": "881141b3040bf8df",
   "outputs": [
    {
     "data": {
      "text/plain": [
       "{32: 'AI Racing Challenges and Frustrations',\n",
       " 26: 'Horse Models and Game Mechanics',\n",
       " 0: 'Ultimate Game Praise',\n",
       " 35: 'Ongoing Game Updates and Improvements',\n",
       " 5: 'Game Ratings and Reviews',\n",
       " 28: 'Mobile vs. PC Game Experience',\n",
       " 12: '\"Passion for Amazing Games\"',\n",
       " 13: 'Game Enjoyment and Fun Factor',\n",
       " 9: 'Horse Customization Options',\n",
       " 7: 'Value Perception of Video Games',\n",
       " 8: 'Game Experience Insights',\n",
       " 29: 'Cloud and Mobile Gaming Experience',\n",
       " 33: 'Gameplay Difficulty and Engagement Balance',\n",
       " 37: 'Dynamic Equestrian Customization and Fun',\n",
       " 30: 'Story Engagement and Interaction Issues',\n",
       " 23: 'Horse Breeding Enthusiasm',\n",
       " 18: 'Character Interaction in Horse Games',\n",
       " 20: 'Fast Gold Earning Strategies',\n",
       " 27: 'Storage Management in Gaming',\n",
       " 24: 'Competitive Horse Racing Experience',\n",
       " 1: \"Horse Lovers' Gaming Experience\",\n",
       " 25: 'Horse Breeding and Racing Dynamics',\n",
       " 4: 'Engaging Horse Racing Fun',\n",
       " 3: 'Impressive Graphics in Gaming',\n",
       " 2: 'Highly Recommended Horse Game',\n",
       " 11: 'Equine Eye and Coat Colors',\n",
       " 22: 'Pricing and Value Considerations',\n",
       " 21: 'Game Pricing Opinions and Recommendations',\n",
       " 14: 'Addictive Breeding Mechanics in Gaming',\n",
       " 34: 'Developer Engagement and Player Sentiment',\n",
       " 6: 'Exceptional Horse Racing Game Reviews',\n",
       " 16: 'Realistic Horse Racing Experience',\n",
       " 19: 'Graphics and Artistry in Gaming',\n",
       " 17: 'Cross Country Experience Feedback',\n",
       " 31: 'Game Length and Enjoyment Assessment',\n",
       " 36: 'Equestrian Game Improvements and Excitement',\n",
       " 15: 'Repetitive Yet Enjoyable Horse Gameplay',\n",
       " 10: 'Family-Friendly Easy Gameplay'}"
      ]
     },
     "execution_count": 73,
     "metadata": {},
     "output_type": "execute_result"
    }
   ],
   "execution_count": 73
  },
  {
   "metadata": {
    "ExecuteTime": {
     "end_time": "2025-01-29T03:39:16.128040Z",
     "start_time": "2025-01-29T03:39:16.121690Z"
    }
   },
   "cell_type": "code",
   "source": [
    "# store the cluster names\n",
    "df['cluster_name'] = df['cluster_id'].apply(lambda x: unique_cluster_names[x] if x in unique_cluster_names else \"Unknown\")"
   ],
   "id": "659513922d106c79",
   "outputs": [],
   "execution_count": 74
  },
  {
   "metadata": {
    "ExecuteTime": {
     "end_time": "2025-01-29T03:39:40.606975Z",
     "start_time": "2025-01-29T03:39:40.589383Z"
    }
   },
   "cell_type": "code",
   "source": "df.head()",
   "id": "a99629a6c4dca15f",
   "outputs": [
    {
     "data": {
      "text/plain": [
       "                                        app_id_name  recommendationid  \\\n",
       "0  1166860_Rival_Stars_Horse_Racing_Desktop_Edition         179387177   \n",
       "1  1166860_Rival_Stars_Horse_Racing_Desktop_Edition         178743676   \n",
       "2  1166860_Rival_Stars_Horse_Racing_Desktop_Edition         178743676   \n",
       "3  1166860_Rival_Stars_Horse_Racing_Desktop_Edition         178350425   \n",
       "4  1166860_Rival_Stars_Horse_Racing_Desktop_Edition         177351085   \n",
       "\n",
       "   playtime_at_review_minutes  last_played  \\\n",
       "0                        1775   1735228376   \n",
       "1                        1016   1731228389   \n",
       "2                        1016   1731228389   \n",
       "3                        2492   1736827844   \n",
       "4                        3678   1729362177   \n",
       "\n",
       "                                         review_text  timestamp_updated  \\\n",
       "0              Very detailed and it has lot's to do.         1732047413   \n",
       "1  definitely a favourite go-to game of mine, I c...         1731227648   \n",
       "2  definitely a favourite go-to game of mine, I c...         1731227648   \n",
       "3  i love this game one phone and pc. i just wish...         1730675154   \n",
       "4  \"It's wonderful, simply one of the best horse ...         1729361303   \n",
       "\n",
       "   voted_up  votes_up  votes_funny  weighted_vote_score  ...  \\\n",
       "0      True         0            0             0.000000  ...   \n",
       "1      True         9            0             0.652082  ...   \n",
       "2      True         9            0             0.652082  ...   \n",
       "3      True         0            0             0.000000  ...   \n",
       "4      True         0            0             0.000000  ...   \n",
       "\n",
       "   received_for_free  written_during_early_access  language  \\\n",
       "0              False                        False   english   \n",
       "1              False                        False   english   \n",
       "2              False                        False   english   \n",
       "3              False                        False   english   \n",
       "4              False                        False    french   \n",
       "\n",
       "                    topic sentiment category  \\\n",
       "0             Game Detail  Positive     fact   \n",
       "1    Horse Care Mechanics  Negative  request   \n",
       "2       Overall Enjoyment  Positive     fact   \n",
       "3  Cross-Platform Updates  Negative  request   \n",
       "4         Overall Quality  Positive     fact   \n",
       "\n",
       "                                            sentence  \\\n",
       "0              Very detailed and it has lot's to do.   \n",
       "1  I DO wish you could care for your horses (e.g....   \n",
       "2  definitely a favourite go-to game of mine, I c...   \n",
       "3      I just wish it would update at the same time!   \n",
       "4  It's wonderful, simply one of the best horse g...   \n",
       "\n",
       "                                           embedding cluster_id  \\\n",
       "0  [-2.1711172461509705, -7.140288352966309, -1.3...         32   \n",
       "1  [18.323121070861816, 6.4783313274383545, -5.73...         26   \n",
       "2  [-23.07435281059959, -10.297671816565774, 6.20...          0   \n",
       "3  [1.4599988460540771, 18.51365025838216, 3.0994...         35   \n",
       "4  [-23.896740408504712, 9.22358378242044, -0.476...          5   \n",
       "\n",
       "                            cluster_name  \n",
       "0  AI Racing Challenges and Frustrations  \n",
       "1        Horse Models and Game Mechanics  \n",
       "2                   Ultimate Game Praise  \n",
       "3  Ongoing Game Updates and Improvements  \n",
       "4               Game Ratings and Reviews  \n",
       "\n",
       "[5 rows x 21 columns]"
      ],
      "text/html": [
       "<div>\n",
       "<style scoped>\n",
       "    .dataframe tbody tr th:only-of-type {\n",
       "        vertical-align: middle;\n",
       "    }\n",
       "\n",
       "    .dataframe tbody tr th {\n",
       "        vertical-align: top;\n",
       "    }\n",
       "\n",
       "    .dataframe thead th {\n",
       "        text-align: right;\n",
       "    }\n",
       "</style>\n",
       "<table border=\"1\" class=\"dataframe\">\n",
       "  <thead>\n",
       "    <tr style=\"text-align: right;\">\n",
       "      <th></th>\n",
       "      <th>app_id_name</th>\n",
       "      <th>recommendationid</th>\n",
       "      <th>playtime_at_review_minutes</th>\n",
       "      <th>last_played</th>\n",
       "      <th>review_text</th>\n",
       "      <th>timestamp_updated</th>\n",
       "      <th>voted_up</th>\n",
       "      <th>votes_up</th>\n",
       "      <th>votes_funny</th>\n",
       "      <th>weighted_vote_score</th>\n",
       "      <th>...</th>\n",
       "      <th>received_for_free</th>\n",
       "      <th>written_during_early_access</th>\n",
       "      <th>language</th>\n",
       "      <th>topic</th>\n",
       "      <th>sentiment</th>\n",
       "      <th>category</th>\n",
       "      <th>sentence</th>\n",
       "      <th>embedding</th>\n",
       "      <th>cluster_id</th>\n",
       "      <th>cluster_name</th>\n",
       "    </tr>\n",
       "  </thead>\n",
       "  <tbody>\n",
       "    <tr>\n",
       "      <th>0</th>\n",
       "      <td>1166860_Rival_Stars_Horse_Racing_Desktop_Edition</td>\n",
       "      <td>179387177</td>\n",
       "      <td>1775</td>\n",
       "      <td>1735228376</td>\n",
       "      <td>Very detailed and it has lot's to do.</td>\n",
       "      <td>1732047413</td>\n",
       "      <td>True</td>\n",
       "      <td>0</td>\n",
       "      <td>0</td>\n",
       "      <td>0.000000</td>\n",
       "      <td>...</td>\n",
       "      <td>False</td>\n",
       "      <td>False</td>\n",
       "      <td>english</td>\n",
       "      <td>Game Detail</td>\n",
       "      <td>Positive</td>\n",
       "      <td>fact</td>\n",
       "      <td>Very detailed and it has lot's to do.</td>\n",
       "      <td>[-2.1711172461509705, -7.140288352966309, -1.3...</td>\n",
       "      <td>32</td>\n",
       "      <td>AI Racing Challenges and Frustrations</td>\n",
       "    </tr>\n",
       "    <tr>\n",
       "      <th>1</th>\n",
       "      <td>1166860_Rival_Stars_Horse_Racing_Desktop_Edition</td>\n",
       "      <td>178743676</td>\n",
       "      <td>1016</td>\n",
       "      <td>1731228389</td>\n",
       "      <td>definitely a favourite go-to game of mine, I c...</td>\n",
       "      <td>1731227648</td>\n",
       "      <td>True</td>\n",
       "      <td>9</td>\n",
       "      <td>0</td>\n",
       "      <td>0.652082</td>\n",
       "      <td>...</td>\n",
       "      <td>False</td>\n",
       "      <td>False</td>\n",
       "      <td>english</td>\n",
       "      <td>Horse Care Mechanics</td>\n",
       "      <td>Negative</td>\n",
       "      <td>request</td>\n",
       "      <td>I DO wish you could care for your horses (e.g....</td>\n",
       "      <td>[18.323121070861816, 6.4783313274383545, -5.73...</td>\n",
       "      <td>26</td>\n",
       "      <td>Horse Models and Game Mechanics</td>\n",
       "    </tr>\n",
       "    <tr>\n",
       "      <th>2</th>\n",
       "      <td>1166860_Rival_Stars_Horse_Racing_Desktop_Edition</td>\n",
       "      <td>178743676</td>\n",
       "      <td>1016</td>\n",
       "      <td>1731228389</td>\n",
       "      <td>definitely a favourite go-to game of mine, I c...</td>\n",
       "      <td>1731227648</td>\n",
       "      <td>True</td>\n",
       "      <td>9</td>\n",
       "      <td>0</td>\n",
       "      <td>0.652082</td>\n",
       "      <td>...</td>\n",
       "      <td>False</td>\n",
       "      <td>False</td>\n",
       "      <td>english</td>\n",
       "      <td>Overall Enjoyment</td>\n",
       "      <td>Positive</td>\n",
       "      <td>fact</td>\n",
       "      <td>definitely a favourite go-to game of mine, I c...</td>\n",
       "      <td>[-23.07435281059959, -10.297671816565774, 6.20...</td>\n",
       "      <td>0</td>\n",
       "      <td>Ultimate Game Praise</td>\n",
       "    </tr>\n",
       "    <tr>\n",
       "      <th>3</th>\n",
       "      <td>1166860_Rival_Stars_Horse_Racing_Desktop_Edition</td>\n",
       "      <td>178350425</td>\n",
       "      <td>2492</td>\n",
       "      <td>1736827844</td>\n",
       "      <td>i love this game one phone and pc. i just wish...</td>\n",
       "      <td>1730675154</td>\n",
       "      <td>True</td>\n",
       "      <td>0</td>\n",
       "      <td>0</td>\n",
       "      <td>0.000000</td>\n",
       "      <td>...</td>\n",
       "      <td>False</td>\n",
       "      <td>False</td>\n",
       "      <td>english</td>\n",
       "      <td>Cross-Platform Updates</td>\n",
       "      <td>Negative</td>\n",
       "      <td>request</td>\n",
       "      <td>I just wish it would update at the same time!</td>\n",
       "      <td>[1.4599988460540771, 18.51365025838216, 3.0994...</td>\n",
       "      <td>35</td>\n",
       "      <td>Ongoing Game Updates and Improvements</td>\n",
       "    </tr>\n",
       "    <tr>\n",
       "      <th>4</th>\n",
       "      <td>1166860_Rival_Stars_Horse_Racing_Desktop_Edition</td>\n",
       "      <td>177351085</td>\n",
       "      <td>3678</td>\n",
       "      <td>1729362177</td>\n",
       "      <td>\"It's wonderful, simply one of the best horse ...</td>\n",
       "      <td>1729361303</td>\n",
       "      <td>True</td>\n",
       "      <td>0</td>\n",
       "      <td>0</td>\n",
       "      <td>0.000000</td>\n",
       "      <td>...</td>\n",
       "      <td>False</td>\n",
       "      <td>False</td>\n",
       "      <td>french</td>\n",
       "      <td>Overall Quality</td>\n",
       "      <td>Positive</td>\n",
       "      <td>fact</td>\n",
       "      <td>It's wonderful, simply one of the best horse g...</td>\n",
       "      <td>[-23.896740408504712, 9.22358378242044, -0.476...</td>\n",
       "      <td>5</td>\n",
       "      <td>Game Ratings and Reviews</td>\n",
       "    </tr>\n",
       "  </tbody>\n",
       "</table>\n",
       "<p>5 rows × 21 columns</p>\n",
       "</div>"
      ]
     },
     "execution_count": 76,
     "metadata": {},
     "output_type": "execute_result"
    }
   ],
   "execution_count": 76
  },
  {
   "metadata": {
    "ExecuteTime": {
     "end_time": "2025-01-29T03:40:22.573315Z",
     "start_time": "2025-01-29T03:40:22.416428Z"
    }
   },
   "cell_type": "code",
   "source": "save_data_for_streamlit(df, path_db_final)",
   "id": "752efff46095d84d",
   "outputs": [
    {
     "name": "stderr",
     "output_type": "stream",
     "text": [
      "2025-01-29 16:40:22,416 - INFO - Saving updated data to S:\\SID\\Analytics\\Working Files\\Individual\\Florian\\Projects\\DataScience\\cluster_analysis\\Data\\HRC\\Cluster_tests\\db_final.json\n",
      "2025-01-29 16:40:22,558 - INFO - Data saved successfully.\n"
     ]
    }
   ],
   "execution_count": 77
  }
 ],
 "metadata": {
  "kernelspec": {
   "display_name": "Python 3",
   "language": "python",
   "name": "python3"
  },
  "language_info": {
   "codemirror_mode": {
    "name": "ipython",
    "version": 2
   },
   "file_extension": ".py",
   "mimetype": "text/x-python",
   "name": "python",
   "nbconvert_exporter": "python",
   "pygments_lexer": "ipython2",
   "version": "2.7.6"
  }
 },
 "nbformat": 4,
 "nbformat_minor": 5
}
