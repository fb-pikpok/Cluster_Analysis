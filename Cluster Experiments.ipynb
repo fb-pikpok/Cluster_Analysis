{
 "cells": [
  {
   "cell_type": "code",
   "id": "initial_id",
   "metadata": {
    "collapsed": true,
    "ExecuteTime": {
     "end_time": "2025-02-03T18:59:36.120275Z",
     "start_time": "2025-02-03T18:59:33.793308Z"
    }
   },
   "source": [
    "import os\n",
    "import openai\n",
    "from numpy.ma.core import shape\n",
    "\n",
    "from helper.utils import *\n",
    "from dotenv import load_dotenv\n",
    "\n",
    "load_dotenv()\n",
    "openai_api_key = os.getenv(\"OPENAI_API_KEY\")\n",
    "openai.api_key = openai_api_key\n",
    "client = openai.Client()\n",
    "\n",
    "chat_model_name = 'gpt-4o-mini'\n",
    "embed_model_name = \"all-MiniLM-L6-v2\"\n",
    "configure_api(client, chat_model_name)\n",
    "\n",
    "data_source = r'S:\\SID\\Analytics\\Working Files\\Individual\\Florian\\Projects\\DataScience\\cluster_analysis\\Data\\HRC\\Steam'\n",
    "data_storage = r'S:\\SID\\Analytics\\Working Files\\Individual\\Florian\\Projects\\DataScience\\cluster_analysis\\Data\\HRC\\Cluster_tests'\n",
    "\n",
    "path_db_analysed = os.path.join(data_source, \"db_analysed.json\")\n",
    "path_db_embedded = os.path.join(data_source, \"db_embedded.json\")\n",
    "path_db_clustered = os.path.join(data_storage, \"db_clustered.json\")\n",
    "path_db_final = os.path.join(data_storage, \"db_final.json\")"
   ],
   "outputs": [],
   "execution_count": 1
  },
  {
   "metadata": {},
   "cell_type": "markdown",
   "source": "# Extract unique topics",
   "id": "c61422ee630c2bcd"
  },
  {
   "metadata": {
    "ExecuteTime": {
     "end_time": "2025-02-03T03:10:12.912013Z",
     "start_time": "2025-02-03T03:10:11.236654Z"
    }
   },
   "cell_type": "code",
   "source": [
    "# Cluster algorithms force split datapoints even if they are identical. I will replace the embeddings of identical datapoints with the mean of their embeddings.\n",
    "# Load the JSON data\n",
    "data = read_json(path_db_embedded)\n",
    "# data is your JSON array (list of dicts)\n",
    "unique_topics = set()\n",
    "\n",
    "for entry in data:\n",
    "    unique_topics.add(entry['topic'])\n",
    "\n",
    "# Now unique_topics is a set of all topic names\n",
    "print(f'Original topics: {len(data)}')\n",
    "print(f'Unique topics: {len(unique_topics)}')"
   ],
   "id": "f3b03e7684e4b1a8",
   "outputs": [
    {
     "name": "stdout",
     "output_type": "stream",
     "text": [
      "Original topics: 5797\n",
      "Unique topics: 2578\n"
     ]
    }
   ],
   "execution_count": 2
  },
  {
   "metadata": {},
   "cell_type": "markdown",
   "source": "# Use OpenAI to generate embeddings",
   "id": "d6bbedc0f3988aaa"
  },
  {
   "metadata": {
    "ExecuteTime": {
     "end_time": "2025-02-03T03:16:12.487658Z",
     "start_time": "2025-02-03T03:16:12.401373Z"
    }
   },
   "cell_type": "code",
   "source": [
    "data = read_json(path_db_analysed)\n",
    "data[0]['topics']\n"
   ],
   "id": "ff094d1156356feb",
   "outputs": [
    {
     "data": {
      "text/plain": [
       "[{'topic': 'Game Detail',\n",
       "  'sentiment': 'Positive',\n",
       "  'category': 'fact',\n",
       "  'sentence': \"Very detailed and it has lot's to do.\"}]"
      ]
     },
     "execution_count": 15,
     "metadata": {},
     "output_type": "execute_result"
    }
   ],
   "execution_count": 15
  },
  {
   "metadata": {
    "ExecuteTime": {
     "end_time": "2025-02-03T20:03:31.180275Z",
     "start_time": "2025-02-03T18:59:42.515245Z"
    }
   },
   "cell_type": "code",
   "source": [
    "\n",
    "def get_embedding(text, model=\"text-embedding-3-small\"):\n",
    "   text = text.replace(\"\\n\", \" \")\n",
    "   embedding = client.embeddings.create(input = [text], model=model).data[0].embedding\n",
    "   return embedding\n",
    "\n",
    "\n",
    "\n",
    "embed_key = \"sentence\"  # \"topic\" or \"sentence\"\n",
    "data = read_json(path_db_analysed)\n",
    "\n",
    "def process_embedding(data, embed_key):\n",
    "    for i in range(0, len(data)):\n",
    "        if i % 10 == 0:\n",
    "            logger.info(f\"Processing entry {i}\")\n",
    "\n",
    "        for d_topic in data[i][\"topics\"]:\n",
    "            if isinstance(d_topic, dict):\n",
    "                d_topic[\"embedding\"] = get_embedding(d_topic[embed_key], model=\"text-embedding-3-small\")\n",
    "    return data\n",
    "\n",
    "\n",
    "data_embedded = process_embedding(data, embed_key)\n",
    "\n",
    "\n",
    "# Flatten\n",
    "def flatten_data(data):\n",
    "    flattened = []\n",
    "    for entry in data:\n",
    "        base_copy = dict(entry)\n",
    "        topics = base_copy.pop(\"topics\", [])\n",
    "\n",
    "        for topic in topics:\n",
    "            new_entry = dict(base_copy)\n",
    "            new_entry.update(topic)\n",
    "            flattened.append(new_entry)\n",
    "    return flattened\n",
    "\n",
    "\n",
    "data_flattened = flatten_data(data_embedded)\n",
    "\n",
    "# Save the embedded data\n",
    "with open(path_db_embedded, \"w\") as output_file:\n",
    "    json.dump(data_flattened, output_file, indent=4)\n"
   ],
   "id": "7a603f6eda6d62bc",
   "outputs": [
    {
     "name": "stderr",
     "output_type": "stream",
     "text": [
      "2025-02-04 07:59:42,574 - INFO - Processing entry 0\n",
      "2025-02-04 07:59:53,961 - INFO - Processing entry 10\n",
      "2025-02-04 08:00:04,901 - INFO - Processing entry 20\n",
      "2025-02-04 08:00:12,861 - INFO - Processing entry 30\n",
      "2025-02-04 08:00:25,006 - INFO - Processing entry 40\n",
      "2025-02-04 08:00:37,008 - INFO - Processing entry 50\n",
      "2025-02-04 08:00:48,422 - INFO - Processing entry 60\n",
      "2025-02-04 08:00:56,452 - INFO - Processing entry 70\n",
      "2025-02-04 08:01:06,392 - INFO - Processing entry 80\n",
      "2025-02-04 08:01:19,296 - INFO - Processing entry 90\n",
      "2025-02-04 08:01:35,694 - INFO - Processing entry 100\n",
      "2025-02-04 08:01:48,046 - INFO - Processing entry 110\n",
      "2025-02-04 08:02:02,472 - INFO - Processing entry 120\n",
      "2025-02-04 08:02:13,103 - INFO - Processing entry 130\n",
      "2025-02-04 08:02:22,537 - INFO - Processing entry 140\n",
      "2025-02-04 08:02:34,791 - INFO - Processing entry 150\n",
      "2025-02-04 08:04:30,950 - INFO - Retrying request to /embeddings in 0.390738 seconds\n",
      "2025-02-04 08:04:40,841 - INFO - Processing entry 160\n",
      "2025-02-04 08:04:49,890 - INFO - Processing entry 170\n",
      "2025-02-04 08:05:11,342 - INFO - Processing entry 180\n",
      "2025-02-04 08:05:31,963 - INFO - Processing entry 190\n",
      "2025-02-04 08:05:58,653 - INFO - Processing entry 200\n",
      "2025-02-04 08:06:07,429 - INFO - Processing entry 210\n",
      "2025-02-04 08:06:22,176 - INFO - Processing entry 220\n",
      "2025-02-04 08:06:36,716 - INFO - Processing entry 230\n",
      "2025-02-04 08:06:45,527 - INFO - Processing entry 240\n",
      "2025-02-04 08:06:55,138 - INFO - Processing entry 250\n",
      "2025-02-04 08:07:05,911 - INFO - Processing entry 260\n",
      "2025-02-04 08:07:18,234 - INFO - Processing entry 270\n",
      "2025-02-04 08:07:39,784 - INFO - Processing entry 280\n",
      "2025-02-04 08:07:51,396 - INFO - Processing entry 290\n",
      "2025-02-04 08:08:06,504 - INFO - Processing entry 300\n",
      "2025-02-04 08:08:18,279 - INFO - Processing entry 310\n",
      "2025-02-04 08:08:30,201 - INFO - Processing entry 320\n",
      "2025-02-04 08:08:45,383 - INFO - Processing entry 330\n",
      "2025-02-04 08:09:02,699 - INFO - Processing entry 340\n",
      "2025-02-04 08:09:41,953 - INFO - Processing entry 350\n",
      "2025-02-04 08:10:13,159 - INFO - Processing entry 360\n",
      "2025-02-04 08:10:26,813 - INFO - Processing entry 370\n",
      "2025-02-04 08:10:38,250 - INFO - Processing entry 380\n",
      "2025-02-04 08:10:55,780 - INFO - Processing entry 390\n",
      "2025-02-04 08:11:20,989 - INFO - Processing entry 400\n",
      "2025-02-04 08:11:34,274 - INFO - Processing entry 410\n",
      "2025-02-04 08:11:48,265 - INFO - Processing entry 420\n",
      "2025-02-04 08:12:10,342 - INFO - Processing entry 430\n",
      "2025-02-04 08:12:18,069 - INFO - Processing entry 440\n",
      "2025-02-04 08:12:27,341 - INFO - Processing entry 450\n",
      "2025-02-04 08:12:36,396 - INFO - Processing entry 460\n",
      "2025-02-04 08:12:44,473 - INFO - Processing entry 470\n",
      "2025-02-04 08:13:04,612 - INFO - Processing entry 480\n",
      "2025-02-04 08:13:18,581 - INFO - Processing entry 490\n",
      "2025-02-04 08:13:26,247 - INFO - Processing entry 500\n",
      "2025-02-04 08:13:35,648 - INFO - Processing entry 510\n",
      "2025-02-04 08:13:47,777 - INFO - Processing entry 520\n",
      "2025-02-04 08:14:01,228 - INFO - Processing entry 530\n",
      "2025-02-04 08:14:08,884 - INFO - Processing entry 540\n",
      "2025-02-04 08:14:36,175 - INFO - Processing entry 550\n",
      "2025-02-04 08:14:48,501 - INFO - Processing entry 560\n",
      "2025-02-04 08:15:09,900 - INFO - Processing entry 570\n",
      "2025-02-04 08:15:20,598 - INFO - Processing entry 580\n",
      "2025-02-04 08:15:30,746 - INFO - Processing entry 590\n",
      "2025-02-04 08:15:43,427 - INFO - Processing entry 600\n",
      "2025-02-04 08:16:00,262 - INFO - Processing entry 610\n",
      "2025-02-04 08:16:09,708 - INFO - Processing entry 620\n",
      "2025-02-04 08:16:29,539 - INFO - Processing entry 630\n",
      "2025-02-04 08:16:49,036 - INFO - Processing entry 640\n",
      "2025-02-04 08:16:59,653 - INFO - Processing entry 650\n",
      "2025-02-04 08:17:10,851 - INFO - Processing entry 660\n",
      "2025-02-04 08:17:24,807 - INFO - Processing entry 670\n",
      "2025-02-04 08:17:33,506 - INFO - Processing entry 680\n",
      "2025-02-04 08:17:40,527 - INFO - Processing entry 690\n",
      "2025-02-04 08:17:50,307 - INFO - Processing entry 700\n",
      "2025-02-04 08:18:06,797 - INFO - Processing entry 710\n",
      "2025-02-04 08:18:27,420 - INFO - Processing entry 720\n",
      "2025-02-04 08:18:43,937 - INFO - Processing entry 730\n",
      "2025-02-04 08:18:51,316 - INFO - Processing entry 740\n",
      "2025-02-04 08:19:16,112 - INFO - Processing entry 750\n",
      "2025-02-04 08:19:28,219 - INFO - Processing entry 760\n",
      "2025-02-04 08:19:37,962 - INFO - Processing entry 770\n",
      "2025-02-04 08:19:50,172 - INFO - Processing entry 780\n",
      "2025-02-04 08:20:00,033 - INFO - Processing entry 790\n",
      "2025-02-04 08:20:11,437 - INFO - Processing entry 800\n",
      "2025-02-04 08:20:25,591 - INFO - Processing entry 810\n",
      "2025-02-04 08:20:41,695 - INFO - Processing entry 820\n",
      "2025-02-04 08:20:57,544 - INFO - Processing entry 830\n",
      "2025-02-04 08:21:13,709 - INFO - Processing entry 840\n",
      "2025-02-04 08:21:31,306 - INFO - Processing entry 850\n",
      "2025-02-04 08:21:45,750 - INFO - Processing entry 860\n",
      "2025-02-04 08:24:13,607 - INFO - Retrying request to /embeddings in 0.489997 seconds\n",
      "2025-02-04 08:24:28,723 - INFO - Processing entry 870\n",
      "2025-02-04 08:24:37,060 - INFO - Processing entry 880\n",
      "2025-02-04 08:24:53,181 - INFO - Processing entry 890\n",
      "2025-02-04 08:25:07,044 - INFO - Processing entry 900\n",
      "2025-02-04 08:25:17,061 - INFO - Processing entry 910\n",
      "2025-02-04 08:27:27,040 - INFO - Retrying request to /embeddings in 0.397991 seconds\n",
      "2025-02-04 08:27:36,864 - INFO - Processing entry 920\n",
      "2025-02-04 08:29:38,090 - INFO - Retrying request to /embeddings in 0.454825 seconds\n",
      "2025-02-04 08:29:56,481 - INFO - Processing entry 930\n",
      "2025-02-04 08:30:08,386 - INFO - Processing entry 940\n",
      "2025-02-04 08:30:33,774 - INFO - Processing entry 950\n",
      "2025-02-04 08:30:56,640 - INFO - Retrying request to /embeddings in 0.409643 seconds\n",
      "2025-02-04 08:31:03,703 - INFO - Processing entry 960\n",
      "2025-02-04 08:31:23,358 - INFO - Processing entry 970\n",
      "2025-02-04 08:31:35,312 - INFO - Processing entry 980\n",
      "2025-02-04 08:31:47,266 - INFO - Processing entry 990\n",
      "2025-02-04 08:34:13,788 - INFO - Retrying request to /embeddings in 0.416324 seconds\n",
      "2025-02-04 08:34:16,781 - INFO - Processing entry 1000\n",
      "2025-02-04 08:34:28,147 - INFO - Processing entry 1010\n",
      "2025-02-04 08:34:42,685 - INFO - Processing entry 1020\n",
      "2025-02-04 08:34:53,460 - INFO - Retrying request to /embeddings in 0.496421 seconds\n",
      "2025-02-04 08:35:02,230 - INFO - Processing entry 1030\n",
      "2025-02-04 08:35:14,120 - INFO - Processing entry 1040\n",
      "2025-02-04 08:35:30,927 - INFO - Processing entry 1050\n",
      "2025-02-04 08:35:42,289 - INFO - Processing entry 1060\n",
      "2025-02-04 08:35:56,665 - INFO - Processing entry 1070\n",
      "2025-02-04 08:36:04,007 - INFO - Processing entry 1080\n",
      "2025-02-04 08:36:14,439 - INFO - Processing entry 1090\n",
      "2025-02-04 08:36:29,439 - INFO - Processing entry 1100\n",
      "2025-02-04 08:36:41,581 - INFO - Processing entry 1110\n",
      "2025-02-04 08:36:52,080 - INFO - Processing entry 1120\n",
      "2025-02-04 08:37:06,484 - INFO - Processing entry 1130\n",
      "2025-02-04 08:37:15,823 - INFO - Processing entry 1140\n",
      "2025-02-04 08:37:28,135 - INFO - Processing entry 1150\n",
      "2025-02-04 08:37:38,945 - INFO - Processing entry 1160\n",
      "2025-02-04 08:38:48,924 - INFO - Processing entry 1170\n",
      "2025-02-04 08:39:03,008 - INFO - Processing entry 1180\n",
      "2025-02-04 08:39:22,776 - INFO - Processing entry 1190\n",
      "2025-02-04 08:39:37,437 - INFO - Processing entry 1200\n",
      "2025-02-04 08:39:56,263 - INFO - Processing entry 1210\n",
      "2025-02-04 08:40:03,909 - INFO - Processing entry 1220\n",
      "2025-02-04 08:40:20,109 - INFO - Processing entry 1230\n",
      "2025-02-04 08:40:28,559 - INFO - Processing entry 1240\n",
      "2025-02-04 08:40:45,549 - INFO - Processing entry 1250\n",
      "2025-02-04 08:40:59,476 - INFO - Processing entry 1260\n",
      "2025-02-04 08:41:09,996 - INFO - Processing entry 1270\n",
      "2025-02-04 08:41:15,624 - INFO - Processing entry 1280\n",
      "2025-02-04 08:41:27,669 - INFO - Processing entry 1290\n",
      "2025-02-04 08:41:36,788 - INFO - Processing entry 1300\n",
      "2025-02-04 08:41:52,466 - INFO - Processing entry 1310\n",
      "2025-02-04 08:41:58,580 - INFO - Processing entry 1320\n",
      "2025-02-04 08:42:10,850 - INFO - Processing entry 1330\n",
      "2025-02-04 08:42:51,775 - INFO - Processing entry 1340\n",
      "2025-02-04 08:43:19,141 - INFO - Processing entry 1350\n",
      "2025-02-04 08:43:29,083 - INFO - Processing entry 1360\n",
      "2025-02-04 08:43:43,628 - INFO - Processing entry 1370\n",
      "2025-02-04 08:43:49,345 - INFO - Processing entry 1380\n",
      "2025-02-04 08:43:59,000 - INFO - Processing entry 1390\n",
      "2025-02-04 08:44:07,579 - INFO - Processing entry 1400\n",
      "2025-02-04 08:44:22,310 - INFO - Processing entry 1410\n",
      "2025-02-04 08:44:32,640 - INFO - Processing entry 1420\n",
      "2025-02-04 08:44:40,196 - INFO - Processing entry 1430\n",
      "2025-02-04 08:44:54,358 - INFO - Processing entry 1440\n",
      "2025-02-04 08:45:43,915 - INFO - Processing entry 1450\n",
      "2025-02-04 08:45:56,186 - INFO - Processing entry 1460\n",
      "2025-02-04 08:46:06,861 - INFO - Processing entry 1470\n",
      "2025-02-04 08:46:21,921 - INFO - Processing entry 1480\n",
      "2025-02-04 08:46:33,485 - INFO - Processing entry 1490\n",
      "2025-02-04 08:46:46,380 - INFO - Processing entry 1500\n",
      "2025-02-04 08:46:54,465 - INFO - Processing entry 1510\n",
      "2025-02-04 08:47:09,864 - INFO - Processing entry 1520\n",
      "2025-02-04 08:47:21,952 - INFO - Processing entry 1530\n",
      "2025-02-04 08:47:34,627 - INFO - Processing entry 1540\n",
      "2025-02-04 08:48:05,743 - INFO - Processing entry 1550\n",
      "2025-02-04 08:48:21,479 - INFO - Processing entry 1560\n",
      "2025-02-04 08:48:33,783 - INFO - Processing entry 1570\n",
      "2025-02-04 08:48:45,389 - INFO - Processing entry 1580\n",
      "2025-02-04 08:49:31,345 - INFO - Processing entry 1590\n",
      "2025-02-04 08:51:32,513 - INFO - Retrying request to /embeddings in 0.387802 seconds\n",
      "2025-02-04 08:51:39,392 - INFO - Processing entry 1600\n",
      "2025-02-04 08:51:51,568 - INFO - Processing entry 1610\n",
      "2025-02-04 08:52:05,319 - INFO - Processing entry 1620\n",
      "2025-02-04 08:52:17,739 - INFO - Processing entry 1630\n",
      "2025-02-04 08:52:32,426 - INFO - Processing entry 1640\n",
      "2025-02-04 08:52:42,921 - INFO - Processing entry 1650\n",
      "2025-02-04 08:52:55,759 - INFO - Processing entry 1660\n",
      "2025-02-04 08:53:10,212 - INFO - Processing entry 1670\n",
      "2025-02-04 08:53:29,524 - INFO - Processing entry 1680\n",
      "2025-02-04 08:53:39,285 - INFO - Processing entry 1690\n",
      "2025-02-04 08:53:52,080 - INFO - Processing entry 1700\n",
      "2025-02-04 08:54:06,060 - INFO - Processing entry 1710\n",
      "2025-02-04 08:54:21,075 - INFO - Processing entry 1720\n",
      "2025-02-04 08:54:36,533 - INFO - Processing entry 1730\n",
      "2025-02-04 08:54:51,347 - INFO - Processing entry 1740\n",
      "2025-02-04 08:54:57,616 - INFO - Processing entry 1750\n",
      "2025-02-04 08:55:12,375 - INFO - Processing entry 1760\n",
      "2025-02-04 08:55:20,199 - INFO - Processing entry 1770\n",
      "2025-02-04 08:55:27,405 - INFO - Processing entry 1780\n",
      "2025-02-04 08:55:36,375 - INFO - Processing entry 1790\n",
      "2025-02-04 08:57:33,672 - INFO - Retrying request to /embeddings in 0.407790 seconds\n",
      "2025-02-04 08:57:44,493 - INFO - Processing entry 1800\n",
      "2025-02-04 08:57:56,865 - INFO - Processing entry 1810\n",
      "2025-02-04 08:58:08,948 - INFO - Processing entry 1820\n",
      "2025-02-04 08:58:21,144 - INFO - Processing entry 1830\n",
      "2025-02-04 08:58:44,109 - INFO - Processing entry 1840\n",
      "2025-02-04 08:59:02,131 - INFO - Processing entry 1850\n",
      "2025-02-04 08:59:14,202 - INFO - Processing entry 1860\n",
      "2025-02-04 08:59:23,404 - INFO - Processing entry 1870\n",
      "2025-02-04 08:59:29,992 - INFO - Processing entry 1880\n",
      "2025-02-04 08:59:36,178 - INFO - Processing entry 1890\n",
      "2025-02-04 08:59:43,297 - INFO - Processing entry 1900\n",
      "2025-02-04 08:59:54,268 - INFO - Processing entry 1910\n",
      "2025-02-04 09:00:08,112 - INFO - Processing entry 1920\n",
      "2025-02-04 09:00:26,069 - INFO - Processing entry 1930\n",
      "2025-02-04 09:00:39,186 - INFO - Processing entry 1940\n",
      "2025-02-04 09:00:56,874 - INFO - Processing entry 1950\n",
      "2025-02-04 09:01:09,231 - INFO - Processing entry 1960\n",
      "2025-02-04 09:01:21,730 - INFO - Processing entry 1970\n",
      "2025-02-04 09:01:27,526 - INFO - Processing entry 1980\n",
      "2025-02-04 09:01:42,909 - INFO - Processing entry 1990\n",
      "2025-02-04 09:01:49,124 - INFO - Processing entry 2000\n",
      "2025-02-04 09:02:07,626 - INFO - Processing entry 2010\n",
      "2025-02-04 09:02:18,460 - INFO - Processing entry 2020\n",
      "2025-02-04 09:02:33,001 - INFO - Processing entry 2030\n",
      "2025-02-04 09:02:45,335 - INFO - Processing entry 2040\n",
      "2025-02-04 09:03:06,944 - INFO - Processing entry 2050\n"
     ]
    }
   ],
   "execution_count": 2
  },
  {
   "metadata": {},
   "cell_type": "markdown",
   "source": "# Local Embedding",
   "id": "90ac48f960ae8c51"
  },
  {
   "metadata": {},
   "cell_type": "code",
   "outputs": [],
   "execution_count": null,
   "source": [
    "from helper.embedding import *\n",
    "\n",
    "embed_key = \"topic\"  # \"topic\" or \"sentence\"\n",
    "\n",
    "data = read_json(path_db_analysed)\n",
    "embed_model = initialize_embedding_model(embed_model_name)\n",
    "\n",
    "\n",
    "def process_embedding(data, embed_key):\n",
    "    for i in range(0, len(data)):\n",
    "        if i % 10 == 0:\n",
    "            logger.info(f\"Processing entry {i}\")\n",
    "\n",
    "        for d_topic in data[i][\"topics\"]:\n",
    "            if isinstance(d_topic, dict):\n",
    "                d_topic[\"embedding\"] = embed_text(d_topic[embed_key], embed_model)\n",
    "    return data\n",
    "\n",
    "\n",
    "data_embedded = process_embedding(data, embed_key)\n",
    "\n",
    "\n",
    "# Flatten\n",
    "def flatten_data(data):\n",
    "    flattened = []\n",
    "    for entry in data:\n",
    "        base_copy = dict(entry)\n",
    "        topics = base_copy.pop(\"topics\", [])\n",
    "\n",
    "        for topic in topics:\n",
    "            new_entry = dict(base_copy)\n",
    "            new_entry.update(topic)\n",
    "            flattened.append(new_entry)\n",
    "    return flattened\n",
    "\n",
    "\n",
    "data_flattened = flatten_data(data_embedded)\n",
    "\n",
    "# Save the embedded data\n",
    "with open(path_db_embedded, \"w\") as output_file:\n",
    "    json.dump(data_flattened, output_file, indent=4)"
   ],
   "id": "3c69cc6f2aa8bc2f"
  },
  {
   "metadata": {},
   "cell_type": "markdown",
   "source": "# reduce dimensions",
   "id": "1c054b8bf047f93f"
  },
  {
   "metadata": {
    "ExecuteTime": {
     "end_time": "2025-02-03T20:25:04.079896Z",
     "start_time": "2025-02-03T20:24:34.826019Z"
    }
   },
   "cell_type": "code",
   "source": [
    "# Reduce the dimensions with t-SNE and replace the old embeddings with the new ones\n",
    "from sklearn.manifold import TSNE\n",
    "import umap\n",
    "import matplotlib.pyplot as plt\n",
    "\n",
    "data = read_json(path_db_embedded)\n",
    "# Gather all embeddings\n",
    "embeddings = [entry['embedding'] for entry in data]\n",
    "\n",
    "# Convert to numpy array\n",
    "X = np.array(embeddings)\n",
    "\n",
    "# Perform t-SNE\n",
    "# X_embedded = TSNE(n_components=3).fit_transform(X)\n",
    "\n",
    "# Perform UMAP\n",
    "X_embedded = umap.UMAP(n_components=12).fit_transform(X)\n",
    "\n",
    "# Update the embeddings in the data\n",
    "for i, entry in enumerate(data):\n",
    "    entry['embedding'] = X_embedded[i].tolist()\n",
    "\n",
    "# Save the updated data\n",
    "\n"
   ],
   "id": "3b42b3523c0ce865",
   "outputs": [
    {
     "name": "stderr",
     "output_type": "stream",
     "text": [
      "C:\\Users\\fbohm\\Documents\\Venvironments\\.venv\\Lib\\site-packages\\sklearn\\utils\\deprecation.py:151: FutureWarning: 'force_all_finite' was renamed to 'ensure_all_finite' in 1.6 and will be removed in 1.8.\n",
      "  warnings.warn(\n"
     ]
    }
   ],
   "execution_count": 3
  },
  {
   "metadata": {
    "ExecuteTime": {
     "end_time": "2025-02-03T20:25:58.059380Z",
     "start_time": "2025-02-03T20:25:57.845066Z"
    }
   },
   "cell_type": "code",
   "source": "print(shape(embeddings))",
   "id": "976521720e1abde4",
   "outputs": [
    {
     "name": "stdout",
     "output_type": "stream",
     "text": [
      "(5797, 1536)\n"
     ]
    }
   ],
   "execution_count": 4
  },
  {
   "metadata": {
    "ExecuteTime": {
     "end_time": "2025-02-03T20:32:57.873392Z",
     "start_time": "2025-02-03T20:32:57.863227Z"
    }
   },
   "cell_type": "code",
   "source": "data[5]",
   "id": "3e1384c99bd5d5fb",
   "outputs": [
    {
     "data": {
      "text/plain": [
       "{'app_id_name': '1166860_Rival_Stars_Horse_Racing_Desktop_Edition',\n",
       " 'recommendationid': 177351085,\n",
       " 'playtime_at_review_minutes': 3678,\n",
       " 'last_played': 1729362177,\n",
       " 'review_text': '\"It\\'s wonderful, simply one of the best horse games I\\'ve ever played, although for the price, they could pay more attention to the PC version.\"',\n",
       " 'timestamp_updated': 1729361303,\n",
       " 'voted_up': True,\n",
       " 'votes_up': 0,\n",
       " 'votes_funny': 0,\n",
       " 'weighted_vote_score': 0.0,\n",
       " 'steam_purchase': True,\n",
       " 'received_for_free': False,\n",
       " 'written_during_early_access': False,\n",
       " 'language': 'french',\n",
       " 'topic': 'PC Version Optimization',\n",
       " 'sentiment': 'Negative',\n",
       " 'category': 'request',\n",
       " 'sentence': 'Although for the price, they could pay more attention to the PC version.',\n",
       " 'embedding': [6.496478080749512,\n",
       "  5.828295707702637,\n",
       "  4.334468841552734,\n",
       "  5.238367557525635,\n",
       "  4.680978775024414,\n",
       "  2.032257080078125,\n",
       "  3.6438417434692383,\n",
       "  6.340383529663086,\n",
       "  4.686120986938477,\n",
       "  6.606916904449463,\n",
       "  3.5240108966827393,\n",
       "  8.150547981262207]}"
      ]
     },
     "execution_count": 5,
     "metadata": {},
     "output_type": "execute_result"
    }
   ],
   "execution_count": 5
  },
  {
   "metadata": {
    "ExecuteTime": {
     "end_time": "2025-01-29T19:59:49.244662Z",
     "start_time": "2025-01-29T19:59:49.230303Z"
    }
   },
   "cell_type": "code",
   "source": "save_data = data",
   "id": "606f9fd914b5013e",
   "outputs": [],
   "execution_count": 5
  },
  {
   "metadata": {
    "ExecuteTime": {
     "end_time": "2025-02-04T00:21:24.658177Z",
     "start_time": "2025-02-04T00:21:24.631637Z"
    }
   },
   "cell_type": "code",
   "source": [
    "import numpy as np\n",
    "\n",
    "# Dictionary to store all embeddings for each topic\n",
    "topic_to_embeddings = {topic: [] for topic in unique_topics}\n",
    "\n",
    "# Gather embeddings by topic\n",
    "for entry in data:\n",
    "    topic = entry['topic']\n",
    "    # print(topic)\n",
    "    embedding = entry['embedding']\n",
    "    # print(embedding)\n",
    "    topic_to_embeddings[topic].append(embedding)\n",
    "    # print(topic_to_embeddings[topic])"
   ],
   "id": "d3221bbe030a1398",
   "outputs": [
    {
     "ename": "NameError",
     "evalue": "name 'unique_topics' is not defined",
     "output_type": "error",
     "traceback": [
      "\u001B[1;31m---------------------------------------------------------------------------\u001B[0m",
      "\u001B[1;31mNameError\u001B[0m                                 Traceback (most recent call last)",
      "Cell \u001B[1;32mIn[8], line 4\u001B[0m\n\u001B[0;32m      1\u001B[0m \u001B[38;5;28;01mimport\u001B[39;00m\u001B[38;5;250m \u001B[39m\u001B[38;5;21;01mnumpy\u001B[39;00m\u001B[38;5;250m \u001B[39m\u001B[38;5;28;01mas\u001B[39;00m\u001B[38;5;250m \u001B[39m\u001B[38;5;21;01mnp\u001B[39;00m\n\u001B[0;32m      3\u001B[0m \u001B[38;5;66;03m# Dictionary to store all embeddings for each topic\u001B[39;00m\n\u001B[1;32m----> 4\u001B[0m topic_to_embeddings \u001B[38;5;241m=\u001B[39m {topic: [] \u001B[38;5;28;01mfor\u001B[39;00m topic \u001B[38;5;129;01min\u001B[39;00m \u001B[43munique_topics\u001B[49m}\n\u001B[0;32m      6\u001B[0m \u001B[38;5;66;03m# Gather embeddings by topic\u001B[39;00m\n\u001B[0;32m      7\u001B[0m \u001B[38;5;28;01mfor\u001B[39;00m entry \u001B[38;5;129;01min\u001B[39;00m data:\n",
      "\u001B[1;31mNameError\u001B[0m: name 'unique_topics' is not defined"
     ]
    }
   ],
   "execution_count": 8
  },
  {
   "metadata": {
    "ExecuteTime": {
     "end_time": "2025-02-04T00:21:09.824734Z",
     "start_time": "2025-02-04T00:21:09.130282Z"
    }
   },
   "cell_type": "code",
   "source": "topic_to_embeddings['Game Detail']",
   "id": "244e86f7a033937",
   "outputs": [
    {
     "ename": "NameError",
     "evalue": "name 'topic_to_embeddings' is not defined",
     "output_type": "error",
     "traceback": [
      "\u001B[1;31m---------------------------------------------------------------------------\u001B[0m",
      "\u001B[1;31mNameError\u001B[0m                                 Traceback (most recent call last)",
      "Cell \u001B[1;32mIn[6], line 1\u001B[0m\n\u001B[1;32m----> 1\u001B[0m \u001B[43mtopic_to_embeddings\u001B[49m[\u001B[38;5;124m'\u001B[39m\u001B[38;5;124mGame Detail\u001B[39m\u001B[38;5;124m'\u001B[39m]\n",
      "\u001B[1;31mNameError\u001B[0m: name 'topic_to_embeddings' is not defined"
     ]
    }
   ],
   "execution_count": 6
  },
  {
   "metadata": {
    "ExecuteTime": {
     "end_time": "2025-02-04T00:21:34.712138Z",
     "start_time": "2025-02-04T00:21:34.695404Z"
    }
   },
   "cell_type": "code",
   "source": [
    "# Calculate mean embedding for each topic\n",
    "topic_to_mean_embedding = {}\n",
    "\n",
    "for topic, embeddings_list in topic_to_embeddings.items():\n",
    "    # Convert to a numpy array for easy mean calculation\n",
    "    np_embeddings = np.array(embeddings_list)\n",
    "    mean_embedding = np.mean(np_embeddings, axis=0)  # Shape will match original embedding dimension\n",
    "\n",
    "    # Store the mean embedding (convert back to list if you want plain Python types)\n",
    "    topic_to_mean_embedding[topic] = mean_embedding.tolist()"
   ],
   "id": "b7073d0a1d95ba90",
   "outputs": [
    {
     "ename": "NameError",
     "evalue": "name 'topic_to_embeddings' is not defined",
     "output_type": "error",
     "traceback": [
      "\u001B[1;31m---------------------------------------------------------------------------\u001B[0m",
      "\u001B[1;31mNameError\u001B[0m                                 Traceback (most recent call last)",
      "Cell \u001B[1;32mIn[9], line 4\u001B[0m\n\u001B[0;32m      1\u001B[0m \u001B[38;5;66;03m# Calculate mean embedding for each topic\u001B[39;00m\n\u001B[0;32m      2\u001B[0m topic_to_mean_embedding \u001B[38;5;241m=\u001B[39m {}\n\u001B[1;32m----> 4\u001B[0m \u001B[38;5;28;01mfor\u001B[39;00m topic, embeddings_list \u001B[38;5;129;01min\u001B[39;00m \u001B[43mtopic_to_embeddings\u001B[49m\u001B[38;5;241m.\u001B[39mitems():\n\u001B[0;32m      5\u001B[0m     \u001B[38;5;66;03m# Convert to a numpy array for easy mean calculation\u001B[39;00m\n\u001B[0;32m      6\u001B[0m     np_embeddings \u001B[38;5;241m=\u001B[39m np\u001B[38;5;241m.\u001B[39marray(embeddings_list)\n\u001B[0;32m      7\u001B[0m     mean_embedding \u001B[38;5;241m=\u001B[39m np\u001B[38;5;241m.\u001B[39mmean(np_embeddings, axis\u001B[38;5;241m=\u001B[39m\u001B[38;5;241m0\u001B[39m)  \u001B[38;5;66;03m# Shape will match original embedding dimension\u001B[39;00m\n",
      "\u001B[1;31mNameError\u001B[0m: name 'topic_to_embeddings' is not defined"
     ]
    }
   ],
   "execution_count": 9
  },
  {
   "metadata": {
    "ExecuteTime": {
     "end_time": "2025-01-29T20:00:06.803158Z",
     "start_time": "2025-01-29T20:00:06.793030Z"
    }
   },
   "cell_type": "code",
   "source": "topic_to_mean_embedding['Game Detail']",
   "id": "1713be335759be69",
   "outputs": [
    {
     "data": {
      "text/plain": [
       "[10.249449253082275,\n",
       " 0.912435308098793,\n",
       " 3.8314263820648193,\n",
       " 4.515610575675964,\n",
       " 3.752143383026123,\n",
       " 4.7079079151153564,\n",
       " 6.168004631996155,\n",
       " 4.5352208614349365,\n",
       " 4.2640591859817505,\n",
       " 3.572487235069275,\n",
       " 4.389563322067261,\n",
       " 5.2080641984939575]"
      ]
     },
     "execution_count": 9,
     "metadata": {},
     "output_type": "execute_result"
    }
   ],
   "execution_count": 9
  },
  {
   "metadata": {
    "ExecuteTime": {
     "end_time": "2025-01-29T02:27:40.772945Z",
     "start_time": "2025-01-29T02:27:40.764152Z"
    }
   },
   "cell_type": "code",
   "source": "(-2.168487071990967 -2.173760414123535 -2.168487071990967 -2.173734426498413) / 4",
   "id": "c545a20aecd4a879",
   "outputs": [
    {
     "data": {
      "text/plain": [
       "-2.1711172461509705"
      ]
     },
     "execution_count": 57,
     "metadata": {},
     "output_type": "execute_result"
    }
   ],
   "execution_count": 57
  },
  {
   "metadata": {
    "ExecuteTime": {
     "end_time": "2025-01-29T20:00:13.930487Z",
     "start_time": "2025-01-29T20:00:13.924262Z"
    }
   },
   "cell_type": "code",
   "source": [
    "for entry in data:\n",
    "    topic = entry['topic']\n",
    "    entry['embedding'] = topic_to_mean_embedding[topic]\n"
   ],
   "id": "2a5ed5646c6157e2",
   "outputs": [],
   "execution_count": 10
  },
  {
   "metadata": {
    "ExecuteTime": {
     "end_time": "2025-01-29T20:01:03.560860Z",
     "start_time": "2025-01-29T20:01:03.555967Z"
    }
   },
   "cell_type": "code",
   "source": "data[0]",
   "id": "8e82df2ff7ba1b33",
   "outputs": [
    {
     "data": {
      "text/plain": [
       "{'app_id_name': '1166860_Rival_Stars_Horse_Racing_Desktop_Edition',\n",
       " 'recommendationid': 179387177,\n",
       " 'playtime_at_review_minutes': 1775,\n",
       " 'last_played': 1735228376,\n",
       " 'review_text': \"Very detailed and it has lot's to do.\",\n",
       " 'timestamp_updated': 1732047413,\n",
       " 'voted_up': True,\n",
       " 'votes_up': 0,\n",
       " 'votes_funny': 0,\n",
       " 'weighted_vote_score': 0.0,\n",
       " 'steam_purchase': True,\n",
       " 'received_for_free': False,\n",
       " 'written_during_early_access': False,\n",
       " 'language': 'english',\n",
       " 'topic': 'Game Detail',\n",
       " 'sentiment': 'Positive',\n",
       " 'category': 'fact',\n",
       " 'sentence': \"Very detailed and it has lot's to do.\",\n",
       " 'embedding': [10.249449253082275,\n",
       "  0.912435308098793,\n",
       "  3.8314263820648193,\n",
       "  4.515610575675964,\n",
       "  3.752143383026123,\n",
       "  4.7079079151153564,\n",
       "  6.168004631996155,\n",
       "  4.5352208614349365,\n",
       "  4.2640591859817505,\n",
       "  3.572487235069275,\n",
       "  4.389563322067261,\n",
       "  5.2080641984939575]}"
      ]
     },
     "execution_count": 14,
     "metadata": {},
     "output_type": "execute_result"
    }
   ],
   "execution_count": 14
  },
  {
   "metadata": {},
   "cell_type": "markdown",
   "source": "# Cluster analysis",
   "id": "b21bf74eaa236494"
  },
  {
   "metadata": {
    "ExecuteTime": {
     "end_time": "2025-02-04T00:22:07.023937Z",
     "start_time": "2025-02-04T00:21:40.399532Z"
    }
   },
   "cell_type": "code",
   "source": [
    "# The clustering does not perform to good. Some datapoints that clearly should be in a cluster based on eyeballing and their topic name but they are not. Rather often some points in a dense cluster are categorized as noise.\n",
    "# I will try to improve this by first perform a dimension reduction and then perform clustering. Reason being, that in high dimensions the data might be too sparse for the clustering algorithm to work properly.\n",
    "\n",
    "from helper.cluster_analysis import *\n",
    "from helper.utils import *\n",
    "\n",
    "# Adjustable parameters\n",
    "dimensionality_methods = ['UMAP', 'PCA', 'tSNE']\n",
    "hdbscan_params = {\"min_cluster_size\": 50, \"min_samples\": 2, \"cluster_selection_epsilon\": 0.15}\n",
    "\n",
    "df = pd.DataFrame(data)\n",
    "df = df[df['embedding'].apply(lambda x: isinstance(x, list) and len(x) > 0)]\n",
    "print(f\"Loaded {len(df)} valid entries with embeddings.\")\n",
    "\n",
    "# Extract embeddings\n",
    "mat = np.array(df['embedding'].tolist())\n",
    "\n",
    "hdbscan_clusterer = hdbscan.HDBSCAN(**hdbscan_params)\n",
    "cluster_labels = hdbscan_clusterer.fit_predict(mat)\n",
    "\n",
    "reduction_results = {}\n",
    "\n",
    "for method in dimensionality_methods:\n",
    "    coords_2d = dimensionality_reduction(mat, method, n_components=2)\n",
    "    reduction_results[f'{method}_2D'] = {\n",
    "        'x': coords_2d[:, 0],\n",
    "        'y': coords_2d[:, 1]\n",
    "    }\n",
    "\n",
    "# 3D Reduction\n",
    "    coords_3d = dimensionality_reduction(mat, method, n_components=3)\n",
    "    reduction_results[f'{method}_3D'] = {\n",
    "        'x': coords_3d[:, 0],\n",
    "        'y': coords_3d[:, 1],\n",
    "        'z': coords_3d[:, 2]\n",
    "    }\n",
    "\n",
    "# Add dimensional coordinates to DataFrame\n",
    "for method_dim, coords in reduction_results.items():\n",
    "    for axis, values in coords.items():\n",
    "        df[f'{method_dim}_{axis}'] = values\n",
    "\n",
    "# Add the cluster labels to the DataFrame\n",
    "df['cluster_id'] = cluster_labels\n"
   ],
   "id": "d54eafaca5a45ece",
   "outputs": [
    {
     "name": "stderr",
     "output_type": "stream",
     "text": [
      "C:\\Users\\fbohm\\Documents\\Venvironments\\.venv\\Lib\\site-packages\\sklearn\\utils\\deprecation.py:151: FutureWarning: 'force_all_finite' was renamed to 'ensure_all_finite' in 1.6 and will be removed in 1.8.\n",
      "  warnings.warn(\n",
      "C:\\Users\\fbohm\\Documents\\Venvironments\\.venv\\Lib\\site-packages\\sklearn\\utils\\deprecation.py:151: FutureWarning: 'force_all_finite' was renamed to 'ensure_all_finite' in 1.6 and will be removed in 1.8.\n",
      "  warnings.warn(\n",
      "2025-02-04 13:21:40,947 - INFO - Applying UMAP with 2 components.\n"
     ]
    },
    {
     "name": "stdout",
     "output_type": "stream",
     "text": [
      "Loaded 5797 valid entries with embeddings.\n"
     ]
    },
    {
     "name": "stderr",
     "output_type": "stream",
     "text": [
      "C:\\Users\\fbohm\\Documents\\Venvironments\\.venv\\Lib\\site-packages\\sklearn\\utils\\deprecation.py:151: FutureWarning: 'force_all_finite' was renamed to 'ensure_all_finite' in 1.6 and will be removed in 1.8.\n",
      "  warnings.warn(\n",
      "2025-02-04 13:21:41,962 - INFO - Applying UMAP with 3 components.\n",
      "C:\\Users\\fbohm\\Documents\\Venvironments\\.venv\\Lib\\site-packages\\sklearn\\utils\\deprecation.py:151: FutureWarning: 'force_all_finite' was renamed to 'ensure_all_finite' in 1.6 and will be removed in 1.8.\n",
      "  warnings.warn(\n",
      "2025-02-04 13:21:43,040 - INFO - Applying PCA with 2 components.\n",
      "2025-02-04 13:21:43,048 - INFO - Applying PCA with 3 components.\n",
      "2025-02-04 13:21:43,050 - INFO - Applying tSNE with 2 components.\n",
      "2025-02-04 13:21:43,050 - INFO - Perplexity not provided, setting to 30 based on sample size.\n",
      "2025-02-04 13:21:51,783 - INFO - Applying tSNE with 3 components.\n",
      "2025-02-04 13:21:51,783 - INFO - Perplexity not provided, setting to 30 based on sample size.\n"
     ]
    }
   ],
   "execution_count": 10
  },
  {
   "metadata": {
    "ExecuteTime": {
     "end_time": "2025-02-04T00:22:07.063959Z",
     "start_time": "2025-02-04T00:22:07.035231Z"
    }
   },
   "cell_type": "code",
   "source": "df.head()",
   "id": "a329230dea157621",
   "outputs": [
    {
     "data": {
      "text/plain": [
       "                                        app_id_name  recommendationid  \\\n",
       "0  1166860_Rival_Stars_Horse_Racing_Desktop_Edition         179387177   \n",
       "1  1166860_Rival_Stars_Horse_Racing_Desktop_Edition         178743676   \n",
       "2  1166860_Rival_Stars_Horse_Racing_Desktop_Edition         178743676   \n",
       "3  1166860_Rival_Stars_Horse_Racing_Desktop_Edition         178350425   \n",
       "4  1166860_Rival_Stars_Horse_Racing_Desktop_Edition         177351085   \n",
       "\n",
       "   playtime_at_review_minutes  last_played  \\\n",
       "0                        1775   1735228376   \n",
       "1                        1016   1731228389   \n",
       "2                        1016   1731228389   \n",
       "3                        2492   1736827844   \n",
       "4                        3678   1729362177   \n",
       "\n",
       "                                         review_text  timestamp_updated  \\\n",
       "0              Very detailed and it has lot's to do.         1732047413   \n",
       "1  definitely a favourite go-to game of mine, I c...         1731227648   \n",
       "2  definitely a favourite go-to game of mine, I c...         1731227648   \n",
       "3  i love this game one phone and pc. i just wish...         1730675154   \n",
       "4  \"It's wonderful, simply one of the best horse ...         1729361303   \n",
       "\n",
       "   voted_up  votes_up  votes_funny  weighted_vote_score  ...  PCA_2D_y  \\\n",
       "0      True         0            0             0.000000  ... -0.696643   \n",
       "1      True         9            0             0.652082  ...  0.786879   \n",
       "2      True         9            0             0.652082  ... -1.625069   \n",
       "3      True         0            0             0.000000  ...  2.169510   \n",
       "4      True         0            0             0.000000  ... -1.919069   \n",
       "\n",
       "   PCA_3D_x  PCA_3D_y  PCA_3D_z  tSNE_2D_x  tSNE_2D_y  tSNE_3D_x  tSNE_3D_y  \\\n",
       "0  2.389605 -0.696643  0.149720  29.548246 -15.199729   9.003181  -3.183665   \n",
       "1 -2.908823  0.786879 -0.537476 -43.810314  -4.599304  -5.191478   8.579439   \n",
       "2  3.840906 -1.625069 -0.378133  51.323654 -40.445629  14.036543 -15.618323   \n",
       "3  1.868521  2.169510 -0.677289  30.164398  45.058620   9.804322  11.004961   \n",
       "4 -4.255278 -1.919069 -0.899337 -26.896746 -56.909252 -12.050323 -17.088345   \n",
       "\n",
       "  tSNE_3D_z  cluster_id  \n",
       "0  5.976941          -1  \n",
       "1 -2.871970           0  \n",
       "2 -4.650846          19  \n",
       "3 -6.132709          13  \n",
       "4 -8.572276           0  \n",
       "\n",
       "[5 rows x 35 columns]"
      ],
      "text/html": [
       "<div>\n",
       "<style scoped>\n",
       "    .dataframe tbody tr th:only-of-type {\n",
       "        vertical-align: middle;\n",
       "    }\n",
       "\n",
       "    .dataframe tbody tr th {\n",
       "        vertical-align: top;\n",
       "    }\n",
       "\n",
       "    .dataframe thead th {\n",
       "        text-align: right;\n",
       "    }\n",
       "</style>\n",
       "<table border=\"1\" class=\"dataframe\">\n",
       "  <thead>\n",
       "    <tr style=\"text-align: right;\">\n",
       "      <th></th>\n",
       "      <th>app_id_name</th>\n",
       "      <th>recommendationid</th>\n",
       "      <th>playtime_at_review_minutes</th>\n",
       "      <th>last_played</th>\n",
       "      <th>review_text</th>\n",
       "      <th>timestamp_updated</th>\n",
       "      <th>voted_up</th>\n",
       "      <th>votes_up</th>\n",
       "      <th>votes_funny</th>\n",
       "      <th>weighted_vote_score</th>\n",
       "      <th>...</th>\n",
       "      <th>PCA_2D_y</th>\n",
       "      <th>PCA_3D_x</th>\n",
       "      <th>PCA_3D_y</th>\n",
       "      <th>PCA_3D_z</th>\n",
       "      <th>tSNE_2D_x</th>\n",
       "      <th>tSNE_2D_y</th>\n",
       "      <th>tSNE_3D_x</th>\n",
       "      <th>tSNE_3D_y</th>\n",
       "      <th>tSNE_3D_z</th>\n",
       "      <th>cluster_id</th>\n",
       "    </tr>\n",
       "  </thead>\n",
       "  <tbody>\n",
       "    <tr>\n",
       "      <th>0</th>\n",
       "      <td>1166860_Rival_Stars_Horse_Racing_Desktop_Edition</td>\n",
       "      <td>179387177</td>\n",
       "      <td>1775</td>\n",
       "      <td>1735228376</td>\n",
       "      <td>Very detailed and it has lot's to do.</td>\n",
       "      <td>1732047413</td>\n",
       "      <td>True</td>\n",
       "      <td>0</td>\n",
       "      <td>0</td>\n",
       "      <td>0.000000</td>\n",
       "      <td>...</td>\n",
       "      <td>-0.696643</td>\n",
       "      <td>2.389605</td>\n",
       "      <td>-0.696643</td>\n",
       "      <td>0.149720</td>\n",
       "      <td>29.548246</td>\n",
       "      <td>-15.199729</td>\n",
       "      <td>9.003181</td>\n",
       "      <td>-3.183665</td>\n",
       "      <td>5.976941</td>\n",
       "      <td>-1</td>\n",
       "    </tr>\n",
       "    <tr>\n",
       "      <th>1</th>\n",
       "      <td>1166860_Rival_Stars_Horse_Racing_Desktop_Edition</td>\n",
       "      <td>178743676</td>\n",
       "      <td>1016</td>\n",
       "      <td>1731228389</td>\n",
       "      <td>definitely a favourite go-to game of mine, I c...</td>\n",
       "      <td>1731227648</td>\n",
       "      <td>True</td>\n",
       "      <td>9</td>\n",
       "      <td>0</td>\n",
       "      <td>0.652082</td>\n",
       "      <td>...</td>\n",
       "      <td>0.786879</td>\n",
       "      <td>-2.908823</td>\n",
       "      <td>0.786879</td>\n",
       "      <td>-0.537476</td>\n",
       "      <td>-43.810314</td>\n",
       "      <td>-4.599304</td>\n",
       "      <td>-5.191478</td>\n",
       "      <td>8.579439</td>\n",
       "      <td>-2.871970</td>\n",
       "      <td>0</td>\n",
       "    </tr>\n",
       "    <tr>\n",
       "      <th>2</th>\n",
       "      <td>1166860_Rival_Stars_Horse_Racing_Desktop_Edition</td>\n",
       "      <td>178743676</td>\n",
       "      <td>1016</td>\n",
       "      <td>1731228389</td>\n",
       "      <td>definitely a favourite go-to game of mine, I c...</td>\n",
       "      <td>1731227648</td>\n",
       "      <td>True</td>\n",
       "      <td>9</td>\n",
       "      <td>0</td>\n",
       "      <td>0.652082</td>\n",
       "      <td>...</td>\n",
       "      <td>-1.625069</td>\n",
       "      <td>3.840906</td>\n",
       "      <td>-1.625069</td>\n",
       "      <td>-0.378133</td>\n",
       "      <td>51.323654</td>\n",
       "      <td>-40.445629</td>\n",
       "      <td>14.036543</td>\n",
       "      <td>-15.618323</td>\n",
       "      <td>-4.650846</td>\n",
       "      <td>19</td>\n",
       "    </tr>\n",
       "    <tr>\n",
       "      <th>3</th>\n",
       "      <td>1166860_Rival_Stars_Horse_Racing_Desktop_Edition</td>\n",
       "      <td>178350425</td>\n",
       "      <td>2492</td>\n",
       "      <td>1736827844</td>\n",
       "      <td>i love this game one phone and pc. i just wish...</td>\n",
       "      <td>1730675154</td>\n",
       "      <td>True</td>\n",
       "      <td>0</td>\n",
       "      <td>0</td>\n",
       "      <td>0.000000</td>\n",
       "      <td>...</td>\n",
       "      <td>2.169510</td>\n",
       "      <td>1.868521</td>\n",
       "      <td>2.169510</td>\n",
       "      <td>-0.677289</td>\n",
       "      <td>30.164398</td>\n",
       "      <td>45.058620</td>\n",
       "      <td>9.804322</td>\n",
       "      <td>11.004961</td>\n",
       "      <td>-6.132709</td>\n",
       "      <td>13</td>\n",
       "    </tr>\n",
       "    <tr>\n",
       "      <th>4</th>\n",
       "      <td>1166860_Rival_Stars_Horse_Racing_Desktop_Edition</td>\n",
       "      <td>177351085</td>\n",
       "      <td>3678</td>\n",
       "      <td>1729362177</td>\n",
       "      <td>\"It's wonderful, simply one of the best horse ...</td>\n",
       "      <td>1729361303</td>\n",
       "      <td>True</td>\n",
       "      <td>0</td>\n",
       "      <td>0</td>\n",
       "      <td>0.000000</td>\n",
       "      <td>...</td>\n",
       "      <td>-1.919069</td>\n",
       "      <td>-4.255278</td>\n",
       "      <td>-1.919069</td>\n",
       "      <td>-0.899337</td>\n",
       "      <td>-26.896746</td>\n",
       "      <td>-56.909252</td>\n",
       "      <td>-12.050323</td>\n",
       "      <td>-17.088345</td>\n",
       "      <td>-8.572276</td>\n",
       "      <td>0</td>\n",
       "    </tr>\n",
       "  </tbody>\n",
       "</table>\n",
       "<p>5 rows × 35 columns</p>\n",
       "</div>"
      ]
     },
     "execution_count": 11,
     "metadata": {},
     "output_type": "execute_result"
    }
   ],
   "execution_count": 11
  },
  {
   "metadata": {
    "ExecuteTime": {
     "end_time": "2025-02-04T00:22:10.145135Z",
     "start_time": "2025-02-04T00:22:09.201845Z"
    }
   },
   "cell_type": "code",
   "source": "save_df_as_json(df, path_db_clustered)",
   "id": "610851bfb07a0050",
   "outputs": [
    {
     "name": "stderr",
     "output_type": "stream",
     "text": [
      "2025-02-04 13:22:09,201 - INFO - Saving data to S:\\SID\\Analytics\\Working Files\\Individual\\Florian\\Projects\\DataScience\\cluster_analysis\\Data\\HRC\\Cluster_tests\\db_clustered.json\n"
     ]
    }
   ],
   "execution_count": 12
  },
  {
   "metadata": {},
   "cell_type": "markdown",
   "source": "# Cluster Naming",
   "id": "afbc3f4a64dc645d"
  },
  {
   "metadata": {
    "ExecuteTime": {
     "end_time": "2025-02-04T00:22:50.650394Z",
     "start_time": "2025-02-04T00:22:24.523374Z"
    }
   },
   "cell_type": "code",
   "source": [
    "from helper.cluster_naming import *\n",
    "\n",
    "api_settings = {\"client\": client, \"model\": chat_model_name}\n",
    "\n",
    "data_cluster = read_json(path_db_clustered)\n",
    "\n",
    "unique_cluster_names = {}\n",
    "\n",
    "df = pd.DataFrame(data_cluster)\n",
    "df = df[df['embedding'].apply(lambda x: isinstance(x, list) and len(x) > 0)]\n",
    "print(f\"Loaded {len(df)} valid entries with embeddings.\")\n",
    "\n",
    "\n",
    "unique_clusters = df['cluster_id'].unique()\n",
    "\n",
    "for cluster_id in unique_clusters:\n",
    "    if cluster_id == -1:  # Skip noise clusters\n",
    "        continue\n",
    "\n",
    "    # Find the 10 most centric points in the cluster and store them in a list named 'topics'\n",
    "    cluster_data = df[df['cluster_id'] == cluster_id]\n",
    "    cluster_embeddings = np.array(cluster_data['embedding'].tolist())\n",
    "    cluster_centroid = np.mean(cluster_embeddings, axis=0)\n",
    "    cluster_centroid = cluster_centroid.tolist()\n",
    "\n",
    "    distances = cosine_distances([cluster_centroid], cluster_embeddings).flatten()\n",
    "    closest_indices = np.argsort(distances)[:10]\n",
    "    representative_topics = cluster_data.iloc[closest_indices]['sentence'].tolist()\n",
    "\n",
    "    #print(representative_topics)\n",
    "\n",
    "    # Generate or retrieve cluster name\n",
    "    if cluster_id not in unique_cluster_names:\n",
    "        cluster_name = generate_cluster_name(representative_topics, api_settings)\n",
    "        unique_cluster_names[cluster_id] = cluster_name\n",
    "\n"
   ],
   "id": "605f73fe9d66565c",
   "outputs": [
    {
     "name": "stdout",
     "output_type": "stream",
     "text": [
      "Loaded 5797 valid entries with embeddings.\n"
     ]
    },
    {
     "name": "stderr",
     "output_type": "stream",
     "text": [
      "2025-02-04 13:22:27,894 - INFO - Generated cluster name: Horse Breeding and Racing Dreams\n",
      "2025-02-04 13:22:27,894 - INFO - Tokens used so far: Prompt Tokens: 234, Completion Tokens: 7\n",
      "2025-02-04 13:22:28,856 - INFO - Generated cluster name: Ultimate Game Affection\n",
      "2025-02-04 13:22:28,869 - INFO - Tokens used so far: Prompt Tokens: 395, Completion Tokens: 12\n",
      "2025-02-04 13:22:32,477 - INFO - Generated cluster name: Mobile Gaming Monetization Issues\n",
      "2025-02-04 13:22:32,477 - INFO - Tokens used so far: Prompt Tokens: 636, Completion Tokens: 18\n",
      "2025-02-04 13:22:33,543 - INFO - Generated cluster name: \"Highly Praised Game Reviews\"\n",
      "2025-02-04 13:22:33,543 - INFO - Tokens used so far: Prompt Tokens: 761, Completion Tokens: 26\n",
      "2025-02-04 13:22:34,519 - INFO - Generated cluster name: Enjoyable Gaming Experience\n",
      "2025-02-04 13:22:34,519 - INFO - Tokens used so far: Prompt Tokens: 895, Completion Tokens: 31\n",
      "2025-02-04 13:22:35,988 - INFO - Generated cluster name: Gameplay Repetition and Stagnation\n",
      "2025-02-04 13:22:35,988 - INFO - Tokens used so far: Prompt Tokens: 1117, Completion Tokens: 39\n",
      "2025-02-04 13:22:36,853 - INFO - Generated cluster name: Value for Entertainment Experience\n",
      "2025-02-04 13:22:36,853 - INFO - Tokens used so far: Prompt Tokens: 1252, Completion Tokens: 44\n",
      "2025-02-04 13:22:38,013 - INFO - Generated cluster name: Gaming Playtime Experiences\n",
      "2025-02-04 13:22:38,013 - INFO - Tokens used so far: Prompt Tokens: 1456, Completion Tokens: 49\n",
      "2025-02-04 13:22:38,839 - INFO - Generated cluster name: Universal Game Recommendations\n",
      "2025-02-04 13:22:38,839 - INFO - Tokens used so far: Prompt Tokens: 1615, Completion Tokens: 53\n",
      "2025-02-04 13:22:39,883 - INFO - Generated cluster name: Game Crashes and Bugs Troubleshooting\n",
      "2025-02-04 13:22:39,883 - INFO - Tokens used so far: Prompt Tokens: 1835, Completion Tokens: 61\n",
      "2025-02-04 13:22:40,577 - INFO - Generated cluster name: Instant Upgrades and No Waiting\n",
      "2025-02-04 13:22:40,577 - INFO - Tokens used so far: Prompt Tokens: 2048, Completion Tokens: 68\n",
      "2025-02-04 13:22:41,747 - INFO - Generated cluster name: Stunning Graphics in Gaming\n",
      "2025-02-04 13:22:41,747 - INFO - Tokens used so far: Prompt Tokens: 2207, Completion Tokens: 74\n",
      "2025-02-04 13:22:42,267 - INFO - Generated cluster name: Relaxing Gaming Experience\n",
      "2025-02-04 13:22:42,267 - INFO - Tokens used so far: Prompt Tokens: 2375, Completion Tokens: 79\n",
      "2025-02-04 13:22:43,087 - INFO - Generated cluster name: Game Improvement and Feature Requests\n",
      "2025-02-04 13:22:43,098 - INFO - Tokens used so far: Prompt Tokens: 2611, Completion Tokens: 85\n",
      "2025-02-04 13:22:45,518 - INFO - Generated cluster name: Multiplayer Limitations and Solo Focus\n",
      "2025-02-04 13:22:45,518 - INFO - Tokens used so far: Prompt Tokens: 2805, Completion Tokens: 93\n",
      "2025-02-04 13:22:46,606 - INFO - Generated cluster name: Incredibly Realistic Gaming Experience\n",
      "2025-02-04 13:22:46,606 - INFO - Tokens used so far: Prompt Tokens: 2939, Completion Tokens: 101\n",
      "2025-02-04 13:22:47,423 - INFO - Generated cluster name: Engaging Narrative Adventures\n",
      "2025-02-04 13:22:47,423 - INFO - Tokens used so far: Prompt Tokens: 3180, Completion Tokens: 106\n",
      "2025-02-04 13:22:48,325 - INFO - Generated cluster name: Price vs. Value Assessment\n",
      "2025-02-04 13:22:48,325 - INFO - Tokens used so far: Prompt Tokens: 3414, Completion Tokens: 112\n",
      "2025-02-04 13:22:49,601 - INFO - Generated cluster name: Strong Recommendations\n",
      "2025-02-04 13:22:49,601 - INFO - Tokens used so far: Prompt Tokens: 3522, Completion Tokens: 115\n",
      "2025-02-04 13:22:50,634 - INFO - Generated cluster name: \"Wait for Sale Recommendations\"\n",
      "2025-02-04 13:22:50,634 - INFO - Tokens used so far: Prompt Tokens: 3793, Completion Tokens: 122\n"
     ]
    }
   ],
   "execution_count": 13
  },
  {
   "metadata": {},
   "cell_type": "code",
   "outputs": [],
   "execution_count": null,
   "source": "",
   "id": "b87c81621dd9af68"
  },
  {
   "metadata": {
    "ExecuteTime": {
     "end_time": "2025-02-04T00:23:09.679987Z",
     "start_time": "2025-02-04T00:23:09.676007Z"
    }
   },
   "cell_type": "code",
   "source": "unique_cluster_names",
   "id": "881141b3040bf8df",
   "outputs": [
    {
     "data": {
      "text/plain": [
       "{0: 'Horse Breeding and Racing Dreams',\n",
       " 19: 'Ultimate Game Affection',\n",
       " 13: 'Mobile Gaming Monetization Issues',\n",
       " 18: '\"Highly Praised Game Reviews\"',\n",
       " 17: 'Enjoyable Gaming Experience',\n",
       " 16: 'Gameplay Repetition and Stagnation',\n",
       " 9: 'Value for Entertainment Experience',\n",
       " 6: 'Gaming Playtime Experiences',\n",
       " 8: 'Universal Game Recommendations',\n",
       " 5: 'Game Crashes and Bugs Troubleshooting',\n",
       " 4: 'Instant Upgrades and No Waiting',\n",
       " 2: 'Stunning Graphics in Gaming',\n",
       " 14: 'Relaxing Gaming Experience',\n",
       " 15: 'Game Improvement and Feature Requests',\n",
       " 3: 'Multiplayer Limitations and Solo Focus',\n",
       " 1: 'Incredibly Realistic Gaming Experience',\n",
       " 12: 'Engaging Narrative Adventures',\n",
       " 11: 'Price vs. Value Assessment',\n",
       " 7: 'Strong Recommendations',\n",
       " 10: '\"Wait for Sale Recommendations\"'}"
      ]
     },
     "execution_count": 14,
     "metadata": {},
     "output_type": "execute_result"
    }
   ],
   "execution_count": 14
  },
  {
   "metadata": {
    "ExecuteTime": {
     "end_time": "2025-02-04T00:23:20.540518Z",
     "start_time": "2025-02-04T00:23:20.534890Z"
    }
   },
   "cell_type": "code",
   "source": [
    "# store the cluster names\n",
    "df['cluster_name'] = df['cluster_id'].apply(lambda x: unique_cluster_names[x] if x in unique_cluster_names else \"Unknown\")"
   ],
   "id": "659513922d106c79",
   "outputs": [],
   "execution_count": 15
  },
  {
   "metadata": {
    "ExecuteTime": {
     "end_time": "2025-02-04T00:23:22.137522Z",
     "start_time": "2025-02-04T00:23:22.128096Z"
    }
   },
   "cell_type": "code",
   "source": "df.head()",
   "id": "a99629a6c4dca15f",
   "outputs": [
    {
     "data": {
      "text/plain": [
       "                                        app_id_name  recommendationid  \\\n",
       "0  1166860_Rival_Stars_Horse_Racing_Desktop_Edition         179387177   \n",
       "1  1166860_Rival_Stars_Horse_Racing_Desktop_Edition         178743676   \n",
       "2  1166860_Rival_Stars_Horse_Racing_Desktop_Edition         178743676   \n",
       "3  1166860_Rival_Stars_Horse_Racing_Desktop_Edition         178350425   \n",
       "4  1166860_Rival_Stars_Horse_Racing_Desktop_Edition         177351085   \n",
       "\n",
       "   playtime_at_review_minutes  last_played  \\\n",
       "0                        1775   1735228376   \n",
       "1                        1016   1731228389   \n",
       "2                        1016   1731228389   \n",
       "3                        2492   1736827844   \n",
       "4                        3678   1729362177   \n",
       "\n",
       "                                         review_text  timestamp_updated  \\\n",
       "0              Very detailed and it has lot's to do.         1732047413   \n",
       "1  definitely a favourite go-to game of mine, I c...         1731227648   \n",
       "2  definitely a favourite go-to game of mine, I c...         1731227648   \n",
       "3  i love this game one phone and pc. i just wish...         1730675154   \n",
       "4  \"It's wonderful, simply one of the best horse ...         1729361303   \n",
       "\n",
       "   voted_up  votes_up  votes_funny  weighted_vote_score  ...  PCA_3D_x  \\\n",
       "0      True         0            0             0.000000  ...  2.389605   \n",
       "1      True         9            0             0.652082  ... -2.908823   \n",
       "2      True         9            0             0.652082  ...  3.840906   \n",
       "3      True         0            0             0.000000  ...  1.868521   \n",
       "4      True         0            0             0.000000  ... -4.255278   \n",
       "\n",
       "   PCA_3D_y  PCA_3D_z  tSNE_2D_x  tSNE_2D_y  tSNE_3D_x  tSNE_3D_y tSNE_3D_z  \\\n",
       "0 -0.696643  0.149720  29.548246 -15.199729   9.003181  -3.183665  5.976941   \n",
       "1  0.786879 -0.537476 -43.810314  -4.599304  -5.191478   8.579439 -2.871970   \n",
       "2 -1.625069 -0.378133  51.323654 -40.445629  14.036543 -15.618323 -4.650846   \n",
       "3  2.169510 -0.677289  30.164398  45.058620   9.804322  11.004961 -6.132709   \n",
       "4 -1.919069 -0.899337 -26.896746 -56.909252 -12.050323 -17.088345 -8.572276   \n",
       "\n",
       "  cluster_id                       cluster_name  \n",
       "0         -1                            Unknown  \n",
       "1          0   Horse Breeding and Racing Dreams  \n",
       "2         19            Ultimate Game Affection  \n",
       "3         13  Mobile Gaming Monetization Issues  \n",
       "4          0   Horse Breeding and Racing Dreams  \n",
       "\n",
       "[5 rows x 36 columns]"
      ],
      "text/html": [
       "<div>\n",
       "<style scoped>\n",
       "    .dataframe tbody tr th:only-of-type {\n",
       "        vertical-align: middle;\n",
       "    }\n",
       "\n",
       "    .dataframe tbody tr th {\n",
       "        vertical-align: top;\n",
       "    }\n",
       "\n",
       "    .dataframe thead th {\n",
       "        text-align: right;\n",
       "    }\n",
       "</style>\n",
       "<table border=\"1\" class=\"dataframe\">\n",
       "  <thead>\n",
       "    <tr style=\"text-align: right;\">\n",
       "      <th></th>\n",
       "      <th>app_id_name</th>\n",
       "      <th>recommendationid</th>\n",
       "      <th>playtime_at_review_minutes</th>\n",
       "      <th>last_played</th>\n",
       "      <th>review_text</th>\n",
       "      <th>timestamp_updated</th>\n",
       "      <th>voted_up</th>\n",
       "      <th>votes_up</th>\n",
       "      <th>votes_funny</th>\n",
       "      <th>weighted_vote_score</th>\n",
       "      <th>...</th>\n",
       "      <th>PCA_3D_x</th>\n",
       "      <th>PCA_3D_y</th>\n",
       "      <th>PCA_3D_z</th>\n",
       "      <th>tSNE_2D_x</th>\n",
       "      <th>tSNE_2D_y</th>\n",
       "      <th>tSNE_3D_x</th>\n",
       "      <th>tSNE_3D_y</th>\n",
       "      <th>tSNE_3D_z</th>\n",
       "      <th>cluster_id</th>\n",
       "      <th>cluster_name</th>\n",
       "    </tr>\n",
       "  </thead>\n",
       "  <tbody>\n",
       "    <tr>\n",
       "      <th>0</th>\n",
       "      <td>1166860_Rival_Stars_Horse_Racing_Desktop_Edition</td>\n",
       "      <td>179387177</td>\n",
       "      <td>1775</td>\n",
       "      <td>1735228376</td>\n",
       "      <td>Very detailed and it has lot's to do.</td>\n",
       "      <td>1732047413</td>\n",
       "      <td>True</td>\n",
       "      <td>0</td>\n",
       "      <td>0</td>\n",
       "      <td>0.000000</td>\n",
       "      <td>...</td>\n",
       "      <td>2.389605</td>\n",
       "      <td>-0.696643</td>\n",
       "      <td>0.149720</td>\n",
       "      <td>29.548246</td>\n",
       "      <td>-15.199729</td>\n",
       "      <td>9.003181</td>\n",
       "      <td>-3.183665</td>\n",
       "      <td>5.976941</td>\n",
       "      <td>-1</td>\n",
       "      <td>Unknown</td>\n",
       "    </tr>\n",
       "    <tr>\n",
       "      <th>1</th>\n",
       "      <td>1166860_Rival_Stars_Horse_Racing_Desktop_Edition</td>\n",
       "      <td>178743676</td>\n",
       "      <td>1016</td>\n",
       "      <td>1731228389</td>\n",
       "      <td>definitely a favourite go-to game of mine, I c...</td>\n",
       "      <td>1731227648</td>\n",
       "      <td>True</td>\n",
       "      <td>9</td>\n",
       "      <td>0</td>\n",
       "      <td>0.652082</td>\n",
       "      <td>...</td>\n",
       "      <td>-2.908823</td>\n",
       "      <td>0.786879</td>\n",
       "      <td>-0.537476</td>\n",
       "      <td>-43.810314</td>\n",
       "      <td>-4.599304</td>\n",
       "      <td>-5.191478</td>\n",
       "      <td>8.579439</td>\n",
       "      <td>-2.871970</td>\n",
       "      <td>0</td>\n",
       "      <td>Horse Breeding and Racing Dreams</td>\n",
       "    </tr>\n",
       "    <tr>\n",
       "      <th>2</th>\n",
       "      <td>1166860_Rival_Stars_Horse_Racing_Desktop_Edition</td>\n",
       "      <td>178743676</td>\n",
       "      <td>1016</td>\n",
       "      <td>1731228389</td>\n",
       "      <td>definitely a favourite go-to game of mine, I c...</td>\n",
       "      <td>1731227648</td>\n",
       "      <td>True</td>\n",
       "      <td>9</td>\n",
       "      <td>0</td>\n",
       "      <td>0.652082</td>\n",
       "      <td>...</td>\n",
       "      <td>3.840906</td>\n",
       "      <td>-1.625069</td>\n",
       "      <td>-0.378133</td>\n",
       "      <td>51.323654</td>\n",
       "      <td>-40.445629</td>\n",
       "      <td>14.036543</td>\n",
       "      <td>-15.618323</td>\n",
       "      <td>-4.650846</td>\n",
       "      <td>19</td>\n",
       "      <td>Ultimate Game Affection</td>\n",
       "    </tr>\n",
       "    <tr>\n",
       "      <th>3</th>\n",
       "      <td>1166860_Rival_Stars_Horse_Racing_Desktop_Edition</td>\n",
       "      <td>178350425</td>\n",
       "      <td>2492</td>\n",
       "      <td>1736827844</td>\n",
       "      <td>i love this game one phone and pc. i just wish...</td>\n",
       "      <td>1730675154</td>\n",
       "      <td>True</td>\n",
       "      <td>0</td>\n",
       "      <td>0</td>\n",
       "      <td>0.000000</td>\n",
       "      <td>...</td>\n",
       "      <td>1.868521</td>\n",
       "      <td>2.169510</td>\n",
       "      <td>-0.677289</td>\n",
       "      <td>30.164398</td>\n",
       "      <td>45.058620</td>\n",
       "      <td>9.804322</td>\n",
       "      <td>11.004961</td>\n",
       "      <td>-6.132709</td>\n",
       "      <td>13</td>\n",
       "      <td>Mobile Gaming Monetization Issues</td>\n",
       "    </tr>\n",
       "    <tr>\n",
       "      <th>4</th>\n",
       "      <td>1166860_Rival_Stars_Horse_Racing_Desktop_Edition</td>\n",
       "      <td>177351085</td>\n",
       "      <td>3678</td>\n",
       "      <td>1729362177</td>\n",
       "      <td>\"It's wonderful, simply one of the best horse ...</td>\n",
       "      <td>1729361303</td>\n",
       "      <td>True</td>\n",
       "      <td>0</td>\n",
       "      <td>0</td>\n",
       "      <td>0.000000</td>\n",
       "      <td>...</td>\n",
       "      <td>-4.255278</td>\n",
       "      <td>-1.919069</td>\n",
       "      <td>-0.899337</td>\n",
       "      <td>-26.896746</td>\n",
       "      <td>-56.909252</td>\n",
       "      <td>-12.050323</td>\n",
       "      <td>-17.088345</td>\n",
       "      <td>-8.572276</td>\n",
       "      <td>0</td>\n",
       "      <td>Horse Breeding and Racing Dreams</td>\n",
       "    </tr>\n",
       "  </tbody>\n",
       "</table>\n",
       "<p>5 rows × 36 columns</p>\n",
       "</div>"
      ]
     },
     "execution_count": 16,
     "metadata": {},
     "output_type": "execute_result"
    }
   ],
   "execution_count": 16
  },
  {
   "metadata": {
    "ExecuteTime": {
     "end_time": "2025-02-04T00:23:28.874460Z",
     "start_time": "2025-02-04T00:23:28.685604Z"
    }
   },
   "cell_type": "code",
   "source": "save_data_for_streamlit(df, path_db_final)",
   "id": "752efff46095d84d",
   "outputs": [
    {
     "name": "stderr",
     "output_type": "stream",
     "text": [
      "2025-02-04 13:23:28,685 - INFO - Saving updated data to S:\\SID\\Analytics\\Working Files\\Individual\\Florian\\Projects\\DataScience\\cluster_analysis\\Data\\HRC\\Cluster_tests\\db_final.json\n",
      "2025-02-04 13:23:28,862 - INFO - Data saved successfully.\n"
     ]
    }
   ],
   "execution_count": 17
  }
 ],
 "metadata": {
  "kernelspec": {
   "display_name": "Python 3",
   "language": "python",
   "name": "python3"
  },
  "language_info": {
   "codemirror_mode": {
    "name": "ipython",
    "version": 2
   },
   "file_extension": ".py",
   "mimetype": "text/x-python",
   "name": "python",
   "nbconvert_exporter": "python",
   "pygments_lexer": "ipython2",
   "version": "2.7.6"
  }
 },
 "nbformat": 4,
 "nbformat_minor": 5
}
